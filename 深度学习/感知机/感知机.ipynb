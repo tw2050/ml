{
 "cells": [
  {
   "cell_type": "markdown",
   "metadata": {},
   "source": [
    "## 感知机"
   ]
  },
  {
   "cell_type": "markdown",
   "metadata": {},
   "source": [
    "### 感知机示图\n",
    "![jupyter](./感知机.jpg)"
   ]
  },
  {
   "cell_type": "markdown",
   "metadata": {},
   "source": [
    "## 其中 {x1....xn} 为输入值， {w1 ... wn}为各特征的权重， w0 为偏移值 可以看作为值为1的权重 \n",
    "\n",
    "## step funcation 激活函数， 有很多种激活函数， 比如常见的sigmoid, softmax, relu 等（这里以阶跃函数为例）\n",
    "## 阶跃函数: ![jupyter](./阶跃函数.png)\n",
    "\n",
    "\n",
    "## 感知机输出可以由下面公式来计算：![jupyter](./感知机输出函数.png)\n"
   ]
  },
  {
   "cell_type": "markdown",
   "metadata": {},
   "source": [
    "### 感知机模拟实现and函数\n",
    "\n",
    "### and函数的输入， 输出对应\n",
    "![jupyter](./and输入输出.png)\n"
   ]
  },
  {
   "cell_type": "code",
   "execution_count": 3,
   "metadata": {},
   "outputs": [],
   "source": [
    "def f(x):\n",
    "    return 1 if x > 0 else 0"
   ]
  },
  {
   "cell_type": "code",
   "execution_count": 4,
   "metadata": {},
   "outputs": [
    {
     "data": {
      "text/plain": [
       "0"
      ]
     },
     "execution_count": 4,
     "metadata": {},
     "output_type": "execute_result"
    }
   ],
   "source": [
    "### 我们令w1 = 0.5, w2 = 0.5, b = -0.8 \n",
    "### 当x1, x2为0时：\n",
    "w1 = 0.5\n",
    "w2 = 0.5\n",
    "b = -0.8\n",
    "x1 = 0\n",
    "x2 = 0\n",
    "y = f(w1*x1 + w2*x2 +b)\n",
    "y"
   ]
  },
  {
   "cell_type": "code",
   "execution_count": 5,
   "metadata": {},
   "outputs": [
    {
     "data": {
      "text/plain": [
       "0"
      ]
     },
     "execution_count": 5,
     "metadata": {},
     "output_type": "execute_result"
    }
   ],
   "source": [
    "### 当x1 = 0, x2 = 1 时：\n",
    "x1 = 0\n",
    "x2 = 1\n",
    "y = f(w1*x1 + w2*x2 +b)\n",
    "y"
   ]
  },
  {
   "cell_type": "code",
   "execution_count": 6,
   "metadata": {},
   "outputs": [
    {
     "data": {
      "text/plain": [
       "0"
      ]
     },
     "execution_count": 6,
     "metadata": {},
     "output_type": "execute_result"
    }
   ],
   "source": [
    "### 当x1 = 1, x2 = 0 时：\n",
    "x1 = 1\n",
    "x2 = 0\n",
    "y = f(w1*x1 + w2*x2 +b)\n",
    "y"
   ]
  },
  {
   "cell_type": "code",
   "execution_count": 7,
   "metadata": {},
   "outputs": [
    {
     "data": {
      "text/plain": [
       "1"
      ]
     },
     "execution_count": 7,
     "metadata": {},
     "output_type": "execute_result"
    }
   ],
   "source": [
    "### 当x1 = 1, x2 = 1 时：\n",
    "x1 = 1\n",
    "x2 = 1\n",
    "y = f(w1*x1 + w2*x2 +b)\n",
    "y"
   ]
  },
  {
   "cell_type": "markdown",
   "metadata": {},
   "source": [
    "### 感知机模拟实现or函数\n",
    "### or 的输入输出对应：\n",
    "![jupyter](./or函数输入输出.png)"
   ]
  },
  {
   "cell_type": "code",
   "execution_count": 8,
   "metadata": {},
   "outputs": [
    {
     "data": {
      "text/plain": [
       "0"
      ]
     },
     "execution_count": 8,
     "metadata": {},
     "output_type": "execute_result"
    }
   ],
   "source": [
    "### 我们令w1 = 0.5, w2 = 0.5, b = -0.3\n",
    "### 当x1, x2为0时：\n",
    "w1 = 0.5\n",
    "w2 = 0.5\n",
    "b = -0.3\n",
    "x1 = 0\n",
    "x2 = 0\n",
    "y = f(w1*x1 + w2*x2 +b)\n",
    "y"
   ]
  },
  {
   "cell_type": "code",
   "execution_count": 9,
   "metadata": {},
   "outputs": [
    {
     "data": {
      "text/plain": [
       "1"
      ]
     },
     "execution_count": 9,
     "metadata": {},
     "output_type": "execute_result"
    }
   ],
   "source": [
    "### 当x1 = 0, x2 = 1时\n",
    "x1 = 0\n",
    "x2 = 1\n",
    "y = f(w1*x1 + w2*x2 +b)\n",
    "y"
   ]
  },
  {
   "cell_type": "code",
   "execution_count": 10,
   "metadata": {},
   "outputs": [
    {
     "data": {
      "text/plain": [
       "1"
      ]
     },
     "execution_count": 10,
     "metadata": {},
     "output_type": "execute_result"
    }
   ],
   "source": [
    "### 当x1 = 1, x2 = 0时\n",
    "x1 = 1\n",
    "x2 = 0\n",
    "y = f(w1*x1 + w2*x2 +b)\n",
    "y"
   ]
  },
  {
   "cell_type": "code",
   "execution_count": 11,
   "metadata": {},
   "outputs": [
    {
     "data": {
      "text/plain": [
       "1"
      ]
     },
     "execution_count": 11,
     "metadata": {},
     "output_type": "execute_result"
    }
   ],
   "source": [
    "### 当x1 = 1, x2 = 1时\n",
    "x1 = 1\n",
    "x2 = 1\n",
    "y = f(w1*x1 + w2*x2 +b)\n",
    "y"
   ]
  },
  {
   "cell_type": "markdown",
   "metadata": {},
   "source": [
    "### 感知机的训练 （如何更新权重， 偏移值)"
   ]
  },
  {
   "cell_type": "markdown",
   "metadata": {},
   "source": [
    "### 感知机是如何训练的？ \n",
    "![jupyter](./感知机训练1.png)\n",
    "### 其中\n",
    "![jupyter](./感知机训练2.png)"
   ]
  },
  {
   "cell_type": "markdown",
   "metadata": {},
   "source": [
    "### 其中 η 表示学习率， 一个常数 用于控制每一步权重更新的的幅度， t为实际值， y为当前权重下的预测值 w为权重， b 为偏移量（可视为值为1的权重）\n",
    "### 1。 初始化感知机的权重， 偏移值为0 \n",
    "### 2。 根据当前感知机的权重， 以及输入值， 计算出当前的输出 \n",
    "### 3。 根据输出值与真实值， 更新权重， 偏移量。 \n",
    "### 根据需要，当述步骤循环n次 "
   ]
  },
  {
   "cell_type": "markdown",
   "metadata": {},
   "source": [
    "### 感知机实现"
   ]
  },
  {
   "cell_type": "code",
   "execution_count": 17,
   "metadata": {},
   "outputs": [],
   "source": [
    "import numpy as np\n",
    "from functools import reduce"
   ]
  },
  {
   "cell_type": "code",
   "execution_count": 12,
   "metadata": {},
   "outputs": [],
   "source": [
    "class Perceptron(object):\n",
    "    ''' 初始化感知机，\n",
    "    input_num： 输入参数个数\n",
    "    activator: 激活函数\n",
    "    '''\n",
    "    def __init__(self, input_num, activator):\n",
    "        self.activator = activator\n",
    "        # 权重初始化为0, 偏移量为0\n",
    "        self.weights = [0.0 for _ in range(input_num)]\n",
    "        self.bias = 0.0\n",
    "\n",
    "    ##返回感知机信息\n",
    "    def __str__(self):\n",
    "         return 'weights\\t %s \\nbias\\t: %f\\n' % (list(self.weights), self.bias)\n",
    "\n",
    "    ''' 预测结果\n",
    "    input_vec: 输出要预测的向量\n",
    "    '''\n",
    "    def predict(self, input_vec):\n",
    "        # 把input_vec[x1,x2,x3...]和weights[w1,w2,w3,...]打包在一起\n",
    "        # 变成[(x1,w1),(x2,w2),(x3,w3),...]\n",
    "        # 然后利用map函数计算[x1*w1, x2*w2, x3*w3]\n",
    "        # 最后利用reduce求和\n",
    "        # python2 -- > python3 lambda (x, w): x * w  --> lambda x_w: x_w[0]*x_w[1]\n",
    "        ret = self.activator(reduce(lambda a, b: a+b,\n",
    "                                    map(lambda x_w: x_w[0]*x_w[1], zip(input_vec, self.weights))\n",
    "                                    , 0.0) + self.bias)\n",
    "        return ret\n",
    "\n",
    "    ''' 训练数据\n",
    "    input_vecs: 训练数据集 train_x\n",
    "    labels:  标签  train_y\n",
    "    iteration: 迭代次数\n",
    "    rate: 学习率\n",
    "    '''\n",
    "    def train(self, input_vecs, labels, iteration, rate):\n",
    "        for i in range(iteration):\n",
    "            self._one_iteration(input_vecs, labels, rate)\n",
    "\n",
    "    ''' 训练数据 （一次迭代，把所有训练集过一遍）\n",
    "        input_vecs: 训练数据集 train_x\n",
    "        labels:  标签  train_y\n",
    "        rate: 学习率\n",
    "        '''\n",
    "    def _one_iteration(self, input_vecs, labels, rate):\n",
    "        # 把输入和输出打包在一起，成为样本的列表[(input_vec, label), ...]\n",
    "        # 而每个训练样本是(input_vec, label)\n",
    "        print(self.__str__())\n",
    "        samples = zip(input_vecs, labels)\n",
    "        for (input_vec, label) in samples:\n",
    "            output = self.predict(input_vec)\n",
    "            # 更新权重\n",
    "            self._update_weights(input_vec, output, label, rate)\n",
    "\n",
    "\n",
    "    ''' 更新权重\n",
    "    input_vec: 当前数据\n",
    "    output: 当前数据预测值\n",
    "    label:  当前数据标签\n",
    "    rate: 学习率\n",
    "    '''\n",
    "    def _update_weights(self, input_vec, output, label, rate):\n",
    "        # 把input_vec[x1,x2,x3,...]和weights[w1,w2,w3,...]打包在一起\n",
    "        # 变成[(x1,w1),(x2,w2),(x3,w3),...]\n",
    "        # 然后利用感知器规则更新权重\n",
    "        # python2 -- > python3 lambda (x, w): x * w  --> lambda x_w: x_w[0]*x_w[1]\n",
    "        delta = label - output\n",
    "        self.weights = list(map(lambda x_w: x_w[1] + rate* delta * x_w[0], zip(input_vec, self.weights)))\n",
    "        # 更新偏移量\n",
    "        self.bias += rate*delta"
   ]
  },
  {
   "cell_type": "markdown",
   "metadata": {},
   "source": [
    "### 测试感知机"
   ]
  },
  {
   "cell_type": "code",
   "execution_count": 13,
   "metadata": {},
   "outputs": [],
   "source": [
    "'''\n",
    "训练数据集（基于实现 and操作（逻辑与））\n",
    "'''\n",
    "def training_dataset():\n",
    "    input_vecs = [[1,1], [0,0], [1,0], [0,1]]\n",
    "    labels = [1, 0, 0, 0]\n",
    "    return input_vecs, labels\n"
   ]
  },
  {
   "cell_type": "code",
   "execution_count": 14,
   "metadata": {},
   "outputs": [],
   "source": [
    "''' 使用感知机训练数据集\n",
    "'''\n",
    "def train_and_perceptron():\n",
    "    p = Perceptron(2, f)\n",
    "    input_vecs, labels = training_dataset()\n",
    "    ## 迭代10次 学习率为0。1\n",
    "    p.train(input_vecs, labels, 10, 0.1)\n",
    "    # 返回训练好的感知器\n",
    "    return p"
   ]
  },
  {
   "cell_type": "code",
   "execution_count": 15,
   "metadata": {},
   "outputs": [],
   "source": [
    "'''\n",
    "定义激活函数\n",
    "'''\n",
    "def f(x):\n",
    "    return 1 if x > 0 else 0"
   ]
  },
  {
   "cell_type": "code",
   "execution_count": 18,
   "metadata": {},
   "outputs": [
    {
     "name": "stdout",
     "output_type": "stream",
     "text": [
      "weights\t [0.0, 0.0] \n",
      "bias\t: 0.000000\n",
      "\n",
      "weights\t [0.0, 0.1] \n",
      "bias\t: -0.100000\n",
      "\n",
      "weights\t [0.0, 0.1] \n",
      "bias\t: -0.200000\n",
      "\n",
      "weights\t [0.1, 0.1] \n",
      "bias\t: -0.200000\n",
      "\n",
      "weights\t [0.1, 0.2] \n",
      "bias\t: -0.200000\n",
      "\n",
      "weights\t [0.1, 0.2] \n",
      "bias\t: -0.200000\n",
      "\n",
      "weights\t [0.1, 0.2] \n",
      "bias\t: -0.200000\n",
      "\n",
      "weights\t [0.1, 0.2] \n",
      "bias\t: -0.200000\n",
      "\n",
      "weights\t [0.1, 0.2] \n",
      "bias\t: -0.200000\n",
      "\n",
      "weights\t [0.1, 0.2] \n",
      "bias\t: -0.200000\n",
      "\n",
      "weights\t [0.1, 0.2] \n",
      "bias\t: -0.200000\n",
      "\n",
      "1 and 1 = 1\n",
      "0 and 0 = 0\n",
      "1 and 0 = 0\n",
      "0 and 1 = 0\n"
     ]
    }
   ],
   "source": [
    "if __name__ == '__main__':\n",
    "    # 训练and感知器\n",
    "    train_perception = train_and_perceptron()\n",
    "    # 打印训练获得的权重\n",
    "    print(train_perception)\n",
    "    # 测试\n",
    "    print('1 and 1 = %d' % train_perception.predict([1, 1]))\n",
    "    print('0 and 0 = %d' % train_perception.predict([0, 0]))\n",
    "    print('1 and 0 = %d' % train_perception.predict([1, 0]))\n",
    "    print('0 and 1 = %d' % train_perception.predict([0, 1]))"
   ]
  },
  {
   "cell_type": "code",
   "execution_count": 19,
   "metadata": {},
   "outputs": [],
   "source": [
    "'''\n",
    "训练数据集（基于实现 or操作（逻辑或））\n",
    "'''\n",
    "def training_dataset1():\n",
    "    input_vecs = [[1,1], [0,0], [1,0], [0,1]]\n",
    "    labels = [1, 0, 1, 1]\n",
    "    return input_vecs, labels\n"
   ]
  },
  {
   "cell_type": "code",
   "execution_count": 20,
   "metadata": {},
   "outputs": [],
   "source": [
    "''' 使用感知机训练数据集\n",
    "'''\n",
    "def train_and_perceptron():\n",
    "    p = Perceptron(2, f)\n",
    "    input_vecs, labels = training_dataset1()\n",
    "    ## 迭代10次 学习率为0。1\n",
    "    p.train(input_vecs, labels, 10, 0.1)\n",
    "    # 返回训练好的感知器\n",
    "    return p"
   ]
  },
  {
   "cell_type": "code",
   "execution_count": 21,
   "metadata": {},
   "outputs": [
    {
     "name": "stdout",
     "output_type": "stream",
     "text": [
      "weights\t [0.0, 0.0] \n",
      "bias\t: 0.000000\n",
      "\n",
      "weights\t [0.1, 0.1] \n",
      "bias\t: 0.000000\n",
      "\n",
      "weights\t [0.1, 0.1] \n",
      "bias\t: 0.000000\n",
      "\n",
      "weights\t [0.1, 0.1] \n",
      "bias\t: 0.000000\n",
      "\n",
      "weights\t [0.1, 0.1] \n",
      "bias\t: 0.000000\n",
      "\n",
      "weights\t [0.1, 0.1] \n",
      "bias\t: 0.000000\n",
      "\n",
      "weights\t [0.1, 0.1] \n",
      "bias\t: 0.000000\n",
      "\n",
      "weights\t [0.1, 0.1] \n",
      "bias\t: 0.000000\n",
      "\n",
      "weights\t [0.1, 0.1] \n",
      "bias\t: 0.000000\n",
      "\n",
      "weights\t [0.1, 0.1] \n",
      "bias\t: 0.000000\n",
      "\n",
      "weights\t [0.1, 0.1] \n",
      "bias\t: 0.000000\n",
      "\n",
      "1 or 1 = 1\n",
      "0 or 0 = 0\n",
      "1 or 0 = 1\n",
      "0 or 1 = 1\n"
     ]
    }
   ],
   "source": [
    "if __name__ == '__main__':\n",
    "    # 训练and感知器\n",
    "    train_perception = train_and_perceptron()\n",
    "    # 打印训练获得的权重\n",
    "    print(train_perception)\n",
    "    # 测试\n",
    "    print('1 or 1 = %d' % train_perception.predict([1, 1]))\n",
    "    print('0 or 0 = %d' % train_perception.predict([0, 0]))\n",
    "    print('1 or 0 = %d' % train_perception.predict([1, 0]))\n",
    "    print('0 or 1 = %d' % train_perception.predict([0, 1]))"
   ]
  },
  {
   "cell_type": "markdown",
   "metadata": {},
   "source": [
    "### 小结：\n",
    "### 感知机可以用于回归， 也可以用于分类（像and,or 就可以认为是一种二分类算法） \n",
    "### 单个感知机能实现and, or 函数， 但不能实现xor(异或）函数， 因为xor线性不可分\n",
    "### 异或：\n",
    "![jupyter](./异或.png)\n",
    "\n",
    "### 要实现异或， 可使用多层感知机（也称人工神经网络ANN）"
   ]
  },
  {
   "cell_type": "code",
   "execution_count": null,
   "metadata": {},
   "outputs": [],
   "source": []
  },
  {
   "cell_type": "code",
   "execution_count": null,
   "metadata": {},
   "outputs": [],
   "source": []
  },
  {
   "cell_type": "code",
   "execution_count": null,
   "metadata": {},
   "outputs": [],
   "source": []
  }
 ],
 "metadata": {
  "kernelspec": {
   "display_name": "Python 3",
   "language": "python",
   "name": "python3"
  },
  "language_info": {
   "codemirror_mode": {
    "name": "ipython",
    "version": 3
   },
   "file_extension": ".py",
   "mimetype": "text/x-python",
   "name": "python",
   "nbconvert_exporter": "python",
   "pygments_lexer": "ipython3",
   "version": "3.7.6"
  }
 },
 "nbformat": 4,
 "nbformat_minor": 4
}
