{
 "cells": [
  {
   "cell_type": "code",
   "execution_count": 1,
   "metadata": {},
   "outputs": [],
   "source": [
    "import sys\n",
    "import dlib\n",
    "import cv2"
   ]
  },
  {
   "cell_type": "code",
   "execution_count": 2,
   "metadata": {},
   "outputs": [],
   "source": [
    "class myCorrelationTracker(object):\n",
    "    def __init__(self, windowName='default window', cameraNum=0):\n",
    "        # 自定义几个状态标志\n",
    "        self.STATUS_RUN_WITHOUT_TRACKER = 0     # 不跟踪目标，但是实时显示\n",
    "        self.STATUS_RUN_WITH_TRACKER = 1    # 跟踪目标，实时显示\n",
    "        self.STATUS_PAUSE = 2   # 暂停，卡在当前帧\n",
    "        self.STATUS_BREAK = 3   # 退出\n",
    "        self.status = self.STATUS_RUN_WITHOUT_TRACKER   # 指示状态的变量\n",
    "\n",
    "        # 这几个跟前面程序1定义的变量一样\n",
    "        self.track_window = None  # 实时跟踪鼠标的跟踪区域\n",
    "        self.drag_start = None   # 要检测的物体所在区域\n",
    "        self.start_flag = True   # 标记，是否开始拖动鼠标\n",
    "\n",
    "        # 创建好显示窗口\n",
    "        cv2.namedWindow(windowName, cv2.WINDOW_AUTOSIZE)\n",
    "        cv2.setMouseCallback(windowName, self.onMouseClicked)\n",
    "        self.windowName = windowName\n",
    "\n",
    "        # 打开摄像头\n",
    "        self.cap = cv2.VideoCapture(cameraNum, cv2.CAP_DSHOW)\n",
    "\n",
    "        # correlation_tracker()类，跟踪器，跟程序1中一样\n",
    "        self.tracker = dlib.correlation_tracker()\n",
    "\n",
    "        # 当前帧\n",
    "        self.frame = None\n",
    "\n",
    "    # 按键处理函数\n",
    "    def keyEventHandler(self):\n",
    "        keyValue = cv2.waitKey(5)  # 每隔5ms读取一次按键的键值\n",
    "        if keyValue == 27:  # ESC\n",
    "            self.status = self.STATUS_BREAK\n",
    "        if keyValue == 32:  # 空格\n",
    "            if self.status != self.STATUS_PAUSE:    # 按下空格，暂停播放，可以选定跟踪的区域\n",
    "                #print self.status\n",
    "                self.status = self.STATUS_PAUSE\n",
    "                #print self.status\n",
    "            else:   # 再按次空格，重新播放，但是不进行目标识别\n",
    "                if self.track_window:\n",
    "                    self.status = self.STATUS_RUN_WITH_TRACKER\n",
    "                    self.start_flag = True\n",
    "                else:\n",
    "                    self.status = self.STATUS_RUN_WITHOUT_TRACKER\n",
    "        if keyValue == 13:  # 回车\n",
    "            #print '**'\n",
    "            if self.status == self.STATUS_PAUSE:    # 按下空格之后\n",
    "                if self.track_window:   # 如果选定了区域，再按回车，表示确定选定区域为跟踪目标\n",
    "                    self.status = self.STATUS_RUN_WITH_TRACKER\n",
    "                    self.start_flag = True\n",
    "\n",
    "    # 任务处理函数        \n",
    "    def processHandler(self):\n",
    "        # 不跟踪目标，但是实时显示\n",
    "        if self.status == self.STATUS_RUN_WITHOUT_TRACKER:\n",
    "            ret, self.frame = self.cap.read()\n",
    "            #print('frame: '.format(self.frame))\n",
    "            cv2.imshow(self.windowName, self.frame)\n",
    "        # 暂停，暂停时使用鼠标拖动红框，选择目标区域，与程序1类似\n",
    "        elif self.status == self.STATUS_PAUSE:\n",
    "            img_first = self.frame.copy()  # 不改变原来的帧，拷贝一个新的变量出来\n",
    "            if self.track_window:   # 跟踪目标的窗口画出来了，就实时标出来\n",
    "                cv2.rectangle(img_first, (self.track_window[0], self.track_window[1]), (self.track_window[2], self.track_window[3]), (0,0,255), 1)\n",
    "            elif self.selection:   # 跟踪目标的窗口随鼠标拖动实时显示\n",
    "                cv2.rectangle(img_first, (self.selection[0], self.selection[1]), (self.selection[2], self.selection[3]), (0,0,255), 1)\n",
    "            cv2.imshow(self.windowName, img_first)\n",
    "        # 退出\n",
    "        elif self.status == self.STATUS_BREAK:\n",
    "            self.cap.release()   # 释放摄像头\n",
    "            cv2.destroyAllWindows()   # 释放窗口\n",
    "            sys.exit()   # 退出程序\n",
    "        # 跟踪目标，实时显示\n",
    "        elif self.status == self.STATUS_RUN_WITH_TRACKER:\n",
    "            ret, self.frame = self.cap.read()  # 从摄像头读取一帧\n",
    "            if self.start_flag:   # 如果是第一帧，需要先初始化\n",
    "                self.tracker.start_track(self.frame, dlib.rectangle(self.track_window[0], self.track_window[1], self.track_window[2], self.track_window[3]))  # 开始跟踪目标\n",
    "                self.start_flag = False   # 不再是第一帧\n",
    "            else:\n",
    "                self.tracker.update(self.frame)   # 更新\n",
    "\n",
    "                # 得到目标的位置，并显示\n",
    "                box_predict = self.tracker.get_position()   \n",
    "                cv2.rectangle(self.frame,(int(box_predict.left()),int(box_predict.top())),(int(box_predict.right()),int(box_predict.bottom())),(0,255,255),1)\n",
    "                cv2.imshow(self.windowName, self.frame)\n",
    "\n",
    "    # 鼠标点击事件回调函数\n",
    "    def onMouseClicked(self, event, x, y, flags, param):\n",
    "        if event == cv2.EVENT_LBUTTONDOWN:  # 鼠标左键按下\n",
    "            self.drag_start = (x, y)\n",
    "            self.track_window = None\n",
    "        if self.drag_start:   # 是否开始拖动鼠标，记录鼠标位置\n",
    "            xMin = min(x, self.drag_start[0])\n",
    "            yMin = min(y, self.drag_start[1])\n",
    "            xMax = max(x, self.drag_start[0])\n",
    "            yMax = max(y, self.drag_start[1])\n",
    "            self.selection = (xMin, yMin, xMax, yMax)\n",
    "        if event == cv2.EVENT_LBUTTONUP:   # 鼠标左键松开\n",
    "            self.drag_start = None\n",
    "            self.track_window = self.selection\n",
    "            self.selection = None\n",
    "\n",
    "    def run(self):\n",
    "        while(1):\n",
    "            self.keyEventHandler()\n",
    "            self.processHandler()\n"
   ]
  },
  {
   "cell_type": "code",
   "execution_count": 3,
   "metadata": {},
   "outputs": [
    {
     "ename": "KeyboardInterrupt",
     "evalue": "",
     "output_type": "error",
     "traceback": [
      "\u001b[1;31m---------------------------------------------------------------------------\u001b[0m",
      "\u001b[1;31mKeyboardInterrupt\u001b[0m                         Traceback (most recent call last)",
      "\u001b[1;32m<ipython-input-3-d58013aabcab>\u001b[0m in \u001b[0;36m<module>\u001b[1;34m\u001b[0m\n\u001b[0;32m      1\u001b[0m \u001b[1;32mif\u001b[0m \u001b[0m__name__\u001b[0m \u001b[1;33m==\u001b[0m \u001b[1;34m'__main__'\u001b[0m\u001b[1;33m:\u001b[0m\u001b[1;33m\u001b[0m\u001b[1;33m\u001b[0m\u001b[0m\n\u001b[0;32m      2\u001b[0m     \u001b[0mtestTracker\u001b[0m \u001b[1;33m=\u001b[0m \u001b[0mmyCorrelationTracker\u001b[0m\u001b[1;33m(\u001b[0m\u001b[0mwindowName\u001b[0m\u001b[1;33m=\u001b[0m\u001b[1;34m'image'\u001b[0m\u001b[1;33m,\u001b[0m \u001b[0mcameraNum\u001b[0m\u001b[1;33m=\u001b[0m\u001b[1;36m0\u001b[0m\u001b[1;33m)\u001b[0m\u001b[1;33m\u001b[0m\u001b[1;33m\u001b[0m\u001b[0m\n\u001b[1;32m----> 3\u001b[1;33m     \u001b[0mtestTracker\u001b[0m\u001b[1;33m.\u001b[0m\u001b[0mrun\u001b[0m\u001b[1;33m(\u001b[0m\u001b[1;33m)\u001b[0m\u001b[1;33m\u001b[0m\u001b[1;33m\u001b[0m\u001b[0m\n\u001b[0m",
      "\u001b[1;32m<ipython-input-2-4cc8797b2c44>\u001b[0m in \u001b[0;36mrun\u001b[1;34m(self)\u001b[0m\n\u001b[0;32m    102\u001b[0m     \u001b[1;32mdef\u001b[0m \u001b[0mrun\u001b[0m\u001b[1;33m(\u001b[0m\u001b[0mself\u001b[0m\u001b[1;33m)\u001b[0m\u001b[1;33m:\u001b[0m\u001b[1;33m\u001b[0m\u001b[1;33m\u001b[0m\u001b[0m\n\u001b[0;32m    103\u001b[0m         \u001b[1;32mwhile\u001b[0m\u001b[1;33m(\u001b[0m\u001b[1;36m1\u001b[0m\u001b[1;33m)\u001b[0m\u001b[1;33m:\u001b[0m\u001b[1;33m\u001b[0m\u001b[1;33m\u001b[0m\u001b[0m\n\u001b[1;32m--> 104\u001b[1;33m             \u001b[0mself\u001b[0m\u001b[1;33m.\u001b[0m\u001b[0mkeyEventHandler\u001b[0m\u001b[1;33m(\u001b[0m\u001b[1;33m)\u001b[0m\u001b[1;33m\u001b[0m\u001b[1;33m\u001b[0m\u001b[0m\n\u001b[0m\u001b[0;32m    105\u001b[0m             \u001b[0mself\u001b[0m\u001b[1;33m.\u001b[0m\u001b[0mprocessHandler\u001b[0m\u001b[1;33m(\u001b[0m\u001b[1;33m)\u001b[0m\u001b[1;33m\u001b[0m\u001b[1;33m\u001b[0m\u001b[0m\n",
      "\u001b[1;32m<ipython-input-2-4cc8797b2c44>\u001b[0m in \u001b[0;36mkeyEventHandler\u001b[1;34m(self)\u001b[0m\n\u001b[0;32m     29\u001b[0m     \u001b[1;31m# 按键处理函数\u001b[0m\u001b[1;33m\u001b[0m\u001b[1;33m\u001b[0m\u001b[1;33m\u001b[0m\u001b[0m\n\u001b[0;32m     30\u001b[0m     \u001b[1;32mdef\u001b[0m \u001b[0mkeyEventHandler\u001b[0m\u001b[1;33m(\u001b[0m\u001b[0mself\u001b[0m\u001b[1;33m)\u001b[0m\u001b[1;33m:\u001b[0m\u001b[1;33m\u001b[0m\u001b[1;33m\u001b[0m\u001b[0m\n\u001b[1;32m---> 31\u001b[1;33m         \u001b[0mkeyValue\u001b[0m \u001b[1;33m=\u001b[0m \u001b[0mcv2\u001b[0m\u001b[1;33m.\u001b[0m\u001b[0mwaitKey\u001b[0m\u001b[1;33m(\u001b[0m\u001b[1;36m5\u001b[0m\u001b[1;33m)\u001b[0m  \u001b[1;31m# 每隔5ms读取一次按键的键值\u001b[0m\u001b[1;33m\u001b[0m\u001b[1;33m\u001b[0m\u001b[0m\n\u001b[0m\u001b[0;32m     32\u001b[0m         \u001b[1;32mif\u001b[0m \u001b[0mkeyValue\u001b[0m \u001b[1;33m==\u001b[0m \u001b[1;36m27\u001b[0m\u001b[1;33m:\u001b[0m  \u001b[1;31m# ESC\u001b[0m\u001b[1;33m\u001b[0m\u001b[1;33m\u001b[0m\u001b[0m\n\u001b[0;32m     33\u001b[0m             \u001b[0mself\u001b[0m\u001b[1;33m.\u001b[0m\u001b[0mstatus\u001b[0m \u001b[1;33m=\u001b[0m \u001b[0mself\u001b[0m\u001b[1;33m.\u001b[0m\u001b[0mSTATUS_BREAK\u001b[0m\u001b[1;33m\u001b[0m\u001b[1;33m\u001b[0m\u001b[0m\n",
      "\u001b[1;31mKeyboardInterrupt\u001b[0m: "
     ]
    }
   ],
   "source": [
    "if __name__ == '__main__':\n",
    "    testTracker = myCorrelationTracker(windowName='image', cameraNum=0)\n",
    "    testTracker.run()"
   ]
  },
  {
   "cell_type": "code",
   "execution_count": null,
   "metadata": {},
   "outputs": [],
   "source": []
  },
  {
   "cell_type": "code",
   "execution_count": null,
   "metadata": {},
   "outputs": [],
   "source": [
    "c"
   ]
  },
  {
   "cell_type": "code",
   "execution_count": null,
   "metadata": {},
   "outputs": [],
   "source": []
  }
 ],
 "metadata": {
  "kernelspec": {
   "display_name": "Python 3",
   "language": "python",
   "name": "python3"
  },
  "language_info": {
   "codemirror_mode": {
    "name": "ipython",
    "version": 3
   },
   "file_extension": ".py",
   "mimetype": "text/x-python",
   "name": "python",
   "nbconvert_exporter": "python",
   "pygments_lexer": "ipython3",
   "version": "3.7.6"
  }
 },
 "nbformat": 4,
 "nbformat_minor": 4
}
