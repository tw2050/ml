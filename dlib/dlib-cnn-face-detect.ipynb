{
 "cells": [
  {
   "cell_type": "code",
   "execution_count": 1,
   "metadata": {},
   "outputs": [],
   "source": [
    "import sys\n",
    "import dlib\n",
    "import cv2\n",
    "import time"
   ]
  },
  {
   "cell_type": "code",
   "execution_count": 2,
   "metadata": {},
   "outputs": [],
   "source": [
    "cnn_face_model_path = 'F:\\dlib\\mmod_human_face_detector.dat'\n",
    "img_path = 'F:\\dlib\\duoren_img\\duoren4.jpg'\n"
   ]
  },
  {
   "cell_type": "code",
   "execution_count": 3,
   "metadata": {},
   "outputs": [
    {
     "name": "stdout",
     "output_type": "stream",
     "text": [
      "times:  45.651999950408936\n"
     ]
    }
   ],
   "source": [
    "cnn_face_detector = dlib.cnn_face_detection_model_v1(cnn_face_model_path)\n",
    "\n",
    "img = cv2.imread(img_path, cv2.IMREAD_COLOR)\n",
    "\n",
    "b, g, r = cv2.split(img)\n",
    "img2 = cv2.merge([r, g, b])\n",
    "\n",
    "start = time.time()\n",
    "dets = cnn_face_detector(img, 1)\n",
    "end = time.time()\n",
    "\n",
    "print(\"times: \", (end - start))\n",
    "\n",
    "for i, d in enumerate(dets):\n",
    "    face_rect = d.rect\n",
    "    left = face_rect.left()\n",
    "    top = face_rect.top()\n",
    "    right = face_rect.right()\n",
    "    bottom = face_rect.bottom()\n",
    "    cv2.rectangle(img, (left, top), (right, bottom), (0, 255, 0), 3)\n",
    "    cv2.namedWindow(img_path, cv2.WINDOW_AUTOSIZE)\n",
    "    cv2.imshow(img_path, img)\n",
    "    \n",
    "k = cv2.waitKey(0)\n",
    "cv2.destroyAllWindows()"
   ]
  },
  {
   "cell_type": "code",
   "execution_count": null,
   "metadata": {},
   "outputs": [],
   "source": []
  },
  {
   "cell_type": "code",
   "execution_count": null,
   "metadata": {},
   "outputs": [],
   "source": []
  }
 ],
 "metadata": {
  "kernelspec": {
   "display_name": "Python 3",
   "language": "python",
   "name": "python3"
  },
  "language_info": {
   "codemirror_mode": {
    "name": "ipython",
    "version": 3
   },
   "file_extension": ".py",
   "mimetype": "text/x-python",
   "name": "python",
   "nbconvert_exporter": "python",
   "pygments_lexer": "ipython3",
   "version": "3.7.6"
  }
 },
 "nbformat": 4,
 "nbformat_minor": 4
}
