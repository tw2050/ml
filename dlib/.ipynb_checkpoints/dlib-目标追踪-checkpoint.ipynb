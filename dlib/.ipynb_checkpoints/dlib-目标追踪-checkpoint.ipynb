{
 "cells": [
  {
   "cell_type": "code",
   "execution_count": 1,
   "metadata": {},
   "outputs": [],
   "source": [
    "import sys\n",
    "import dlib\n",
    "import cv2"
   ]
  },
  {
   "cell_type": "code",
   "execution_count": 2,
   "metadata": {},
   "outputs": [],
   "source": [
    "## \n",
    "tracker = dlib.correlation_tracker()   ## 跟踪类\n",
    "cap = cv2.VideoCapture(0)   ## opencv 打开摄像头\n",
    "first_flag = True    ## 第一帧标示\n",
    "selection = None   ## 跟踪区域\n",
    "track_window = None   ## 追踪物品所在区域\n",
    "drag_start = None    ## 鼠标拖动位置 \n"
   ]
  },
  {
   "cell_type": "code",
   "execution_count": 3,
   "metadata": {},
   "outputs": [],
   "source": [
    "def onMouseClicked(event, x, y, flags, param):\n",
    "    global selection, track_window, drag_start   ## 标示全局变量\n",
    "    if event == cv2.EVENT_LBUTTONDOWN: ##鼠标左键按下\n",
    "        drag_start = (x, y)\n",
    "        track_window = None\n",
    "    if drag_start:   # 是否开始拖动鼠标，记录鼠标位置\n",
    "        min_x = min(x, drag_start[0])\n",
    "        min_y = min(y, drag_start[1])\n",
    "        max_x = max(x, drag_start[0])\n",
    "        max_y = max(y, drag_start[1])\n",
    "        selection = (min_x, min_y, max_x, max_y)   # 确定选择区域\n",
    "    if event == cv2.EVENT_LBUTTONUP:\n",
    "        drag_start = None\n",
    "        track_window = selection     ## 确认物品区域 \n",
    "        selection = None\n",
    "        "
   ]
  },
  {
   "cell_type": "code",
   "execution_count": 4,
   "metadata": {},
   "outputs": [
    {
     "ename": "KeyboardInterrupt",
     "evalue": "",
     "output_type": "error",
     "traceback": [
      "\u001b[1;31m---------------------------------------------------------------------------\u001b[0m",
      "\u001b[1;31mKeyboardInterrupt\u001b[0m                         Traceback (most recent call last)",
      "\u001b[1;32m<ipython-input-4-61e219ad9dec>\u001b[0m in \u001b[0;36m<module>\u001b[1;34m\u001b[0m\n\u001b[0;32m     14\u001b[0m             \u001b[0mcv2\u001b[0m\u001b[1;33m.\u001b[0m\u001b[0mimshow\u001b[0m\u001b[1;33m(\u001b[0m\u001b[1;34m\"image\"\u001b[0m\u001b[1;33m,\u001b[0m \u001b[0mimg_first\u001b[0m\u001b[1;33m)\u001b[0m\u001b[1;33m\u001b[0m\u001b[1;33m\u001b[0m\u001b[0m\n\u001b[0;32m     15\u001b[0m \u001b[1;33m\u001b[0m\u001b[0m\n\u001b[1;32m---> 16\u001b[1;33m             \u001b[1;32mif\u001b[0m \u001b[0mcv2\u001b[0m\u001b[1;33m.\u001b[0m\u001b[0mwaitKey\u001b[0m\u001b[1;33m(\u001b[0m\u001b[1;36m5\u001b[0m\u001b[1;33m)\u001b[0m \u001b[1;33m==\u001b[0m \u001b[1;36m13\u001b[0m\u001b[1;33m:\u001b[0m   \u001b[1;31m# 画完区域后， enter 键 退出循环\u001b[0m\u001b[1;33m\u001b[0m\u001b[1;33m\u001b[0m\u001b[0m\n\u001b[0m\u001b[0;32m     17\u001b[0m                 \u001b[1;32mbreak\u001b[0m\u001b[1;33m\u001b[0m\u001b[1;33m\u001b[0m\u001b[0m\n\u001b[0;32m     18\u001b[0m         \u001b[0mfirst_flag\u001b[0m \u001b[1;33m=\u001b[0m \u001b[1;32mFalse\u001b[0m\u001b[1;33m\u001b[0m\u001b[1;33m\u001b[0m\u001b[0m\n",
      "\u001b[1;31mKeyboardInterrupt\u001b[0m: "
     ]
    }
   ],
   "source": [
    "cv2.namedWindow('image', cv2.WINDOW_AUTOSIZE)\n",
    "cv2.setMouseCallback('image', onMouseClicked)   ## 设置鼠标事件\n",
    "\n",
    "while (1):\n",
    "    ret, frame = cap.read()     ## 从摄像头读入一帧\n",
    "     # 这里是初始化，窗口中会停在当前帧，用鼠标拖拽一个框来指定区域，随后会跟踪这个目标；我们需要先找到目标才能跟踪不是吗？\n",
    "    if first_flag == True:    # 如果是第一帧，需要先初始化\n",
    "        while True:\n",
    "            img_first = frame.copy()  # 不改变原来的帧，拷贝一个新的出来\n",
    "            if track_window:    # 跟踪目标的窗口画出来了，就实时标出来\n",
    "                cv2.rectangle(img_first, (track_window[0], track_window[1]), (track_window[2], track_window[3]), (0,0,255), 1)\n",
    "            elif selection:    # 跟踪目标的窗口随鼠标拖动实时显示\n",
    "                cv2.rectangle(img_first, (selection[0], selection[1]), (selection[2], selection[3]), (0,0,255), 1)\n",
    "            cv2.imshow(\"image\", img_first)\n",
    "            \n",
    "            if cv2.waitKey(5) == 13:   # 画完区域后， enter 键 退出循环\n",
    "                break\n",
    "        first_flag = False\n",
    "        tracker.start_track(frame, dlib.rectangle(track_window[0], track_window[1], track_window[2], track_window[3]))   # 跟踪目标，目标就是选定目标窗口中的\n",
    "    else:\n",
    "        tracker.update(frame)  ## 实时跟踪\n",
    "        \n",
    "    box_predict = tracker.get_position()  ## 得到目标位置\n",
    "    cv2.rectangle(frame, (int(box_predict.left()), int(box_predict.top()), int(box_predict.right()), int(box_predict.bottom())), (0, 255, 255), 1) # 用矩形框标注出来\n",
    "    cv2.imshow(\"image\", frame)\n",
    "    \n",
    "    if cv2.waitKey(10) == 27:   ## 按下ESC键，就退出跟踪\n",
    "        break\n",
    "\n",
    "cap.release()\n",
    "cv2.destroyAllWindows()\n",
    "    \n",
    "        \n",
    "\n"
   ]
  },
  {
   "cell_type": "code",
   "execution_count": null,
   "metadata": {},
   "outputs": [],
   "source": []
  },
  {
   "cell_type": "code",
   "execution_count": null,
   "metadata": {},
   "outputs": [],
   "source": []
  }
 ],
 "metadata": {
  "kernelspec": {
   "display_name": "Python 3",
   "language": "python",
   "name": "python3"
  },
  "language_info": {
   "codemirror_mode": {
    "name": "ipython",
    "version": 3
   },
   "file_extension": ".py",
   "mimetype": "text/x-python",
   "name": "python",
   "nbconvert_exporter": "python",
   "pygments_lexer": "ipython3",
   "version": "3.7.6"
  }
 },
 "nbformat": 4,
 "nbformat_minor": 4
}
