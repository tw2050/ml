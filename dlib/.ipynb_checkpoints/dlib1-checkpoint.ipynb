{
 "cells": [
  {
   "cell_type": "code",
   "execution_count": 24,
   "metadata": {},
   "outputs": [],
   "source": [
    "import sys, dlib\n",
    "import numpy as np\n",
    "import cv2\n",
    "from skimage import io"
   ]
  },
  {
   "cell_type": "code",
   "execution_count": 5,
   "metadata": {},
   "outputs": [],
   "source": [
    "## 人脸检测器\n",
    "detector = dlib.get_frontal_face_detector()\n"
   ]
  },
  {
   "cell_type": "code",
   "execution_count": 15,
   "metadata": {},
   "outputs": [
    {
     "name": "stdout",
     "output_type": "stream",
     "text": [
      "processing file: F:/dlib/src_img/fanbb1.jpg\n",
      "number of faces detected: 1\n",
      "Detection 0: Left: 139 Top: 98 Right: 324 Bottom: 284\n"
     ]
    }
   ],
   "source": [
    "img_path = \"F:/dlib/src_img/fanbb1.jpg\"\n",
    "print(\"processing file: {}\".format(img_path))\n",
    "img = dlib.load_rgb_image(img_path)\n",
    "dets = detector(img, 1)\n",
    "print(\"number of faces detected: {}\".format(len(dets)))\n",
    "for i, d  in enumerate(dets):\n",
    "    print(\"Detection {}: Left: {} Top: {} Right: {} Bottom: {}\".format(i, d.left(), d.top(), d.right(), d.bottom()))\n",
    "\n",
    "## 图片窗口\n",
    "win = dlib.image_window()\n",
    "win.clear_overlay()\n",
    "win.set_image(img)\n",
    "win.add_overlay(dets)\n",
    "dlib.hit_enter_to_continue()"
   ]
  },
  {
   "cell_type": "code",
   "execution_count": 16,
   "metadata": {},
   "outputs": [],
   "source": [
    "### 人脸特征点(68 特征点)"
   ]
  },
  {
   "cell_type": "code",
   "execution_count": 17,
   "metadata": {},
   "outputs": [],
   "source": [
    "predictor_path = 'F:/dlib/shape_predictor_68_face_landmarks.dat'\n",
    "img_path = 'F:/dlib/src_img/fanbb1.jpg'"
   ]
  },
  {
   "cell_type": "code",
   "execution_count": 18,
   "metadata": {},
   "outputs": [],
   "source": [
    "## 加载特征提取器\n",
    "detector = dlib.get_frontal_face_detector()\n",
    "predictor = dlib.shape_predictor(predictor_path)"
   ]
  },
  {
   "cell_type": "code",
   "execution_count": 26,
   "metadata": {},
   "outputs": [
    {
     "name": "stdout",
     "output_type": "stream",
     "text": [
      "landmark: [[160 138]\n",
      " [161 159]\n",
      " [165 181]\n",
      " [171 203]\n",
      " [180 223]\n",
      " [193 241]\n",
      " [208 258]\n",
      " [225 270]\n",
      " [243 274]\n",
      " [261 269]\n",
      " [277 255]\n",
      " [289 238]\n",
      " [299 220]\n",
      " [307 199]\n",
      " [310 179]\n",
      " [313 158]\n",
      " [313 138]\n",
      " [168 117]\n",
      " [179 110]\n",
      " [194 109]\n",
      " [207 112]\n",
      " [220 118]\n",
      " [255 119]\n",
      " [268 114]\n",
      " [282 111]\n",
      " [296 113]\n",
      " [306 120]\n",
      " [238 142]\n",
      " [239 159]\n",
      " [239 175]\n",
      " [240 191]\n",
      " [225 199]\n",
      " [232 202]\n",
      " [240 205]\n",
      " [246 201]\n",
      " [253 198]\n",
      " [184 143]\n",
      " [193 137]\n",
      " [205 139]\n",
      " [215 148]\n",
      " [204 151]\n",
      " [192 150]\n",
      " [261 148]\n",
      " [270 139]\n",
      " [281 138]\n",
      " [291 143]\n",
      " [283 149]\n",
      " [272 150]\n",
      " [212 223]\n",
      " [224 222]\n",
      " [234 219]\n",
      " [240 221]\n",
      " [247 219]\n",
      " [258 220]\n",
      " [269 220]\n",
      " [259 235]\n",
      " [249 241]\n",
      " [241 243]\n",
      " [234 242]\n",
      " [223 236]\n",
      " [217 225]\n",
      " [234 228]\n",
      " [240 228]\n",
      " [248 227]\n",
      " [264 223]\n",
      " [248 228]\n",
      " [241 230]\n",
      " [234 229]]\n"
     ]
    },
    {
     "ename": "IndexError",
     "evalue": "index 160 is out of bounds for axis 0 with size 1",
     "output_type": "error",
     "traceback": [
      "\u001b[1;31m---------------------------------------------------------------------------\u001b[0m",
      "\u001b[1;31mIndexError\u001b[0m                                Traceback (most recent call last)",
      "\u001b[1;32m<ipython-input-26-20a5f823a9df>\u001b[0m in \u001b[0;36m<module>\u001b[1;34m\u001b[0m\n\u001b[0;32m     12\u001b[0m \u001b[1;33m\u001b[0m\u001b[0m\n\u001b[0;32m     13\u001b[0m     \u001b[1;32mfor\u001b[0m \u001b[0midx\u001b[0m\u001b[1;33m,\u001b[0m \u001b[0mpoint\u001b[0m \u001b[1;32min\u001b[0m \u001b[0menumerate\u001b[0m\u001b[1;33m(\u001b[0m\u001b[0mlandmark\u001b[0m\u001b[1;33m)\u001b[0m\u001b[1;33m:\u001b[0m\u001b[1;33m\u001b[0m\u001b[1;33m\u001b[0m\u001b[0m\n\u001b[1;32m---> 14\u001b[1;33m         \u001b[0mpos\u001b[0m \u001b[1;33m=\u001b[0m \u001b[0mpoint\u001b[0m\u001b[1;33m[\u001b[0m\u001b[0mpoint\u001b[0m\u001b[1;33m[\u001b[0m\u001b[1;36m0\u001b[0m\u001b[1;33m,\u001b[0m\u001b[1;36m0\u001b[0m\u001b[1;33m]\u001b[0m\u001b[1;33m,\u001b[0m \u001b[0mpoint\u001b[0m\u001b[1;33m[\u001b[0m\u001b[1;36m0\u001b[0m\u001b[1;33m,\u001b[0m\u001b[1;36m1\u001b[0m\u001b[1;33m]\u001b[0m\u001b[1;33m]\u001b[0m\u001b[1;33m\u001b[0m\u001b[1;33m\u001b[0m\u001b[0m\n\u001b[0m\u001b[0;32m     15\u001b[0m         \u001b[0mcv2\u001b[0m\u001b[1;33m.\u001b[0m\u001b[0mputText\u001b[0m\u001b[1;33m(\u001b[0m\u001b[0mimg\u001b[0m\u001b[1;33m,\u001b[0m \u001b[0mstr\u001b[0m\u001b[1;33m(\u001b[0m\u001b[0midx\u001b[0m\u001b[1;33m)\u001b[0m\u001b[1;33m,\u001b[0m \u001b[0mpos\u001b[0m\u001b[1;33m,\u001b[0m \u001b[0mfontFace\u001b[0m \u001b[1;33m=\u001b[0m \u001b[0mcv2\u001b[0m\u001b[1;33m.\u001b[0m\u001b[0mFONT_HERSHEY_SCRIPT_SIMPLEX\u001b[0m\u001b[1;33m,\u001b[0m \u001b[0mfontScale\u001b[0m \u001b[1;33m=\u001b[0m \u001b[1;36m0.3\u001b[0m\u001b[1;33m,\u001b[0m \u001b[0mcolor\u001b[0m \u001b[1;33m=\u001b[0m \u001b[1;33m(\u001b[0m\u001b[1;36m255\u001b[0m\u001b[1;33m,\u001b[0m \u001b[1;36m0\u001b[0m\u001b[1;33m,\u001b[0m \u001b[1;36m0\u001b[0m\u001b[1;33m)\u001b[0m\u001b[1;33m)\u001b[0m\u001b[1;33m\u001b[0m\u001b[1;33m\u001b[0m\u001b[0m\n\u001b[0;32m     16\u001b[0m \u001b[1;33m\u001b[0m\u001b[0m\n",
      "\u001b[1;32md:\\anaconda3\\lib\\site-packages\\numpy\\matrixlib\\defmatrix.py\u001b[0m in \u001b[0;36m__getitem__\u001b[1;34m(self, index)\u001b[0m\n\u001b[0;32m    193\u001b[0m \u001b[1;33m\u001b[0m\u001b[0m\n\u001b[0;32m    194\u001b[0m         \u001b[1;32mtry\u001b[0m\u001b[1;33m:\u001b[0m\u001b[1;33m\u001b[0m\u001b[1;33m\u001b[0m\u001b[0m\n\u001b[1;32m--> 195\u001b[1;33m             \u001b[0mout\u001b[0m \u001b[1;33m=\u001b[0m \u001b[0mN\u001b[0m\u001b[1;33m.\u001b[0m\u001b[0mndarray\u001b[0m\u001b[1;33m.\u001b[0m\u001b[0m__getitem__\u001b[0m\u001b[1;33m(\u001b[0m\u001b[0mself\u001b[0m\u001b[1;33m,\u001b[0m \u001b[0mindex\u001b[0m\u001b[1;33m)\u001b[0m\u001b[1;33m\u001b[0m\u001b[1;33m\u001b[0m\u001b[0m\n\u001b[0m\u001b[0;32m    196\u001b[0m         \u001b[1;32mfinally\u001b[0m\u001b[1;33m:\u001b[0m\u001b[1;33m\u001b[0m\u001b[1;33m\u001b[0m\u001b[0m\n\u001b[0;32m    197\u001b[0m             \u001b[0mself\u001b[0m\u001b[1;33m.\u001b[0m\u001b[0m_getitem\u001b[0m \u001b[1;33m=\u001b[0m \u001b[1;32mFalse\u001b[0m\u001b[1;33m\u001b[0m\u001b[1;33m\u001b[0m\u001b[0m\n",
      "\u001b[1;31mIndexError\u001b[0m: index 160 is out of bounds for axis 0 with size 1"
     ]
    }
   ],
   "source": [
    "\n",
    "img = io.imread(img_path)\n",
    "win = dlib.image_window()\n",
    "win.clear_overlay()\n",
    "win.set_image(img)\n",
    "\n",
    "dets = detector(img, 1)\n",
    "for k, d in enumerate(dets):\n",
    "    shape = predictor(img, d)\n",
    "    landmark = np.matrix([[p.x, p.y] for p in shape.parts()])  ## 按照顺序取特征点， 记录其特征点x, y坐标 最后组合为68*2矩阵\n",
    "    print('landmark: {}'.format(landmark))\n",
    "    win.add_overlay(shape)  ## 在窗口中绘制特征点\n",
    "    \n",
    "    for idx, point in enumerate(landmark):\n",
    "        pos = point[point[0,0], point[0,1]]\n",
    "        cv2.putText(img, str(idx), pos, fontFace = cv2.FONT_HERSHEY_SCRIPT_SIMPLEX, fontScale = 0.3, color = (255, 0, 0))\n",
    "    \n",
    "    win.set_image(img)\n",
    "    "
   ]
  },
  {
   "cell_type": "code",
   "execution_count": null,
   "metadata": {},
   "outputs": [],
   "source": []
  },
  {
   "cell_type": "code",
   "execution_count": null,
   "metadata": {},
   "outputs": [],
   "source": []
  },
  {
   "cell_type": "code",
   "execution_count": null,
   "metadata": {},
   "outputs": [],
   "source": []
  },
  {
   "cell_type": "code",
   "execution_count": null,
   "metadata": {},
   "outputs": [],
   "source": [
    "\n"
   ]
  },
  {
   "cell_type": "code",
   "execution_count": null,
   "metadata": {},
   "outputs": [],
   "source": []
  }
 ],
 "metadata": {
  "kernelspec": {
   "display_name": "Python 3",
   "language": "python",
   "name": "python3"
  },
  "language_info": {
   "codemirror_mode": {
    "name": "ipython",
    "version": 3
   },
   "file_extension": ".py",
   "mimetype": "text/x-python",
   "name": "python",
   "nbconvert_exporter": "python",
   "pygments_lexer": "ipython3",
   "version": "3.7.6"
  }
 },
 "nbformat": 4,
 "nbformat_minor": 4
}
