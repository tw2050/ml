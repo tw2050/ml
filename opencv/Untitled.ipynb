{
 "cells": [
  {
   "cell_type": "code",
   "execution_count": 29,
   "metadata": {},
   "outputs": [],
   "source": [
    "import numpy as np\n",
    "import pandas as pd\n",
    "import cv2\n",
    "import matplotlib.pyplot as plt"
   ]
  },
  {
   "cell_type": "code",
   "execution_count": 23,
   "metadata": {},
   "outputs": [],
   "source": [
    "def colorDectect(img_path, option = 0):\n",
    "    img = cv2.imread(img_path)\n",
    "    img1 = img2 = img.copy()\n",
    "    hsv = cv2.cvtColor(img, cv2.COLOR_RGB2HSV)  ### 把RGB颜色转化为HSV颜色\n",
    "    img = cv2.GaussianBlur(img, (5,5), 0)    ### 高斯滤波图片 （5，5）卷积核\n",
    "    \n",
    "    cv2.imshow('GaussianBlur', img)\n",
    "    \n",
    "    if option == 0:  ### 选取蓝色\n",
    "        lower = np.array([100, 50, 50]) ## 蓝色低阀值\n",
    "        upper = np.array([124, 255, 255])  ## 蓝色高阀值\n",
    "    if option == 1: ### 选取黄色\n",
    "        lower = np.array([15, 50, 50])\n",
    "        upper = np.array([40, 255, 255])\n",
    "    \n",
    "    mask = cv2.inRange(hsv, lower, upper)  ##构建阀值掩模\n",
    "    res = cv2.bitwise_and(img, img, mask = mask) ##根据阀值掩模进行与运算\n",
    "    cv2.imshow('bitwise_and', res)\n",
    "    gray = cv2.cvtColor(res, cv2.COLOR_RGB2GRAY) ## 转为灰色\n",
    "    ret, thresh = cv2.threshold(gray, 0, 255, cv2.THRESH_BINARY + cv2.THRESH_OTSU)  ## 二值化\n",
    "    cv2.imshow('threshold', thresh)\n",
    "    kernel = cv2.getStructuringElement(cv2.MORPH_RECT, (17, 3))\n",
    "    closed = cv2.morphologyEx(thresh, cv2.MORPH_CLOSE, kernel)  ## 闭操作\n",
    "    (cnts, _) = cv2.findContours(closed.copy(), cv2.RETR_EXTERNAL, cv2.CHAIN_APPROX_SIMPLE)\n",
    "    imgRs = []\n",
    "    i = 0\n",
    "    for cnt in cnts:\n",
    "        rect = cv2.minAreaRect(cnt)\n",
    "        x,y,w,h = cv2.boundingRect(cnt)\n",
    "        if (w<50 or h < 15 or w>h < 1.0):\n",
    "            continue\n",
    "        cv2.rectangle(img1,(x,y),(x+w,y+h),(0,255,0),1)\n",
    "        #imgCrop = _colorImage[y:y+h,x:x+w]\n",
    "        imgRs.append((x,y,w,h,rect[2]))\n",
    "        rs = img[y:y+h,x:x+w]\n",
    "        #cv2.imshow(\"=============\"+str(name),rs)\n",
    "\n",
    "    #cv2.drawContours(_colorImage, [_box], -1, (0,0,255), 1)\n",
    "    #cv2.imshow(\"_colorImage\",_colorImage)\n",
    "\n",
    "    return imgRs, img1 "
   ]
  },
  {
   "cell_type": "code",
   "execution_count": 24,
   "metadata": {},
   "outputs": [],
   "source": [
    "rects, img = colorDectect('F:/opencv/carnumber/luHH9999.jpg', option= 1)\n",
    "\n",
    "cv2.imshow('test', img)\n",
    "cv2.waitKey(0)\n",
    "cv2.destroyAllWindows()"
   ]
  },
  {
   "cell_type": "code",
   "execution_count": null,
   "metadata": {},
   "outputs": [],
   "source": []
  },
  {
   "cell_type": "code",
   "execution_count": 36,
   "metadata": {},
   "outputs": [],
   "source": [
    "def preprocess(gray):\n",
    "    guassian = cv2.GaussianBlur(gray, (3, 3), 0, 0, cv2.BORDER_DEFAULT)  ## 高斯平滑\n",
    "    median = cv2.medianBlur(guassian, 5)           ## 中值过滤\n",
    "    sobel = cv2.Sobel(median, cv2.CV_8U, 1, 0, ksize = 3)  ## sobel算子 x方向梯度\n",
    "    ret, binary = cv2.threshold(sobel, 170, 255, cv2.THRESH_BINARY)\n",
    "    element1 = cv2.getStructuringElement(cv2.MORPH_RECT, (9, 1))\n",
    "    element2 = cv2.getStructuringElement(cv2.MORPH_RECT, (9, 7))\n",
    "    dilation = cv2.dilate(binary, element2, iterations = 1)  ## 膨胀\n",
    "    erosion = cv2.erode(dilation, element1, iterations = 1)  ## 腐蚀\n",
    "    dilation1 = cv2.dilate(erosion, element2, iterations = 3)  ## 再次膨胀\n",
    "    \n",
    "    cv2.imshow('dliation', dilation)\n",
    "    cv2.imshow('erosion', erosion)\n",
    "    cv2.imshow('dilation1', dilation1)\n",
    "    \n",
    "    return dilation1\n",
    "    "
   ]
  },
  {
   "cell_type": "code",
   "execution_count": 26,
   "metadata": {},
   "outputs": [],
   "source": [
    "def findPlateRegion(img):\n",
    "    region = []\n",
    "    contours, hierarchy = cv2.findContours(img, cv2.RETR_TREE, cv2.CHAIN_APPROX_SIMPLE)\n",
    "    \n",
    "    ### 筛选面积\n",
    "    for cnt in contours:\n",
    "        area = cv2.contourArea(cnt)\n",
    "        ## 面积小于2000过滤掉\n",
    "        if (area < 2000):\n",
    "            continue\n",
    "        \n",
    "        epsilon = 0.001 * cv2.arcLength(cnt, True)\n",
    "        approx = cv2.approxPolyDP(cnt, epsilon, True)  ## 轮廓近似值\n",
    "        \n",
    "        rect = cv2.minAreaRect(cnt)\n",
    "        print('rect is: ', rect)\n",
    "        \n",
    "        boxer = cv2.boxPoints(rect)\n",
    "        boxer = np.int0(boxer)\n",
    "        # 计算高和宽\n",
    "        height = abs(boxer[0][1] - boxer[2][1])\n",
    "        width = abs(boxer[0][0] - boxer[2][0])\n",
    "        # 车牌正常情况下长高比在2.7-5之间\n",
    "        ratio =float(width) / float(height)\n",
    "        print('ration: ',ratio)\n",
    "        if (ratio > 5 or ratio < 2):\n",
    "            continue\n",
    "        region.append(boxer)\n",
    "    \n",
    "    return region\n",
    "       \n",
    "            "
   ]
  },
  {
   "cell_type": "code",
   "execution_count": 27,
   "metadata": {},
   "outputs": [],
   "source": [
    "def detect(img):\n",
    "    ## 灰度化\n",
    "    gray = cv2.cvtColor(img, cv2.COLOR_BGR2GRAY)\n",
    "    ## 形态学变换\n",
    "    dilation = preprocess(gray)\n",
    "    ## 查找车牌区域\n",
    "    region = findPlateRegion(dilation)\n",
    "    \n",
    "    for boxer in region:\n",
    "        cv2.drawContours(img, [boxer], 0, (0, 255, 0), 2)\n",
    "    \n",
    "    ys = [boxer[0, 1], boxer[1, 1], boxer[2, 1], boxer[3, 1]]\n",
    "    xs = [boxer[0, 0], boxer[1, 0], boxer[2, 0], boxer[3, 0]]\n",
    "    ys_sort_idx = np.argsort(ys)\n",
    "    xs_sort_idx = np.argsort(xs)\n",
    "    \n",
    "    x1 = boxer[xs_sort_idx[0], 0]\n",
    "    x2 = boxer[xs_sort_idx[3], 0]\n",
    "    \n",
    "    y1 = boxer[ys_sort_idx[0], 1]\n",
    "    y2 = boxer[ys_sort_idx[3], 1]\n",
    "    \n",
    "    img_org = img.copy()\n",
    "    img_plate = img_org[y1:y2, x1:x2]\n",
    "    cv2.imshow('number plate', img_plate)\n",
    "    cv2.imwrite('F:/opencv/carnumber/number_plate.jpg', img_plate)\n",
    "    \n",
    "    cv2.namedWindow('img', cv2.WINDOW_NORMAL)\n",
    "    cv2.imshow('img', img)\n",
    "    cv2.imwrite('F:/opencv/carnumber/contours.png', img)\n",
    "    \n",
    "    cv2.waitKey(0)\n",
    "    cv2.destroyAllWindows()"
   ]
  },
  {
   "cell_type": "code",
   "execution_count": 37,
   "metadata": {},
   "outputs": [
    {
     "name": "stdout",
     "output_type": "stream",
     "text": [
      "rect is:  ((452.5, 306.0), (48.0, 93.0), -90.0)\n",
      "ration:  1.9375\n",
      "rect is:  ((277.57769775390625, 258.57208251953125), (219.65811157226562, 72.7613525390625), -2.147585391998291)\n",
      "ration:  2.6666666666666665\n",
      "rect is:  ((279.0, 73.5), (51.0, 58.0), -90.0)\n",
      "ration:  1.1372549019607843\n",
      "rect is:  ((27.365718841552734, 45.41130065917969), (98.78160858154297, 39.3486328125), -69.94390869140625)\n",
      "ration:  0.02857142857142857\n"
     ]
    }
   ],
   "source": [
    "img = cv2.imread('F:/opencv/carnumber/luHH9999.jpg')\n",
    "detect(img)"
   ]
  },
  {
   "cell_type": "code",
   "execution_count": null,
   "metadata": {},
   "outputs": [],
   "source": []
  },
  {
   "cell_type": "code",
   "execution_count": null,
   "metadata": {},
   "outputs": [],
   "source": []
  },
  {
   "cell_type": "code",
   "execution_count": null,
   "metadata": {},
   "outputs": [],
   "source": []
  }
 ],
 "metadata": {
  "kernelspec": {
   "display_name": "Python 3",
   "language": "python",
   "name": "python3"
  },
  "language_info": {
   "codemirror_mode": {
    "name": "ipython",
    "version": 3
   },
   "file_extension": ".py",
   "mimetype": "text/x-python",
   "name": "python",
   "nbconvert_exporter": "python",
   "pygments_lexer": "ipython3",
   "version": "3.7.6"
  }
 },
 "nbformat": 4,
 "nbformat_minor": 4
}
