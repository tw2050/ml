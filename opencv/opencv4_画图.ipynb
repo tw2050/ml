{
 "cells": [
  {
   "cell_type": "code",
   "execution_count": null,
   "metadata": {},
   "outputs": [],
   "source": [
    "## opencv 画图\n"
   ]
  },
  {
   "cell_type": "code",
   "execution_count": 2,
   "metadata": {},
   "outputs": [],
   "source": [
    "import cv2\n",
    "import numpy as np"
   ]
  },
  {
   "cell_type": "code",
   "execution_count": 3,
   "metadata": {},
   "outputs": [],
   "source": [
    "## line\n",
    "img = np.zeros((800,800,3), np.int8)\n",
    "img = cv2.line(img, (10,10), (450, 450), (255,255,0), 8)\n",
    "cv2.imshow('line', img)\n",
    "cv2.waitKey(0)\n",
    "cv2.destroyAllWindows()"
   ]
  },
  {
   "cell_type": "code",
   "execution_count": 4,
   "metadata": {},
   "outputs": [],
   "source": [
    "## rect\n",
    "img = cv2.rectangle(img, (50, 100), (200, 200), (0,255, 0), 3)\n",
    "cv2.imshow('rect', img)\n",
    "cv2.waitKey(0)\n",
    "cv2.destroyAllWindows()"
   ]
  },
  {
   "cell_type": "code",
   "execution_count": 5,
   "metadata": {},
   "outputs": [],
   "source": [
    "## circle\n",
    "img = cv2.circle(img, (215, 215), 100, (0, 0, 255), lineType =-1)\n",
    "img = cv2.circle(img, (50, 400), 30, (0, 0, 255))\n",
    "cv2.imshow('circle', img)\n",
    "cv2.waitKey(0)\n",
    "cv2.destroyAllWindows()"
   ]
  },
  {
   "cell_type": "code",
   "execution_count": 6,
   "metadata": {},
   "outputs": [],
   "source": [
    "## ellipse\n",
    "## 画椭圆——需要输入中心点位置，长轴和短轴的长度，椭圆沿逆时针选择角度，椭圆沿顺时针方向起始角度和结束角度\n",
    "img = cv2.ellipse(img, (100, 400), (200, 400), 0, 0, 270, 255, -1)\n",
    "img = cv2.ellipse(img, (500, 500), (100, 50), 0, 0, 360, (255,255,255), 1)\n",
    "cv2.imshow('ellipse', img)\n",
    "cv2.waitKey(0)\n",
    "cv2.destroyAllWindows()"
   ]
  },
  {
   "cell_type": "code",
   "execution_count": 7,
   "metadata": {},
   "outputs": [],
   "source": [
    "## 多边形\n",
    "points = np.array([[20,20],[30, 20],[30,30],[20,30]], np.int32)\n",
    "points = points.reshape((-1,1,2)) \n",
    "cv2.polylines(img,[points],True,(0,0,255),1)\n",
    "\n",
    "points1 = np.array([[600, 700],[650, 670],[700,700],[680,780], [620, 780]], np.int32)\n",
    "points1 = points1.reshape((-1,1,2)) \n",
    "cv2.polylines(img,[points1],False,(0,0,255),1)\n",
    "cv2.imshow('poly', img)\n",
    "cv2.waitKey(0)\n",
    "cv2.destroyAllWindows()\n"
   ]
  },
  {
   "cell_type": "code",
   "execution_count": 8,
   "metadata": {},
   "outputs": [],
   "source": [
    "## 添加文字\n",
    "font = cv2.FONT_HERSHEY_SIMPLEX\n",
    "cv2.putText(img, 'OpenCV Text!', (260, 140), font, 2, (255,255,255), 5)\n",
    "cv2.imshow('text', img)\n",
    "cv2.waitKey(0)\n",
    "cv2.destroyAllWindows()\n"
   ]
  },
  {
   "cell_type": "code",
   "execution_count": 9,
   "metadata": {},
   "outputs": [],
   "source": [
    "#### 窗口事件"
   ]
  },
  {
   "cell_type": "code",
   "execution_count": 10,
   "metadata": {},
   "outputs": [],
   "source": [
    "def mouse_callback(event, x, y, flags, param):\n",
    "    global img\n",
    "    if (event == cv2.EVENT_LBUTTONDOWN):\n",
    "        cv2.circle(img, (x, y), 50, (76, 201, 255), 2)\n",
    "        print('圆心 x:{} y:{} '. format(x, y))"
   ]
  },
  {
   "cell_type": "code",
   "execution_count": 11,
   "metadata": {},
   "outputs": [
    {
     "name": "stdout",
     "output_type": "stream",
     "text": [
      "圆心 x:172 y:143 \n",
      "圆心 x:199 y:262 \n",
      "圆心 x:325 y:217 \n",
      "圆心 x:314 y:347 \n",
      "圆心 x:450 y:347 \n",
      "圆心 x:442 y:109 \n"
     ]
    }
   ],
   "source": [
    "img = np.full((600, 600, 3), 255, np.uint8)\n",
    "cv2.namedWindow('test', cv2.WINDOW_NORMAL)\n",
    "cv2.setMouseCallback('test', mouse_callback)\n",
    "while (True):\n",
    "    cv2.imshow('test', img)\n",
    "    \n",
    "    if cv2.waitKey(5) == ord('q'):\n",
    "        break\n",
    "cv2.destroyAllWindows()"
   ]
  },
  {
   "cell_type": "code",
   "execution_count": 12,
   "metadata": {},
   "outputs": [],
   "source": [
    "def Euclidean_Distance(x1, y1, x2, y2):\n",
    "    return np.sqrt((x1-x2)**2 + (y1 - y2)**2)\n",
    "    "
   ]
  },
  {
   "cell_type": "code",
   "execution_count": 13,
   "metadata": {},
   "outputs": [],
   "source": [
    "def init_img(img):\n",
    "    return img.copy()"
   ]
  },
  {
   "cell_type": "code",
   "execution_count": 14,
   "metadata": {},
   "outputs": [],
   "source": [
    "def mouse_callback1(event, x, y, flags, param):\n",
    "    global img1, img_bak, down_x, down_y\n",
    "    if (event == cv2.EVENT_LBUTTONDOWN):\n",
    "        down_x = x\n",
    "        down_y = y\n",
    "    \n",
    "    elif event == cv2.EVENT_MOUSEMOVE and flags == cv2.EVENT_FLAG_LBUTTON:\n",
    "        r = Euclidean_Distance(down_x, down_y, x, y)\n",
    "        #print('r: {}'. format(r))\n",
    "        img1 = init_img(img_bak)\n",
    "        cv2.circle(img1, (down_x, down_y), int(r), (255, 0, 0), 1)\n",
    "        cv2.imshow('test1', img1)\n",
    "    elif (event == cv2.EVENT_LBUTTONUP):\n",
    "        r = Euclidean_Distance(down_x, down_y, x, y)\n",
    "        img1 = cv2.circle(img1, (down_x, down_y), int(r), (255, 0, 0), 1)\n",
    "        img_bak = img1.copy()\n",
    "        cv2.imshow('test1', img1)\n",
    "            "
   ]
  },
  {
   "cell_type": "code",
   "execution_count": 15,
   "metadata": {},
   "outputs": [],
   "source": [
    "MOUSE_DOWN_STATE = False\n",
    "down_x = 0\n",
    "down_y = 0\n",
    "\n",
    "img1 = np.full((1000, 1000, 3), 255, np.uint8)\n",
    "img_bak = img1.copy()\n",
    "cv2.namedWindow('test1', cv2.WINDOW_NORMAL)\n",
    "cv2.setMouseCallback('test1', mouse_callback1)\n",
    "while (True):\n",
    "    cv2.imshow('test1', img1)\n",
    "    \n",
    "    if cv2.waitKey(5) == ord('q'):\n",
    "        break\n",
    "cv2.destroyAllWindows()"
   ]
  },
  {
   "cell_type": "code",
   "execution_count": null,
   "metadata": {},
   "outputs": [],
   "source": []
  },
  {
   "cell_type": "code",
   "execution_count": null,
   "metadata": {},
   "outputs": [],
   "source": []
  },
  {
   "cell_type": "code",
   "execution_count": null,
   "metadata": {},
   "outputs": [],
   "source": []
  },
  {
   "cell_type": "code",
   "execution_count": 16,
   "metadata": {},
   "outputs": [],
   "source": [
    "#LineTypes?"
   ]
  }
 ],
 "metadata": {
  "kernelspec": {
   "display_name": "Python 3",
   "language": "python",
   "name": "python3"
  },
  "language_info": {
   "codemirror_mode": {
    "name": "ipython",
    "version": 3
   },
   "file_extension": ".py",
   "mimetype": "text/x-python",
   "name": "python",
   "nbconvert_exporter": "python",
   "pygments_lexer": "ipython3",
   "version": "3.7.6"
  }
 },
 "nbformat": 4,
 "nbformat_minor": 4
}
