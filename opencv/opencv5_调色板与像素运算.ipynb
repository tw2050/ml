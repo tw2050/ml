{
 "cells": [
  {
   "cell_type": "code",
   "execution_count": 1,
   "metadata": {},
   "outputs": [],
   "source": [
    "## color palette"
   ]
  },
  {
   "cell_type": "code",
   "execution_count": 2,
   "metadata": {},
   "outputs": [],
   "source": [
    "import cv2\n",
    "import numpy as np"
   ]
  },
  {
   "cell_type": "code",
   "execution_count": 3,
   "metadata": {},
   "outputs": [],
   "source": [
    "def doNothing(x):\n",
    "    pass"
   ]
  },
  {
   "cell_type": "code",
   "execution_count": 4,
   "metadata": {},
   "outputs": [],
   "source": [
    "img = np.full((1000, 1000, 3), 255, np.uint8)\n",
    "cv2.namedWindow('img-show', cv2.WINDOW_NORMAL)\n",
    "cv2.createTrackbar('R', 'img-show', 0, 255, doNothing)\n",
    "cv2.createTrackbar('G', 'img-show', 0, 255, doNothing)\n",
    "cv2.createTrackbar('B', 'img-show', 0, 255, doNothing)\n",
    "\n",
    "while(True):\n",
    "    if cv2.waitKey(8) == ord('q'):\n",
    "        break\n",
    "    \n",
    "    r = cv2.getTrackbarPos('R', 'img-show')\n",
    "    g = cv2.getTrackbarPos('G', 'img-show')\n",
    "    b = cv2.getTrackbarPos('B', 'img-show')\n",
    "    \n",
    "    img[:] = [b,g,r]\n",
    "    cv2.imshow('img-show', img)\n",
    "cv2.destroyAllWindows()\n"
   ]
  },
  {
   "cell_type": "code",
   "execution_count": 5,
   "metadata": {},
   "outputs": [],
   "source": [
    "### img add\n",
    "### 像素相加"
   ]
  },
  {
   "cell_type": "code",
   "execution_count": 6,
   "metadata": {},
   "outputs": [
    {
     "name": "stdout",
     "output_type": "stream",
     "text": [
      "270\n"
     ]
    }
   ],
   "source": [
    "a = 250\n",
    "b = 20 \n",
    "print(a+b)"
   ]
  },
  {
   "cell_type": "code",
   "execution_count": 7,
   "metadata": {},
   "outputs": [
    {
     "name": "stdout",
     "output_type": "stream",
     "text": [
      "[[255]]\n",
      "[14]\n"
     ]
    }
   ],
   "source": [
    "a = np.uint8([250])\n",
    "b = np.uint8([20])\n",
    "print(cv2.add(a,b))\n",
    "print(a+b)"
   ]
  },
  {
   "cell_type": "markdown",
   "metadata": {},
   "source": [
    "### 图片相加 权重\n",
    "![jupyter](./pic_weight.jpg)"
   ]
  },
  {
   "cell_type": "code",
   "execution_count": 8,
   "metadata": {},
   "outputs": [],
   "source": [
    "img1 = cv2.imread('F:/opencv/img/opencv1.jpg')\n",
    "img2 = cv2.imread('F:/opencv/img/opencv2.jpg')\n",
    "img1 = cv2.resize(img1, (150, 185))\n",
    "dst_img = cv2.addWeighted(img1, 0.7, img2, 0.3, 0)\n",
    "cv2.imshow('dst-img', dst_img)\n",
    "cv2.waitKey(0)\n",
    "cv2.destroyAllWindows()"
   ]
  },
  {
   "cell_type": "code",
   "execution_count": 9,
   "metadata": {},
   "outputs": [],
   "source": [
    "## 图片按位运算"
   ]
  },
  {
   "cell_type": "code",
   "execution_count": 30,
   "metadata": {},
   "outputs": [],
   "source": [
    "img1 = cv2.imread('F:/opencv/img/cat1.jpg')\n",
    "img1_cp = img1.copy()\n",
    "img2 = cv2.imread('F:/opencv/img/opencv2.jpg')\n",
    "cv2.namedWindow('img1', cv2.WINDOW_AUTOSIZE)\n",
    "cv2.imshow('img1', img1)\n",
    "cv2.namedWindow('img2', cv2.WINDOW_AUTOSIZE)\n",
    "cv2.imshow('img2', img2)\n",
    "cv2.waitKey(0)\n",
    "cv2.destroyAllWindows()"
   ]
  },
  {
   "cell_type": "code",
   "execution_count": 31,
   "metadata": {},
   "outputs": [],
   "source": [
    "rows, cols, channels = img2.shape\n",
    "roi = img1[0:rows, 0:cols]"
   ]
  },
  {
   "cell_type": "code",
   "execution_count": 32,
   "metadata": {},
   "outputs": [],
   "source": [
    "img2gray = cv2.cvtColor(img2, cv2.COLOR_BGR2GRAY)\n",
    "ret, mask = cv2.threshold(img2gray, 10, 255, cv2.THRESH_BINARY)\n",
    "mask_inv = cv2.bitwise_not(mask)"
   ]
  },
  {
   "cell_type": "code",
   "execution_count": 33,
   "metadata": {},
   "outputs": [],
   "source": [
    "img1_bg = cv2.bitwise_and(roi, roi, mask = mask_inv)\n",
    "img2_bg = cv2.bitwise_and(img2, img2, mask= mask)"
   ]
  },
  {
   "cell_type": "code",
   "execution_count": 34,
   "metadata": {},
   "outputs": [],
   "source": [
    "dst = cv2.add(img1_bg, img2_bg)\n",
    "img1[0:rows, 0:cols] = dst"
   ]
  },
  {
   "cell_type": "code",
   "execution_count": 35,
   "metadata": {},
   "outputs": [],
   "source": [
    "cv2.imshow('img1', img1_cp)\n",
    "cv2.imshow('img2', img2)\n",
    "cv2.imshow('res', img1)\n",
    "cv2.waitKey(0)\n",
    "cv2.destroyAllWindows()"
   ]
  },
  {
   "cell_type": "code",
   "execution_count": null,
   "metadata": {},
   "outputs": [],
   "source": []
  },
  {
   "cell_type": "code",
   "execution_count": 16,
   "metadata": {},
   "outputs": [
    {
     "name": "stdout",
     "output_type": "stream",
     "text": [
      "[[255 255 255 ... 255 255 255]\n",
      " [255   0   0 ...   0   0   0]\n",
      " [  0   0   0 ...   0   0   0]\n",
      " ...\n",
      " [255   0   0 ...   0   0   0]\n",
      " [255   0   0 ...   0   0   0]\n",
      " [255   0   0 ...   0   0   0]]\n"
     ]
    }
   ],
   "source": [
    "print(mask)"
   ]
  },
  {
   "cell_type": "code",
   "execution_count": 17,
   "metadata": {},
   "outputs": [
    {
     "name": "stdout",
     "output_type": "stream",
     "text": [
      "[[  0   0   0 ...   0   0   0]\n",
      " [  0 255 255 ... 255 255 255]\n",
      " [255 255 255 ... 255 255 255]\n",
      " ...\n",
      " [  0 255 255 ... 255 255 255]\n",
      " [  0 255 255 ... 255 255 255]\n",
      " [  0 255 255 ... 255 255 255]]\n"
     ]
    }
   ],
   "source": [
    "print(mask_inv)"
   ]
  },
  {
   "cell_type": "code",
   "execution_count": 36,
   "metadata": {},
   "outputs": [],
   "source": [
    "### 像素按位运算与掩码"
   ]
  },
  {
   "cell_type": "code",
   "execution_count": 45,
   "metadata": {},
   "outputs": [],
   "source": [
    "base = np.zeros((300, 300), dtype = np.uint8)\n",
    "rect = cv2.rectangle(base, (25, 25), (275,275), 255, -1)\n",
    "base = np.zeros((300, 300), dtype = np.uint8)\n",
    "circle = cv2.circle(base, (150, 150), 150, 255, -1)\n",
    "base = np.zeros((300, 300), dtype = np.uint8)\n",
    "mask = cv2.rectangle(base, (15, 15), (130, 100), 255, -1)\n",
    "mask_inv = cv2.bitwise_not(mask)\n",
    "\n",
    "bitwise_and = cv2.bitwise_and(rect, circle)\n",
    "bitwise_or = cv2.bitwise_or(rect, circle)\n",
    "bitwise_xor = cv2.bitwise_xor(rect, circle)\n",
    "\n",
    "bitwise_and_mask = cv2.bitwise_and(rect, circle, mask = mask)\n",
    "bitwise_and_maskinv = cv2.bitwise_and(rect, circle, mask = mask_inv)\n",
    "bitwise_or_mask = cv2.bitwise_or(rect, circle, mask = mask)\n",
    "\n",
    "cv2.imshow('rect', rect)\n",
    "cv2.imshow('circle', circle)\n",
    "cv2.imshow('mask', mask)\n",
    "cv2.imshow('mask_inv', mask_inv)\n",
    "cv2.imshow('and', bitwise_and)\n",
    "cv2.imshow('or', bitwise_or)\n",
    "cv2.imshow('xor', bitwise_xor)\n",
    "cv2.imshow('and_mask', bitwise_and_mask)\n",
    "cv2.imshow('and_maskinv', bitwise_and_maskinv)\n",
    "cv2.imshow('or_mask', bitwise_or_mask)\n",
    "\n",
    "cv2.waitKey(0)\n",
    "cv2.destroyAllWindows()"
   ]
  },
  {
   "cell_type": "code",
   "execution_count": null,
   "metadata": {},
   "outputs": [],
   "source": []
  },
  {
   "cell_type": "code",
   "execution_count": null,
   "metadata": {},
   "outputs": [],
   "source": []
  },
  {
   "cell_type": "code",
   "execution_count": null,
   "metadata": {},
   "outputs": [],
   "source": []
  },
  {
   "cell_type": "code",
   "execution_count": null,
   "metadata": {},
   "outputs": [],
   "source": []
  }
 ],
 "metadata": {
  "kernelspec": {
   "display_name": "Python 3",
   "language": "python",
   "name": "python3"
  },
  "language_info": {
   "codemirror_mode": {
    "name": "ipython",
    "version": 3
   },
   "file_extension": ".py",
   "mimetype": "text/x-python",
   "name": "python",
   "nbconvert_exporter": "python",
   "pygments_lexer": "ipython3",
   "version": "3.7.6"
  }
 },
 "nbformat": 4,
 "nbformat_minor": 4
}
