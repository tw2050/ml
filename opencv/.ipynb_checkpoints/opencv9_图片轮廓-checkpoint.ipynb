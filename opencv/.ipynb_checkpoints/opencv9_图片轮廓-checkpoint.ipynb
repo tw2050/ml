{
 "cells": [
  {
   "cell_type": "markdown",
   "metadata": {},
   "source": [
    "### 什么是轮廓\n",
    "#### 轮廓可以简单认为成将连续的点（连着边界）连在一起的曲线，具有相同、的颜色或者灰度。轮廓在形状分析和物体的检测和识别中很有用。\n",
    "####   • 为了更加准确，要使用二值化图像。在寻找轮廓之前，要进行阈值化处理、或者 Canny 边界检测。\n",
    "####   • 查找轮廓的函数会修改原始图像。如果你在找到轮廓之后还想使用原始图、像的话，你应该将原始图像存储到其他变量中。\n",
    "####   • 在 OpenCV 中，查找轮廓就像在黑色背景中超白色物体。你应该记住，、要找的物体应该是白色而背景应该是黑色。\n",
    "#### 让我们看看如何在一个二值图像中查找轮廓：\n",
    "####   函数 cv2.findContours() 有三个参数，第一个是输入图像，第二个是轮廓检索模式，第三个是轮廓近似方法。返回值有三个，第一个是图像，第二个是轮廓，第三个是（轮廓的）层析结构。\n",
    "####   轮廓（第二个返回值）是一个 Python列表，其中存储这图像中的所有轮廓。每一个轮廓都是一个 Numpy 数组，包含对象边界点（x，y）的坐标。\n",
    "####   注意：我们后边会对第二和第三个参数，以及层次结构进行详细介绍。在那之前，例子中使用的参数值对所有图像都是适用的。"
   ]
  },
  {
   "cell_type": "markdown",
   "metadata": {},
   "source": [
    "### 绘制轮廓\n",
    "#### 函数 cv2.drawContours() 可以被用来绘制轮廓。它可以根据你提供的边界点绘制任何形状。它的第一个参数是原始图像，第二个参数是轮廓，一个 Python 列表。\n",
    "#### 第三个参数是轮廓的索引（在绘制独立轮廓是很有用，当设置为 -1 时绘制所有轮廓）。接下来的参数是轮廓的颜色和厚度等"
   ]
  },
  {
   "cell_type": "code",
   "execution_count": 1,
   "metadata": {},
   "outputs": [],
   "source": [
    "import cv2\n",
    "import numpy as np\n",
    "import matplotlib.pyplot as plt"
   ]
  },
  {
   "cell_type": "code",
   "execution_count": 2,
   "metadata": {},
   "outputs": [],
   "source": [
    "img = cv2.imread('f:/opencv/img/cat2.jpg')\n",
    "img_cp = img.copy()\n",
    "img_gray = cv2.cvtColor(img, cv2.COLOR_BGR2GRAY)\n",
    "ret, thresh = cv2.threshold(img_gray, 127, 255, cv2.THRESH_BINARY_INV)\n",
    "## cv2.CHAIN_APPROX_NONE 记录轮廓所有点 cv2.CHAIN_APPROX_SIMPLE 记录轮廓近似点（如：直线只记录两个端点） \n",
    "contours, hierarchy = cv2.findContours(thresh, cv2.RETR_TREE, cv2.CHAIN_APPROX_SIMPLE) \n",
    "img_contour = cv2.drawContours(img, contours, -1, (0,255,0), 3)  ## 第三个参数为contours 的索引， -1 表示画全部轮廓\n",
    "cv2.imshow('img', img_cp)\n",
    "cv2.imshow('img_gray', img_gray)\n",
    "cv2.imshow('thresh', thresh)\n",
    "cv2.imshow('img_contour', img_contour)\n",
    "cv2.waitKey(0)\n",
    "cv2.destroyAllWindows()"
   ]
  },
  {
   "cell_type": "code",
   "execution_count": 3,
   "metadata": {},
   "outputs": [],
   "source": [
    "### 画一个简单的图测试"
   ]
  },
  {
   "cell_type": "code",
   "execution_count": 4,
   "metadata": {},
   "outputs": [
    {
     "name": "stdout",
     "output_type": "stream",
     "text": [
      "[[[350 150]]\n",
      "\n",
      " [[420 120]]\n",
      "\n",
      " [[450  50]]\n",
      "\n",
      " [[480 120]]\n",
      "\n",
      " [[550 150]]\n",
      "\n",
      " [[480 180]]\n",
      "\n",
      " [[450 250]]\n",
      "\n",
      " [[420 180]]]\n"
     ]
    }
   ],
   "source": [
    "img = np.zeros((300, 600, 3), dtype = np.uint8)\n",
    "img = cv2.rectangle(img, (50, 50), (250, 250), (255,255,255), -1)\n",
    "points = np.array([[350, 150], [420, 120], [450, 50], [480, 120],[550, 150], [480, 180], [450, 250], [420, 180]], dtype = np.int32)\n",
    "points = points.reshape((-1,1,2)) \n",
    "print(points)\n",
    "#img = cv2.polylines(img,[points],True,(255,255,255), 1)\n",
    "img = cv2.fillPoly(img,[points],(255,255,255))\n",
    "img_cp = img.copy()\n",
    "cv2.imwrite('f:/opencv/img/rect_star.jpg', img)\n",
    "\n",
    "cv2.imshow('img', img_cp)\n",
    "cv2.waitKey(0)\n",
    "cv2.destroyAllWindows()"
   ]
  },
  {
   "cell_type": "code",
   "execution_count": 5,
   "metadata": {},
   "outputs": [],
   "source": [
    "img_gray = cv2.cvtColor(img, cv2.COLOR_BGR2GRAY)\n",
    "ret, thresh = cv2.threshold(img_gray, 127, 255, cv2.THRESH_BINARY)\n",
    "contours, hierarchy = cv2.findContours(thresh, cv2.RETR_TREE, cv2.CHAIN_APPROX_SIMPLE) \n",
    "img_contour = cv2.drawContours(img, contours, 0, (0,255,0), 3)  ## 第三个参数为contours 的索引， -1 表示画全部轮廓  note: drawContours会改变原img的值\n",
    "cv2.imshow('img', img_cp)\n",
    "cv2.imshow('img_contour', img_contour)\n",
    "cv2.waitKey(0)\n",
    "cv2.destroyAllWindows()"
   ]
  },
  {
   "cell_type": "code",
   "execution_count": 6,
   "metadata": {},
   "outputs": [],
   "source": [
    "### 轮廓特征\n",
    "#### 轮廓的不同特征，例如面积，周长，重心，边界框， 函数 cv2.moments() 会将计算得到的矩阵以一个字典的形式返回各特征值"
   ]
  },
  {
   "cell_type": "code",
   "execution_count": 7,
   "metadata": {},
   "outputs": [
    {
     "name": "stdout",
     "output_type": "stream",
     "text": [
      "{'m00': 40000.0, 'm10': 6000000.0, 'm01': 6000000.0, 'm20': 1033333333.3333333, 'm11': 900000000.0, 'm02': 1033333333.3333333, 'm30': 195000000000.0, 'm21': 155000000000.0, 'm12': 155000000000.0, 'm03': 195000000000.0, 'mu20': 133333333.33333325, 'mu11': 0.0, 'mu02': 133333333.33333325, 'mu30': 3.0517578125e-05, 'mu21': 1.1444091796875e-05, 'mu12': 1.1444091796875e-05, 'mu03': 3.0517578125e-05, 'nu20': 0.08333333333333329, 'nu11': 0.0, 'nu02': 0.08333333333333329, 'nu30': 9.5367431640625e-17, 'nu21': 3.5762786865234375e-17, 'nu12': 3.5762786865234375e-17, 'nu03': 9.5367431640625e-17}\n"
     ]
    }
   ],
   "source": [
    "img = cv2.imread('f:/opencv/img/rect_star.jpg')\n",
    "img_gray = cv2.cvtColor(img, cv2.COLOR_BGR2GRAY)\n",
    "ret, thresh = cv2.threshold(img_gray, 127, 255, cv2.THRESH_BINARY)\n",
    "contours, hierarchy = cv2.findContours(thresh, cv2.RETR_LIST, cv2.CHAIN_APPROX_SIMPLE)\n",
    "img_contour = cv2.drawContours(img, contours, 1, (0,255,0), 2)  ## 第三个参数为contours 的索引， -1 表示画全部轮廓  \n",
    "contour = contours[1]\n",
    "M = cv2.moments(contour)\n",
    "print(M)\n",
    "cv2.imshow('img', img_gray)\n",
    "cv2.imshow('contour', img_contour)\n",
    "cv2.waitKey(0)\n",
    "cv2.destroyAllWindows()"
   ]
  },
  {
   "cell_type": "code",
   "execution_count": 8,
   "metadata": {},
   "outputs": [
    {
     "name": "stdout",
     "output_type": "stream",
     "text": [
      "cx: 150.0  cy: 150.0\n"
     ]
    }
   ],
   "source": [
    "### 轮廓的重心(cx, cy): \n",
    "\n",
    "cx = M['m10']/M['m00']\n",
    "cy = M['m01']/M['m00']\n",
    "print('cx: {}  cy: {}'.format(cx, cy))"
   ]
  },
  {
   "cell_type": "code",
   "execution_count": 9,
   "metadata": {},
   "outputs": [
    {
     "name": "stdout",
     "output_type": "stream",
     "text": [
      "area: 40000.0\n"
     ]
    }
   ],
   "source": [
    "### 轮廓面积\n",
    "area = cv2.contourArea(contour)\n",
    "print('area: {}'.format(area))  ##200*200"
   ]
  },
  {
   "cell_type": "code",
   "execution_count": 10,
   "metadata": {},
   "outputs": [
    {
     "name": "stdout",
     "output_type": "stream",
     "text": [
      "perimeter: 800.0\n"
     ]
    }
   ],
   "source": [
    "### 轮廓周长\n",
    "perimeter = cv2.arcLength(contour, True) ## 第二个参数表示对像是封闭的还是打开的（曲线）\n",
    "print('perimeter:', perimeter)"
   ]
  },
  {
   "cell_type": "code",
   "execution_count": 11,
   "metadata": {},
   "outputs": [],
   "source": [
    "### 轮廓近似\n",
    "contour = contours[0]\n",
    "epsilon = 0.1 * cv2.arcLength(contour, True)       \n",
    "approx = cv2.approxPolyDP(contour, epsilon, True)\n",
    "approx = approx.reshape((-1, 1, 2))\n",
    "img_cp = img_gray.copy()\n",
    "img_contour = cv2.polylines(img_cp, [approx], True, (0,255,0), 3) \n",
    "cv2.imshow('contour', img_contour)\n",
    "cv2.waitKey(0)\n",
    "cv2.destroyAllWindows()"
   ]
  },
  {
   "cell_type": "code",
   "execution_count": null,
   "metadata": {},
   "outputs": [],
   "source": []
  },
  {
   "cell_type": "markdown",
   "metadata": {},
   "source": [
    "### 凸包\n",
    "#### 凸包与轮廓近似相似，但不同，虽然有些情况下它们给出的结果是一样的。函数 cv2.convexHull() 可以用来检测一个曲线是否具有凸性缺陷，并能纠正缺陷。\n",
    "#### 一般来说，凸性曲线总是凸出来的，至少是平的。如果有地方凹进去了就被叫做凸性缺陷。例如下图中的手。红色曲线显示了手的凸包，凸性缺陷被双箭头标出来了。\n",
    "![jupyter](./tubao.png)\n",
    "#### 用法 hull = cv2.convexHull(points[, hull[, clockwise[, returnPoints]]\n",
    "#### 参数：\n",
    "#### 　　• points 我们要传入的轮廓\n",
    "#### 　　• hull 输出，通常不需要\n",
    "#### 　　• clockwise 方向标志。如果设置为 True，输出的凸包是顺时针方向的。否则为逆时针方向。\n",
    "#### 　　• returnPoints 默认值为 True。它会返回凸包上点的坐标。如果设置为 False，就会返回与凸包点对应的轮廓上的点。\n",
    "#### 要获得上图的凸包，下面的命令就够了：\n",
    "#### hull = cv2.convexHull(cnt)"
   ]
  },
  {
   "cell_type": "markdown",
   "metadata": {},
   "source": [
    "### 凸性检测\n",
    "#### 函数 cv2.isContourConvex() 可以可以用来检测一个曲线是不是凸的。它只能返回 True 或 False\n",
    "#### k = cv2.isContourConvex(cnt)"
   ]
  },
  {
   "cell_type": "markdown",
   "metadata": {},
   "source": [
    "### 边界矩形\n",
    "#### 直边界矩形： 一个直矩形（就是没有旋转的矩形）。它不会考虑对象是否旋转。所以边界矩形的面积不是最小的。可以使用函数 cv2.boundingRect() 查找得到。\n",
    "#### （x，y）为矩形左上角的坐标，（w，h）是矩形的宽和高。\n",
    "#### x,y,w,h = cv2.boundingRect(cnt)\n",
    "#### img = cv2.rectangle(img,(x,y),(x+w,y+h),(0,255,0),2)\n",
    "#### 旋转的边界矩形： 这个边界矩形是面积最小的，因为它考虑了对象的旋转。用到的函数为 cv2.minAreaRect()。返回的是一个 Box2D 结构，其中包含矩形左上角角点的坐标（x，y），矩形的宽和高（w，h），以及旋转角度。\n",
    "#### 但是要绘制这个矩形需要矩形的 4 个角点，可以通过函数 cv2.boxPoints() 获得。\n",
    "#### rect = cv2.minAreaRect(cnt)\n",
    "#### box = cv2.boxPoints(rect)\n",
    "#### box = np.int0(box)\n",
    "#### im = cv2.drawContours(im,[box],0,(0,0,255),2)"
   ]
  },
  {
   "cell_type": "code",
   "execution_count": null,
   "metadata": {},
   "outputs": [],
   "source": [
    "### 未完待续"
   ]
  },
  {
   "cell_type": "code",
   "execution_count": null,
   "metadata": {},
   "outputs": [],
   "source": []
  },
  {
   "cell_type": "code",
   "execution_count": null,
   "metadata": {},
   "outputs": [],
   "source": []
  }
 ],
 "metadata": {
  "kernelspec": {
   "display_name": "Python 3",
   "language": "python",
   "name": "python3"
  },
  "language_info": {
   "codemirror_mode": {
    "name": "ipython",
    "version": 3
   },
   "file_extension": ".py",
   "mimetype": "text/x-python",
   "name": "python",
   "nbconvert_exporter": "python",
   "pygments_lexer": "ipython3",
   "version": "3.7.6"
  }
 },
 "nbformat": 4,
 "nbformat_minor": 4
}
