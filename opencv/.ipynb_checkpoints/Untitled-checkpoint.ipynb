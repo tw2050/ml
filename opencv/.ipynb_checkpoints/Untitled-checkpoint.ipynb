{
 "cells": [
  {
   "cell_type": "code",
   "execution_count": 1,
   "metadata": {},
   "outputs": [
    {
     "name": "stderr",
     "output_type": "stream",
     "text": [
      "d:\\anaconda3\\lib\\importlib\\_bootstrap.py:219: RuntimeWarning: numpy.ufunc size changed, may indicate binary incompatibility. Expected 192 from C header, got 216 from PyObject\n",
      "  return f(*args, **kwds)\n"
     ]
    }
   ],
   "source": [
    "import numpy as np\n",
    "import pandas as pd\n",
    "import cv2\n",
    "import matplotlib.pyplot as plt"
   ]
  },
  {
   "cell_type": "code",
   "execution_count": 18,
   "metadata": {},
   "outputs": [],
   "source": [
    "def colorDectect(img_path, option = 0):\n",
    "    img = cv2.imread(img_path)\n",
    "    img1 = img2 = img.copy()\n",
    "    hsv = cv2.cvtColor(img, cv2.COLOR_RGB2HSV)  ### 把RGB颜色转化为HSV颜色\n",
    "    img = cv2.GaussianBlur(img, (5,5), 0)    ### 高斯滤波图片 （5，5）卷积核\n",
    "    \n",
    "    cv2.imshow('GaussianBlur', img)\n",
    "    \n",
    "    if option == 0:  ### 选取蓝色\n",
    "        lower = np.array([100, 50, 50]) ## 蓝色低阀值\n",
    "        upper = np.array([124, 255, 255])  ## 蓝色高阀值\n",
    "    if option == 1: ### 选取黄色\n",
    "        lower = np.array([15, 50, 50])\n",
    "        upper = np.array(40, 255, 255)\n",
    "    \n",
    "    mask = cv2.inRange(hsv, lower, upper)  ##构建阀值掩模\n",
    "    res = cv2.bitwise_and(img, img, mask = mask) ##根据阀值掩模进行与运算\n",
    "    cv2.imshow('bitwise_and', res)\n",
    "    gray = cv2.cvtColor(res, cv2.COLOR_RGB2GRAY) ## 转为灰色\n",
    "    ret, thresh = cv2.threshold(gray, 0, 255, cv2.THRESH_BINARY + cv2.THRESH_OTSU)  ## 二值化\n",
    "    cv2.imshow('threshold', thresh)\n",
    "    kernel = cv2.getStructuringElement(cv2.MORPH_RECT, (17, 3))\n",
    "    closed = cv2.morphologyEx(thresh, cv2.MORPH_CLOSE, kernel)  ## 闭操作\n",
    "    (cnts, _) = cv2.findContours(closed.copy(), cv2.RETR_EXTERNAL, cv2.CHAIN_APPROX_SIMPLE)\n",
    "    imgRs = []\n",
    "    i = 0\n",
    "    for cnt in cnts:\n",
    "        rect = cv2.minAreaRect(cnt)\n",
    "        x,y,w,h = cv2.boundingRect(cnt)\n",
    "        if (w<50 or h < 15 or w>h < 1.0):\n",
    "            continue\n",
    "        cv2.rectangle(img1,(x,y),(x+w,y+h),(0,255,0),1)\n",
    "        #imgCrop = _colorImage[y:y+h,x:x+w]\n",
    "        imgRs.append((x,y,w,h,rect[2]))\n",
    "        rs = img[y:y+h,x:x+w]\n",
    "        #cv2.imshow(\"=============\"+str(name),rs)\n",
    "\n",
    "    #cv2.drawContours(_colorImage, [_box], -1, (0,0,255), 1)\n",
    "    #cv2.imshow(\"_colorImage\",_colorImage)\n",
    "\n",
    "    return imgRs, img1 "
   ]
  },
  {
   "cell_type": "code",
   "execution_count": 19,
   "metadata": {},
   "outputs": [],
   "source": [
    "rects, img = colorDectect('F:/opencv/carnumber/luHH9999.jpg')\n",
    "\n",
    "cv2.imshow('test', img)\n",
    "cv2.waitKey(0)\n",
    "cv2.destroyAllWindows()"
   ]
  },
  {
   "cell_type": "code",
   "execution_count": null,
   "metadata": {},
   "outputs": [],
   "source": []
  },
  {
   "cell_type": "code",
   "execution_count": null,
   "metadata": {},
   "outputs": [],
   "source": []
  },
  {
   "cell_type": "code",
   "execution_count": null,
   "metadata": {},
   "outputs": [],
   "source": []
  }
 ],
 "metadata": {
  "kernelspec": {
   "display_name": "Python 3",
   "language": "python",
   "name": "python3"
  },
  "language_info": {
   "codemirror_mode": {
    "name": "ipython",
    "version": 3
   },
   "file_extension": ".py",
   "mimetype": "text/x-python",
   "name": "python",
   "nbconvert_exporter": "python",
   "pygments_lexer": "ipython3",
   "version": "3.7.6"
  }
 },
 "nbformat": 4,
 "nbformat_minor": 4
}
