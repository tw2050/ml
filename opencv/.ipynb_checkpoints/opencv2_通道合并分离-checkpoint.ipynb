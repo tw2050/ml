{
 "cells": [
  {
   "cell_type": "code",
   "execution_count": 1,
   "metadata": {},
   "outputs": [],
   "source": [
    "### 图片通道分离， 合并\n",
    "\n",
    "import numpy as np\n",
    "import cv2"
   ]
  },
  {
   "cell_type": "code",
   "execution_count": 4,
   "metadata": {},
   "outputs": [],
   "source": [
    "def salt(img, number):\n",
    "    for i in range(number):\n",
    "        x = int(np.random.random() * img.shape[0])\n",
    "        y = int(np.random.random() * img.shape[1])\n",
    "        ### 图片为彩色， 3通道。 定义 R, G, B [255, 255, 255] 白色\n",
    "        img[x, y, 0] = 255\n",
    "        img[x, y, 1] = 255\n",
    "        img[x, y, 2] = 255\n",
    "    return img"
   ]
  },
  {
   "cell_type": "code",
   "execution_count": 5,
   "metadata": {},
   "outputs": [],
   "source": [
    "img = cv2.imread('F:/opencv/img/cat2.jpg')\n",
    "cv2.namedWindow('img-show', cv2.WINDOW_NORMAL)\n",
    "new_img = salt(img, 200)\n",
    "cv2.imshow('img-show', new_img)\n",
    "cv2.waitKey(0)\n",
    "cv2.destroyAllWindows()"
   ]
  },
  {
   "cell_type": "code",
   "execution_count": 7,
   "metadata": {},
   "outputs": [],
   "source": [
    "### 通道分离 分离(R, G, B)\n",
    "img = cv2.imread('F:/opencv/img/cat2.jpg')\n",
    "b = g = r = np.zeros((img.shape[0], img.shape[1]), dtype = img.dtype)\n",
    "b[:,:] = img[:,:,0]\n",
    "g[:,:] = img[:,:,1]\n",
    "r[:,:] = img[:,:,2]\n",
    "cv2.imshow('blue', b)\n",
    "cv2.imshow('green', g)\n",
    "cv2.imshow('red', r)\n",
    "cv2.waitKey(0)\n",
    "cv2.destroyAllWindows()\n"
   ]
  },
  {
   "cell_type": "code",
   "execution_count": 24,
   "metadata": {},
   "outputs": [],
   "source": [
    "### 通道分离 分离(R, G, B) 合并\n",
    "img = cv2.imread('F:/opencv/img/cat2.jpg')\n",
    "temp = b = g = r = np.zeros((img.shape[0], img.shape[1]), dtype = img.dtype)\n",
    "zero = np.zeros((img.shape[0], img.shape[1]), dtype = img.dtype)\n",
    "b[:,:] = img[:,:,0]\n",
    "b_img = cv2.merge([b, zero, zero])\n",
    "\n",
    "g[:,:] = img[:,:,1]\n",
    "g_img = cv2.merge([zero, g, zero])\n",
    "\n",
    "r[:,:] = img[:,:,2]\n",
    "r_img = cv2.merge([zero, zero, r])\n",
    "\n",
    "cv2.imshow('blue', b_img)\n",
    "cv2.imshow('green', g_img)\n",
    "cv2.imshow('red', r_img)\n",
    "cv2.imshow('src', img)\n",
    "cv2.waitKey(0)\n",
    "cv2.destroyAllWindows()"
   ]
  },
  {
   "cell_type": "code",
   "execution_count": 2,
   "metadata": {},
   "outputs": [
    {
     "name": "stdout",
     "output_type": "stream",
     "text": [
      "(721, 1080)\n"
     ]
    }
   ],
   "source": [
    "### 通道分离 分离(R, G, B) 合并\n",
    "\n",
    "img = cv2.imread('F:/opencv/img/cat2.jpg')\n",
    "b, g, r = cv2.split(img)\n",
    "merge_img = cv2.merge([b, g, r])\n",
    "\n",
    "print(b.shape)\n",
    "cv2.imshow('blue', b)\n",
    "cv2.imshow('green', g)\n",
    "cv2.imshow('red', r)\n",
    "cv2.imshow('merge', merge_img)\n",
    "cv2.waitKey(0)\n",
    "cv2.destroyAllWindows()"
   ]
  },
  {
   "cell_type": "code",
   "execution_count": null,
   "metadata": {},
   "outputs": [],
   "source": []
  },
  {
   "cell_type": "code",
   "execution_count": null,
   "metadata": {},
   "outputs": [],
   "source": []
  },
  {
   "cell_type": "code",
   "execution_count": null,
   "metadata": {},
   "outputs": [],
   "source": []
  }
 ],
 "metadata": {
  "kernelspec": {
   "display_name": "Python 3",
   "language": "python",
   "name": "python3"
  },
  "language_info": {
   "codemirror_mode": {
    "name": "ipython",
    "version": 3
   },
   "file_extension": ".py",
   "mimetype": "text/x-python",
   "name": "python",
   "nbconvert_exporter": "python",
   "pygments_lexer": "ipython3",
   "version": "3.7.6"
  }
 },
 "nbformat": 4,
 "nbformat_minor": 4
}
