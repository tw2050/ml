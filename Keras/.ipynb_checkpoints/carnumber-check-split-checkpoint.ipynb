{
 "cells": [
  {
   "cell_type": "code",
   "execution_count": 1,
   "metadata": {},
   "outputs": [],
   "source": [
    "import cv2\n",
    "import numpy as np\n",
    "import random"
   ]
  },
  {
   "cell_type": "code",
   "execution_count": 2,
   "metadata": {},
   "outputs": [],
   "source": [
    "### 图片拉伸\n",
    "def stretch(img):\n",
    "    max_i = float(img.max())\n",
    "    min_i = float(img.min())\n",
    "    \n",
    "    for i in range(img.shape[0]):\n",
    "        for j in range(img.shape[1]):\n",
    "            img[i,j] = (255/(max_i - min_i) * img[i,j] - (255*min_i)/(max_i - min_i))\n",
    "    \n",
    "    return img"
   ]
  },
  {
   "cell_type": "code",
   "execution_count": 3,
   "metadata": {},
   "outputs": [],
   "source": [
    "### 图片二值化处理（黑白）\n",
    "def binarization(img):\n",
    "    max_i = float(img.max())\n",
    "    min_i = float(img.min())\n",
    "    \n",
    "    x = max_i - (max_i - min_i)/2\n",
    "    ret, thresh = cv2.threshold(img, x, 255, cv2.THRESH_BINARY)\n",
    "    \n",
    "    return thresh"
   ]
  },
  {
   "cell_type": "code",
   "execution_count": 4,
   "metadata": {},
   "outputs": [],
   "source": [
    "### 查找矩形轮廓\n",
    "def find_rect(contour):\n",
    "    x = []\n",
    "    y = []\n",
    "    \n",
    "    for point in contour:\n",
    "        x.append(point[0][1])\n",
    "        y.append(point[0][0])\n",
    "        \n",
    "    rect = [min(y), min(x), max(y), max(x)]\n",
    "    return rect\n"
   ]
  },
  {
   "cell_type": "code",
   "execution_count": 5,
   "metadata": {},
   "outputs": [],
   "source": [
    "### 定位车牌号区域\n",
    "def check_locate(binaryImg, srcImg):\n",
    "    contours,hierarchy = cv2.findContours(binaryImg, cv2.RETR_EXTERNAL, cv2.CHAIN_APPROX_SIMPLE)\n",
    "    ## 找出最大的三个区域\n",
    "    locate = []\n",
    "    for contour in contours:\n",
    "        rect = find_rect(contour)\n",
    "        s = (rect[2] - rect[0]) * (rect[3] - rect[1])  # 面积\n",
    "        r = (rect[2] - rect[0]) / (rect[3] - rect[1])  # 长宽比\n",
    "        locate.append([rect, s, r])\n",
    "    locate = sorted(locate, key = lambda x: x[1])[-3:]  ## 面积最大的三个\n",
    "    \n",
    "    ## 根据颜色判断最有可能为车牌号的区域\n",
    "    max_weight = 0\n",
    "    max_index = -1\n",
    "    for i in range(len(locate)):\n",
    "        temp_locate = srcImg[locate[i][0][1]:locate[i][0][3], locate[i][0][0]:locate[i][0][2]]\n",
    "        #BGR转HSV\n",
    "        hsv=cv2.cvtColor(temp_locate,cv2.COLOR_BGR2HSV)\n",
    "        #蓝色车牌的色彩范围\n",
    "        lower=np.array([100,50,50])\n",
    "        upper=np.array([140,255,255])\n",
    "        #根据阈值构建掩膜\n",
    "        mask=cv2.inRange(hsv,lower,upper)\n",
    "        \n",
    "    \n",
    "    \n",
    "    "
   ]
  },
  {
   "cell_type": "code",
   "execution_count": 6,
   "metadata": {},
   "outputs": [],
   "source": [
    "###\n",
    "def colorDetect(image,option=0):\n",
    "    name = random.randint(0,99)\n",
    "    img = cv2.imread(image)\n",
    "    colorImage = img.copy()\n",
    "    _colorImage = img.copy()\n",
    "    hsv=cv2.cvtColor(img,cv2.COLOR_BGR2HSV)\n",
    "    #cv2.imshow(\"hsv\",hsv)\n",
    "    #高斯模糊\n",
    "    img = cv2.GaussianBlur(img,(5,5),0)\n",
    "    #cv2.imshow(\"hsv\",hsv)\n",
    "    # 设定蓝色的阈值\n",
    "    if(option == 0):\n",
    "        lower=np.array([100,50,50])\n",
    "        upper=np.array([140,255,255])\n",
    "    else:\n",
    "        #黄色\n",
    "        lower=np.array([15,50,50])\n",
    "        upper=np.array([40,255,255])\n",
    "\n",
    "    # 根据阈值构建掩模\n",
    "    mask=cv2.inRange(hsv,lower,upper)\n",
    "    # 对原图像和掩模进行位运算\n",
    "    res=cv2.bitwise_and(img,img,mask=mask)\n",
    "    gray = cv2.cvtColor(res,cv2.COLOR_BGR2GRAY)\n",
    "    #二值化\n",
    "    ret,thresh1 = cv2.threshold(gray,0,255,cv2.THRESH_BINARY+cv2.THRESH_OTSU)\n",
    "    #cv2.imshow('gray',gray)\n",
    "    #闭操作\n",
    "    kernel = cv2.getStructuringElement(cv2.MORPH_RECT,(17, 3))  \n",
    "    closed = cv2.morphologyEx(thresh1, cv2.MORPH_CLOSE, kernel)  \n",
    "    #cv2.imshow('closed',closed)\n",
    "    (cnts, _) = cv2.findContours(closed.copy(),cv2.RETR_EXTERNAL,cv2.CHAIN_APPROX_SIMPLE)\n",
    "    #cv2.drawContours(img,cnts,-1,(0,0,255),1)\n",
    "    imgRs = []\n",
    "    i = 0\n",
    "    for cnt in cnts:\n",
    "        rect = cv2.minAreaRect(cnt)\n",
    "        x,y,w,h = cv2.boundingRect(cnt)\n",
    "        if(w<50 or h < 15 or w>h < 1.0):\n",
    "            continue\n",
    "        #cv2.rectangle(_colorImage,(x,y),(x+w,y+h),(0,255,0),1)\n",
    "        #imgCrop = _colorImage[y:y+h,x:x+w]\n",
    "        imgRs.append((x,y,w,h,rect[2]))\n",
    "        rs = img[y:y+h,x:x+w]\n",
    "        cv2.imshow(\"=============\"+str(name),rs)\n",
    "\n",
    "    #cv2.drawContours(_colorImage, [_box], -1, (0,0,255), 1)\n",
    "    cv2.imshow(\"_colorImage\",_colorImage)\n",
    "    cv2.waitKey(0)\n",
    "    cv2.destroyAllWindows()\n",
    "    return imgRs"
   ]
  },
  {
   "cell_type": "code",
   "execution_count": 13,
   "metadata": {},
   "outputs": [],
   "source": [
    "path = 'F:/opencv/carnumber/fm7787.jpg'\n",
    "\n",
    "img = cv2.imread(path)\n",
    "cv2.namedWindow('img', cv2.WINDOW_AUTOSIZE)\n",
    "cv2.imshow('img', img)\n",
    "cv2.waitKey(0)\n",
    "cv2.destroyAllWindows()"
   ]
  },
  {
   "cell_type": "code",
   "execution_count": 14,
   "metadata": {},
   "outputs": [
    {
     "data": {
      "text/plain": [
       "[(422, 294, 78, 31, -1.9749339818954468),\n",
       " (185, 223, 191, 65, -1.3971812725067139)]"
      ]
     },
     "execution_count": 14,
     "metadata": {},
     "output_type": "execute_result"
    }
   ],
   "source": [
    "img1 = colorDetect(path, option=1)\n",
    "img1\n",
    "#cv2.imshow('img', img1)\n",
    "#cv2.waitKey(0)\n",
    "#cv2.destroyAllWindows()"
   ]
  },
  {
   "cell_type": "code",
   "execution_count": null,
   "metadata": {},
   "outputs": [],
   "source": []
  },
  {
   "cell_type": "code",
   "execution_count": null,
   "metadata": {},
   "outputs": [],
   "source": []
  }
 ],
 "metadata": {
  "kernelspec": {
   "display_name": "Python 3",
   "language": "python",
   "name": "python3"
  },
  "language_info": {
   "codemirror_mode": {
    "name": "ipython",
    "version": 3
   },
   "file_extension": ".py",
   "mimetype": "text/x-python",
   "name": "python",
   "nbconvert_exporter": "python",
   "pygments_lexer": "ipython3",
   "version": "3.7.6"
  }
 },
 "nbformat": 4,
 "nbformat_minor": 4
}
