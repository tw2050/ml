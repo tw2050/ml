{
 "cells": [
  {
   "cell_type": "code",
   "execution_count": 1,
   "metadata": {},
   "outputs": [],
   "source": [
    "import numpy as np\n",
    "import pandas as pd\n",
    "import matplotlib.pyplot as plt\n",
    "import seaborn as sns"
   ]
  },
  {
   "cell_type": "code",
   "execution_count": 2,
   "metadata": {},
   "outputs": [],
   "source": [
    "train_data = pd.read_csv('F:/ml-data/NLP-disaster/train.csv')\n",
    "test_data = pd.read_csv('F:/ml-data/NLP-disaster/test.csv')"
   ]
  },
  {
   "cell_type": "code",
   "execution_count": 3,
   "metadata": {},
   "outputs": [
    {
     "data": {
      "text/html": [
       "<div>\n",
       "<style scoped>\n",
       "    .dataframe tbody tr th:only-of-type {\n",
       "        vertical-align: middle;\n",
       "    }\n",
       "\n",
       "    .dataframe tbody tr th {\n",
       "        vertical-align: top;\n",
       "    }\n",
       "\n",
       "    .dataframe thead th {\n",
       "        text-align: right;\n",
       "    }\n",
       "</style>\n",
       "<table border=\"1\" class=\"dataframe\">\n",
       "  <thead>\n",
       "    <tr style=\"text-align: right;\">\n",
       "      <th></th>\n",
       "      <th>id</th>\n",
       "      <th>keyword</th>\n",
       "      <th>location</th>\n",
       "      <th>text</th>\n",
       "      <th>target</th>\n",
       "    </tr>\n",
       "  </thead>\n",
       "  <tbody>\n",
       "    <tr>\n",
       "      <th>0</th>\n",
       "      <td>1</td>\n",
       "      <td>NaN</td>\n",
       "      <td>NaN</td>\n",
       "      <td>Our Deeds are the Reason of this #earthquake M...</td>\n",
       "      <td>1</td>\n",
       "    </tr>\n",
       "    <tr>\n",
       "      <th>1</th>\n",
       "      <td>4</td>\n",
       "      <td>NaN</td>\n",
       "      <td>NaN</td>\n",
       "      <td>Forest fire near La Ronge Sask. Canada</td>\n",
       "      <td>1</td>\n",
       "    </tr>\n",
       "    <tr>\n",
       "      <th>2</th>\n",
       "      <td>5</td>\n",
       "      <td>NaN</td>\n",
       "      <td>NaN</td>\n",
       "      <td>All residents asked to 'shelter in place' are ...</td>\n",
       "      <td>1</td>\n",
       "    </tr>\n",
       "    <tr>\n",
       "      <th>3</th>\n",
       "      <td>6</td>\n",
       "      <td>NaN</td>\n",
       "      <td>NaN</td>\n",
       "      <td>13,000 people receive #wildfires evacuation or...</td>\n",
       "      <td>1</td>\n",
       "    </tr>\n",
       "    <tr>\n",
       "      <th>4</th>\n",
       "      <td>7</td>\n",
       "      <td>NaN</td>\n",
       "      <td>NaN</td>\n",
       "      <td>Just got sent this photo from Ruby #Alaska as ...</td>\n",
       "      <td>1</td>\n",
       "    </tr>\n",
       "  </tbody>\n",
       "</table>\n",
       "</div>"
      ],
      "text/plain": [
       "   id keyword location                                               text  \\\n",
       "0   1     NaN      NaN  Our Deeds are the Reason of this #earthquake M...   \n",
       "1   4     NaN      NaN             Forest fire near La Ronge Sask. Canada   \n",
       "2   5     NaN      NaN  All residents asked to 'shelter in place' are ...   \n",
       "3   6     NaN      NaN  13,000 people receive #wildfires evacuation or...   \n",
       "4   7     NaN      NaN  Just got sent this photo from Ruby #Alaska as ...   \n",
       "\n",
       "   target  \n",
       "0       1  \n",
       "1       1  \n",
       "2       1  \n",
       "3       1  \n",
       "4       1  "
      ]
     },
     "execution_count": 3,
     "metadata": {},
     "output_type": "execute_result"
    }
   ],
   "source": [
    "train_data.head()"
   ]
  },
  {
   "cell_type": "code",
   "execution_count": 5,
   "metadata": {},
   "outputs": [
    {
     "data": {
      "text/plain": [
       "<matplotlib.axes._subplots.AxesSubplot at 0x188f1beccc8>"
      ]
     },
     "execution_count": 5,
     "metadata": {},
     "output_type": "execute_result"
    },
    {
     "data": {
      "image/png": "[encoded data removed]",
      "text/plain": [
       "<Figure size 432x288 with 1 Axes>"
      ]
     },
     "metadata": {
      "needs_background": "light"
     },
     "output_type": "display_data"
    }
   ],
   "source": [
    "sns.countplot(train_data['target'])"
   ]
  },
  {
   "cell_type": "code",
   "execution_count": 7,
   "metadata": {},
   "outputs": [],
   "source": [
    "sentence = train_data['text'].tolist()\n",
    "label = train_data['target'].tolist()"
   ]
  },
  {
   "cell_type": "code",
   "execution_count": 8,
   "metadata": {},
   "outputs": [],
   "source": [
    "test_sentence = test_data['text'].tolist()"
   ]
  },
  {
   "cell_type": "code",
   "execution_count": 9,
   "metadata": {},
   "outputs": [],
   "source": [
    "TRAIN_TEST_REDIO = 0.8\n",
    "train_size = int(len(sentence) * 0.8)\n",
    "train_sentence = sentence[:train_size]\n",
    "test_sentence = sentence[train_size:]\n",
    "train_label = np.array(label[:train_size])\n",
    "test_label = np.array(label[train_size:])"
   ]
  },
  {
   "cell_type": "code",
   "execution_count": 10,
   "metadata": {},
   "outputs": [
    {
     "name": "stderr",
     "output_type": "stream",
     "text": [
      "Using TensorFlow backend.\n"
     ]
    }
   ],
   "source": [
    "from keras.preprocessing.text import Tokenizer\n",
    "from keras.preprocessing.sequence import pad_sequences"
   ]
  },
  {
   "cell_type": "code",
   "execution_count": 11,
   "metadata": {},
   "outputs": [],
   "source": [
    "tokenizer = Tokenizer(num_words=500, oov_token='<OOV>')"
   ]
  },
  {
   "cell_type": "code",
   "execution_count": 12,
   "metadata": {},
   "outputs": [],
   "source": [
    "tokenizer.fit_on_texts(train_sentence)"
   ]
  },
  {
   "cell_type": "code",
   "execution_count": 13,
   "metadata": {},
   "outputs": [],
   "source": [
    "word_idx = tokenizer.word_index\n"
   ]
  },
  {
   "cell_type": "code",
   "execution_count": 14,
   "metadata": {},
   "outputs": [],
   "source": [
    "train_sentence = tokenizer.texts_to_sequences(train_sentence) ## 把 txt 转化成词index集合"
   ]
  },
  {
   "cell_type": "code",
   "execution_count": 28,
   "metadata": {},
   "outputs": [],
   "source": [
    "train_padded = pad_sequences(train_sentence, maxlen=40, padding='post', truncating='post') ## 补充/截取 集合中元素 多于maxlen截取，少于maxlen补充"
   ]
  },
  {
   "cell_type": "code",
   "execution_count": 29,
   "metadata": {},
   "outputs": [],
   "source": [
    "test_sentence = tokenizer.texts_to_sequences(test_sentence)\n",
    "test_padded = pad_sequences(test_sentence, maxlen=40, padding='post', truncating='post')"
   ]
  },
  {
   "cell_type": "code",
   "execution_count": 30,
   "metadata": {},
   "outputs": [],
   "source": [
    "import keras\n",
    "from keras.models import Sequential\n",
    "from keras.layers import Dense, Embedding, LSTM, Dropout, BatchNormalization"
   ]
  },
  {
   "cell_type": "code",
   "execution_count": 32,
   "metadata": {},
   "outputs": [],
   "source": [
    "model = Sequential()\n",
    "model.add(Embedding(500, 16, input_length = 40)) ## embedding想当于一个没有bias的全连接层， 把40维度降到16个维度\n",
    "model.add(LSTM(16, return_sequences = True))   \n",
    "model.add(LSTM(16))\n",
    "model.add(Dense(18, activation = 'relu'))\n",
    "model.add(Dropout(0.2))\n",
    "model.add(BatchNormalization())\n",
    "model.add(Dense(9, activation = 'relu'))\n",
    "model.add(Dropout(0.2))\n",
    "model.add(BatchNormalization())\n",
    "model.add(Dense(1, activation = 'sigmoid'))"
   ]
  },
  {
   "cell_type": "code",
   "execution_count": 34,
   "metadata": {},
   "outputs": [
    {
     "name": "stdout",
     "output_type": "stream",
     "text": [
      "Model: \"sequential_1\"\n",
      "_________________________________________________________________\n",
      "Layer (type)                 Output Shape              Param #   \n",
      "=================================================================\n",
      "embedding_1 (Embedding)      (None, 40, 16)            8000      \n",
      "_________________________________________________________________\n",
      "lstm_1 (LSTM)                (None, 40, 16)            2112      \n",
      "_________________________________________________________________\n",
      "lstm_2 (LSTM)                (None, 16)                2112      \n",
      "_________________________________________________________________\n",
      "dense_1 (Dense)              (None, 18)                306       \n",
      "_________________________________________________________________\n",
      "dropout_1 (Dropout)          (None, 18)                0         \n",
      "_________________________________________________________________\n",
      "batch_normalization_1 (Batch (None, 18)                72        \n",
      "_________________________________________________________________\n",
      "dense_2 (Dense)              (None, 9)                 171       \n",
      "_________________________________________________________________\n",
      "dropout_2 (Dropout)          (None, 9)                 0         \n",
      "_________________________________________________________________\n",
      "batch_normalization_2 (Batch (None, 9)                 36        \n",
      "_________________________________________________________________\n",
      "dense_3 (Dense)              (None, 1)                 10        \n",
      "=================================================================\n",
      "Total params: 12,819\n",
      "Trainable params: 12,765\n",
      "Non-trainable params: 54\n",
      "_________________________________________________________________\n"
     ]
    }
   ],
   "source": [
    "model.compile(loss = 'binary_crossentropy', optimizer='adam', metrics=['accuracy'])\n",
    "model.summary()"
   ]
  },
  {
   "cell_type": "code",
   "execution_count": 35,
   "metadata": {},
   "outputs": [],
   "source": [
    "from keras.callbacks import EarlyStopping"
   ]
  },
  {
   "cell_type": "code",
   "execution_count": 36,
   "metadata": {},
   "outputs": [],
   "source": [
    "early_stop = EarlyStopping(min_delta= 0.001, patience= 10)"
   ]
  },
  {
   "cell_type": "code",
   "execution_count": 37,
   "metadata": {},
   "outputs": [
    {
     "name": "stdout",
     "output_type": "stream",
     "text": [
      "WARNING:tensorflow:From e:\\anaconda3\\lib\\site-packages\\keras\\backend\\tensorflow_backend.py:422: The name tf.global_variables is deprecated. Please use tf.compat.v1.global_variables instead.\n",
      "\n",
      "Train on 6090 samples, validate on 1523 samples\n",
      "Epoch 1/20\n",
      "6090/6090 [==============================] - 13s 2ms/step - loss: 0.6828 - accuracy: 0.5808 - val_loss: 0.6925 - val_accuracy: 0.5345\n",
      "Epoch 2/20\n",
      "6090/6090 [==============================] - 13s 2ms/step - loss: 0.5648 - accuracy: 0.7177 - val_loss: 0.6770 - val_accuracy: 0.5522\n",
      "Epoch 3/20\n",
      "6090/6090 [==============================] - 13s 2ms/step - loss: 0.5081 - accuracy: 0.7594 - val_loss: 0.5184 - val_accuracy: 0.7708\n",
      "Epoch 4/20\n",
      "6090/6090 [==============================] - 12s 2ms/step - loss: 0.4937 - accuracy: 0.7747 - val_loss: 0.5796 - val_accuracy: 0.7072\n",
      "Epoch 5/20\n",
      "6090/6090 [==============================] - 12s 2ms/step - loss: 0.4855 - accuracy: 0.7833 - val_loss: 0.6454 - val_accuracy: 0.6454\n",
      "Epoch 6/20\n",
      "6090/6090 [==============================] - 12s 2ms/step - loss: 0.4716 - accuracy: 0.7923 - val_loss: 0.5255 - val_accuracy: 0.7341u - ETA\n",
      "Epoch 7/20\n",
      "6090/6090 [==============================] - 13s 2ms/step - loss: 0.4729 - accuracy: 0.7992 - val_loss: 0.5260 - val_accuracy: 0.7275: 0.4643 - accu - ETA: 0s - loss: 0.4723 - accuracy - ETA: 0s - loss: 0.4724 - accu\n",
      "Epoch 8/20\n",
      "6090/6090 [==============================] - 13s 2ms/step - loss: 0.4658 - accuracy: 0.7979 - val_loss: 0.5410 - val_accuracy: 0.7223\n",
      "Epoch 9/20\n",
      "6090/6090 [==============================] - 13s 2ms/step - loss: 0.4587 - accuracy: 0.8007 - val_loss: 0.5463 - val_accuracy: 0.7223\n",
      "Epoch 10/20\n",
      "6090/6090 [==============================] - 12s 2ms/step - loss: 0.4507 - accuracy: 0.8031 - val_loss: 0.5165 - val_accuracy: 0.7420\n",
      "Epoch 11/20\n",
      "6090/6090 [==============================] - 12s 2ms/step - loss: 0.4525 - accuracy: 0.8085 - val_loss: 0.5424 - val_accuracy: 0.7262\n",
      "Epoch 12/20\n",
      "6090/6090 [==============================] - 13s 2ms/step - loss: 0.4435 - accuracy: 0.8113 - val_loss: 0.5798 - val_accuracy: 0.7098\n",
      "Epoch 13/20\n",
      "6090/6090 [==============================] - 12s 2ms/step - loss: 0.4499 - accuracy: 0.8051 - val_loss: 0.5681 - val_accuracy: 0.7242\n",
      "Epoch 14/20\n",
      "6090/6090 [==============================] - 13s 2ms/step - loss: 0.4505 - accuracy: 0.8067 - val_loss: 0.5335 - val_accuracy: 0.7531\n",
      "Epoch 15/20\n",
      "6090/6090 [==============================] - 12s 2ms/step - loss: 0.4474 - accuracy: 0.8064 - val_loss: 0.5783 - val_accuracy: 0.7052 accuracy: 0.80 - ETA: 2s - loss: 0.4435 -  - ETA: 1s - loss: 0.4455 - accu -\n",
      "Epoch 16/20\n",
      "6090/6090 [==============================] - 13s 2ms/step - loss: 0.4421 - accuracy: 0.8084 - val_loss: 0.5229 - val_accuracy: 0.7367\n",
      "Epoch 17/20\n",
      "6090/6090 [==============================] - 13s 2ms/step - loss: 0.4326 - accuracy: 0.8126 - val_loss: 0.6038 - val_accuracy: 0.65330.4289 - \n",
      "Epoch 18/20\n",
      "6090/6090 [==============================] - 13s 2ms/step - loss: 0.4365 - accuracy: 0.8105 - val_loss: 0.5409 - val_accuracy: 0.7308\n",
      "Epoch 19/20\n",
      "6090/6090 [==============================] - 12s 2ms/step - loss: 0.4321 - accuracy: 0.8163 - val_loss: 0.5665 - val_accuracy: 0.7163\n",
      "Epoch 20/20\n",
      "6090/6090 [==============================] - 12s 2ms/step - loss: 0.4215 - accuracy: 0.8215 - val_loss: 0.5391 - val_accuracy: 0.72624210 - accuracy: 0.\n"
     ]
    }
   ],
   "source": [
    "history = model.fit(train_padded, train_label, epochs=20, validation_data=(test_padded, test_label), callbacks=[early_stop], verbose=1)"
   ]
  },
  {
   "cell_type": "code",
   "execution_count": 44,
   "metadata": {},
   "outputs": [
    {
     "data": {
      "image/png": "[encoded data removed]",
      "text/plain": [
       "<Figure size 864x576 with 2 Axes>"
      ]
     },
     "metadata": {
      "needs_background": "light"
     },
     "output_type": "display_data"
    }
   ],
   "source": [
    "epochs = [i for i in range(20)]\n",
    "fig, ax = plt.subplots(1, 2)\n",
    "train_accuracy = history.history['accuracy']\n",
    "valid_accuracy = history.history['val_accuracy']\n",
    "train_loss = history.history['loss']\n",
    "valid_loss = history.history['val_loss']\n",
    "\n",
    "fig.set_size_inches(12, 8)\n",
    "\n",
    "ax[0].plot(epochs, train_accuracy, 'go-', label = 'train accuracy')\n",
    "ax[0].plot(epochs, valid_accuracy, 'ro-', label = 'valid accuracy')\n",
    "ax[0].set_title('train & valid  accuracy')\n",
    "ax[0].set_xlabel('epochs')\n",
    "ax[0].set_ylabel('accuracy')\n",
    "\n",
    "ax[1].plot(epochs, train_loss, 'go-', label = 'train loss')\n",
    "ax[1].plot(epochs, valid_loss, 'ro-', label = 'valid loss')\n",
    "ax[1].set_title('train & valid  loss')\n",
    "ax[1].set_xlabel('epochs')\n",
    "ax[1].set_ylabel('loss')\n",
    "plt.show()"
   ]
  },
  {
   "cell_type": "code",
   "execution_count": null,
   "metadata": {},
   "outputs": [],
   "source": []
  },
  {
   "cell_type": "code",
   "execution_count": null,
   "metadata": {},
   "outputs": [],
   "source": []
  },
  {
   "cell_type": "code",
   "execution_count": null,
   "metadata": {},
   "outputs": [],
   "source": []
  },
  {
   "cell_type": "code",
   "execution_count": null,
   "metadata": {},
   "outputs": [],
   "source": []
  }
 ],
 "metadata": {
  "kernelspec": {
   "display_name": "Python 3",
   "language": "python",
   "name": "python3"
  },
  "language_info": {
   "codemirror_mode": {
    "name": "ipython",
    "version": 3
   },
   "file_extension": ".py",
   "mimetype": "text/x-python",
   "name": "python",
   "nbconvert_exporter": "python",
   "pygments_lexer": "ipython3",
   "version": "3.7.6"
  }
 },
 "nbformat": 4,
 "nbformat_minor": 4
}
