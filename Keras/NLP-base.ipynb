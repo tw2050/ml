{
 "cells": [
  {
   "cell_type": "code",
   "execution_count": 2,
   "metadata": {},
   "outputs": [],
   "source": [
    "import numpy as np\n",
    "import pandas as pd\n",
    "import jieba.analyse"
   ]
  },
  {
   "cell_type": "code",
   "execution_count": 4,
   "metadata": {},
   "outputs": [],
   "source": [
    "sentence = '人工智能（Artificial Intelligence），英文缩写为AI。它是研究、开发用于模拟、延伸和扩展人的智能的理论、方法、技术\\\n",
    "            及应用系统的一门新的技术科学。人工智能是计算机科学的一个分支，它企图了解智能的实质，并生产出一种新的能以人类智能相似\\\n",
    "            的方式做出反应的智能机器，该领域的研究包括机器人、语言识别、图像识别、自然语言处理和专家系统等。人工智能从诞生以来，\\\n",
    "            理论和技术日益成熟，应用领域也不断扩大，可以设想，未来人工智能带来的科技产品，将会是人类智慧的“容器”。人工智能可以对\\\n",
    "            人的意识、思维的信息过程的模拟。人工智能不是人的智能，但能像人那样思考、也可能超过人的智能。人工智能是一门极富挑战性\\\n",
    "            的科学，从事这项工作的人必须懂得计算机知识，心理学和哲学。人工智能是包括十分广泛的科学，它由不同的领域组成，如机器学\\\n",
    "            习，计算机视觉等等，总的说来，人工智能研究的一个主要目标是使机器能够胜任一些通常需要人类智能才能完成的复杂工作。但不\\\n",
    "            同的时代、不同的人对这种“复杂工作”的理解是不同的。 [1]  2017年12月，人工智能入选“2017年度中国媒体十大流行语'"
   ]
  },
  {
   "cell_type": "code",
   "execution_count": 9,
   "metadata": {},
   "outputs": [
    {
     "data": {
      "text/plain": [
       "'人工智能 智能 2017 机器 人类 科学 模拟 一门 技术 计算机 不同 研究 工作 Artificial Intelligence AI 图像识别 12 复杂 流行语 领域 理论 自然语言 挑战性 专家系统 计算机科学 总的说来 应用领域 胜任 极富'"
      ]
     },
     "execution_count": 9,
     "metadata": {},
     "output_type": "execute_result"
    }
   ],
   "source": [
    "# td-idf  ieba.analyse.extract_tags\n",
    "# sentence:待提取的文本语料\n",
    "# topK:返回TF-IDF权重最大的关键词个数，默认是20\n",
    "# withWeight:是否需要返回关键词权重值，默认是False\n",
    "# withFlag: 是否返回关键词词性， 默认是False \n",
    "# allowPOS:仅包括指定词性的词，默认值是空，即不筛选\n",
    "\n",
    "keywords = ' '.join(jieba.analyse.extract_tags(sentence= sentence, topK= 30, withFlag = False, allowPOS = ()))\n",
    "keywords"
   ]
  },
  {
   "cell_type": "code",
   "execution_count": 18,
   "metadata": {},
   "outputs": [
    {
     "data": {
      "text/plain": [
       "[(pair('人工智能', 'n'), 0.9852110828635418),\n",
       " (pair('智能', 'n'), 0.5220948754853125),\n",
       " (pair('机器', 'n'), 0.20754879762125),\n",
       " (pair('人类', 'n'), 0.175958268428125),\n",
       " (pair('科学', 'n'), 0.1742985863871875),\n",
       " (pair('模拟', 'v'), 0.158873242306875),\n",
       " (pair('技术', 'n'), 0.1474830368303125),\n",
       " (pair('计算机', 'n'), 0.14176634231),\n",
       " (pair('图像识别', 'n'), 0.12452882815520833),\n",
       " (pair('流行语', 'n'), 0.113593181025),\n",
       " (pair('领域', 'n'), 0.11275615713354166),\n",
       " (pair('理论', 'n'), 0.109550811908125),\n",
       " (pair('挑战性', 'n'), 0.10837677177604166),\n",
       " (pair('计算机科学', 'n'), 0.10164107214145833),\n",
       " (pair('胜任', 'n'), 0.09703864763864584),\n",
       " (pair('能以', 'v'), 0.09641965367531251),\n",
       " (pair('缩写', 'v'), 0.0928150527625),\n",
       " (pair('容器', 'n'), 0.08847401958875001),\n",
       " (pair('机器人', 'n'), 0.08833481929895833),\n",
       " (pair('包括', 'v'), 0.08799274269229167),\n",
       " (pair('入选', 'v'), 0.08720050587979167),\n",
       " (pair('不断扩大', 'n'), 0.08584578579395834),\n",
       " (pair('视觉', 'n'), 0.08377858851552084),\n",
       " (pair('心理学', 'n'), 0.08079679185260417),\n",
       " (pair('识别', 'v'), 0.07965467542083333),\n",
       " (pair('设想', 'n'), 0.07797479888333333),\n",
       " (pair('思维', 'n'), 0.07633744905499999),\n",
       " (pair('思考', 'v'), 0.07570165852812501),\n",
       " (pair('实质', 'n'), 0.07440190778697917),\n",
       " (pair('诞生', 'v'), 0.07363254256677083)]"
      ]
     },
     "execution_count": 18,
     "metadata": {},
     "output_type": "execute_result"
    }
   ],
   "source": [
    "keywords = jieba.analyse.extract_tags(sentence= sentence, topK= 30, withWeight= True, withFlag= True, allowPOS = (['n', 'v'])) ## n 名词  v: 动词\n",
    "keywords"
   ]
  },
  {
   "cell_type": "code",
   "execution_count": 20,
   "metadata": {},
   "outputs": [
    {
     "data": {
      "text/plain": [
       "[pair('智能', 'n'),\n",
       " pair('人工智能', 'n'),\n",
       " pair('研究', 'vn'),\n",
       " pair('机器', 'n'),\n",
       " pair('人类', 'n'),\n",
       " pair('模拟', 'v'),\n",
       " pair('包括', 'v'),\n",
       " pair('工作', 'vn'),\n",
       " pair('领域', 'n'),\n",
       " pair('科学', 'n'),\n",
       " pair('技术', 'n'),\n",
       " pair('年度', 'n'),\n",
       " pair('需要', 'v'),\n",
       " pair('心理学', 'n'),\n",
       " pair('语言', 'n'),\n",
       " pair('计算机', 'n'),\n",
       " pair('理论', 'n'),\n",
       " pair('实质', 'n'),\n",
       " pair('机器人', 'n'),\n",
       " pair('才能', 'v'),\n",
       " pair('中国', 'ns'),\n",
       " pair('完成', 'v'),\n",
       " pair('信息', 'n'),\n",
       " pair('带来', 'v'),\n",
       " pair('懂得', 'v'),\n",
       " pair('系统', 'n'),\n",
       " pair('知识', 'v'),\n",
       " pair('应用', 'v'),\n",
       " pair('过程', 'n'),\n",
       " pair('企图', 'n')]"
      ]
     },
     "execution_count": 20,
     "metadata": {},
     "output_type": "execute_result"
    }
   ],
   "source": [
    "# TextRank  ieba.analyse.textrank\n",
    "# sentence:待提取的文本语料\n",
    "# topK:返回TF-IDF权重最大的关键词个数，默认是20\n",
    "# withWeight:是否需要返回关键词权重值，默认是False\n",
    "# withFlag: 是否返回关键词词性， 默认是False \n",
    "# allowPOS:仅包括指定词性的词，默认值是空，即不筛选\n",
    "\n",
    "keywords = jieba.analyse.textrank(sentence, topK=30, withFlag=True, allowPOS= ['ns', 'n', 'v', 'vn'])\n",
    "keywords"
   ]
  },
  {
   "cell_type": "markdown",
   "metadata": {},
   "source": [
    "### LDA模型"
   ]
  },
  {
   "cell_type": "code",
   "execution_count": 21,
   "metadata": {},
   "outputs": [],
   "source": [
    "#(1) 文件加载\n",
    "#(2) jieba分词\n",
    "#(3) 去停用词\n",
    "#(4) 构建词袋模型\n",
    "#(5) LDA模型训练\n",
    "#(6) 结果可视化"
   ]
  },
  {
   "cell_type": "code",
   "execution_count": null,
   "metadata": {},
   "outputs": [],
   "source": [
    "import jieba\n",
    "import jieba.analyse as analyse"
   ]
  },
  {
   "cell_type": "code",
   "execution_count": null,
   "metadata": {},
   "outputs": [],
   "source": []
  },
  {
   "cell_type": "code",
   "execution_count": null,
   "metadata": {},
   "outputs": [],
   "source": []
  }
 ],
 "metadata": {
  "kernelspec": {
   "display_name": "Python 3",
   "language": "python",
   "name": "python3"
  },
  "language_info": {
   "codemirror_mode": {
    "name": "ipython",
    "version": 3
   },
   "file_extension": ".py",
   "mimetype": "text/x-python",
   "name": "python",
   "nbconvert_exporter": "python",
   "pygments_lexer": "ipython3",
   "version": "3.7.6"
  }
 },
 "nbformat": 4,
 "nbformat_minor": 4
}
