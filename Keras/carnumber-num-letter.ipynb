{
 "cells": [
  {
   "cell_type": "code",
   "execution_count": 1,
   "metadata": {},
   "outputs": [],
   "source": [
    "import numpy as np\n",
    "import pandas as pd\n",
    "import matplotlib.pyplot as plt\n",
    "import os\n",
    "import cv2"
   ]
  },
  {
   "cell_type": "code",
   "execution_count": 2,
   "metadata": {},
   "outputs": [],
   "source": [
    "train_num_path = 'F:/ml-data/car-num/tf_car_license_dataset/train_images/training-set/'\n",
    "valid_num_path = 'F:/ml-data/car-num/tf_car_license_dataset/train_images/validation-set/'"
   ]
  },
  {
   "cell_type": "code",
   "execution_count": 3,
   "metadata": {},
   "outputs": [],
   "source": [
    "def get_ch(file_name):\n",
    "    ret = ''\n",
    "    for ch in file_name:\n",
    "        if u'\\u4e00' <= ch <= u'\\u9fff': \n",
    "            ret += ch\n",
    "    return ret"
   ]
  },
  {
   "cell_type": "code",
   "execution_count": 4,
   "metadata": {},
   "outputs": [],
   "source": [
    "def repeat_ch(file_name, ch):\n",
    "    time_str = 'bk'\n",
    "    file_name = file_name.replace(ch, time_str)\n",
    "    return file_name\n",
    "    "
   ]
  },
  {
   "cell_type": "code",
   "execution_count": 5,
   "metadata": {},
   "outputs": [],
   "source": [
    "### 去除文件名中的中文--替换为bk  （存在中文字符cv2打不开）\n",
    "\n",
    "def filename_not_ch(file_path):\n",
    "    for root, dirs, files in os.walk(file_path):\n",
    "         for d in dirs:\n",
    "            data_dir = root + d\n",
    "            for root1, dirs1, file1 in os.walk(data_dir):\n",
    "                for f in file1:\n",
    "                    data_img_path = data_dir + '/' + f\n",
    "                    ch = get_ch(f)\n",
    "                    if ch:\n",
    "                        new_name = repeat_ch(f, ch)\n",
    "                        new_path = data_dir + '/' + new_name\n",
    "                        os.rename(data_img_path, new_path)"
   ]
  },
  {
   "cell_type": "code",
   "execution_count": 6,
   "metadata": {},
   "outputs": [],
   "source": [
    "#filename_not_ch(train_num_path)\n",
    "#filename_not_ch(valid_num_path)"
   ]
  },
  {
   "cell_type": "code",
   "execution_count": null,
   "metadata": {},
   "outputs": [],
   "source": []
  },
  {
   "cell_type": "code",
   "execution_count": 7,
   "metadata": {},
   "outputs": [],
   "source": [
    "def img2arr(file_path):\n",
    "    img = cv2.imread(file_path, 2)\n",
    "    img_flatten = np.array(img).flatten()\n",
    "    return img_flatten"
   ]
  },
  {
   "cell_type": "code",
   "execution_count": 8,
   "metadata": {},
   "outputs": [],
   "source": [
    "def get_dataset(dataset_path):\n",
    "    data = []\n",
    "    target = []\n",
    "\n",
    "    for root, dirs, files in os.walk(dataset_path):\n",
    "        for d in dirs:\n",
    "            if (d.isdigit()):\n",
    "                label = int(d)\n",
    "                data_dir = root + d\n",
    "                for root1, dirs1, file1 in os.walk(data_dir):\n",
    "                    for f in file1:\n",
    "                        data_img_path = data_dir + '/' + f\n",
    "                        data_img_flatten = img2arr(data_img_path)\n",
    "\n",
    "                        data.append(data_img_flatten)\n",
    "                        target.append(label)\n",
    "    data1 = np.array(data)\n",
    "    target = np.array(target)\n",
    "    return data1, target"
   ]
  },
  {
   "cell_type": "code",
   "execution_count": 9,
   "metadata": {},
   "outputs": [],
   "source": [
    "train_data, train_target = get_dataset(train_num_path)"
   ]
  },
  {
   "cell_type": "code",
   "execution_count": 10,
   "metadata": {},
   "outputs": [
    {
     "data": {
      "text/plain": [
       "(4285, 1280)"
      ]
     },
     "execution_count": 10,
     "metadata": {},
     "output_type": "execute_result"
    }
   ],
   "source": [
    "train_data.shape"
   ]
  },
  {
   "cell_type": "code",
   "execution_count": 11,
   "metadata": {},
   "outputs": [
    {
     "data": {
      "text/plain": [
       "(4285,)"
      ]
     },
     "execution_count": 11,
     "metadata": {},
     "output_type": "execute_result"
    }
   ],
   "source": [
    "train_target.shape"
   ]
  },
  {
   "cell_type": "code",
   "execution_count": 12,
   "metadata": {},
   "outputs": [],
   "source": [
    "valid_data, valid_target = get_dataset(valid_num_path)"
   ]
  },
  {
   "cell_type": "code",
   "execution_count": 13,
   "metadata": {},
   "outputs": [
    {
     "data": {
      "text/plain": [
       "(200, 1280)"
      ]
     },
     "execution_count": 13,
     "metadata": {},
     "output_type": "execute_result"
    }
   ],
   "source": [
    "valid_data.shape"
   ]
  },
  {
   "cell_type": "code",
   "execution_count": 14,
   "metadata": {},
   "outputs": [
    {
     "data": {
      "text/plain": [
       "(200,)"
      ]
     },
     "execution_count": 14,
     "metadata": {},
     "output_type": "execute_result"
    }
   ],
   "source": [
    "valid_target.shape"
   ]
  },
  {
   "cell_type": "code",
   "execution_count": 15,
   "metadata": {},
   "outputs": [
    {
     "name": "stderr",
     "output_type": "stream",
     "text": [
      "Using TensorFlow backend.\n",
      "d:\\anaconda3\\lib\\site-packages\\tensorflow\\python\\framework\\dtypes.py:516: FutureWarning: Passing (type, 1) or '1type' as a synonym of type is deprecated; in a future version of numpy, it will be understood as (type, (1,)) / '(1,)type'.\n",
      "  _np_qint8 = np.dtype([(\"qint8\", np.int8, 1)])\n",
      "d:\\anaconda3\\lib\\site-packages\\tensorflow\\python\\framework\\dtypes.py:517: FutureWarning: Passing (type, 1) or '1type' as a synonym of type is deprecated; in a future version of numpy, it will be understood as (type, (1,)) / '(1,)type'.\n",
      "  _np_quint8 = np.dtype([(\"quint8\", np.uint8, 1)])\n",
      "d:\\anaconda3\\lib\\site-packages\\tensorflow\\python\\framework\\dtypes.py:518: FutureWarning: Passing (type, 1) or '1type' as a synonym of type is deprecated; in a future version of numpy, it will be understood as (type, (1,)) / '(1,)type'.\n",
      "  _np_qint16 = np.dtype([(\"qint16\", np.int16, 1)])\n",
      "d:\\anaconda3\\lib\\site-packages\\tensorflow\\python\\framework\\dtypes.py:519: FutureWarning: Passing (type, 1) or '1type' as a synonym of type is deprecated; in a future version of numpy, it will be understood as (type, (1,)) / '(1,)type'.\n",
      "  _np_quint16 = np.dtype([(\"quint16\", np.uint16, 1)])\n",
      "d:\\anaconda3\\lib\\site-packages\\tensorflow\\python\\framework\\dtypes.py:520: FutureWarning: Passing (type, 1) or '1type' as a synonym of type is deprecated; in a future version of numpy, it will be understood as (type, (1,)) / '(1,)type'.\n",
      "  _np_qint32 = np.dtype([(\"qint32\", np.int32, 1)])\n",
      "d:\\anaconda3\\lib\\site-packages\\tensorflow\\python\\framework\\dtypes.py:525: FutureWarning: Passing (type, 1) or '1type' as a synonym of type is deprecated; in a future version of numpy, it will be understood as (type, (1,)) / '(1,)type'.\n",
      "  np_resource = np.dtype([(\"resource\", np.ubyte, 1)])\n",
      "d:\\anaconda3\\lib\\site-packages\\tensorboard\\compat\\tensorflow_stub\\dtypes.py:541: FutureWarning: Passing (type, 1) or '1type' as a synonym of type is deprecated; in a future version of numpy, it will be understood as (type, (1,)) / '(1,)type'.\n",
      "  _np_qint8 = np.dtype([(\"qint8\", np.int8, 1)])\n",
      "d:\\anaconda3\\lib\\site-packages\\tensorboard\\compat\\tensorflow_stub\\dtypes.py:542: FutureWarning: Passing (type, 1) or '1type' as a synonym of type is deprecated; in a future version of numpy, it will be understood as (type, (1,)) / '(1,)type'.\n",
      "  _np_quint8 = np.dtype([(\"quint8\", np.uint8, 1)])\n",
      "d:\\anaconda3\\lib\\site-packages\\tensorboard\\compat\\tensorflow_stub\\dtypes.py:543: FutureWarning: Passing (type, 1) or '1type' as a synonym of type is deprecated; in a future version of numpy, it will be understood as (type, (1,)) / '(1,)type'.\n",
      "  _np_qint16 = np.dtype([(\"qint16\", np.int16, 1)])\n",
      "d:\\anaconda3\\lib\\site-packages\\tensorboard\\compat\\tensorflow_stub\\dtypes.py:544: FutureWarning: Passing (type, 1) or '1type' as a synonym of type is deprecated; in a future version of numpy, it will be understood as (type, (1,)) / '(1,)type'.\n",
      "  _np_quint16 = np.dtype([(\"quint16\", np.uint16, 1)])\n",
      "d:\\anaconda3\\lib\\site-packages\\tensorboard\\compat\\tensorflow_stub\\dtypes.py:545: FutureWarning: Passing (type, 1) or '1type' as a synonym of type is deprecated; in a future version of numpy, it will be understood as (type, (1,)) / '(1,)type'.\n",
      "  _np_qint32 = np.dtype([(\"qint32\", np.int32, 1)])\n",
      "d:\\anaconda3\\lib\\site-packages\\tensorboard\\compat\\tensorflow_stub\\dtypes.py:550: FutureWarning: Passing (type, 1) or '1type' as a synonym of type is deprecated; in a future version of numpy, it will be understood as (type, (1,)) / '(1,)type'.\n",
      "  np_resource = np.dtype([(\"resource\", np.ubyte, 1)])\n"
     ]
    }
   ],
   "source": [
    "import keras\n",
    "from sklearn.model_selection import train_test_split"
   ]
  },
  {
   "cell_type": "code",
   "execution_count": 16,
   "metadata": {},
   "outputs": [],
   "source": [
    "train_x, test_x, train_y, test_y = train_test_split(train_data, train_target, test_size = 0.2, random_state = 1)"
   ]
  },
  {
   "cell_type": "code",
   "execution_count": 17,
   "metadata": {},
   "outputs": [
    {
     "data": {
      "text/plain": [
       "(3428, 1280)"
      ]
     },
     "execution_count": 17,
     "metadata": {},
     "output_type": "execute_result"
    }
   ],
   "source": [
    "train_x.shape"
   ]
  },
  {
   "cell_type": "code",
   "execution_count": 18,
   "metadata": {},
   "outputs": [
    {
     "data": {
      "text/plain": [
       "(857, 1280)"
      ]
     },
     "execution_count": 18,
     "metadata": {},
     "output_type": "execute_result"
    }
   ],
   "source": [
    "test_x.shape"
   ]
  },
  {
   "cell_type": "code",
   "execution_count": 19,
   "metadata": {},
   "outputs": [],
   "source": [
    "IMG_HEIGHT = 40\n",
    "IMG_WIDTH = 32\n",
    "train_x = train_x.reshape(train_x.shape[0], IMG_HEIGHT, IMG_WIDTH, 1) / 255\n",
    "test_x = test_x.reshape(test_x.shape[0], IMG_HEIGHT, IMG_WIDTH, 1) /255\n",
    "train_y = keras.utils.to_categorical(train_y, num_classes = 34)\n",
    "test_y = keras.utils.to_categorical(test_y, num_classes=34)\n"
   ]
  },
  {
   "cell_type": "code",
   "execution_count": 20,
   "metadata": {},
   "outputs": [
    {
     "data": {
      "text/plain": [
       "(3428, 40, 32, 1)"
      ]
     },
     "execution_count": 20,
     "metadata": {},
     "output_type": "execute_result"
    }
   ],
   "source": [
    "train_x.shape\n",
    "\n",
    "\n",
    "### 构建网络"
   ]
  },
  {
   "cell_type": "code",
   "execution_count": 21,
   "metadata": {},
   "outputs": [
    {
     "data": {
      "text/plain": [
       "(857, 40, 32, 1)"
      ]
     },
     "execution_count": 21,
     "metadata": {},
     "output_type": "execute_result"
    }
   ],
   "source": [
    "test_x.shape"
   ]
  },
  {
   "cell_type": "code",
   "execution_count": 22,
   "metadata": {},
   "outputs": [
    {
     "data": {
      "text/plain": [
       "(3428, 34)"
      ]
     },
     "execution_count": 22,
     "metadata": {},
     "output_type": "execute_result"
    }
   ],
   "source": [
    "train_y.shape"
   ]
  },
  {
   "cell_type": "code",
   "execution_count": 23,
   "metadata": {},
   "outputs": [
    {
     "data": {
      "text/plain": [
       "(857, 34)"
      ]
     },
     "execution_count": 23,
     "metadata": {},
     "output_type": "execute_result"
    }
   ],
   "source": [
    "test_y.shape"
   ]
  },
  {
   "cell_type": "code",
   "execution_count": null,
   "metadata": {},
   "outputs": [],
   "source": []
  },
  {
   "cell_type": "code",
   "execution_count": 24,
   "metadata": {},
   "outputs": [],
   "source": [
    "from keras.models import Sequential\n",
    "from keras.layers import Dense, Conv2D, MaxPool2D, MaxPooling2D, Flatten, Dropout, BatchNormalization, Activation\n",
    "from sklearn.model_selection import train_test_split\n",
    "from sklearn.metrics import f1_score, classification_report, confusion_matrix\n",
    "from keras.optimizers import Adam\n",
    "from keras.wrappers.scikit_learn import KerasClassifier"
   ]
  },
  {
   "cell_type": "code",
   "execution_count": 76,
   "metadata": {},
   "outputs": [
    {
     "name": "stdout",
     "output_type": "stream",
     "text": [
      "Model: \"sequential_5\"\n",
      "_________________________________________________________________\n",
      "Layer (type)                 Output Shape              Param #   \n",
      "=================================================================\n",
      "conv2d_8 (Conv2D)            (None, 40, 32, 32)        320       \n",
      "_________________________________________________________________\n",
      "conv2d_9 (Conv2D)            (None, 40, 32, 64)        8256      \n",
      "_________________________________________________________________\n",
      "max_pooling2d_5 (MaxPooling2 (None, 20, 16, 64)        0         \n",
      "_________________________________________________________________\n",
      "flatten_5 (Flatten)          (None, 20480)             0         \n",
      "_________________________________________________________________\n",
      "dense_13 (Dense)             (None, 160)               3276960   \n",
      "_________________________________________________________________\n",
      "activation_13 (Activation)   (None, 160)               0         \n",
      "_________________________________________________________________\n",
      "dropout_1 (Dropout)          (None, 160)               0         \n",
      "_________________________________________________________________\n",
      "dense_14 (Dense)             (None, 80)                12880     \n",
      "_________________________________________________________________\n",
      "activation_14 (Activation)   (None, 80)                0         \n",
      "_________________________________________________________________\n",
      "dropout_2 (Dropout)          (None, 80)                0         \n",
      "_________________________________________________________________\n",
      "dense_15 (Dense)             (None, 34)                2754      \n",
      "_________________________________________________________________\n",
      "activation_15 (Activation)   (None, 34)                0         \n",
      "=================================================================\n",
      "Total params: 3,301,170\n",
      "Trainable params: 3,301,170\n",
      "Non-trainable params: 0\n",
      "_________________________________________________________________\n"
     ]
    }
   ],
   "source": [
    "model = Sequential()\n",
    "model.add(Conv2D(32, (3,3), strides = 1, padding = 'same', activation = 'relu', input_shape = (IMG_HEIGHT, IMG_WIDTH, 1)))\n",
    "model.add(Conv2D(64, (2,2), strides = 1, padding = 'same', activation = 'relu'))\n",
    "model.add(MaxPooling2D(pool_size = (2, 2)))\n",
    "model.add(Flatten())\n",
    "model.add(Dense(160))\n",
    "model.add(Activation('relu'))\n",
    "model.add(Dropout(0.4))\n",
    "model.add(Dense(80))\n",
    "model.add(Activation('relu'))\n",
    "model.add(Dropout(0.4))\n",
    "model.add(Dense(34))\n",
    "model.add(Activation('softmax'))\n",
    "model.summary()"
   ]
  },
  {
   "cell_type": "code",
   "execution_count": 77,
   "metadata": {},
   "outputs": [
    {
     "name": "stdout",
     "output_type": "stream",
     "text": [
      "Train on 3428 samples, validate on 857 samples\n",
      "Epoch 1/20\n",
      "3428/3428 [==============================] - 7s 2ms/step - loss: 2.4998 - accuracy: 0.3183 - val_loss: 0.9859 - val_accuracy: 0.7888\n",
      "Epoch 2/20\n",
      "3428/3428 [==============================] - 7s 2ms/step - loss: 1.1942 - accuracy: 0.6345 - val_loss: 0.2350 - val_accuracy: 0.9498\n",
      "Epoch 3/20\n",
      "3428/3428 [==============================] - 7s 2ms/step - loss: 0.6219 - accuracy: 0.8043 - val_loss: 0.0958 - val_accuracy: 0.9872\n",
      "Epoch 4/20\n",
      "3428/3428 [==============================] - 7s 2ms/step - loss: 0.4257 - accuracy: 0.8638 - val_loss: 0.0482 - val_accuracy: 0.9930\n",
      "Epoch 5/20\n",
      "3428/3428 [==============================] - 7s 2ms/step - loss: 0.2964 - accuracy: 0.9011 - val_loss: 0.0265 - val_accuracy: 0.9942\n",
      "Epoch 6/20\n",
      "3428/3428 [==============================] - 7s 2ms/step - loss: 0.2252 - accuracy: 0.9256 - val_loss: 0.0231 - val_accuracy: 0.9942\n",
      "Epoch 7/20\n",
      "3428/3428 [==============================] - 7s 2ms/step - loss: 0.1994 - accuracy: 0.9376 - val_loss: 0.0177 - val_accuracy: 0.9965\n",
      "Epoch 8/20\n",
      "3428/3428 [==============================] - 7s 2ms/step - loss: 0.1608 - accuracy: 0.9446 - val_loss: 0.0153 - val_accuracy: 0.9965\n",
      "Epoch 9/20\n",
      "3428/3428 [==============================] - 7s 2ms/step - loss: 0.1412 - accuracy: 0.9560 - val_loss: 0.0089 - val_accuracy: 0.9977.1\n",
      "Epoch 10/20\n",
      "3428/3428 [==============================] - 7s 2ms/step - loss: 0.1341 - accuracy: 0.9548 - val_loss: 0.0114 - val_accuracy: 0.9953\n",
      "Epoch 11/20\n",
      "3428/3428 [==============================] - 7s 2ms/step - loss: 0.0994 - accuracy: 0.9691 - val_loss: 0.0130 - val_accuracy: 0.9953\n",
      "Epoch 12/20\n",
      "3428/3428 [==============================] - 7s 2ms/step - loss: 0.1107 - accuracy: 0.9650 - val_loss: 0.0096 - val_accuracy: 0.9965\n",
      "Epoch 13/20\n",
      "3428/3428 [==============================] - 7s 2ms/step - loss: 0.0853 - accuracy: 0.9711 - val_loss: 0.0075 - val_accuracy: 0.9988\n",
      "Epoch 14/20\n",
      "3428/3428 [==============================] - 7s 2ms/step - loss: 0.0776 - accuracy: 0.9737 - val_loss: 0.0043 - val_accuracy: 0.9988\n",
      "Epoch 15/20\n",
      "3428/3428 [==============================] - 7s 2ms/step - loss: 0.0786 - accuracy: 0.9740 - val_loss: 0.0075 - val_accuracy: 0.9965\n",
      "Epoch 16/20\n",
      "3428/3428 [==============================] - 7s 2ms/step - loss: 0.0822 - accuracy: 0.9740 - val_loss: 0.0053 - val_accuracy: 0.9977\n",
      "Epoch 17/20\n",
      "3428/3428 [==============================] - 7s 2ms/step - loss: 0.0754 - accuracy: 0.9752 - val_loss: 0.0047 - val_accuracy: 0.9977\n",
      "Epoch 18/20\n",
      "3428/3428 [==============================] - 7s 2ms/step - loss: 0.0678 - accuracy: 0.9770 - val_loss: 0.0047 - val_accuracy: 0.9977\n",
      "Epoch 19/20\n",
      "3428/3428 [==============================] - 7s 2ms/step - loss: 0.0624 - accuracy: 0.9799 - val_loss: 0.0047 - val_accuracy: 0.9977\n",
      "Epoch 20/20\n",
      "3428/3428 [==============================] - 7s 2ms/step - loss: 0.0580 - accuracy: 0.9819 - val_loss: 0.0058 - val_accuracy: 0.9977\n"
     ]
    }
   ],
   "source": [
    "model.compile(loss='categorical_crossentropy', optimizer='adam', metrics=['accuracy'])\n",
    "history = model.fit(train_x, train_y, batch_size=100, epochs=20, validation_data=(test_x, test_y), workers=-1, verbose=1)"
   ]
  },
  {
   "cell_type": "code",
   "execution_count": 78,
   "metadata": {},
   "outputs": [],
   "source": [
    "valid_x = valid_data.reshape(valid_data.shape[0], IMG_HEIGHT, IMG_WIDTH, 1)/255\n",
    "valid_y = keras.utils.to_categorical(valid_target, num_classes=34)"
   ]
  },
  {
   "cell_type": "code",
   "execution_count": 79,
   "metadata": {},
   "outputs": [
    {
     "name": "stdout",
     "output_type": "stream",
     "text": [
      "200/200 [==============================] - 0s 595us/step\n"
     ]
    }
   ],
   "source": [
    "score = model.evaluate(valid_x, valid_y)"
   ]
  },
  {
   "cell_type": "code",
   "execution_count": 80,
   "metadata": {},
   "outputs": [
    {
     "data": {
      "text/plain": [
       "[0.019368500971722824, 0.9950000047683716]"
      ]
     },
     "execution_count": 80,
     "metadata": {},
     "output_type": "execute_result"
    }
   ],
   "source": [
    "score"
   ]
  },
  {
   "cell_type": "code",
   "execution_count": 84,
   "metadata": {},
   "outputs": [],
   "source": [
    "predict_y = model.predict_classes(valid_x)"
   ]
  },
  {
   "cell_type": "code",
   "execution_count": 86,
   "metadata": {},
   "outputs": [],
   "source": [
    "error_idx = []\n",
    "error_prdict = []\n",
    "error_true = []\n",
    "\n",
    "for i in range(valid_x.shape[0]):\n",
    "    if valid_target[i] != predict_y[i]:\n",
    "        error_idx.append(i)\n",
    "        error_prdict.append(predict_y[i])\n",
    "        error_true.append(valid_target[i])"
   ]
  },
  {
   "cell_type": "code",
   "execution_count": 87,
   "metadata": {},
   "outputs": [
    {
     "data": {
      "text/plain": [
       "[13]"
      ]
     },
     "execution_count": 87,
     "metadata": {},
     "output_type": "execute_result"
    }
   ],
   "source": [
    "error_prdict"
   ]
  },
  {
   "cell_type": "code",
   "execution_count": 88,
   "metadata": {},
   "outputs": [
    {
     "data": {
      "text/plain": [
       "[0]"
      ]
     },
     "execution_count": 88,
     "metadata": {},
     "output_type": "execute_result"
    }
   ],
   "source": [
    "error_true"
   ]
  },
  {
   "cell_type": "code",
   "execution_count": 38,
   "metadata": {
    "scrolled": true
   },
   "outputs": [
    {
     "data": {
      "text/plain": [
       "{0: '0',\n",
       " 1: '1',\n",
       " 2: '2',\n",
       " 3: '3',\n",
       " 4: '4',\n",
       " 5: '5',\n",
       " 6: '6',\n",
       " 7: '7',\n",
       " 8: '8',\n",
       " 9: '9',\n",
       " 10: 'A',\n",
       " 11: 'B',\n",
       " 12: 'C',\n",
       " 13: 'D',\n",
       " 14: 'E',\n",
       " 15: 'F',\n",
       " 16: 'G',\n",
       " 17: 'H',\n",
       " 18: 'J',\n",
       " 19: 'K',\n",
       " 20: 'L',\n",
       " 21: 'M',\n",
       " 22: 'N',\n",
       " 23: 'P',\n",
       " 24: 'Q',\n",
       " 25: 'R',\n",
       " 26: 'S',\n",
       " 27: 'T',\n",
       " 28: 'U',\n",
       " 29: 'V',\n",
       " 30: 'W',\n",
       " 31: 'X',\n",
       " 32: 'Y',\n",
       " 33: 'Z'}"
      ]
     },
     "execution_count": 38,
     "metadata": {},
     "output_type": "execute_result"
    }
   ],
   "source": [
    "num_dict = {\n",
    "    0:'0',\n",
    "    1:'1',\n",
    "    2:'2',\n",
    "    3:'3',\n",
    "    4:'4',\n",
    "    5:'5',\n",
    "    6:'6',\n",
    "    7:'7',\n",
    "    8:'8',\n",
    "    9:'9',\n",
    "    10:'A',\n",
    "    11:'B',\n",
    "    12:'C',\n",
    "    13:'D',\n",
    "    14:'E',\n",
    "    15:'F',\n",
    "    16:'G',\n",
    "    17:'H',\n",
    "    18:'J',\n",
    "    19:'K',\n",
    "    20:'L',\n",
    "    21:'M',\n",
    "    22:'N',\n",
    "    23:'P',\n",
    "    24:'Q',\n",
    "    25:'R',\n",
    "    26:'S',\n",
    "    27:'T',\n",
    "    28:'U',\n",
    "    29:'V',\n",
    "    30:'W',\n",
    "    31:'X',\n",
    "    32:'Y',\n",
    "    33:'Z'\n",
    "}\n",
    "num_dict"
   ]
  },
  {
   "cell_type": "code",
   "execution_count": 74,
   "metadata": {},
   "outputs": [],
   "source": [
    "def plot_error_num(err_data, err_predict, err_true):\n",
    "    plt.figure(figsize=(15,15))\n",
    "    for i in range(len(err_data)):\n",
    "        plt.subplot(1, len(err_data), i +1)\n",
    "        plt.xticks([])\n",
    "        plt.yticks([])\n",
    "        plt.imshow(err_data[i].reshape(IMG_HEIGHT,IMG_WIDTH), cmap=\"binary\",  interpolation = 'nearest')\n",
    "        plt.title('true: {}\\npredict: {}'.format(num_dict[err_true[i]], num_dict[err_predict[i]]))\n",
    "   "
   ]
  },
  {
   "cell_type": "code",
   "execution_count": 89,
   "metadata": {},
   "outputs": [
    {
     "data": {
      "image/png": "[encoded data removed]",
      "text/plain": [
       "<Figure size 1080x1080 with 1 Axes>"
      ]
     },
     "metadata": {},
     "output_type": "display_data"
    }
   ],
   "source": [
    "err_data = valid_data[error_idx]\n",
    "plot_error_num(err_data, error_prdict, error_true)"
   ]
  },
  {
   "cell_type": "code",
   "execution_count": null,
   "metadata": {},
   "outputs": [],
   "source": []
  },
  {
   "cell_type": "code",
   "execution_count": null,
   "metadata": {},
   "outputs": [],
   "source": []
  }
 ],
 "metadata": {
  "kernelspec": {
   "display_name": "Python 3",
   "language": "python",
   "name": "python3"
  },
  "language_info": {
   "codemirror_mode": {
    "name": "ipython",
    "version": 3
   },
   "file_extension": ".py",
   "mimetype": "text/x-python",
   "name": "python",
   "nbconvert_exporter": "python",
   "pygments_lexer": "ipython3",
   "version": "3.7.6"
  }
 },
 "nbformat": 4,
 "nbformat_minor": 4
}
