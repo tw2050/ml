{
 "cells": [
  {
   "cell_type": "markdown",
   "metadata": {},
   "source": [
    "## 调试梯度下降法"
   ]
  },
  {
   "cell_type": "markdown",
   "metadata": {},
   "source": [
    "### 导数的微积分定义 （当epsilon 趋向于0时）\n",
    "![jupyter](./微积分求导.png)"
   ]
  },
  {
   "cell_type": "markdown",
   "metadata": {},
   "source": [
    "### 多元向量的下的导数定义（当epsilon 趋向于0时）\n",
    "![jupyter](./多元向量下的导数定义.png)"
   ]
  },
  {
   "cell_type": "code",
   "execution_count": 2,
   "metadata": {},
   "outputs": [],
   "source": [
    "import numpy as np\n",
    "import matplotlib.pyplot as plt"
   ]
  },
  {
   "cell_type": "code",
   "execution_count": 5,
   "metadata": {},
   "outputs": [],
   "source": [
    "x = np.random.random(size = (1000, 10))\n",
    "true_theta = np.arange(1, 12, dtype = float)\n",
    "\n",
    "x_b = np.hstack([np.ones(shape = (len(x), 1)), x])\n",
    "y = x_b.dot(true_theta) + np.random.normal(0, 2, size = 1000)\n"
   ]
  },
  {
   "cell_type": "code",
   "execution_count": 6,
   "metadata": {},
   "outputs": [
    {
     "data": {
      "text/plain": [
       "(1000, 11)"
      ]
     },
     "execution_count": 6,
     "metadata": {},
     "output_type": "execute_result"
    }
   ],
   "source": [
    "x_b.shape"
   ]
  },
  {
   "cell_type": "code",
   "execution_count": 7,
   "metadata": {},
   "outputs": [
    {
     "data": {
      "text/plain": [
       "(1000,)"
      ]
     },
     "execution_count": 7,
     "metadata": {},
     "output_type": "execute_result"
    }
   ],
   "source": [
    "y.shape"
   ]
  },
  {
   "cell_type": "code",
   "execution_count": 8,
   "metadata": {},
   "outputs": [],
   "source": [
    "def f(theta, x_b, y):\n",
    "    try:\n",
    "        return np.sum((y - x_b.dot(theta))**2)/len(x_b)\n",
    "    except:\n",
    "        return float('inf')"
   ]
  },
  {
   "cell_type": "code",
   "execution_count": 9,
   "metadata": {},
   "outputs": [],
   "source": [
    "def df_math(theta, x_b, y):\n",
    "    return x_b.T.dot(x_b.dot(theta) - y) * 2/len(x_b)"
   ]
  },
  {
   "cell_type": "code",
   "execution_count": 15,
   "metadata": {},
   "outputs": [],
   "source": [
    "def df_debug(theta, x_b, y, epsilon = 0.01):\n",
    "    ret = np.empty(len(theta))\n",
    "    \n",
    "    for i in range(len(theta)):\n",
    "        theta_0 = theta.copy()\n",
    "        theta_0[i] -= epsilon\n",
    "        theta_1 = theta.copy()\n",
    "        theta_1[i] += epsilon\n",
    "        \n",
    "        ret[i] = (f(theta_1, x_b, y) - f(theta_0, x_b, y))/(2*epsilon)\n",
    "    return ret\n",
    "    "
   ]
  },
  {
   "cell_type": "code",
   "execution_count": 12,
   "metadata": {},
   "outputs": [],
   "source": [
    "def gradient_descent(df, x_b, y, initial_theta, eta, max_iter = 1e4, epsilon=1e-8):\n",
    "    theta = initial_theta\n",
    "    cur_iter = 0\n",
    "    while cur_iter < max_iter:\n",
    "        gradient = df(theta, x_b, y)\n",
    "        last_theta = theta\n",
    "        theta += gradient*eta \n",
    "        if (np.abs(f(theta, x_b, y) - f(last_theta, x_b, y)) < epsilon):\n",
    "            break\n",
    "          \n",
    "        cur_iter += 1\n",
    "    return theta\n"
   ]
  },
  {
   "cell_type": "code",
   "execution_count": 13,
   "metadata": {},
   "outputs": [
    {
     "name": "stdout",
     "output_type": "stream",
     "text": [
      "Wall time: 2.99 ms\n"
     ]
    },
    {
     "data": {
      "text/plain": [
       "array([ 0.9997186 ,  1.99915665,  2.99993369,  3.99955325,  4.99977903,\n",
       "        6.00000328,  7.00019002,  8.00056665,  9.00039812,  9.99977497,\n",
       "       10.99983213])"
      ]
     },
     "execution_count": 13,
     "metadata": {},
     "output_type": "execute_result"
    }
   ],
   "source": [
    "init_theta = np.empty(x_b.shape[1]) \n",
    "eta = 0.01\n",
    "%time theta_math = gradient_descent(df_math, x_b, y, init_theta, eta)\n",
    "theta_math"
   ]
  },
  {
   "cell_type": "code",
   "execution_count": 16,
   "metadata": {},
   "outputs": [
    {
     "name": "stdout",
     "output_type": "stream",
     "text": [
      "Wall time: 4.99 ms\n"
     ]
    },
    {
     "data": {
      "text/plain": [
       "array([ 0.99942323,  1.99830489,  2.99986005,  3.99909875,  4.99955067,\n",
       "        5.9999998 ,  7.00037326,  8.00112742,  9.00078994,  9.9995428 ,\n",
       "       10.99965699])"
      ]
     },
     "execution_count": 16,
     "metadata": {},
     "output_type": "execute_result"
    }
   ],
   "source": [
    "init_theta = np.empty(x_b.shape[1]) \n",
    "eta = 0.01\n",
    "%time theta_math = gradient_descent(df_debug, x_b, y, init_theta, eta)\n",
    "theta_math"
   ]
  },
  {
   "cell_type": "code",
   "execution_count": null,
   "metadata": {},
   "outputs": [],
   "source": []
  },
  {
   "cell_type": "code",
   "execution_count": null,
   "metadata": {},
   "outputs": [],
   "source": []
  },
  {
   "cell_type": "code",
   "execution_count": null,
   "metadata": {},
   "outputs": [],
   "source": []
  },
  {
   "cell_type": "code",
   "execution_count": null,
   "metadata": {},
   "outputs": [],
   "source": []
  }
 ],
 "metadata": {
  "kernelspec": {
   "display_name": "Python 3",
   "language": "python",
   "name": "python3"
  },
  "language_info": {
   "codemirror_mode": {
    "name": "ipython",
    "version": 3
   },
   "file_extension": ".py",
   "mimetype": "text/x-python",
   "name": "python",
   "nbconvert_exporter": "python",
   "pygments_lexer": "ipython3",
   "version": "3.7.6"
  }
 },
 "nbformat": 4,
 "nbformat_minor": 4
}
