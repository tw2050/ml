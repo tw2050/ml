{
 "cells": [
  {
   "cell_type": "code",
   "execution_count": 1,
   "metadata": {},
   "outputs": [],
   "source": [
    "import numpy as np\n",
    "import matplotlib as mpl\n",
    "import matplotlib.pyplot as plt"
   ]
  },
  {
   "cell_type": "code",
   "execution_count": 2,
   "metadata": {},
   "outputs": [],
   "source": [
    "plot_x = np.linspace(-1, 6, 141)"
   ]
  },
  {
   "cell_type": "code",
   "execution_count": 3,
   "metadata": {},
   "outputs": [],
   "source": [
    "plot_y = (plot_x - 2.5)**2  - 1"
   ]
  },
  {
   "cell_type": "code",
   "execution_count": 4,
   "metadata": {},
   "outputs": [
    {
     "data": {
      "image/png": "[encoded data removed]",
      "text/plain": [
       "<Figure size 432x288 with 1 Axes>"
      ]
     },
     "metadata": {
      "needs_background": "light"
     },
     "output_type": "display_data"
    }
   ],
   "source": [
    "plt.figure()\n",
    "plt.plot(plot_x, plot_y)\n",
    "plt.show()"
   ]
  },
  {
   "cell_type": "markdown",
   "metadata": {},
   "source": [
    "## 模拟梯度下降过程\n",
    "![juputer](./梯度下降法.png)"
   ]
  },
  {
   "cell_type": "code",
   "execution_count": 5,
   "metadata": {},
   "outputs": [],
   "source": [
    "def df(x):\n",
    "    return 2*(x - 2.5)"
   ]
  },
  {
   "cell_type": "code",
   "execution_count": 6,
   "metadata": {},
   "outputs": [],
   "source": [
    "def f(x):\n",
    "    return (x - 2.5)**2 - 1"
   ]
  },
  {
   "cell_type": "code",
   "execution_count": 15,
   "metadata": {},
   "outputs": [],
   "source": [
    "pos = 0\n",
    "f_zero = 1e-8\n",
    "n = 0.1\n",
    "history_pos = [0]\n",
    "\n",
    "while True:\n",
    "    df_y = df(pos)\n",
    "    y = f(pos)\n",
    "    pos = pos - n*df_y    \n",
    "    \n",
    "    if (np.abs(df_y) < 1e-8):\n",
    "        break   \n",
    "    \n",
    "    history_pos.append(pos)\n",
    "    "
   ]
  },
  {
   "cell_type": "code",
   "execution_count": 16,
   "metadata": {},
   "outputs": [
    {
     "data": {
      "text/plain": [
       "91"
      ]
     },
     "execution_count": 16,
     "metadata": {},
     "output_type": "execute_result"
    }
   ],
   "source": [
    "len(history_pos)"
   ]
  },
  {
   "cell_type": "code",
   "execution_count": 17,
   "metadata": {},
   "outputs": [],
   "source": [
    "history_y = [f(i) for i in history_pos]"
   ]
  },
  {
   "cell_type": "code",
   "execution_count": 18,
   "metadata": {},
   "outputs": [
    {
     "data": {
      "text/plain": [
       "[5.25,\n",
       " 3.0,\n",
       " 1.5600000000000005,\n",
       " 0.6383999999999994,\n",
       " 0.04857599999999951,\n",
       " -0.3289113600000001,\n",
       " -0.5705032704000002,\n",
       " -0.7251220930560001,\n",
       " -0.8240781395558401,\n",
       " -0.8874100093157377,\n",
       " -0.9279424059620722,\n",
       " -0.9538831398157263,\n",
       " -0.9704852094820647,\n",
       " -0.9811105340685214,\n",
       " -0.9879107418038537,\n",
       " -0.9922628747544664,\n",
       " -0.9950482398428585,\n",
       " -0.9968308734994294,\n",
       " -0.9979717590396349,\n",
       " -0.9987019257853663,\n",
       " -0.9991692325026345,\n",
       " -0.999468308801686,\n",
       " -0.999659717633079,\n",
       " -0.9997822192851706,\n",
       " -0.9998606203425092,\n",
       " -0.9999107970192059,\n",
       " -0.9999429100922917,\n",
       " -0.9999634624590668,\n",
       " -0.9999766159738027,\n",
       " -0.9999850342232337,\n",
       " -0.9999904219028696,\n",
       " -0.9999938700178366,\n",
       " -0.9999960768114153,\n",
       " -0.9999974891593059,\n",
       " -0.9999983930619557,\n",
       " -0.9999989715596517,\n",
       " -0.9999993417981771,\n",
       " -0.9999995787508333,\n",
       " -0.9999997304005334,\n",
       " -0.9999998274563413,\n",
       " -0.9999998895720584,\n",
       " -0.9999999293261174,\n",
       " -0.9999999547687152,\n",
       " -0.9999999710519777,\n",
       " -0.9999999814732657,\n",
       " -0.99999998814289,\n",
       " -0.9999999924114497,\n",
       " -0.9999999951433278,\n",
       " -0.9999999968917298,\n",
       " -0.999999998010707,\n",
       " -0.9999999987268525,\n",
       " -0.9999999991851856,\n",
       " -0.9999999994785188,\n",
       " -0.999999999666252,\n",
       " -0.9999999997864013,\n",
       " -0.9999999998632968,\n",
       " -0.99999999991251,\n",
       " -0.9999999999440063,\n",
       " -0.9999999999641641,\n",
       " -0.999999999977065,\n",
       " -0.9999999999853216,\n",
       " -0.9999999999906058,\n",
       " -0.9999999999939877,\n",
       " -0.9999999999961522,\n",
       " -0.9999999999975374,\n",
       " -0.9999999999984239,\n",
       " -0.9999999999989914,\n",
       " -0.9999999999993544,\n",
       " -0.9999999999995869,\n",
       " -0.9999999999997355,\n",
       " -0.9999999999998308,\n",
       " -0.9999999999998916,\n",
       " -0.9999999999999307,\n",
       " -0.9999999999999556,\n",
       " -0.9999999999999716,\n",
       " -0.9999999999999818,\n",
       " -0.9999999999999883,\n",
       " -0.9999999999999926,\n",
       " -0.9999999999999952,\n",
       " -0.999999999999997,\n",
       " -0.999999999999998,\n",
       " -0.9999999999999988,\n",
       " -0.9999999999999992,\n",
       " -0.9999999999999994,\n",
       " -0.9999999999999997,\n",
       " -0.9999999999999998,\n",
       " -0.9999999999999999,\n",
       " -0.9999999999999999,\n",
       " -1.0,\n",
       " -1.0,\n",
       " -1.0]"
      ]
     },
     "execution_count": 18,
     "metadata": {},
     "output_type": "execute_result"
    }
   ],
   "source": [
    "history_y"
   ]
  },
  {
   "cell_type": "code",
   "execution_count": 19,
   "metadata": {},
   "outputs": [
    {
     "data": {
      "image/png": "[encoded data removed]",
      "text/plain": [
       "<Figure size 432x288 with 1 Axes>"
      ]
     },
     "metadata": {
      "needs_background": "light"
     },
     "output_type": "display_data"
    }
   ],
   "source": [
    "plt.figure()\n",
    "plt.plot(plot_x, plot_y)\n",
    "plt.scatter(history_pos, history_y, color = 'r', marker='+')\n",
    "plt.show()"
   ]
  },
  {
   "cell_type": "code",
   "execution_count": 54,
   "metadata": {},
   "outputs": [],
   "source": [
    "def gradient_descent(init_pos, n, iter_num = 1e4, f_zero = 1e-8):\n",
    "    pos = init_pos\n",
    "    pos_history = [init_pos]\n",
    "    iter_i = 0\n",
    "    while iter_i < iter_num:\n",
    "        gradient = df(pos)\n",
    "        pos = pos - gradient*n\n",
    "        pos_history.append(pos)\n",
    "        \n",
    "        if (np.abs(gradient) < f_zero):\n",
    "            break\n",
    "        iter_i += 1    \n",
    "    return pos_history"
   ]
  },
  {
   "cell_type": "code",
   "execution_count": 55,
   "metadata": {},
   "outputs": [],
   "source": [
    "def plot_pos_history(pos_history):\n",
    "    plt.figure()\n",
    "    plt.plot(plot_x, plot_y)\n",
    "    plt.plot(np.array(pos_history), f(np.array(pos_history)), color='r', marker = '+')\n",
    "    plt.show()"
   ]
  },
  {
   "cell_type": "code",
   "execution_count": 66,
   "metadata": {},
   "outputs": [],
   "source": [
    "pos_history = gradient_descent(5, 1.2, iter_num = 4)\n"
   ]
  },
  {
   "cell_type": "code",
   "execution_count": 67,
   "metadata": {},
   "outputs": [
    {
     "data": {
      "image/png": "[encoded data removed]",
      "text/plain": [
       "<Figure size 432x288 with 1 Axes>"
      ]
     },
     "metadata": {
      "needs_background": "light"
     },
     "output_type": "display_data"
    }
   ],
   "source": [
    "plot_pos_history(pos_history)"
   ]
  },
  {
   "cell_type": "code",
   "execution_count": 63,
   "metadata": {},
   "outputs": [
    {
     "data": {
      "text/plain": [
       "11"
      ]
     },
     "execution_count": 63,
     "metadata": {},
     "output_type": "execute_result"
    }
   ],
   "source": [
    "len(pos_history)"
   ]
  },
  {
   "cell_type": "code",
   "execution_count": 65,
   "metadata": {},
   "outputs": [
    {
     "data": {
      "text/plain": [
       "74.81366374399998"
      ]
     },
     "execution_count": 65,
     "metadata": {},
     "output_type": "execute_result"
    }
   ],
   "source": [
    "pos_history[10]"
   ]
  }
 ],
 "metadata": {
  "kernelspec": {
   "display_name": "Python 3",
   "language": "python",
   "name": "python3"
  },
  "language_info": {
   "codemirror_mode": {
    "name": "ipython",
    "version": 3
   },
   "file_extension": ".py",
   "mimetype": "text/x-python",
   "name": "python",
   "nbconvert_exporter": "python",
   "pygments_lexer": "ipython3",
   "version": "3.7.6"
  }
 },
 "nbformat": 4,
 "nbformat_minor": 4
}
