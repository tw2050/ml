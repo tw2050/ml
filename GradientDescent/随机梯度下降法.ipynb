{
 "cells": [
  {
   "cell_type": "markdown",
   "metadata": {},
   "source": [
    "## 随机梯度下降法"
   ]
  },
  {
   "cell_type": "markdown",
   "metadata": {},
   "source": [
    "![jupyter](./随机梯度下降法.png)"
   ]
  },
  {
   "cell_type": "code",
   "execution_count": 1,
   "metadata": {},
   "outputs": [],
   "source": [
    "import numpy as np\n",
    "import matplotlib as mpl\n",
    "import matplotlib.pyplot as plt"
   ]
  },
  {
   "cell_type": "code",
   "execution_count": 2,
   "metadata": {},
   "outputs": [],
   "source": [
    "m = 200000\n",
    "\n",
    "x = np.random.normal(size=m)\n",
    "y = 4.*x + 3. + np.random.normal(0, 3, size=m)\n",
    "\n",
    "x = x.reshape(-1, 1) # 向量变为矩阵， 方便适应多元情况"
   ]
  },
  {
   "cell_type": "code",
   "execution_count": 3,
   "metadata": {},
   "outputs": [
    {
     "data": {
      "image/png": "[encoded data removed]",
      "text/plain": [
       "<Figure size 432x288 with 1 Axes>"
      ]
     },
     "metadata": {
      "needs_background": "light"
     },
     "output_type": "display_data"
    }
   ],
   "source": [
    "plt.figure()\n",
    "plt.scatter(x, y)\n",
    "plt.show()"
   ]
  },
  {
   "cell_type": "code",
   "execution_count": 4,
   "metadata": {},
   "outputs": [],
   "source": [
    "def f(theta, x_b, y):\n",
    "    try:\n",
    "        return np.sum((y - x_b.dot(theta))**2)/len(y)\n",
    "    except:\n",
    "        return float('inf')\n",
    "\n",
    "def df(theta, x_b, y):\n",
    "    return x_b.T.dot(x_b.dot(theta) - y)*2/len(y)"
   ]
  },
  {
   "cell_type": "code",
   "execution_count": 5,
   "metadata": {},
   "outputs": [],
   "source": [
    "def gradient_descent(x_b, y, init_theta, eta, max_iter = 1e4, epsilon = 1e-8):\n",
    "    theta = init_theta\n",
    "    cur_iter = 0\n",
    "    \n",
    "    while cur_iter < max_iter:\n",
    "        gradient = df(theta, x_b, y)\n",
    "        last_theta = theta\n",
    "        theta = theta - gradient * eta\n",
    "        if (np.abs(f(theta, x_b, y) - f(last_theta, x_b, y)) < epsilon):\n",
    "            break\n",
    "        \n",
    "        cur_iter += 1\n",
    "    \n",
    "    return theta"
   ]
  },
  {
   "cell_type": "code",
   "execution_count": 6,
   "metadata": {},
   "outputs": [
    {
     "name": "stdout",
     "output_type": "stream",
     "text": [
      "Wall time: 6.39 s\n"
     ]
    }
   ],
   "source": [
    "%%time\n",
    "x_b = np.hstack([np.ones((len(x), 1)), x])\n",
    "initial_theta = np.zeros(x_b.shape[1])\n",
    "eta = 0.01\n",
    "theta = gradient_descent(x_b, y, initial_theta, eta)"
   ]
  },
  {
   "cell_type": "code",
   "execution_count": 7,
   "metadata": {},
   "outputs": [
    {
     "data": {
      "text/plain": [
       "array([3.00835113, 4.00802883])"
      ]
     },
     "execution_count": 7,
     "metadata": {},
     "output_type": "execute_result"
    }
   ],
   "source": [
    "theta"
   ]
  },
  {
   "cell_type": "code",
   "execution_count": null,
   "metadata": {},
   "outputs": [],
   "source": []
  },
  {
   "cell_type": "markdown",
   "metadata": {},
   "source": [
    "## 随机梯度下降法"
   ]
  },
  {
   "cell_type": "code",
   "execution_count": 8,
   "metadata": {},
   "outputs": [],
   "source": [
    "def df_sgd(theta, x_b_i, y_i):\n",
    "    return 2*x_b_i.T.dot(x_b_i.dot(theta) - y_i) "
   ]
  },
  {
   "cell_type": "code",
   "execution_count": 9,
   "metadata": {},
   "outputs": [],
   "source": [
    "def sgd(x_b, y, init_theta, max_iter = 1e4):\n",
    "    t0, t1 = 5, 50\n",
    "    def learn_rate(iter_i):\n",
    "        return t0 /(iter_i + t1)\n",
    "    \n",
    "    theta = init_theta\n",
    "    for cur_iter in range(max_iter):\n",
    "        eta = learn_rate(cur_iter)\n",
    "        rand = np.random.randint(x_b.shape[0])\n",
    "        gradient = df_sgd(theta, x_b[rand, :], y[rand])\n",
    "        theta = theta - gradient*eta\n",
    "    \n",
    "    return theta"
   ]
  },
  {
   "cell_type": "code",
   "execution_count": 75,
   "metadata": {},
   "outputs": [
    {
     "name": "stdout",
     "output_type": "stream",
     "text": [
      "Wall time: 251 ms\n"
     ]
    },
    {
     "data": {
      "text/plain": [
       "array([2.96034311, 3.97306122])"
      ]
     },
     "execution_count": 75,
     "metadata": {},
     "output_type": "execute_result"
    }
   ],
   "source": [
    "%%time\n",
    "x_b = np.hstack([np.ones((len(x), 1)), x])\n",
    "initial_theta = np.zeros(x_b.shape[1])\n",
    "eta = 0.01\n",
    "theta = sgd(x_b, y, initial_theta, 10000)\n",
    "theta"
   ]
  },
  {
   "cell_type": "code",
   "execution_count": 11,
   "metadata": {},
   "outputs": [
    {
     "data": {
      "text/plain": [
       "array([3.037673  , 4.00749728])"
      ]
     },
     "execution_count": 11,
     "metadata": {},
     "output_type": "execute_result"
    }
   ],
   "source": [
    "theta"
   ]
  },
  {
   "cell_type": "code",
   "execution_count": null,
   "metadata": {},
   "outputs": [],
   "source": []
  },
  {
   "cell_type": "code",
   "execution_count": null,
   "metadata": {},
   "outputs": [],
   "source": []
  },
  {
   "cell_type": "code",
   "execution_count": null,
   "metadata": {},
   "outputs": [],
   "source": []
  },
  {
   "cell_type": "code",
   "execution_count": null,
   "metadata": {},
   "outputs": [],
   "source": []
  }
 ],
 "metadata": {
  "kernelspec": {
   "display_name": "Python 3",
   "language": "python",
   "name": "python3"
  },
  "language_info": {
   "codemirror_mode": {
    "name": "ipython",
    "version": 3
   },
   "file_extension": ".py",
   "mimetype": "text/x-python",
   "name": "python",
   "nbconvert_exporter": "python",
   "pygments_lexer": "ipython3",
   "version": "3.7.6"
  }
 },
 "nbformat": 4,
 "nbformat_minor": 4
}
