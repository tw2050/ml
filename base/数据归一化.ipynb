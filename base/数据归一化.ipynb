{
 "cells": [
  {
   "cell_type": "markdown",
   "metadata": {},
   "source": [
    "## 最值归一化 normalization 适用于有明显边界的值 "
   ]
  },
  {
   "cell_type": "code",
   "execution_count": 1,
   "metadata": {},
   "outputs": [],
   "source": [
    "import numpy as np"
   ]
  },
  {
   "cell_type": "code",
   "execution_count": 2,
   "metadata": {},
   "outputs": [
    {
     "data": {
      "text/plain": [
       "array([89, 98, 22, 17, 26, 22, 25, 50, 15,  8, 67, 18,  2, 73, 87,  4, 29,\n",
       "        7, 21, 61, 98,  8, 56, 92, 41, 33, 75,  4, 48, 22, 72,  0, 41, 62,\n",
       "       28, 92, 67,  9,  0, 45, 51, 86, 17, 13,  4, 77, 34, 69, 66,  8,  9,\n",
       "       61, 38, 96, 31, 31, 21,  6, 27, 53, 73, 75, 40, 28, 37,  8, 80, 20,\n",
       "       11,  0, 36, 35, 69, 88,  6, 60, 58, 54, 75, 44, 89, 47, 61, 43, 42,\n",
       "       35, 30, 97, 26, 69, 40, 47, 25, 99, 71, 31, 85, 47, 73, 95])"
      ]
     },
     "execution_count": 2,
     "metadata": {},
     "output_type": "execute_result"
    }
   ],
   "source": [
    "l = np.random.randint(0, 100, 100)\n",
    "l"
   ]
  },
  {
   "cell_type": "code",
   "execution_count": 3,
   "metadata": {},
   "outputs": [
    {
     "data": {
      "text/plain": [
       "array([0.8989899 , 0.98989899, 0.22222222, 0.17171717, 0.26262626,\n",
       "       0.22222222, 0.25252525, 0.50505051, 0.15151515, 0.08080808,\n",
       "       0.67676768, 0.18181818, 0.02020202, 0.73737374, 0.87878788,\n",
       "       0.04040404, 0.29292929, 0.07070707, 0.21212121, 0.61616162,\n",
       "       0.98989899, 0.08080808, 0.56565657, 0.92929293, 0.41414141,\n",
       "       0.33333333, 0.75757576, 0.04040404, 0.48484848, 0.22222222,\n",
       "       0.72727273, 0.        , 0.41414141, 0.62626263, 0.28282828,\n",
       "       0.92929293, 0.67676768, 0.09090909, 0.        , 0.45454545,\n",
       "       0.51515152, 0.86868687, 0.17171717, 0.13131313, 0.04040404,\n",
       "       0.77777778, 0.34343434, 0.6969697 , 0.66666667, 0.08080808,\n",
       "       0.09090909, 0.61616162, 0.38383838, 0.96969697, 0.31313131,\n",
       "       0.31313131, 0.21212121, 0.06060606, 0.27272727, 0.53535354,\n",
       "       0.73737374, 0.75757576, 0.4040404 , 0.28282828, 0.37373737,\n",
       "       0.08080808, 0.80808081, 0.2020202 , 0.11111111, 0.        ,\n",
       "       0.36363636, 0.35353535, 0.6969697 , 0.88888889, 0.06060606,\n",
       "       0.60606061, 0.58585859, 0.54545455, 0.75757576, 0.44444444,\n",
       "       0.8989899 , 0.47474747, 0.61616162, 0.43434343, 0.42424242,\n",
       "       0.35353535, 0.3030303 , 0.97979798, 0.26262626, 0.6969697 ,\n",
       "       0.4040404 , 0.47474747, 0.25252525, 1.        , 0.71717172,\n",
       "       0.31313131, 0.85858586, 0.47474747, 0.73737374, 0.95959596])"
      ]
     },
     "execution_count": 3,
     "metadata": {},
     "output_type": "execute_result"
    }
   ],
   "source": [
    "normal_scale = (l - np.min(l))/(np.max(l) - np.min(l))\n",
    "normal_scale"
   ]
  },
  {
   "cell_type": "code",
   "execution_count": 4,
   "metadata": {},
   "outputs": [
    {
     "data": {
      "text/plain": [
       "0.45262626262626265"
      ]
     },
     "execution_count": 4,
     "metadata": {},
     "output_type": "execute_result"
    }
   ],
   "source": [
    "np.mean(normal_scale)"
   ]
  },
  {
   "cell_type": "code",
   "execution_count": 5,
   "metadata": {},
   "outputs": [
    {
     "data": {
      "text/plain": [
       "0.2921818922125819"
      ]
     },
     "execution_count": 5,
     "metadata": {},
     "output_type": "execute_result"
    }
   ],
   "source": [
    "np.std(normal_scale)"
   ]
  },
  {
   "cell_type": "code",
   "execution_count": 6,
   "metadata": {},
   "outputs": [
    {
     "data": {
      "text/plain": [
       "array([[ 1, 62],\n",
       "       [89,  1],\n",
       "       [96, 64],\n",
       "       [78, 90],\n",
       "       [73, 31],\n",
       "       [66, 76],\n",
       "       [ 2, 95],\n",
       "       [63,  3],\n",
       "       [56, 34],\n",
       "       [89, 64],\n",
       "       [83, 70],\n",
       "       [81, 98],\n",
       "       [36, 92],\n",
       "       [18, 59],\n",
       "       [72, 64],\n",
       "       [39, 62],\n",
       "       [71, 41],\n",
       "       [91, 99],\n",
       "       [69, 13],\n",
       "       [ 3, 91],\n",
       "       [ 6, 22],\n",
       "       [92, 58],\n",
       "       [49, 60],\n",
       "       [35, 46],\n",
       "       [43, 37],\n",
       "       [79, 89],\n",
       "       [ 4, 64],\n",
       "       [39, 73],\n",
       "       [ 1, 28],\n",
       "       [25, 16],\n",
       "       [45, 74],\n",
       "       [60, 11],\n",
       "       [83, 15],\n",
       "       [84, 42],\n",
       "       [46, 55],\n",
       "       [67, 84],\n",
       "       [39, 81],\n",
       "       [67, 78],\n",
       "       [67, 28],\n",
       "       [66, 74],\n",
       "       [61, 77],\n",
       "       [55, 21],\n",
       "       [64, 71],\n",
       "       [91, 30],\n",
       "       [91, 99],\n",
       "       [41, 48],\n",
       "       [67, 53],\n",
       "       [99, 38],\n",
       "       [ 9, 25],\n",
       "       [32, 73]])"
      ]
     },
     "execution_count": 6,
     "metadata": {},
     "output_type": "execute_result"
    }
   ],
   "source": [
    "x = np.random.randint(0,100, (50,2))\n",
    "x"
   ]
  },
  {
   "cell_type": "code",
   "execution_count": 7,
   "metadata": {},
   "outputs": [
    {
     "data": {
      "text/plain": [
       "array([[ 1., 62.],\n",
       "       [89.,  1.],\n",
       "       [96., 64.],\n",
       "       [78., 90.],\n",
       "       [73., 31.],\n",
       "       [66., 76.],\n",
       "       [ 2., 95.],\n",
       "       [63.,  3.],\n",
       "       [56., 34.],\n",
       "       [89., 64.],\n",
       "       [83., 70.],\n",
       "       [81., 98.],\n",
       "       [36., 92.],\n",
       "       [18., 59.],\n",
       "       [72., 64.],\n",
       "       [39., 62.],\n",
       "       [71., 41.],\n",
       "       [91., 99.],\n",
       "       [69., 13.],\n",
       "       [ 3., 91.],\n",
       "       [ 6., 22.],\n",
       "       [92., 58.],\n",
       "       [49., 60.],\n",
       "       [35., 46.],\n",
       "       [43., 37.],\n",
       "       [79., 89.],\n",
       "       [ 4., 64.],\n",
       "       [39., 73.],\n",
       "       [ 1., 28.],\n",
       "       [25., 16.],\n",
       "       [45., 74.],\n",
       "       [60., 11.],\n",
       "       [83., 15.],\n",
       "       [84., 42.],\n",
       "       [46., 55.],\n",
       "       [67., 84.],\n",
       "       [39., 81.],\n",
       "       [67., 78.],\n",
       "       [67., 28.],\n",
       "       [66., 74.],\n",
       "       [61., 77.],\n",
       "       [55., 21.],\n",
       "       [64., 71.],\n",
       "       [91., 30.],\n",
       "       [91., 99.],\n",
       "       [41., 48.],\n",
       "       [67., 53.],\n",
       "       [99., 38.],\n",
       "       [ 9., 25.],\n",
       "       [32., 73.]])"
      ]
     },
     "execution_count": 7,
     "metadata": {},
     "output_type": "execute_result"
    }
   ],
   "source": [
    "x = np.array(x, dtype=float)\n",
    "x"
   ]
  },
  {
   "cell_type": "code",
   "execution_count": 12,
   "metadata": {},
   "outputs": [],
   "source": [
    "x[:, 0] = (x[:, 0] - np.min(x[:, 0]))/(np.max(x[:, 0]) - np.min(x[:, 0]))\n",
    "x[:, 1] = (x[:, 1] - np.min(x[:, 1]))/(np.max(x[:, 1]) - np.min(x[:, 1]))"
   ]
  },
  {
   "cell_type": "code",
   "execution_count": 13,
   "metadata": {},
   "outputs": [
    {
     "data": {
      "text/plain": [
       "array([[0.        , 0.62244898],\n",
       "       [0.89795918, 0.        ],\n",
       "       [0.96938776, 0.64285714],\n",
       "       [0.78571429, 0.90816327],\n",
       "       [0.73469388, 0.30612245],\n",
       "       [0.66326531, 0.76530612],\n",
       "       [0.01020408, 0.95918367],\n",
       "       [0.63265306, 0.02040816],\n",
       "       [0.56122449, 0.33673469],\n",
       "       [0.89795918, 0.64285714]])"
      ]
     },
     "execution_count": 13,
     "metadata": {},
     "output_type": "execute_result"
    }
   ],
   "source": [
    "x[:10, :]"
   ]
  },
  {
   "cell_type": "code",
   "execution_count": 14,
   "metadata": {},
   "outputs": [
    {
     "data": {
      "text/plain": [
       "0.5577551020408164"
      ]
     },
     "execution_count": 14,
     "metadata": {},
     "output_type": "execute_result"
    }
   ],
   "source": [
    "np.mean(x[:, 0])"
   ]
  },
  {
   "cell_type": "code",
   "execution_count": 15,
   "metadata": {},
   "outputs": [
    {
     "data": {
      "text/plain": [
       "0.2914555095307316"
      ]
     },
     "execution_count": 15,
     "metadata": {},
     "output_type": "execute_result"
    }
   ],
   "source": [
    "np.std(x[:, 0])"
   ]
  },
  {
   "cell_type": "code",
   "execution_count": 18,
   "metadata": {},
   "outputs": [],
   "source": [
    "import matplotlib as mpl\n",
    "import matplotlib.pyplot as plt"
   ]
  },
  {
   "cell_type": "code",
   "execution_count": 19,
   "metadata": {},
   "outputs": [
    {
     "data": {
      "image/png": "[encoded data removed]",
      "text/plain": [
       "<Figure size 432x288 with 1 Axes>"
      ]
     },
     "metadata": {
      "needs_background": "light"
     },
     "output_type": "display_data"
    }
   ],
   "source": [
    "plt.figure()\n",
    "plt.scatter(x[:, 0], x[:, 1])\n",
    "plt.show()"
   ]
  },
  {
   "cell_type": "markdown",
   "metadata": {},
   "source": [
    "## 方差归一法 standardization 普遍适用"
   ]
  },
  {
   "cell_type": "code",
   "execution_count": 22,
   "metadata": {},
   "outputs": [
    {
     "data": {
      "text/plain": [
       "array([[58., 36.],\n",
       "       [35., 12.],\n",
       "       [77., 93.],\n",
       "       [86., 33.],\n",
       "       [68., 90.],\n",
       "       [39., 12.],\n",
       "       [63., 64.],\n",
       "       [14., 37.],\n",
       "       [28., 74.],\n",
       "       [50., 33.]])"
      ]
     },
     "execution_count": 22,
     "metadata": {},
     "output_type": "execute_result"
    }
   ],
   "source": [
    "x1 = np.random.randint(0, 100, (50, 2))\n",
    "x1 = np.array(x1, dtype = float)\n",
    "x1[:10, :]"
   ]
  },
  {
   "cell_type": "code",
   "execution_count": 23,
   "metadata": {},
   "outputs": [],
   "source": [
    "x1[:, 0] = (x1[:, 0] - np.mean(x1[:, 0]))/np.std(x1[:, 0])"
   ]
  },
  {
   "cell_type": "code",
   "execution_count": 24,
   "metadata": {},
   "outputs": [],
   "source": [
    "x1[:, 1] = (x1[:, 1] - np.mean(x1[:, 1]))/np.std(x1[:, 1])"
   ]
  },
  {
   "cell_type": "code",
   "execution_count": 25,
   "metadata": {},
   "outputs": [
    {
     "data": {
      "text/plain": [
       "array([[ 0.1804108 , -0.37949982],\n",
       "       [-0.68047062, -1.23712655],\n",
       "       [ 0.89157372,  1.65736364],\n",
       "       [ 1.22844036, -0.48670316],\n",
       "       [ 0.55470707,  1.5501603 ],\n",
       "       [-0.53075211, -1.23712655],\n",
       "       [ 0.36755894,  0.62106468],\n",
       "       [-1.46649279, -0.34376538],\n",
       "       [-0.94247801,  0.97840915],\n",
       "       [-0.11902621, -0.48670316]])"
      ]
     },
     "execution_count": 25,
     "metadata": {},
     "output_type": "execute_result"
    }
   ],
   "source": [
    "x1[:10, :]"
   ]
  },
  {
   "cell_type": "code",
   "execution_count": 26,
   "metadata": {},
   "outputs": [
    {
     "data": {
      "image/png": "[encoded data removed]",
      "text/plain": [
       "<Figure size 432x288 with 1 Axes>"
      ]
     },
     "metadata": {
      "needs_background": "light"
     },
     "output_type": "display_data"
    }
   ],
   "source": [
    "plt.figure()\n",
    "plt.scatter(x1[:, 0], x1[:, 1])\n",
    "plt.show()"
   ]
  },
  {
   "cell_type": "code",
   "execution_count": 28,
   "metadata": {},
   "outputs": [
    {
     "data": {
      "text/plain": [
       "1.7763568394002505e-17"
      ]
     },
     "execution_count": 28,
     "metadata": {},
     "output_type": "execute_result"
    }
   ],
   "source": [
    "np.mean(x1[:, 0])"
   ]
  },
  {
   "cell_type": "code",
   "execution_count": 29,
   "metadata": {},
   "outputs": [
    {
     "data": {
      "text/plain": [
       "0.9999999999999999"
      ]
     },
     "execution_count": 29,
     "metadata": {},
     "output_type": "execute_result"
    }
   ],
   "source": [
    "np.std(x1[:, 0])"
   ]
  },
  {
   "cell_type": "code",
   "execution_count": 31,
   "metadata": {},
   "outputs": [
    {
     "data": {
      "text/plain": [
       "8.881784197001253e-17"
      ]
     },
     "execution_count": 31,
     "metadata": {},
     "output_type": "execute_result"
    }
   ],
   "source": [
    "np.mean(x1[:, 1])"
   ]
  },
  {
   "cell_type": "code",
   "execution_count": 32,
   "metadata": {},
   "outputs": [
    {
     "data": {
      "text/plain": [
       "0.9999999999999999"
      ]
     },
     "execution_count": 32,
     "metadata": {},
     "output_type": "execute_result"
    }
   ],
   "source": [
    "np.std(x1[:, 1])"
   ]
  },
  {
   "cell_type": "code",
   "execution_count": null,
   "metadata": {},
   "outputs": [],
   "source": []
  },
  {
   "cell_type": "code",
   "execution_count": null,
   "metadata": {},
   "outputs": [],
   "source": []
  }
 ],
 "metadata": {
  "kernelspec": {
   "display_name": "Python 3",
   "language": "python",
   "name": "python3"
  },
  "language_info": {
   "codemirror_mode": {
    "name": "ipython",
    "version": 3
   },
   "file_extension": ".py",
   "mimetype": "text/x-python",
   "name": "python",
   "nbconvert_exporter": "python",
   "pygments_lexer": "ipython3",
   "version": "3.7.6"
  }
 },
 "nbformat": 4,
 "nbformat_minor": 4
}
