{
 "cells": [
  {
   "cell_type": "code",
   "execution_count": 1,
   "metadata": {
    "collapsed": true
   },
   "outputs": [],
   "source": [
    "import numpy as np\n",
    "import matplotlib.pyplot as plt\n",
    "from sklearn.datasets import fetch_openml"
   ]
  },
  {
   "cell_type": "code",
   "execution_count": 2,
   "metadata": {
    "collapsed": true
   },
   "outputs": [],
   "source": [
    "mnist = fetch_openml('mnist_784')"
   ]
  },
  {
   "cell_type": "code",
   "execution_count": 3,
   "metadata": {
    "collapsed": true
   },
   "outputs": [],
   "source": [
    "x = mnist.data\n",
    "y = mnist.target"
   ]
  },
  {
   "cell_type": "code",
   "execution_count": 4,
   "metadata": {
    "collapsed": false
   },
   "outputs": [
    {
     "data": {
      "text/plain": [
       "(70000, 784)"
      ]
     },
     "execution_count": 4,
     "metadata": {},
     "output_type": "execute_result"
    }
   ],
   "source": [
    "x.shape"
   ]
  },
  {
   "cell_type": "code",
   "execution_count": 5,
   "metadata": {
    "collapsed": false
   },
   "outputs": [
    {
     "data": {
      "text/plain": [
       "(70000,)"
      ]
     },
     "execution_count": 5,
     "metadata": {},
     "output_type": "execute_result"
    }
   ],
   "source": [
    "y.shape"
   ]
  },
  {
   "cell_type": "markdown",
   "metadata": {},
   "source": [
    "### mnist 数据集 已经做好了测试集与训练集的分隔 前60000条为训练集， 后10000条为测试集"
   ]
  },
  {
   "cell_type": "code",
   "execution_count": 6,
   "metadata": {
    "collapsed": false
   },
   "outputs": [
    {
     "data": {
      "text/plain": [
       "(60000, 784)"
      ]
     },
     "execution_count": 6,
     "metadata": {},
     "output_type": "execute_result"
    }
   ],
   "source": [
    "train_x = x[:60000, :]\n",
    "train_x.shape"
   ]
  },
  {
   "cell_type": "code",
   "execution_count": 7,
   "metadata": {
    "collapsed": false
   },
   "outputs": [
    {
     "data": {
      "text/plain": [
       "(10000, 784)"
      ]
     },
     "execution_count": 7,
     "metadata": {},
     "output_type": "execute_result"
    }
   ],
   "source": [
    "test_x = x[60000:, :]\n",
    "test_x.shape"
   ]
  },
  {
   "cell_type": "code",
   "execution_count": 8,
   "metadata": {
    "collapsed": true
   },
   "outputs": [],
   "source": [
    "train_y = y[:60000]\n",
    "test_y = y[60000:]"
   ]
  },
  {
   "cell_type": "code",
   "execution_count": 9,
   "metadata": {
    "collapsed": false
   },
   "outputs": [
    {
     "data": {
      "text/plain": [
       "(60000,)"
      ]
     },
     "execution_count": 9,
     "metadata": {},
     "output_type": "execute_result"
    }
   ],
   "source": [
    "train_y.shape"
   ]
  },
  {
   "cell_type": "code",
   "execution_count": 10,
   "metadata": {
    "collapsed": false
   },
   "outputs": [
    {
     "data": {
      "text/plain": [
       "(10000,)"
      ]
     },
     "execution_count": 10,
     "metadata": {},
     "output_type": "execute_result"
    }
   ],
   "source": [
    "test_y.shape"
   ]
  },
  {
   "cell_type": "code",
   "execution_count": 11,
   "metadata": {
    "collapsed": false
   },
   "outputs": [
    {
     "data": {
      "text/plain": [
       "array(['5', '0', '4', '1', '9', '2', '1', '3', '1', '4'], dtype=object)"
      ]
     },
     "execution_count": 11,
     "metadata": {},
     "output_type": "execute_result"
    }
   ],
   "source": [
    "train_y[:10]"
   ]
  },
  {
   "cell_type": "markdown",
   "metadata": {},
   "source": [
    "### mnist数据展示"
   ]
  },
  {
   "cell_type": "code",
   "execution_count": 12,
   "metadata": {
    "collapsed": true
   },
   "outputs": [],
   "source": [
    "def plot_digits(data):\n",
    "    fig, axes = plt.subplots(10, 10, figsize = (10,10), subplot_kw = {'xticks':[], 'yticks':[]}, \n",
    "                           gridspec_kw = dict(hspace = 0.1, wspace = 0.1))\n",
    "    for i, ax in enumerate(axes.flat):\n",
    "        ax.imshow(data[i].reshape(28,28), cmap = 'binary', interpolation = 'nearest', clim=(0,16))"
   ]
  },
  {
   "cell_type": "code",
   "execution_count": 13,
   "metadata": {
    "collapsed": false
   },
   "outputs": [
    {
     "data": {
      "image/png": "[encoded data removed]",
      "text/plain": [
       "<Figure size 720x720 with 100 Axes>"
      ]
     },
     "metadata": {},
     "output_type": "display_data"
    }
   ],
   "source": [
    "example_x = train_x[:100, :]\n",
    "plot_digits(example_x)"
   ]
  },
  {
   "cell_type": "markdown",
   "metadata": {},
   "source": [
    "### sklearn 中的ANN -- mlp"
   ]
  },
  {
   "cell_type": "code",
   "execution_count": 14,
   "metadata": {
    "collapsed": true
   },
   "outputs": [],
   "source": [
    "from sklearn.neural_network import MLPClassifier"
   ]
  },
  {
   "cell_type": "code",
   "execution_count": 15,
   "metadata": {
    "collapsed": true
   },
   "outputs": [],
   "source": [
    "mlp_clf = MLPClassifier(solver = 'adam', alpha = 1e-5, hidden_layer_sizes = (200, 100, 60, 30, 10), random_state = 666)"
   ]
  },
  {
   "cell_type": "code",
   "execution_count": 16,
   "metadata": {
    "collapsed": false
   },
   "outputs": [
    {
     "data": {
      "text/plain": [
       "MLPClassifier(activation='relu', alpha=1e-05, batch_size='auto', beta_1=0.9,\n",
       "              beta_2=0.999, early_stopping=False, epsilon=1e-08,\n",
       "              hidden_layer_sizes=(200, 100, 60, 30, 10),\n",
       "              learning_rate='constant', learning_rate_init=0.001, max_fun=15000,\n",
       "              max_iter=200, momentum=0.9, n_iter_no_change=10,\n",
       "              nesterovs_momentum=True, power_t=0.5, random_state=666,\n",
       "              shuffle=True, solver='adam', tol=0.0001, validation_fraction=0.1,\n",
       "              verbose=False, warm_start=False)"
      ]
     },
     "execution_count": 16,
     "metadata": {},
     "output_type": "execute_result"
    }
   ],
   "source": [
    "mlp_clf.fit(train_x, train_y)"
   ]
  },
  {
   "cell_type": "code",
   "execution_count": 17,
   "metadata": {
    "collapsed": false
   },
   "outputs": [
    {
     "data": {
      "text/plain": [
       "0.9783"
      ]
     },
     "execution_count": 17,
     "metadata": {},
     "output_type": "execute_result"
    }
   ],
   "source": [
    "mlp_score = mlp_clf.score(test_x, test_y)\n",
    "mlp_score"
   ]
  },
  {
   "cell_type": "code",
   "execution_count": 18,
   "metadata": {
    "collapsed": true
   },
   "outputs": [],
   "source": [
    "predict_y = mlp_clf.predict(test_x)"
   ]
  },
  {
   "cell_type": "code",
   "execution_count": 19,
   "metadata": {
    "collapsed": true
   },
   "outputs": [],
   "source": [
    "from sklearn.metrics import recall_score, f1_score, precision_score, confusion_matrix, classification_report"
   ]
  },
  {
   "cell_type": "code",
   "execution_count": 20,
   "metadata": {
    "collapsed": false
   },
   "outputs": [
    {
     "data": {
      "text/plain": [
       "0.9783"
      ]
     },
     "execution_count": 20,
     "metadata": {},
     "output_type": "execute_result"
    }
   ],
   "source": [
    "mlp_recall = recall_score(test_y, predict_y, average='micro')\n",
    "mlp_recall"
   ]
  },
  {
   "cell_type": "code",
   "execution_count": 21,
   "metadata": {
    "collapsed": false
   },
   "outputs": [
    {
     "data": {
      "text/plain": [
       "0.9783"
      ]
     },
     "execution_count": 21,
     "metadata": {},
     "output_type": "execute_result"
    }
   ],
   "source": [
    "mlp_precision = precision_score(test_y, predict_y, average='micro')\n",
    "mlp_precision"
   ]
  },
  {
   "cell_type": "code",
   "execution_count": 22,
   "metadata": {
    "collapsed": false
   },
   "outputs": [
    {
     "data": {
      "text/plain": [
       "array([[ 964,    1,    3,    1,    1,    0,    3,    2,    2,    3],\n",
       "       [   0, 1126,    0,    1,    0,    0,    1,    1,    6,    0],\n",
       "       [   3,    3, 1005,    2,    0,    0,    1,    3,   15,    0],\n",
       "       [   0,    0,    3,  986,    0,    2,    0,    3,   12,    4],\n",
       "       [   2,    0,    4,    0,  952,    0,    3,    2,    1,   18],\n",
       "       [   1,    2,    1,   12,    1,  864,    5,    0,    4,    2],\n",
       "       [   2,    2,    0,    0,    3,    3,  943,    0,    5,    0],\n",
       "       [   0,    5,    3,    2,    1,    0,    0,  999,    3,   15],\n",
       "       [   1,    0,    4,    4,    0,    2,    3,    3,  952,    5],\n",
       "       [   0,    2,    0,    2,    4,    5,    0,    0,    4,  992]],\n",
       "      dtype=int64)"
      ]
     },
     "execution_count": 22,
     "metadata": {},
     "output_type": "execute_result"
    }
   ],
   "source": [
    "mlp_cm = confusion_matrix(test_y, predict_y)\n",
    "mlp_cm"
   ]
  },
  {
   "cell_type": "code",
   "execution_count": 23,
   "metadata": {
    "collapsed": false
   },
   "outputs": [
    {
     "name": "stdout",
     "output_type": "stream",
     "text": [
      "              precision    recall  f1-score   support\n",
      "\n",
      "           0       0.99      0.98      0.99       980\n",
      "           1       0.99      0.99      0.99      1135\n",
      "           2       0.98      0.97      0.98      1032\n",
      "           3       0.98      0.98      0.98      1010\n",
      "           4       0.99      0.97      0.98       982\n",
      "           5       0.99      0.97      0.98       892\n",
      "           6       0.98      0.98      0.98       958\n",
      "           7       0.99      0.97      0.98      1028\n",
      "           8       0.95      0.98      0.96       974\n",
      "           9       0.95      0.98      0.97      1009\n",
      "\n",
      "   micro avg       0.98      0.98      0.98     10000\n",
      "   macro avg       0.98      0.98      0.98     10000\n",
      "weighted avg       0.98      0.98      0.98     10000\n",
      "\n"
     ]
    },
    {
     "name": "stderr",
     "output_type": "stream",
     "text": [
      "e:\\anaconda3\\lib\\site-packages\\numpy\\lib\\arraysetops.py:567: FutureWarning: elementwise comparison failed; returning scalar instead, but in the future will perform elementwise comparison\n",
      "  mask &= (ar1 != a)\n"
     ]
    }
   ],
   "source": [
    "clf_report = classification_report(test_y, predict_y, labels=[0,1,2,3,4,5,6,7,8,9])\n",
    "print(clf_report)"
   ]
  },
  {
   "cell_type": "markdown",
   "metadata": {},
   "source": [
    "### Keras 中的ANN"
   ]
  },
  {
   "cell_type": "code",
   "execution_count": 24,
   "metadata": {
    "collapsed": false
   },
   "outputs": [
    {
     "name": "stderr",
     "output_type": "stream",
     "text": [
      "Using TensorFlow backend.\n"
     ]
    }
   ],
   "source": [
    "from keras.models import Sequential\n",
    "from keras.layers import Dense, Dropout, Activation, Reshape\n",
    "from sklearn.model_selection import cross_val_score\n",
    "from keras.wrappers.scikit_learn import KerasClassifier "
   ]
  },
  {
   "cell_type": "code",
   "execution_count": 29,
   "metadata": {
    "collapsed": true
   },
   "outputs": [],
   "source": [
    "def build_classifier():\n",
    "    clf = Sequential()   #  初始化神经网络\n",
    "    clf.add(Dense(units = 200, kernel_initializer = 'uniform', activation = 'relu', input_dim =train_x.shape[1]))\n",
    "    clf.add(Dense(units = 100, kernel_initializer = 'uniform', activation = 'relu'))\n",
    "    clf.add(Dense(units = 60, kernel_initializer = 'uniform', activation = 'relu'))\n",
    "    clf.add(Dense(units = 30, kernel_initializer = 'uniform', activation = 'relu'))\n",
    "    clf.add(Dense(units = 10, kernel_initializer = 'uniform', activation = 'softmax'))\n",
    "    clf.compile(optimizer='adam', loss= 'categorical_crossentropy', metrics=['accuracy'])\n",
    "    return clf"
   ]
  },
  {
   "cell_type": "code",
   "execution_count": 26,
   "metadata": {
    "collapsed": false,
    "scrolled": true
   },
   "outputs": [
    {
     "name": "stdout",
     "output_type": "stream",
     "text": [
      "WARNING:tensorflow:From e:\\anaconda3\\lib\\site-packages\\tensorflow\\python\\ops\\math_grad.py:1250: add_dispatch_support.<locals>.wrapper (from tensorflow.python.ops.array_ops) is deprecated and will be removed in a future version.\n",
      "Instructions for updating:\n",
      "Use tf.where in 2.0, which has the same broadcast rule as np.where\n",
      "WARNING:tensorflow:From e:\\anaconda3\\lib\\site-packages\\keras\\backend\\tensorflow_backend.py:422: The name tf.global_variables is deprecated. Please use tf.compat.v1.global_variables instead.\n",
      "\n",
      "Epoch 1/50\n",
      "56000/56000 [==============================] - 8s 137us/step - loss: 0.2554 - accuracy: 0.9211\n",
      "Epoch 2/50\n",
      "56000/56000 [==============================] - 7s 128us/step - loss: 0.1196 - accuracy: 0.9663\n",
      "Epoch 3/50\n",
      "56000/56000 [==============================] - 7s 133us/step - loss: 0.0874 - accuracy: 0.9741\n",
      "Epoch 4/50\n",
      "56000/56000 [==============================] - 7s 128us/step - loss: 0.0756 - accuracy: 0.9785\n",
      "Epoch 5/50\n",
      "56000/56000 [==============================] - 7s 133us/step - loss: 0.0615 - accuracy: 0.9822\n",
      "Epoch 6/50\n",
      "56000/56000 [==============================] - 7s 130us/step - loss: 0.0607 - accuracy: 0.9836\n",
      "Epoch 7/50\n",
      "56000/56000 [==============================] - 7s 132us/step - loss: 0.0539 - accuracy: 0.9858\n",
      "Epoch 8/50\n",
      "56000/56000 [==============================] - 7s 128us/step - loss: 0.0488 - accuracy: 0.9877\n",
      "Epoch 9/50\n",
      "56000/56000 [==============================] - 7s 133us/step - loss: nan - accuracy: 0.1481\n",
      "Epoch 10/50\n",
      "56000/56000 [==============================] - 7s 131us/step - loss: nan - accuracy: 0.0982\n",
      "Epoch 11/50\n",
      "56000/56000 [==============================] - 7s 132us/step - loss: nan - accuracy: 0.0982\n",
      "Epoch 12/50\n",
      "56000/56000 [==============================] - 7s 131us/step - loss: nan - accuracy: 0.0982\n",
      "Epoch 13/50\n",
      "56000/56000 [==============================] - 7s 131us/step - loss: nan - accuracy: 0.0982\n",
      "Epoch 14/50\n",
      "56000/56000 [==============================] - 8s 138us/step - loss: nan - accuracy: 0.0982\n",
      "Epoch 15/50\n",
      "56000/56000 [==============================] - 7s 126us/step - loss: nan - accuracy: 0.0982\n",
      "Epoch 16/50\n",
      "56000/56000 [==============================] - 7s 133us/step - loss: nan - accuracy: 0.0982\n",
      "Epoch 17/50\n",
      "56000/56000 [==============================] - 7s 127us/step - loss: nan - accuracy: 0.0982\n",
      "Epoch 18/50\n",
      "56000/56000 [==============================] - 8s 136us/step - loss: nan - accuracy: 0.0982\n",
      "Epoch 19/50\n",
      "56000/56000 [==============================] - 7s 128us/step - loss: nan - accuracy: 0.0982\n",
      "Epoch 20/50\n",
      "56000/56000 [==============================] - 8s 138us/step - loss: nan - accuracy: 0.0982\n",
      "Epoch 21/50\n",
      "56000/56000 [==============================] - 7s 131us/step - loss: nan - accuracy: 0.0982\n",
      "Epoch 22/50\n",
      "56000/56000 [==============================] - 8s 138us/step - loss: nan - accuracy: 0.0982\n",
      "Epoch 23/50\n",
      "56000/56000 [==============================] - 7s 131us/step - loss: nan - accuracy: 0.0982\n",
      "Epoch 24/50\n",
      "56000/56000 [==============================] - 8s 134us/step - loss: nan - accuracy: 0.0982\n",
      "Epoch 25/50\n",
      "56000/56000 [==============================] - 8s 134us/step - loss: nan - accuracy: 0.0982\n",
      "Epoch 26/50\n",
      "56000/56000 [==============================] - 8s 143us/step - loss: nan - accuracy: 0.0982\n",
      "Epoch 27/50\n",
      "56000/56000 [==============================] - 8s 149us/step - loss: nan - accuracy: 0.0982\n",
      "Epoch 28/50\n",
      "56000/56000 [==============================] - 8s 143us/step - loss: nan - accuracy: 0.0982\n",
      "Epoch 29/50\n",
      "56000/56000 [==============================] - 8s 139us/step - loss: nan - accuracy: 0.0982\n",
      "Epoch 30/50\n",
      "56000/56000 [==============================] - 8s 148us/step - loss: nan - accuracy: 0.0982\n",
      "Epoch 31/50\n",
      "56000/56000 [==============================] - 8s 137us/step - loss: nan - accuracy: 0.0982\n",
      "Epoch 32/50\n",
      "56000/56000 [==============================] - 8s 136us/step - loss: nan - accuracy: 0.0982\n",
      "Epoch 33/50\n",
      "56000/56000 [==============================] - 8s 139us/step - loss: nan - accuracy: 0.0982\n",
      "Epoch 34/50\n",
      "56000/56000 [==============================] - 8s 136us/step - loss: nan - accuracy: 0.0982\n",
      "Epoch 35/50\n",
      "56000/56000 [==============================] - 8s 143us/step - loss: nan - accuracy: 0.0982\n",
      "Epoch 36/50\n",
      "56000/56000 [==============================] - 8s 136us/step - loss: nan - accuracy: 0.0982\n",
      "Epoch 37/50\n",
      "56000/56000 [==============================] - 8s 151us/step - loss: nan - accuracy: 0.0982\n",
      "Epoch 38/50\n",
      "56000/56000 [==============================] - 8s 139us/step - loss: nan - accuracy: 0.0982\n",
      "Epoch 39/50\n",
      "56000/56000 [==============================] - 8s 142us/step - loss: nan - accuracy: 0.0982\n",
      "Epoch 40/50\n",
      "56000/56000 [==============================] - 8s 136us/step - loss: nan - accuracy: 0.0982\n",
      "Epoch 41/50\n",
      "56000/56000 [==============================] - 8s 143us/step - loss: nan - accuracy: 0.0982\n",
      "Epoch 42/50\n",
      "56000/56000 [==============================] - 8s 136us/step - loss: nan - accuracy: 0.0982\n",
      "Epoch 43/50\n",
      "56000/56000 [==============================] - 8s 144us/step - loss: nan - accuracy: 0.0982\n",
      "Epoch 44/50\n",
      "56000/56000 [==============================] - 8s 136us/step - loss: nan - accuracy: 0.0982\n",
      "Epoch 45/50\n",
      "56000/56000 [==============================] - 8s 141us/step - loss: nan - accuracy: 0.0982\n",
      "Epoch 46/50\n",
      "56000/56000 [==============================] - 8s 139us/step - loss: nan - accuracy: 0.0982\n",
      "Epoch 47/50\n",
      "56000/56000 [==============================] - 8s 140us/step - loss: nan - accuracy: 0.0982\n",
      "Epoch 48/50\n",
      "56000/56000 [==============================] - 8s 134us/step - loss: nan - accuracy: 0.0982\n",
      "Epoch 49/50\n",
      "56000/56000 [==============================] - 8s 147us/step - loss: nan - accuracy: 0.0982\n",
      "Epoch 50/50\n",
      "56000/56000 [==============================] - 8s 149us/step - loss: nan - accuracy: 0.0982\n",
      "14000/14000 [==============================] - 1s 57us/step\n",
      "Epoch 1/50\n",
      "56000/56000 [==============================] - 9s 163us/step - loss: 0.2653 - accuracy: 0.9192\n",
      "Epoch 2/50\n",
      "56000/56000 [==============================] - 9s 152us/step - loss: 0.1145 - accuracy: 0.9668\n",
      "Epoch 3/50\n",
      "56000/56000 [==============================] - 8s 142us/step - loss: 0.0896 - accuracy: 0.9752\n",
      "Epoch 4/50\n",
      "56000/56000 [==============================] - 8s 150us/step - loss: 0.0780 - accuracy: 0.9780\n",
      "Epoch 5/50\n",
      "56000/56000 [==============================] - 8s 146us/step - loss: nan - accuracy: 0.4264\n",
      "Epoch 6/50\n",
      "56000/56000 [==============================] - 8s 147us/step - loss: nan - accuracy: 0.0993\n",
      "Epoch 7/50\n",
      "56000/56000 [==============================] - 8s 146us/step - loss: nan - accuracy: 0.0993\n",
      "Epoch 8/50\n",
      "56000/56000 [==============================] - 9s 153us/step - loss: nan - accuracy: 0.0993\n",
      "Epoch 9/50\n",
      "56000/56000 [==============================] - 8s 143us/step - loss: nan - accuracy: 0.0993\n",
      "Epoch 10/50\n",
      "56000/56000 [==============================] - 8s 145us/step - loss: nan - accuracy: 0.0993\n",
      "Epoch 11/50\n",
      "56000/56000 [==============================] - 8s 141us/step - loss: nan - accuracy: 0.0993\n",
      "Epoch 12/50\n",
      "56000/56000 [==============================] - 8s 146us/step - loss: nan - accuracy: 0.0993\n",
      "Epoch 13/50\n",
      "56000/56000 [==============================] - 8s 140us/step - loss: nan - accuracy: 0.0993\n",
      "Epoch 14/50\n",
      "56000/56000 [==============================] - 8s 146us/step - loss: nan - accuracy: 0.0993\n",
      "Epoch 15/50\n",
      "56000/56000 [==============================] - 8s 142us/step - loss: nan - accuracy: 0.0993\n",
      "Epoch 16/50\n",
      "56000/56000 [==============================] - 8s 146us/step - loss: nan - accuracy: 0.0993\n",
      "Epoch 17/50\n",
      "56000/56000 [==============================] - 8s 142us/step - loss: nan - accuracy: 0.0993\n",
      "Epoch 18/50\n",
      "56000/56000 [==============================] - 8s 146us/step - loss: nan - accuracy: 0.0993\n",
      "Epoch 19/50\n",
      "56000/56000 [==============================] - 8s 142us/step - loss: nan - accuracy: 0.0993\n",
      "Epoch 20/50\n",
      "56000/56000 [==============================] - 9s 166us/step - loss: nan - accuracy: 0.0993\n",
      "Epoch 21/50\n",
      "56000/56000 [==============================] - 9s 168us/step - loss: nan - accuracy: 0.0993\n",
      "Epoch 22/50\n",
      "56000/56000 [==============================] - 9s 156us/step - loss: nan - accuracy: 0.0993\n",
      "Epoch 23/50\n",
      "56000/56000 [==============================] - 8s 146us/step - loss: nan - accuracy: 0.0993\n",
      "Epoch 24/50\n",
      "56000/56000 [==============================] - 8s 151us/step - loss: nan - accuracy: 0.0993\n",
      "Epoch 25/50\n",
      "56000/56000 [==============================] - 8s 149us/step - loss: nan - accuracy: 0.0993\n",
      "Epoch 26/50\n",
      "56000/56000 [==============================] - 8s 146us/step - loss: nan - accuracy: 0.0993\n",
      "Epoch 27/50\n",
      "56000/56000 [==============================] - 9s 155us/step - loss: nan - accuracy: 0.0993\n",
      "Epoch 28/50\n",
      "56000/56000 [==============================] - 9s 165us/step - loss: nan - accuracy: 0.0993\n",
      "Epoch 29/50\n",
      "56000/56000 [==============================] - 9s 154us/step - loss: nan - accuracy: 0.0993\n",
      "Epoch 30/50\n",
      "56000/56000 [==============================] - 8s 143us/step - loss: nan - accuracy: 0.0993\n",
      "Epoch 31/50\n",
      "56000/56000 [==============================] - 8s 149us/step - loss: nan - accuracy: 0.0993\n",
      "Epoch 32/50\n",
      "56000/56000 [==============================] - ETA: 0s - loss: nan - accuracy: 0.099 - 8s 147us/step - loss: nan - accuracy: 0.0993\n",
      "Epoch 33/50\n",
      "56000/56000 [==============================] - 8s 148us/step - loss: nan - accuracy: 0.0993\n",
      "Epoch 34/50\n",
      "56000/56000 [==============================] - 8s 150us/step - loss: nan - accuracy: 0.0993\n",
      "Epoch 35/50\n",
      "56000/56000 [==============================] - 9s 159us/step - loss: nan - accuracy: 0.0993\n",
      "Epoch 36/50\n",
      "56000/56000 [==============================] - 8s 149us/step - loss: nan - accuracy: 0.0993\n",
      "Epoch 37/50\n",
      "56000/56000 [==============================] - 8s 145us/step - loss: nan - accuracy: 0.0993\n",
      "Epoch 38/50\n",
      "56000/56000 [==============================] - 8s 144us/step - loss: nan - accuracy: 0.0993\n",
      "Epoch 39/50\n",
      "56000/56000 [==============================] - 8s 148us/step - loss: nan - accuracy: 0.0993\n",
      "Epoch 40/50\n",
      "56000/56000 [==============================] - 8s 140us/step - loss: nan - accuracy: 0.0993\n",
      "Epoch 41/50\n",
      "56000/56000 [==============================] - 8s 145us/step - loss: nan - accuracy: 0.0993\n",
      "Epoch 42/50\n",
      "56000/56000 [==============================] - 8s 142us/step - loss: nan - accuracy: 0.0993\n",
      "Epoch 43/50\n",
      "56000/56000 [==============================] - 8s 152us/step - loss: nan - accuracy: 0.0993\n",
      "Epoch 44/50\n",
      "56000/56000 [==============================] - 8s 145us/step - loss: nan - accuracy: 0.0993\n",
      "Epoch 45/50\n",
      "56000/56000 [==============================] - 8s 143us/step - loss: nan - accuracy: 0.0993\n",
      "Epoch 46/50\n",
      "56000/56000 [==============================] - 8s 145us/step - loss: nan - accuracy: 0.0993\n",
      "Epoch 47/50\n",
      "56000/56000 [==============================] - 8s 144us/step - loss: nan - accuracy: 0.0993\n",
      "Epoch 48/50\n",
      "56000/56000 [==============================] - 8s 144us/step - loss: nan - accuracy: 0.0993\n",
      "Epoch 49/50\n",
      "56000/56000 [==============================] - 8s 144us/step - loss: nan - accuracy: 0.0993\n",
      "Epoch 50/50\n",
      "56000/56000 [==============================] - 8s 142us/step - loss: nan - accuracy: 0.0993\n",
      "14000/14000 [==============================] - 1s 57us/step\n",
      "Epoch 1/50\n",
      "56000/56000 [==============================] - 9s 163us/step - loss: 0.2584 - accuracy: 0.9236\n",
      "Epoch 2/50\n",
      "56000/56000 [==============================] - 9s 162us/step - loss: 0.1162 - accuracy: 0.9669\n",
      "Epoch 3/50\n",
      "56000/56000 [==============================] - 9s 160us/step - loss: 0.0908 - accuracy: 0.9738\n",
      "Epoch 4/50\n",
      "56000/56000 [==============================] - 9s 164us/step - loss: 0.0724 - accuracy: 0.9791\n",
      "Epoch 5/50\n",
      "56000/56000 [==============================] - 9s 163us/step - loss: 0.0665 - accuracy: 0.9811\n",
      "Epoch 6/50\n",
      "56000/56000 [==============================] - 10s 176us/step - loss: 0.0561 - accuracy: 0.9846\n",
      "Epoch 7/50\n",
      "56000/56000 [==============================] - 10s 170us/step - loss: 0.0516 - accuracy: 0.9861\n",
      "Epoch 8/50\n",
      "56000/56000 [==============================] - 9s 155us/step - loss: 0.0428 - accuracy: 0.9883\n",
      "Epoch 9/50\n",
      "56000/56000 [==============================] - ETA: 0s - loss: 0.0425 - accuracy: 0.98 - 9s 162us/step - loss: 0.0426 - accuracy: 0.9890\n",
      "Epoch 10/50\n",
      "56000/56000 [==============================] - 9s 158us/step - loss: 0.0466 - accuracy: 0.9878\n",
      "Epoch 11/50\n",
      "56000/56000 [==============================] - 9s 155us/step - loss: 0.0429 - accuracy: 0.9895\n",
      "Epoch 12/50\n",
      "56000/56000 [==============================] - 9s 160us/step - loss: 0.0364 - accuracy: 0.9905\n",
      "Epoch 13/50\n",
      "56000/56000 [==============================] - 9s 161us/step - loss: 0.0397 - accuracy: 0.9903\n",
      "Epoch 14/50\n",
      "56000/56000 [==============================] - 9s 152us/step - loss: 0.0367 - accuracy: 0.9908\n",
      "Epoch 15/50\n",
      "56000/56000 [==============================] - 8s 142us/step - loss: 0.0343 - accuracy: 0.9915\n",
      "Epoch 16/50\n",
      "56000/56000 [==============================] - 8s 146us/step - loss: nan - accuracy: 0.6499\n",
      "Epoch 17/50\n",
      "56000/56000 [==============================] - 8s 143us/step - loss: nan - accuracy: 0.0984\n",
      "Epoch 18/50\n",
      "56000/56000 [==============================] - 8s 147us/step - loss: nan - accuracy: 0.0984\n",
      "Epoch 19/50\n",
      "56000/56000 [==============================] - 8s 142us/step - loss: nan - accuracy: 0.0984\n",
      "Epoch 20/50\n",
      "56000/56000 [==============================] - 8s 147us/step - loss: nan - accuracy: 0.0984\n",
      "Epoch 21/50\n",
      "56000/56000 [==============================] - 8s 144us/step - loss: nan - accuracy: 0.0984\n",
      "Epoch 22/50\n",
      "56000/56000 [==============================] - 8s 151us/step - loss: nan - accuracy: 0.0984\n",
      "Epoch 23/50\n",
      "56000/56000 [==============================] - 8s 141us/step - loss: nan - accuracy: 0.0984\n",
      "Epoch 24/50\n",
      "56000/56000 [==============================] - 8s 148us/step - loss: nan - accuracy: 0.0984\n",
      "Epoch 25/50\n",
      "56000/56000 [==============================] - 8s 150us/step - loss: nan - accuracy: 0.0984\n",
      "Epoch 26/50\n",
      "56000/56000 [==============================] - 9s 158us/step - loss: nan - accuracy: 0.0984\n",
      "Epoch 27/50\n",
      "56000/56000 [==============================] - 9s 152us/step - loss: nan - accuracy: 0.0984\n",
      "Epoch 28/50\n",
      "56000/56000 [==============================] - ETA: 0s - loss: nan - accuracy: 0.098 - 9s 157us/step - loss: nan - accuracy: 0.0984\n",
      "Epoch 29/50\n",
      "56000/56000 [==============================] - 8s 147us/step - loss: nan - accuracy: 0.0984\n",
      "Epoch 30/50\n",
      "56000/56000 [==============================] - 10s 178us/step - loss: nan - accuracy: 0.0984\n",
      "Epoch 31/50\n",
      "56000/56000 [==============================] - 7s 132us/step - loss: nan - accuracy: 0.0984\n",
      "Epoch 32/50\n",
      "56000/56000 [==============================] - 7s 133us/step - loss: nan - accuracy: 0.0984\n",
      "Epoch 33/50\n",
      "56000/56000 [==============================] - 7s 126us/step - loss: nan - accuracy: 0.0984\n",
      "Epoch 34/50\n",
      "56000/56000 [==============================] - 8s 138us/step - loss: nan - accuracy: 0.0984\n",
      "Epoch 35/50\n",
      "56000/56000 [==============================] - 7s 133us/step - loss: nan - accuracy: 0.0984\n",
      "Epoch 36/50\n",
      "56000/56000 [==============================] - 9s 153us/step - loss: nan - accuracy: 0.0984\n",
      "Epoch 37/50\n",
      "56000/56000 [==============================] - 8s 138us/step - loss: nan - accuracy: 0.0984\n",
      "Epoch 38/50\n",
      "56000/56000 [==============================] - 9s 159us/step - loss: nan - accuracy: 0.0984\n",
      "Epoch 39/50\n",
      "56000/56000 [==============================] - 8s 143us/step - loss: nan - accuracy: 0.0984\n",
      "Epoch 40/50\n",
      "56000/56000 [==============================] - 9s 158us/step - loss: nan - accuracy: 0.0984\n",
      "Epoch 41/50\n",
      "56000/56000 [==============================] - 8s 145us/step - loss: nan - accuracy: 0.0984\n",
      "Epoch 42/50\n",
      "56000/56000 [==============================] - 8s 149us/step - loss: nan - accuracy: 0.0984\n",
      "Epoch 43/50\n",
      "56000/56000 [==============================] - 8s 148us/step - loss: nan - accuracy: 0.0984\n",
      "Epoch 44/50\n",
      "56000/56000 [==============================] - 9s 155us/step - loss: nan - accuracy: 0.0984\n",
      "Epoch 45/50\n",
      "56000/56000 [==============================] - 9s 156us/step - loss: nan - accuracy: 0.0984\n",
      "Epoch 46/50\n",
      "56000/56000 [==============================] - 8s 146us/step - loss: nan - accuracy: 0.0984\n",
      "Epoch 47/50\n",
      "56000/56000 [==============================] - 8s 148us/step - loss: nan - accuracy: 0.0984\n",
      "Epoch 48/50\n",
      "56000/56000 [==============================] - 8s 144us/step - loss: nan - accuracy: 0.0984\n",
      "Epoch 49/50\n",
      "56000/56000 [==============================] - 8s 148us/step - loss: nan - accuracy: 0.0984\n",
      "Epoch 50/50\n",
      "56000/56000 [==============================] - 8s 144us/step - loss: nan - accuracy: 0.0984\n",
      "14000/14000 [==============================] - 1s 47us/step\n",
      "Epoch 1/50\n",
      "56000/56000 [==============================] - 9s 157us/step - loss: 0.2534 - accuracy: 0.9233\n",
      "Epoch 2/50\n",
      "56000/56000 [==============================] - 8s 138us/step - loss: 0.1121 - accuracy: 0.9674\n",
      "Epoch 3/50\n",
      "56000/56000 [==============================] - 8s 142us/step - loss: 0.0837 - accuracy: 0.9757\n",
      "Epoch 4/50\n",
      "56000/56000 [==============================] - 7s 132us/step - loss: 0.0711 - accuracy: 0.9799\n",
      "Epoch 5/50\n",
      "56000/56000 [==============================] - 9s 152us/step - loss: 0.0634 - accuracy: 0.9817\n",
      "Epoch 6/50\n",
      "56000/56000 [==============================] - 8s 135us/step - loss: 0.0544 - accuracy: 0.9860\n",
      "Epoch 7/50\n",
      "56000/56000 [==============================] - 8s 140us/step - loss: 0.0498 - accuracy: 0.9865\n",
      "Epoch 8/50\n",
      "56000/56000 [==============================] - 8s 145us/step - loss: 0.0471 - accuracy: 0.9873\n",
      "Epoch 9/50\n",
      "56000/56000 [==============================] - 9s 161us/step - loss: 0.0464 - accuracy: 0.9879\n",
      "Epoch 10/50\n",
      "56000/56000 [==============================] - 8s 135us/step - loss: 0.0468 - accuracy: 0.9880\n",
      "Epoch 11/50\n",
      "56000/56000 [==============================] - 8s 144us/step - loss: 0.0438 - accuracy: 0.9898\n",
      "Epoch 12/50\n",
      "56000/56000 [==============================] - 7s 133us/step - loss: 0.0414 - accuracy: 0.9904\n",
      "Epoch 13/50\n",
      "56000/56000 [==============================] - 8s 137us/step - loss: nan - accuracy: 0.3889\n",
      "Epoch 14/50\n",
      "56000/56000 [==============================] - 9s 152us/step - loss: nan - accuracy: 0.0985\n",
      "Epoch 15/50\n",
      "56000/56000 [==============================] - 9s 153us/step - loss: nan - accuracy: 0.0985\n",
      "Epoch 16/50\n",
      "56000/56000 [==============================] - 7s 128us/step - loss: nan - accuracy: 0.0985\n",
      "Epoch 17/50\n",
      "56000/56000 [==============================] - 8s 138us/step - loss: nan - accuracy: 0.0985\n",
      "Epoch 18/50\n",
      "56000/56000 [==============================] - 8s 143us/step - loss: nan - accuracy: 0.0985 0s - loss: nan - accur\n",
      "Epoch 19/50\n",
      "56000/56000 [==============================] - 8s 140us/step - loss: nan - accuracy: 0.0985\n",
      "Epoch 20/50\n",
      "56000/56000 [==============================] - 8s 141us/step - loss: nan - accuracy: 0.0985\n",
      "Epoch 21/50\n",
      "56000/56000 [==============================] - 8s 140us/step - loss: nan - accuracy: 0.0985\n",
      "Epoch 22/50\n",
      "56000/56000 [==============================] - 8s 134us/step - loss: nan - accuracy: 0.0985\n",
      "Epoch 23/50\n",
      "56000/56000 [==============================] - 8s 151us/step - loss: nan - accuracy: 0.0985\n",
      "Epoch 24/50\n",
      "56000/56000 [==============================] - 8s 139us/step - loss: nan - accuracy: 0.0985\n",
      "Epoch 25/50\n",
      "56000/56000 [==============================] - 8s 147us/step - loss: nan - accuracy: 0.0985\n",
      "Epoch 26/50\n",
      "56000/56000 [==============================] - 8s 138us/step - loss: nan - accuracy: 0.0985\n",
      "Epoch 27/50\n",
      "56000/56000 [==============================] - 8s 140us/step - loss: nan - accuracy: 0.0985\n",
      "Epoch 28/50\n",
      "56000/56000 [==============================] - 7s 133us/step - loss: nan - accuracy: 0.0985\n",
      "Epoch 29/50\n",
      "56000/56000 [==============================] - 8s 139us/step - loss: nan - accuracy: 0.0985\n",
      "Epoch 30/50\n",
      "56000/56000 [==============================] - 8s 141us/step - loss: nan - accuracy: 0.0985\n",
      "Epoch 31/50\n",
      "56000/56000 [==============================] - 8s 139us/step - loss: nan - accuracy: 0.0985\n",
      "Epoch 32/50\n",
      "56000/56000 [==============================] - 8s 138us/step - loss: nan - accuracy: 0.0985\n",
      "Epoch 33/50\n",
      "56000/56000 [==============================] - 9s 153us/step - loss: nan - accuracy: 0.0985\n",
      "Epoch 34/50\n",
      "56000/56000 [==============================] - 8s 138us/step - loss: nan - accuracy: 0.0985\n",
      "Epoch 35/50\n",
      "56000/56000 [==============================] - 9s 152us/step - loss: nan - accuracy: 0.0985\n",
      "Epoch 36/50\n",
      "56000/56000 [==============================] - 8s 146us/step - loss: nan - accuracy: 0.0985\n",
      "Epoch 37/50\n",
      "56000/56000 [==============================] - 8s 135us/step - loss: nan - accuracy: 0.0985\n",
      "Epoch 38/50\n",
      "56000/56000 [==============================] - 8s 144us/step - loss: nan - accuracy: 0.0985\n",
      "Epoch 39/50\n",
      "56000/56000 [==============================] - 8s 142us/step - loss: nan - accuracy: 0.0985\n",
      "Epoch 40/50\n",
      "56000/56000 [==============================] - 7s 127us/step - loss: nan - accuracy: 0.0985\n",
      "Epoch 41/50\n",
      "56000/56000 [==============================] - 8s 146us/step - loss: nan - accuracy: 0.0985\n",
      "Epoch 42/50\n",
      "56000/56000 [==============================] - 8s 138us/step - loss: nan - accuracy: 0.0985\n",
      "Epoch 43/50\n",
      "56000/56000 [==============================] - 8s 142us/step - loss: nan - accuracy: 0.0985\n",
      "Epoch 44/50\n",
      "56000/56000 [==============================] - 8s 146us/step - loss: nan - accuracy: 0.0985\n",
      "Epoch 45/50\n",
      "56000/56000 [==============================] - 8s 145us/step - loss: nan - accuracy: 0.0985\n",
      "Epoch 46/50\n",
      "56000/56000 [==============================] - 10s 171us/step - loss: nan - accuracy: 0.09852s - loss: nan - - ETA: - ETA: 0s - loss: nan - accuracy: 0. - ETA: 0s - loss: nan - accuracy: 0\n",
      "Epoch 47/50\n",
      "56000/56000 [==============================] - 9s 157us/step - loss: nan - accuracy: 0.0985\n",
      "Epoch 48/50\n",
      "56000/56000 [==============================] - 10s 186us/step - loss: nan - accuracy: 0.0985\n",
      "Epoch 49/50\n",
      "56000/56000 [==============================] - 8s 137us/step - loss: nan - accuracy: 0.0985\n",
      "Epoch 50/50\n",
      "56000/56000 [==============================] - 7s 129us/step - loss: nan - accuracy: 0.0985\n",
      "14000/14000 [==============================] - 1s 61us/step\n",
      "Epoch 1/50\n",
      "56000/56000 [==============================] - 8s 142us/step - loss: 0.2544 - accuracy: 0.92180s - loss: 0.2\n",
      "Epoch 2/50\n",
      "56000/56000 [==============================] - ETA: 0s - loss: 0.1199 - accuracy: 0.9658 ETA: 0s - - 9s 159us/step - loss: 0.1198 - accuracy: 0.9658\n",
      "Epoch 3/50\n",
      "56000/56000 [==============================] - 10s 175us/step - loss: 0.0895 - accuracy: 0.9747\n",
      "Epoch 4/50\n",
      "56000/56000 [==============================] - 8s 149us/step - loss: 0.0750 - accuracy: 0.9787\n",
      "Epoch 5/50\n",
      "56000/56000 [==============================] - 7s 128us/step - loss: 0.0650 - accuracy: 0.9808\n",
      "Epoch 6/50\n",
      "56000/56000 [==============================] - 7s 131us/step - loss: 0.0567 - accuracy: 0.9844\n",
      "Epoch 7/50\n",
      "56000/56000 [==============================] - 7s 130us/step - loss: 0.0566 - accuracy: 0.9847\n",
      "Epoch 8/50\n",
      "56000/56000 [==============================] - 8s 136us/step - loss: 0.0478 - accuracy: 0.9877\n",
      "Epoch 9/50\n",
      "56000/56000 [==============================] - ETA: 0s - loss: 0.0471 - accuracy: 0.98 - 8s 145us/step - loss: 0.0474 - accuracy: 0.9864\n",
      "Epoch 10/50\n",
      "56000/56000 [==============================] - 7s 132us/step - loss: 0.0451 - accuracy: 0.9885\n",
      "Epoch 11/50\n",
      "56000/56000 [==============================] - 7s 129us/step - loss: 0.0371 - accuracy: 0.9900\n",
      "Epoch 12/50\n",
      "56000/56000 [==============================] - 7s 129us/step - loss: 0.0457 - accuracy: 0.9887\n",
      "Epoch 13/50\n",
      "56000/56000 [==============================] - 8s 139us/step - loss: 0.0430 - accuracy: 0.9899\n",
      "Epoch 14/50\n",
      "56000/56000 [==============================] - 8s 144us/step - loss: nan - accuracy: 0.9629\n",
      "Epoch 15/50\n",
      "56000/56000 [==============================] - 12s 219us/step - loss: nan - accuracy: 0.0988\n",
      "Epoch 16/50\n",
      "56000/56000 [==============================] - 10s 178us/step - loss: nan - accuracy: 0.0988\n",
      "Epoch 17/50\n",
      "56000/56000 [==============================] - 8s 139us/step - loss: nan - accuracy: 0.0988\n",
      "Epoch 18/50\n",
      "56000/56000 [==============================] - 8s 139us/step - loss: nan - accuracy: 0.0988\n",
      "Epoch 19/50\n",
      "56000/56000 [==============================] - 7s 133us/step - loss: nan - accuracy: 0.0988\n",
      "Epoch 20/50\n",
      "56000/56000 [==============================] - 10s 182us/step - loss: nan - accuracy: 0.0988\n",
      "Epoch 21/50\n",
      "56000/56000 [==============================] - 8s 135us/step - loss: nan - accuracy: 0.0988\n",
      "Epoch 22/50\n",
      "56000/56000 [==============================] - 7s 132us/step - loss: nan - accuracy: 0.0988\n",
      "Epoch 23/50\n",
      "56000/56000 [==============================] - 7s 127us/step - loss: nan - accuracy: 0.0988\n",
      "Epoch 24/50\n",
      "56000/56000 [==============================] - 7s 132us/step - loss: nan - accuracy: 0.0988\n",
      "Epoch 25/50\n",
      "56000/56000 [==============================] - 7s 133us/step - loss: nan - accuracy: 0.0988\n",
      "Epoch 26/50\n",
      "56000/56000 [==============================] - 7s 132us/step - loss: nan - accuracy: 0.0988\n",
      "Epoch 27/50\n",
      "56000/56000 [==============================] - 8s 137us/step - loss: nan - accuracy: 0.0988\n",
      "Epoch 28/50\n",
      "56000/56000 [==============================] - 8s 149us/step - loss: nan - accuracy: 0.0988\n",
      "Epoch 29/50\n",
      "56000/56000 [==============================] - 8s 143us/step - loss: nan - accuracy: 0.0988\n",
      "Epoch 30/50\n",
      "56000/56000 [==============================] - 8s 146us/step - loss: nan - accuracy: 0.0988\n",
      "Epoch 31/50\n",
      "56000/56000 [==============================] - 8s 144us/step - loss: nan - accuracy: 0.0988\n",
      "Epoch 32/50\n",
      "56000/56000 [==============================] - 8s 144us/step - loss: nan - accuracy: 0.0988\n",
      "Epoch 33/50\n",
      "56000/56000 [==============================] - 8s 140us/step - loss: nan - accuracy: 0.0988\n",
      "Epoch 34/50\n",
      "56000/56000 [==============================] - 8s 148us/step - loss: nan - accuracy: 0.0988\n",
      "Epoch 35/50\n",
      "56000/56000 [==============================] - 8s 140us/step - loss: nan - accuracy: 0.0988\n",
      "Epoch 36/50\n",
      "56000/56000 [==============================] - 8s 143us/step - loss: nan - accuracy: 0.0988\n",
      "Epoch 37/50\n",
      "56000/56000 [==============================] - 8s 142us/step - loss: nan - accuracy: 0.0988\n",
      "Epoch 38/50\n",
      "56000/56000 [==============================] - 8s 145us/step - loss: nan - accuracy: 0.0988\n",
      "Epoch 39/50\n",
      "56000/56000 [==============================] - 8s 140us/step - loss: nan - accuracy: 0.0988\n",
      "Epoch 40/50\n",
      "56000/56000 [==============================] - 8s 147us/step - loss: nan - accuracy: 0.0988\n",
      "Epoch 41/50\n",
      "56000/56000 [==============================] - 8s 145us/step - loss: nan - accuracy: 0.0988\n",
      "Epoch 42/50\n",
      "56000/56000 [==============================] - 8s 141us/step - loss: nan - accuracy: 0.0988\n",
      "Epoch 43/50\n",
      "56000/56000 [==============================] - 8s 140us/step - loss: nan - accuracy: 0.0988\n",
      "Epoch 44/50\n",
      "56000/56000 [==============================] - 9s 153us/step - loss: nan - accuracy: 0.0988\n",
      "Epoch 45/50\n",
      "56000/56000 [==============================] - 7s 133us/step - loss: nan - accuracy: 0.0988\n",
      "Epoch 46/50\n",
      "56000/56000 [==============================] - 8s 138us/step - loss: nan - accuracy: 0.0988\n",
      "Epoch 47/50\n",
      "56000/56000 [==============================] - 8s 142us/step - loss: nan - accuracy: 0.0988\n",
      "Epoch 48/50\n",
      "56000/56000 [==============================] - 8s 145us/step - loss: nan - accuracy: 0.0988\n",
      "Epoch 49/50\n",
      "56000/56000 [==============================] - 8s 142us/step - loss: nan - accuracy: 0.0988\n",
      "Epoch 50/50\n",
      "56000/56000 [==============================] - 8s 149us/step - loss: nan - accuracy: 0.0988\n",
      "14000/14000 [==============================] - 1s 71us/step\n"
     ]
    }
   ],
   "source": [
    "clf = KerasClassifier(build_fn = build_classifier, epochs = 50)\n",
    "accuracies = cross_val_score(estimator = clf, X = x, y = y, cv = 5)"
   ]
  },
  {
   "cell_type": "code",
   "execution_count": 27,
   "metadata": {
    "collapsed": false
   },
   "outputs": [
    {
     "data": {
      "text/plain": [
       "array([0.10035715, 0.09607143, 0.0995    , 0.09907143, 0.09807143])"
      ]
     },
     "execution_count": 27,
     "metadata": {},
     "output_type": "execute_result"
    }
   ],
   "source": [
    "accuracies    #### 训练出现大量loss: nan 导致结果不收敛 1. 梯度爆炸，解决方法：调学习率、梯度剪裁、归一化\n",
    "              ###                                    2. 计算loss的时候有log0，可能是初始化的问题，也可能是数据的问题"
   ]
  },
  {
   "cell_type": "code",
   "execution_count": 30,
   "metadata": {
    "collapsed": false
   },
   "outputs": [
    {
     "name": "stdout",
     "output_type": "stream",
     "text": [
      "Epoch 1/20\n",
      "46666/46666 [==============================] - 8s 177us/step - loss: 0.2663 - accuracy: 0.9185\n",
      "Epoch 2/20\n",
      "46666/46666 [==============================] - 8s 168us/step - loss: 0.1245 - accuracy: 0.9633\n",
      "Epoch 3/20\n",
      "46666/46666 [==============================] - 8s 164us/step - loss: 0.0962 - accuracy: 0.9731\n",
      "Epoch 4/20\n",
      "46666/46666 [==============================] - 8s 175us/step - loss: 0.0809 - accuracy: 0.9780\n",
      "Epoch 5/20\n",
      "46666/46666 [==============================] - 8s 163us/step - loss: 0.0701 - accuracy: 0.9807\n",
      "Epoch 6/20\n",
      "46666/46666 [==============================] - 8s 177us/step - loss: 0.0583 - accuracy: 0.9832\n",
      "Epoch 7/20\n",
      "46666/46666 [==============================] - 9s 192us/step - loss: 0.0525 - accuracy: 0.9854\n",
      "Epoch 8/20\n",
      "46666/46666 [==============================] - 9s 190us/step - loss: 0.0476 - accuracy: 0.9869\n",
      "Epoch 9/20\n",
      "46666/46666 [==============================] - 9s 183us/step - loss: 0.0478 - accuracy: 0.9875\n",
      "Epoch 10/20\n",
      "46666/46666 [==============================] - 8s 163us/step - loss: 0.0399 - accuracy: 0.9890\n",
      "Epoch 11/20\n",
      "46666/46666 [==============================] - 7s 156us/step - loss: 0.0358 - accuracy: 0.9908\n",
      "Epoch 12/20\n",
      "46666/46666 [==============================] - 8s 166us/step - loss: 0.0358 - accuracy: 0.9907\n",
      "Epoch 13/20\n",
      "46666/46666 [==============================] - 7s 159us/step - loss: 0.0379 - accuracy: 0.9905\n",
      "Epoch 14/20\n",
      "46666/46666 [==============================] - 7s 160us/step - loss: 0.0332 - accuracy: 0.9917\n",
      "Epoch 15/20\n",
      "46666/46666 [==============================] - 7s 156us/step - loss: 0.0346 - accuracy: 0.9917\n",
      "Epoch 16/20\n",
      "46666/46666 [==============================] - 8s 171us/step - loss: 0.0283 - accuracy: 0.9927\n",
      "Epoch 17/20\n",
      "46666/46666 [==============================] - 8s 163us/step - loss: 0.0340 - accuracy: 0.9919\n",
      "Epoch 18/20\n",
      "46666/46666 [==============================] - 8s 178us/step - loss: 0.0264 - accuracy: 0.9937\n",
      "Epoch 19/20\n",
      "46666/46666 [==============================] - 7s 157us/step - loss: 0.0276 - accuracy: 0.9934\n",
      "Epoch 20/20\n",
      "46666/46666 [==============================] - 8s 171us/step - loss: 0.0280 - accuracy: 0.9929\n",
      "23334/23334 [==============================] - 1s 60us/step\n",
      "Epoch 1/20\n",
      "46667/46667 [==============================] - 8s 175us/step - loss: 0.2588 - accuracy: 0.9219\n",
      "Epoch 2/20\n",
      "46667/46667 [==============================] - 8s 177us/step - loss: 0.1231 - accuracy: 0.9643\n",
      "Epoch 3/20\n",
      "46667/46667 [==============================] - 8s 173us/step - loss: 0.0962 - accuracy: 0.9723\n",
      "Epoch 4/20\n",
      "46667/46667 [==============================] - 8s 179us/step - loss: 0.0773 - accuracy: 0.9780\n",
      "Epoch 5/20\n",
      "46667/46667 [==============================] - 8s 170us/step - loss: 0.0626 - accuracy: 0.9813\n",
      "Epoch 6/20\n",
      "46667/46667 [==============================] - 8s 177us/step - loss: 0.0593 - accuracy: 0.9830\n",
      "Epoch 7/20\n",
      "46667/46667 [==============================] - 8s 172us/step - loss: 0.0527 - accuracy: 0.9851\n",
      "Epoch 8/20\n",
      "46667/46667 [==============================] - 8s 173us/step - loss: 0.0473 - accuracy: 0.9871\n",
      "Epoch 9/20\n",
      "46667/46667 [==============================] - 8s 164us/step - loss: 0.0397 - accuracy: 0.9891\n",
      "Epoch 10/20\n",
      "46667/46667 [==============================] - 8s 169us/step - loss: 0.0427 - accuracy: 0.9881\n",
      "Epoch 11/20\n",
      "46667/46667 [==============================] - 8s 163us/step - loss: 0.0381 - accuracy: 0.9903\n",
      "Epoch 12/20\n",
      "46667/46667 [==============================] - 8s 168us/step - loss: 0.0357 - accuracy: 0.9902\n",
      "Epoch 13/20\n",
      "46667/46667 [==============================] - 8s 161us/step - loss: 0.0366 - accuracy: 0.9903\n",
      "Epoch 14/20\n",
      "46667/46667 [==============================] - 8s 182us/step - loss: 0.0306 - accuracy: 0.9919\n",
      "Epoch 15/20\n",
      "46667/46667 [==============================] - 8s 163us/step - loss: 0.0274 - accuracy: 0.9927\n",
      "Epoch 16/20\n",
      "46667/46667 [==============================] - 8s 170us/step - loss: 0.0313 - accuracy: 0.9920\n",
      "Epoch 17/20\n",
      "46667/46667 [==============================] - 9s 188us/step - loss: 0.0254 - accuracy: 0.9939\n",
      "Epoch 18/20\n",
      "46667/46667 [==============================] - 8s 176us/step - loss: 0.0284 - accuracy: 0.9931\n",
      "Epoch 19/20\n",
      "46667/46667 [==============================] - 8s 162us/step - loss: 0.0263 - accuracy: 0.9940\n",
      "Epoch 20/20\n",
      "46667/46667 [==============================] - 8s 168us/step - loss: 0.0265 - accuracy: 0.9935\n",
      "23333/23333 [==============================] - 2s 65us/step\n",
      "Epoch 1/20\n",
      "46667/46667 [==============================] - 9s 189us/step - loss: 0.2721 - accuracy: 0.9171\n",
      "Epoch 2/20\n",
      "46667/46667 [==============================] - 8s 168us/step - loss: 0.1246 - accuracy: 0.9639\n",
      "Epoch 3/20\n",
      "46667/46667 [==============================] - 8s 179us/step - loss: 0.0975 - accuracy: 0.9729\n",
      "Epoch 4/20\n",
      "46667/46667 [==============================] - 8s 176us/step - loss: 0.0816 - accuracy: 0.9772\n",
      "Epoch 5/20\n",
      "46667/46667 [==============================] - 9s 188us/step - loss: 0.0648 - accuracy: 0.9815\n",
      "Epoch 6/20\n",
      "46667/46667 [==============================] - 10s 224us/step - loss: 0.0607 - accuracy: 0.9829\n",
      "Epoch 7/20\n",
      "46667/46667 [==============================] - 10s 216us/step - loss: 0.0537 - accuracy: 0.9853\n",
      "Epoch 8/20\n",
      "46667/46667 [==============================] - 8s 175us/step - loss: 0.0481 - accuracy: 0.9869\n",
      "Epoch 9/20\n",
      "46667/46667 [==============================] - 8s 161us/step - loss: 0.0461 - accuracy: 0.9872\n",
      "Epoch 10/20\n",
      "46667/46667 [==============================] - 10s 210us/step - loss: 0.0422 - accuracy: 0.9890\n",
      "Epoch 11/20\n",
      "46667/46667 [==============================] - 8s 179us/step - loss: 0.0406 - accuracy: 0.9891\n",
      "Epoch 12/20\n",
      "46667/46667 [==============================] - 10s 217us/step - loss: 0.0391 - accuracy: 0.9895\n",
      "Epoch 13/20\n",
      "46667/46667 [==============================] - 8s 169us/step - loss: 0.0364 - accuracy: 0.9908\n",
      "Epoch 14/20\n",
      "46667/46667 [==============================] - 8s 161us/step - loss: 0.0330 - accuracy: 0.9917\n",
      "Epoch 15/20\n",
      "46667/46667 [==============================] - 7s 157us/step - loss: 0.0355 - accuracy: 0.9913\n",
      "Epoch 16/20\n",
      "46667/46667 [==============================] - 7s 150us/step - loss: 0.0276 - accuracy: 0.9935\n",
      "Epoch 17/20\n",
      "46667/46667 [==============================] - 8s 179us/step - loss: 0.0276 - accuracy: 0.9931\n",
      "Epoch 18/20\n",
      "46667/46667 [==============================] - 8s 176us/step - loss: 0.0344 - accuracy: 0.9925\n",
      "Epoch 19/20\n",
      "46667/46667 [==============================] - 8s 170us/step - loss: 0.0265 - accuracy: 0.9937\n",
      "Epoch 20/20\n",
      "46667/46667 [==============================] - 8s 178us/step - loss: 0.0287 - accuracy: 0.9935\n",
      "23333/23333 [==============================] - 2s 68us/step\n"
     ]
    }
   ],
   "source": [
    "clf = KerasClassifier(build_fn = build_classifier, epochs = 20)\n",
    "accuracies = cross_val_score(estimator = clf, X = x, y = y, cv = 3)"
   ]
  },
  {
   "cell_type": "code",
   "execution_count": 31,
   "metadata": {
    "collapsed": false
   },
   "outputs": [
    {
     "data": {
      "text/plain": [
       "array([0.97741491, 0.97548538, 0.97758538])"
      ]
     },
     "execution_count": 31,
     "metadata": {},
     "output_type": "execute_result"
    }
   ],
   "source": [
    "accuracies"
   ]
  },
  {
   "cell_type": "code",
   "execution_count": 32,
   "metadata": {
    "collapsed": false
   },
   "outputs": [
    {
     "data": {
      "text/plain": [
       "0.9768285552660624"
      ]
     },
     "execution_count": 32,
     "metadata": {},
     "output_type": "execute_result"
    }
   ],
   "source": [
    "accuracies.mean()"
   ]
  },
  {
   "cell_type": "code",
   "execution_count": 33,
   "metadata": {
    "collapsed": false
   },
   "outputs": [
    {
     "data": {
      "text/plain": [
       "0.0009523115023649224"
      ]
     },
     "execution_count": 33,
     "metadata": {},
     "output_type": "execute_result"
    }
   ],
   "source": [
    "accuracies.std()"
   ]
  },
  {
   "cell_type": "code",
   "execution_count": 38,
   "metadata": {
    "collapsed": false
   },
   "outputs": [
    {
     "name": "stdout",
     "output_type": "stream",
     "text": [
      "Epoch 1/20\n",
      "60000/60000 [==============================] - 12s 207us/step - loss: 0.2428 - accuracy: 0.9269\n",
      "Epoch 2/20\n",
      "60000/60000 [==============================] - 14s 233us/step - loss: 0.1163 - accuracy: 0.9666\n",
      "Epoch 3/20\n",
      "60000/60000 [==============================] - 12s 194us/step - loss: 0.0930 - accuracy: 0.9730\n",
      "Epoch 4/20\n",
      "60000/60000 [==============================] - 11s 191us/step - loss: 0.0767 - accuracy: 0.9784\n",
      "Epoch 5/20\n",
      "60000/60000 [==============================] - 11s 181us/step - loss: 0.0641 - accuracy: 0.9819\n",
      "Epoch 6/20\n",
      "60000/60000 [==============================] - 11s 182us/step - loss: 0.0580 - accuracy: 0.9835\n",
      "Epoch 7/20\n",
      "60000/60000 [==============================] - 11s 178us/step - loss: 0.0534 - accuracy: 0.9855\n",
      "Epoch 8/20\n",
      "60000/60000 [==============================] - 10s 173us/step - loss: 0.0495 - accuracy: 0.9866\n",
      "Epoch 9/20\n",
      "60000/60000 [==============================] - 11s 191us/step - loss: 0.0469 - accuracy: 0.9871\n",
      "Epoch 10/20\n",
      "60000/60000 [==============================] - 12s 198us/step - loss: 0.0443 - accuracy: 0.9887\n",
      "Epoch 11/20\n",
      "60000/60000 [==============================] - 11s 189us/step - loss: 0.0359 - accuracy: 0.9898\n",
      "Epoch 12/20\n",
      "60000/60000 [==============================] - 10s 172us/step - loss: 0.0368 - accuracy: 0.9905\n",
      "Epoch 13/20\n",
      "60000/60000 [==============================] - 11s 180us/step - loss: 0.0335 - accuracy: 0.9913\n",
      "Epoch 14/20\n",
      "60000/60000 [==============================] - 11s 178us/step - loss: 0.0385 - accuracy: 0.9905\n",
      "Epoch 15/20\n",
      "60000/60000 [==============================] - 11s 178us/step - loss: 0.0332 - accuracy: 0.9916\n",
      "Epoch 16/20\n",
      "60000/60000 [==============================] - 11s 178us/step - loss: 0.0282 - accuracy: 0.9936\n",
      "Epoch 17/20\n",
      "60000/60000 [==============================] - 11s 177us/step - loss: 0.0305 - accuracy: 0.9922\n",
      "Epoch 18/20\n",
      "60000/60000 [==============================] - 12s 192us/step - loss: 0.0338 - accuracy: 0.9930\n",
      "Epoch 19/20\n",
      "60000/60000 [==============================] - 12s 206us/step - loss: 0.0319 - accuracy: 0.9929\n",
      "Epoch 20/20\n",
      "60000/60000 [==============================] - 11s 179us/step - loss: 0.0285 - accuracy: 0.9934\n"
     ]
    }
   ],
   "source": [
    "clf.fit(train_x, train_y)\n",
    "\n",
    "predict_y = clf.predict(test_x)"
   ]
  },
  {
   "cell_type": "code",
   "execution_count": 39,
   "metadata": {
    "collapsed": false
   },
   "outputs": [
    {
     "data": {
      "text/plain": [
       "array([[ 972,    1,    1,    0,    0,    1,    2,    1,    2,    0],\n",
       "       [   1, 1122,    2,    3,    0,    1,    1,    2,    3,    0],\n",
       "       [   2,    0, 1001,    8,    3,    2,    0,    6,    9,    1],\n",
       "       [   0,    0,    5,  992,    0,    1,    0,    4,    6,    2],\n",
       "       [   0,    3,    3,    0,  962,    0,    4,    2,    0,    8],\n",
       "       [   1,    2,    0,   11,    2,  859,   10,    0,    4,    3],\n",
       "       [   3,    2,    0,    0,    4,    5,  942,    0,    2,    0],\n",
       "       [   0,    3,    5,    1,    1,    0,    0, 1009,    4,    5],\n",
       "       [   0,    1,    2,    6,    4,    3,    0,    4,  951,    3],\n",
       "       [   2,    3,    0,    5,   10,    0,    0,   15,    4,  970]],\n",
       "      dtype=int64)"
      ]
     },
     "execution_count": 39,
     "metadata": {},
     "output_type": "execute_result"
    }
   ],
   "source": [
    "clf_cm = confusion_matrix(test_y, predict_y)\n",
    "clf_cm"
   ]
  },
  {
   "cell_type": "code",
   "execution_count": 40,
   "metadata": {
    "collapsed": false
   },
   "outputs": [
    {
     "name": "stderr",
     "output_type": "stream",
     "text": [
      "e:\\anaconda3\\lib\\site-packages\\numpy\\lib\\arraysetops.py:567: FutureWarning: elementwise comparison failed; returning scalar instead, but in the future will perform elementwise comparison\n",
      "  mask &= (ar1 != a)\n"
     ]
    },
    {
     "name": "stdout",
     "output_type": "stream",
     "text": [
      "              precision    recall  f1-score   support\n",
      "\n",
      "           0       0.99      0.98      0.99       980\n",
      "           1       0.99      0.99      0.99      1135\n",
      "           2       0.98      0.97      0.98      1032\n",
      "           3       0.98      0.98      0.98      1010\n",
      "           4       0.99      0.97      0.98       982\n",
      "           5       0.99      0.97      0.98       892\n",
      "           6       0.98      0.98      0.98       958\n",
      "           7       0.99      0.97      0.98      1028\n",
      "           8       0.95      0.98      0.96       974\n",
      "           9       0.95      0.98      0.97      1009\n",
      "\n",
      "   micro avg       0.98      0.98      0.98     10000\n",
      "   macro avg       0.98      0.98      0.98     10000\n",
      "weighted avg       0.98      0.98      0.98     10000\n",
      "\n"
     ]
    }
   ],
   "source": [
    "report = classification_report(test_y, predict_y, labels=[0,1,2,3,4,5,6,7,8,9])\n",
    "print(clf_report)"
   ]
  },
  {
   "cell_type": "code",
   "execution_count": null,
   "metadata": {
    "collapsed": true
   },
   "outputs": [],
   "source": []
  },
  {
   "cell_type": "code",
   "execution_count": null,
   "metadata": {
    "collapsed": true
   },
   "outputs": [],
   "source": []
  }
 ],
 "metadata": {
  "anaconda-cloud": {},
  "kernelspec": {
   "display_name": "Python [default]",
   "language": "python",
   "name": "python3"
  },
  "language_info": {
   "codemirror_mode": {
    "name": "ipython",
    "version": 3
   },
   "file_extension": ".py",
   "mimetype": "text/x-python",
   "name": "python",
   "nbconvert_exporter": "python",
   "pygments_lexer": "ipython3",
   "version": "3.5.2"
  }
 },
 "nbformat": 4,
 "nbformat_minor": 4
}
