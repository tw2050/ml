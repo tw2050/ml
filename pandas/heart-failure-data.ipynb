{
 "cells": [
  {
   "cell_type": "markdown",
   "metadata": {},
   "source": [
    "### heart failure data 数据分析"
   ]
  },
  {
   "cell_type": "code",
   "execution_count": 18,
   "metadata": {},
   "outputs": [],
   "source": [
    "import pandas as pd\n",
    "import numpy as np"
   ]
  },
  {
   "cell_type": "code",
   "execution_count": 12,
   "metadata": {},
   "outputs": [],
   "source": [
    "df = pd.read_csv('F:\\ml-data\\heart-failure\\datasets_727551_1263738_heart_failure_clinical_records_dataset.csv')"
   ]
  },
  {
   "cell_type": "code",
   "execution_count": 13,
   "metadata": {},
   "outputs": [
    {
     "data": {
      "text/html": [
       "<div>\n",
       "<style scoped>\n",
       "    .dataframe tbody tr th:only-of-type {\n",
       "        vertical-align: middle;\n",
       "    }\n",
       "\n",
       "    .dataframe tbody tr th {\n",
       "        vertical-align: top;\n",
       "    }\n",
       "\n",
       "    .dataframe thead th {\n",
       "        text-align: right;\n",
       "    }\n",
       "</style>\n",
       "<table border=\"1\" class=\"dataframe\">\n",
       "  <thead>\n",
       "    <tr style=\"text-align: right;\">\n",
       "      <th></th>\n",
       "      <th>age</th>\n",
       "      <th>anaemia</th>\n",
       "      <th>creatinine_phosphokinase</th>\n",
       "      <th>diabetes</th>\n",
       "      <th>ejection_fraction</th>\n",
       "      <th>high_blood_pressure</th>\n",
       "      <th>platelets</th>\n",
       "      <th>serum_creatinine</th>\n",
       "      <th>serum_sodium</th>\n",
       "      <th>sex</th>\n",
       "      <th>smoking</th>\n",
       "      <th>time</th>\n",
       "      <th>DEATH_EVENT</th>\n",
       "    </tr>\n",
       "  </thead>\n",
       "  <tbody>\n",
       "    <tr>\n",
       "      <th>0</th>\n",
       "      <td>75.0</td>\n",
       "      <td>0</td>\n",
       "      <td>582</td>\n",
       "      <td>0</td>\n",
       "      <td>20</td>\n",
       "      <td>1</td>\n",
       "      <td>265000.00</td>\n",
       "      <td>1.9</td>\n",
       "      <td>130</td>\n",
       "      <td>1</td>\n",
       "      <td>0</td>\n",
       "      <td>4</td>\n",
       "      <td>1</td>\n",
       "    </tr>\n",
       "    <tr>\n",
       "      <th>1</th>\n",
       "      <td>55.0</td>\n",
       "      <td>0</td>\n",
       "      <td>7861</td>\n",
       "      <td>0</td>\n",
       "      <td>38</td>\n",
       "      <td>0</td>\n",
       "      <td>263358.03</td>\n",
       "      <td>1.1</td>\n",
       "      <td>136</td>\n",
       "      <td>1</td>\n",
       "      <td>0</td>\n",
       "      <td>6</td>\n",
       "      <td>1</td>\n",
       "    </tr>\n",
       "    <tr>\n",
       "      <th>2</th>\n",
       "      <td>65.0</td>\n",
       "      <td>0</td>\n",
       "      <td>146</td>\n",
       "      <td>0</td>\n",
       "      <td>20</td>\n",
       "      <td>0</td>\n",
       "      <td>162000.00</td>\n",
       "      <td>1.3</td>\n",
       "      <td>129</td>\n",
       "      <td>1</td>\n",
       "      <td>1</td>\n",
       "      <td>7</td>\n",
       "      <td>1</td>\n",
       "    </tr>\n",
       "    <tr>\n",
       "      <th>3</th>\n",
       "      <td>50.0</td>\n",
       "      <td>1</td>\n",
       "      <td>111</td>\n",
       "      <td>0</td>\n",
       "      <td>20</td>\n",
       "      <td>0</td>\n",
       "      <td>210000.00</td>\n",
       "      <td>1.9</td>\n",
       "      <td>137</td>\n",
       "      <td>1</td>\n",
       "      <td>0</td>\n",
       "      <td>7</td>\n",
       "      <td>1</td>\n",
       "    </tr>\n",
       "    <tr>\n",
       "      <th>4</th>\n",
       "      <td>65.0</td>\n",
       "      <td>1</td>\n",
       "      <td>160</td>\n",
       "      <td>1</td>\n",
       "      <td>20</td>\n",
       "      <td>0</td>\n",
       "      <td>327000.00</td>\n",
       "      <td>2.7</td>\n",
       "      <td>116</td>\n",
       "      <td>0</td>\n",
       "      <td>0</td>\n",
       "      <td>8</td>\n",
       "      <td>1</td>\n",
       "    </tr>\n",
       "  </tbody>\n",
       "</table>\n",
       "</div>"
      ],
      "text/plain": [
       "    age  anaemia  creatinine_phosphokinase  diabetes  ejection_fraction  \\\n",
       "0  75.0        0                       582         0                 20   \n",
       "1  55.0        0                      7861         0                 38   \n",
       "2  65.0        0                       146         0                 20   \n",
       "3  50.0        1                       111         0                 20   \n",
       "4  65.0        1                       160         1                 20   \n",
       "\n",
       "   high_blood_pressure  platelets  serum_creatinine  serum_sodium  sex  \\\n",
       "0                    1  265000.00               1.9           130    1   \n",
       "1                    0  263358.03               1.1           136    1   \n",
       "2                    0  162000.00               1.3           129    1   \n",
       "3                    0  210000.00               1.9           137    1   \n",
       "4                    0  327000.00               2.7           116    0   \n",
       "\n",
       "   smoking  time  DEATH_EVENT  \n",
       "0        0     4            1  \n",
       "1        0     6            1  \n",
       "2        1     7            1  \n",
       "3        0     7            1  \n",
       "4        0     8            1  "
      ]
     },
     "execution_count": 13,
     "metadata": {},
     "output_type": "execute_result"
    }
   ],
   "source": [
    "df.head()"
   ]
  },
  {
   "cell_type": "code",
   "execution_count": 21,
   "metadata": {},
   "outputs": [
    {
     "name": "stdout",
     "output_type": "stream",
     "text": [
      "age 0.0%\n",
      "anaemia 0.0%\n",
      "creatinine_phosphokinase 0.0%\n",
      "diabetes 0.0%\n",
      "ejection_fraction 0.0%\n",
      "high_blood_pressure 0.0%\n",
      "platelets 0.0%\n",
      "serum_creatinine 0.0%\n",
      "serum_sodium 0.0%\n",
      "sex 0.0%\n",
      "smoking 0.0%\n",
      "time 0.0%\n",
      "DEATH_EVENT 0.0%\n"
     ]
    }
   ],
   "source": [
    "# 计算每个字段数据为空（缺失数据）的比例\n",
    "for col in df.columns:\n",
    "    null_num = df[col].isnull().sum()\n",
    "    all_num = len(df)\n",
    "    print(col, str(round(100* null_num/all_num, 2)) + '%')\n"
   ]
  },
  {
   "cell_type": "code",
   "execution_count": 22,
   "metadata": {},
   "outputs": [
    {
     "data": {
      "text/html": [
       "<div>\n",
       "<style scoped>\n",
       "    .dataframe tbody tr th:only-of-type {\n",
       "        vertical-align: middle;\n",
       "    }\n",
       "\n",
       "    .dataframe tbody tr th {\n",
       "        vertical-align: top;\n",
       "    }\n",
       "\n",
       "    .dataframe thead th {\n",
       "        text-align: right;\n",
       "    }\n",
       "</style>\n",
       "<table border=\"1\" class=\"dataframe\">\n",
       "  <thead>\n",
       "    <tr style=\"text-align: right;\">\n",
       "      <th></th>\n",
       "      <th>age</th>\n",
       "      <th>anaemia</th>\n",
       "      <th>creatinine_phosphokinase</th>\n",
       "      <th>diabetes</th>\n",
       "      <th>ejection_fraction</th>\n",
       "      <th>high_blood_pressure</th>\n",
       "      <th>platelets</th>\n",
       "      <th>serum_creatinine</th>\n",
       "      <th>serum_sodium</th>\n",
       "      <th>sex</th>\n",
       "      <th>smoking</th>\n",
       "      <th>time</th>\n",
       "      <th>DEATH_EVENT</th>\n",
       "    </tr>\n",
       "  </thead>\n",
       "  <tbody>\n",
       "    <tr>\n",
       "      <th>count</th>\n",
       "      <td>299.000000</td>\n",
       "      <td>299.000000</td>\n",
       "      <td>299.000000</td>\n",
       "      <td>299.000000</td>\n",
       "      <td>299.000000</td>\n",
       "      <td>299.000000</td>\n",
       "      <td>299.000000</td>\n",
       "      <td>299.00000</td>\n",
       "      <td>299.000000</td>\n",
       "      <td>299.000000</td>\n",
       "      <td>299.00000</td>\n",
       "      <td>299.000000</td>\n",
       "      <td>299.00000</td>\n",
       "    </tr>\n",
       "    <tr>\n",
       "      <th>mean</th>\n",
       "      <td>60.833893</td>\n",
       "      <td>0.431438</td>\n",
       "      <td>581.839465</td>\n",
       "      <td>0.418060</td>\n",
       "      <td>38.083612</td>\n",
       "      <td>0.351171</td>\n",
       "      <td>263358.029264</td>\n",
       "      <td>1.39388</td>\n",
       "      <td>136.625418</td>\n",
       "      <td>0.648829</td>\n",
       "      <td>0.32107</td>\n",
       "      <td>130.260870</td>\n",
       "      <td>0.32107</td>\n",
       "    </tr>\n",
       "    <tr>\n",
       "      <th>std</th>\n",
       "      <td>11.894809</td>\n",
       "      <td>0.496107</td>\n",
       "      <td>970.287881</td>\n",
       "      <td>0.494067</td>\n",
       "      <td>11.834841</td>\n",
       "      <td>0.478136</td>\n",
       "      <td>97804.236869</td>\n",
       "      <td>1.03451</td>\n",
       "      <td>4.412477</td>\n",
       "      <td>0.478136</td>\n",
       "      <td>0.46767</td>\n",
       "      <td>77.614208</td>\n",
       "      <td>0.46767</td>\n",
       "    </tr>\n",
       "    <tr>\n",
       "      <th>min</th>\n",
       "      <td>40.000000</td>\n",
       "      <td>0.000000</td>\n",
       "      <td>23.000000</td>\n",
       "      <td>0.000000</td>\n",
       "      <td>14.000000</td>\n",
       "      <td>0.000000</td>\n",
       "      <td>25100.000000</td>\n",
       "      <td>0.50000</td>\n",
       "      <td>113.000000</td>\n",
       "      <td>0.000000</td>\n",
       "      <td>0.00000</td>\n",
       "      <td>4.000000</td>\n",
       "      <td>0.00000</td>\n",
       "    </tr>\n",
       "    <tr>\n",
       "      <th>25%</th>\n",
       "      <td>51.000000</td>\n",
       "      <td>0.000000</td>\n",
       "      <td>116.500000</td>\n",
       "      <td>0.000000</td>\n",
       "      <td>30.000000</td>\n",
       "      <td>0.000000</td>\n",
       "      <td>212500.000000</td>\n",
       "      <td>0.90000</td>\n",
       "      <td>134.000000</td>\n",
       "      <td>0.000000</td>\n",
       "      <td>0.00000</td>\n",
       "      <td>73.000000</td>\n",
       "      <td>0.00000</td>\n",
       "    </tr>\n",
       "    <tr>\n",
       "      <th>50%</th>\n",
       "      <td>60.000000</td>\n",
       "      <td>0.000000</td>\n",
       "      <td>250.000000</td>\n",
       "      <td>0.000000</td>\n",
       "      <td>38.000000</td>\n",
       "      <td>0.000000</td>\n",
       "      <td>262000.000000</td>\n",
       "      <td>1.10000</td>\n",
       "      <td>137.000000</td>\n",
       "      <td>1.000000</td>\n",
       "      <td>0.00000</td>\n",
       "      <td>115.000000</td>\n",
       "      <td>0.00000</td>\n",
       "    </tr>\n",
       "    <tr>\n",
       "      <th>75%</th>\n",
       "      <td>70.000000</td>\n",
       "      <td>1.000000</td>\n",
       "      <td>582.000000</td>\n",
       "      <td>1.000000</td>\n",
       "      <td>45.000000</td>\n",
       "      <td>1.000000</td>\n",
       "      <td>303500.000000</td>\n",
       "      <td>1.40000</td>\n",
       "      <td>140.000000</td>\n",
       "      <td>1.000000</td>\n",
       "      <td>1.00000</td>\n",
       "      <td>203.000000</td>\n",
       "      <td>1.00000</td>\n",
       "    </tr>\n",
       "    <tr>\n",
       "      <th>max</th>\n",
       "      <td>95.000000</td>\n",
       "      <td>1.000000</td>\n",
       "      <td>7861.000000</td>\n",
       "      <td>1.000000</td>\n",
       "      <td>80.000000</td>\n",
       "      <td>1.000000</td>\n",
       "      <td>850000.000000</td>\n",
       "      <td>9.40000</td>\n",
       "      <td>148.000000</td>\n",
       "      <td>1.000000</td>\n",
       "      <td>1.00000</td>\n",
       "      <td>285.000000</td>\n",
       "      <td>1.00000</td>\n",
       "    </tr>\n",
       "  </tbody>\n",
       "</table>\n",
       "</div>"
      ],
      "text/plain": [
       "              age     anaemia  creatinine_phosphokinase    diabetes  \\\n",
       "count  299.000000  299.000000                299.000000  299.000000   \n",
       "mean    60.833893    0.431438                581.839465    0.418060   \n",
       "std     11.894809    0.496107                970.287881    0.494067   \n",
       "min     40.000000    0.000000                 23.000000    0.000000   \n",
       "25%     51.000000    0.000000                116.500000    0.000000   \n",
       "50%     60.000000    0.000000                250.000000    0.000000   \n",
       "75%     70.000000    1.000000                582.000000    1.000000   \n",
       "max     95.000000    1.000000               7861.000000    1.000000   \n",
       "\n",
       "       ejection_fraction  high_blood_pressure      platelets  \\\n",
       "count         299.000000           299.000000     299.000000   \n",
       "mean           38.083612             0.351171  263358.029264   \n",
       "std            11.834841             0.478136   97804.236869   \n",
       "min            14.000000             0.000000   25100.000000   \n",
       "25%            30.000000             0.000000  212500.000000   \n",
       "50%            38.000000             0.000000  262000.000000   \n",
       "75%            45.000000             1.000000  303500.000000   \n",
       "max            80.000000             1.000000  850000.000000   \n",
       "\n",
       "       serum_creatinine  serum_sodium         sex    smoking        time  \\\n",
       "count         299.00000    299.000000  299.000000  299.00000  299.000000   \n",
       "mean            1.39388    136.625418    0.648829    0.32107  130.260870   \n",
       "std             1.03451      4.412477    0.478136    0.46767   77.614208   \n",
       "min             0.50000    113.000000    0.000000    0.00000    4.000000   \n",
       "25%             0.90000    134.000000    0.000000    0.00000   73.000000   \n",
       "50%             1.10000    137.000000    1.000000    0.00000  115.000000   \n",
       "75%             1.40000    140.000000    1.000000    1.00000  203.000000   \n",
       "max             9.40000    148.000000    1.000000    1.00000  285.000000   \n",
       "\n",
       "       DEATH_EVENT  \n",
       "count    299.00000  \n",
       "mean       0.32107  \n",
       "std        0.46767  \n",
       "min        0.00000  \n",
       "25%        0.00000  \n",
       "50%        0.00000  \n",
       "75%        1.00000  \n",
       "max        1.00000  "
      ]
     },
     "execution_count": 22,
     "metadata": {},
     "output_type": "execute_result"
    }
   ],
   "source": [
    "df.describe()"
   ]
  },
  {
   "cell_type": "code",
   "execution_count": 29,
   "metadata": {},
   "outputs": [],
   "source": [
    "import matplotlib.pyplot as plt"
   ]
  },
  {
   "cell_type": "code",
   "execution_count": 32,
   "metadata": {},
   "outputs": [
    {
     "data": {
      "image/png": "[encoded data removed]",
      "text/plain": [
       "<Figure size 1152x648 with 1 Axes>"
      ]
     },
     "metadata": {
      "needs_background": "light"
     },
     "output_type": "display_data"
    }
   ],
   "source": [
    "plt.rcParams['figure.figsize'] = (16, 9)\n",
    "x = pd.crosstab(df['age'], df['sex'])\n",
    "x.plot(kind = 'bar', stacked = False)\n",
    "plt.title('age vs sex', fontweight = 30, fontsize = 20)\n",
    "plt.show()"
   ]
  },
  {
   "cell_type": "code",
   "execution_count": 33,
   "metadata": {},
   "outputs": [
    {
     "data": {
      "image/png": "[encoded data removed]",
      "text/plain": [
       "<Figure size 1152x648 with 1 Axes>"
      ]
     },
     "metadata": {
      "needs_background": "light"
     },
     "output_type": "display_data"
    }
   ],
   "source": [
    "plt.rcParams['figure.figsize'] = (16, 9)\n",
    "x = pd.crosstab(df['age'], df['DEATH_EVENT'])\n",
    "x.plot(kind = 'bar', stacked = False)\n",
    "plt.title('age vs death_event', fontweight = 30, fontsize = 20)\n",
    "plt.show()"
   ]
  },
  {
   "cell_type": "code",
   "execution_count": 44,
   "metadata": {},
   "outputs": [
    {
     "data": {
      "image/png": "[encoded data removed]",
      "text/plain": [
       "<Figure size 1152x648 with 1 Axes>"
      ]
     },
     "metadata": {},
     "output_type": "display_data"
    }
   ],
   "source": [
    "df['anaemia'].value_counts().plot.pie(colors = ['green', 'red'], autopct='%1.1f%%')   # 饼图\n",
    "plt.title('anaemia count', fontweight = 30, fontsize = 20)\n",
    "plt.xlabel('anaemia')\n",
    "plt.ylabel('count')\n",
    "plt.legend()\n",
    "plt.show()"
   ]
  },
  {
   "cell_type": "markdown",
   "metadata": {},
   "source": [
    "### 模型训练"
   ]
  },
  {
   "cell_type": "code",
   "execution_count": 45,
   "metadata": {},
   "outputs": [],
   "source": [
    "x = df.copy()"
   ]
  },
  {
   "cell_type": "code",
   "execution_count": 46,
   "metadata": {},
   "outputs": [],
   "source": [
    "y = x['DEATH_EVENT']\n",
    "x = x.drop(['DEATH_EVENT'], axis = 1)"
   ]
  },
  {
   "cell_type": "code",
   "execution_count": 47,
   "metadata": {},
   "outputs": [
    {
     "data": {
      "text/plain": [
       "(299, 12)"
      ]
     },
     "execution_count": 47,
     "metadata": {},
     "output_type": "execute_result"
    }
   ],
   "source": [
    "x.shape"
   ]
  },
  {
   "cell_type": "code",
   "execution_count": 49,
   "metadata": {},
   "outputs": [
    {
     "data": {
      "text/plain": [
       "(299,)"
      ]
     },
     "execution_count": 49,
     "metadata": {},
     "output_type": "execute_result"
    }
   ],
   "source": [
    "y.shape"
   ]
  },
  {
   "cell_type": "code",
   "execution_count": 53,
   "metadata": {},
   "outputs": [],
   "source": [
    "from sklearn.model_selection import train_test_split\n",
    "from sklearn.linear_model import LogisticRegression\n",
    "from sklearn.metrics import plot_confusion_matrix, f1_score, recall_score, precision_score, accuracy_score\n",
    "from sklearn.feature_selection import RFE\n",
    "from sklearn.tree import DecisionTreeClassifier\n",
    "from sklearn.pipeline import Pipeline\n",
    "from sklearn.metrics import confusion_matrix"
   ]
  },
  {
   "cell_type": "code",
   "execution_count": 79,
   "metadata": {},
   "outputs": [
    {
     "data": {
      "text/plain": [
       "(239, 12)"
      ]
     },
     "execution_count": 79,
     "metadata": {},
     "output_type": "execute_result"
    }
   ],
   "source": [
    "train_x, test_x, train_y, test_y = train_test_split(x, y, test_size = 0.2, random_state = 0)\n",
    "train_x.shape"
   ]
  },
  {
   "cell_type": "code",
   "execution_count": 80,
   "metadata": {},
   "outputs": [
    {
     "name": "stdout",
     "output_type": "stream",
     "text": [
      "log_reg accuracy: 0.7333333333333333\n"
     ]
    }
   ],
   "source": [
    "log_reg = LogisticRegression(random_state=0, max_iter= 2000)\n",
    "log_reg.fit(train_x, train_y)\n",
    "predict_y = log_reg.predict(test_x)\n",
    "print('log_reg accuracy:', accuracy_score(test_y, predict_y))"
   ]
  },
  {
   "cell_type": "code",
   "execution_count": 81,
   "metadata": {},
   "outputs": [
    {
     "data": {
      "image/png": "[encoded data removed]",
      "text/plain": [
       "<Figure size 1152x648 with 2 Axes>"
      ]
     },
     "metadata": {
      "needs_background": "light"
     },
     "output_type": "display_data"
    }
   ],
   "source": [
    "plot_confusion_matrix(log_reg, test_x, test_y)\n",
    "plt.show()"
   ]
  },
  {
   "cell_type": "code",
   "execution_count": 82,
   "metadata": {},
   "outputs": [
    {
     "name": "stdout",
     "output_type": "stream",
     "text": [
      "log_reg f1-score 0.5294117647058824\n",
      "log_reg precision 0.8181818181818182\n",
      "log_reg recall 0.391304347826087\n"
     ]
    }
   ],
   "source": [
    "print('log_reg f1-score', f1_score(test_y, predict_y))\n",
    "print('log_reg precision', precision_score(test_y, predict_y))\n",
    "print('log_reg recall', recall_score(test_y, predict_y))"
   ]
  },
  {
   "cell_type": "markdown",
   "metadata": {},
   "source": [
    "### lightGBM lgbmclasssifer"
   ]
  },
  {
   "cell_type": "code",
   "execution_count": 65,
   "metadata": {},
   "outputs": [],
   "source": [
    "from lightgbm import LGBMClassifier"
   ]
  },
  {
   "cell_type": "code",
   "execution_count": 84,
   "metadata": {},
   "outputs": [
    {
     "name": "stdout",
     "output_type": "stream",
     "text": [
      "lgbm f1-score 0.7804878048780488\n",
      "lgbm precision 0.8888888888888888\n",
      "lgbm recall 0.6956521739130435\n",
      "lgbm accuracy: 0.85\n"
     ]
    }
   ],
   "source": [
    "lgbm = LGBMClassifier(random_state=0)\n",
    "lgbm.fit(train_x, train_y)\n",
    "predict_y = lgbm.predict(test_x)\n",
    "print('lgbm f1-score', f1_score(test_y, predict_y))\n",
    "print('lgbm precision', precision_score(test_y, predict_y))\n",
    "print('lgbm recall', recall_score(test_y, predict_y))\n",
    "print('lgbm accuracy:', accuracy_score(test_y, predict_y))"
   ]
  },
  {
   "cell_type": "code",
   "execution_count": 85,
   "metadata": {},
   "outputs": [
    {
     "data": {
      "image/png": "[encoded data removed]",
      "text/plain": [
       "<Figure size 1152x648 with 2 Axes>"
      ]
     },
     "metadata": {
      "needs_background": "light"
     },
     "output_type": "display_data"
    }
   ],
   "source": [
    "plot_confusion_matrix(lgbm, test_x, test_y)\n",
    "plt.show()"
   ]
  },
  {
   "cell_type": "markdown",
   "metadata": {},
   "source": [
    "### 去除掉相关系数少于0。05的列 （卡方检验的相关性经验值）"
   ]
  },
  {
   "cell_type": "code",
   "execution_count": 86,
   "metadata": {},
   "outputs": [
    {
     "data": {
      "text/plain": [
       "(239, 11)"
      ]
     },
     "execution_count": 86,
     "metadata": {},
     "output_type": "execute_result"
    }
   ],
   "source": [
    "for col in train_x.columns:\n",
    "    if abs(train_x[col].corr(train_y)) < 0.05:\n",
    "        new_train_x = train_x.drop([col], axis=1)\n",
    "        new_test_x = test_x.drop([col], axis=1)\n",
    "new_train_x.shape"
   ]
  },
  {
   "cell_type": "code",
   "execution_count": 87,
   "metadata": {},
   "outputs": [
    {
     "data": {
      "text/plain": [
       "(60, 11)"
      ]
     },
     "execution_count": 87,
     "metadata": {},
     "output_type": "execute_result"
    }
   ],
   "source": [
    "new_test_x.shape"
   ]
  },
  {
   "cell_type": "code",
   "execution_count": 88,
   "metadata": {},
   "outputs": [
    {
     "name": "stdout",
     "output_type": "stream",
     "text": [
      "lgbm1 f1-score 0.7906976744186046\n",
      "lgbm1 precision 0.85\n",
      "lgbm1 recall 0.7391304347826086\n",
      "lgbm1 accuracy: 0.85\n"
     ]
    }
   ],
   "source": [
    "lgbm1 = LGBMClassifier(random_state=0)\n",
    "lgbm1.fit(new_train_x, train_y)\n",
    "predict_y = lgbm1.predict(new_test_x)\n",
    "print('lgbm1 f1-score', f1_score(test_y, predict_y))\n",
    "print('lgbm1 precision', precision_score(test_y, predict_y))\n",
    "print('lgbm1 recall', recall_score(test_y, predict_y))\n",
    "print('lgbm1 accuracy:', accuracy_score(test_y, predict_y))"
   ]
  },
  {
   "cell_type": "code",
   "execution_count": 89,
   "metadata": {},
   "outputs": [
    {
     "data": {
      "image/png": "[encoded data removed]",
      "text/plain": [
       "<Figure size 1152x648 with 2 Axes>"
      ]
     },
     "metadata": {
      "needs_background": "light"
     },
     "output_type": "display_data"
    }
   ],
   "source": [
    "plot_confusion_matrix(lgbm1, new_test_x, test_y)\n",
    "plt.show()"
   ]
  },
  {
   "cell_type": "markdown",
   "metadata": {},
   "source": [
    "### xgboost "
   ]
  },
  {
   "cell_type": "code",
   "execution_count": 77,
   "metadata": {},
   "outputs": [],
   "source": [
    "from xgboost import XGBClassifier"
   ]
  },
  {
   "cell_type": "code",
   "execution_count": 78,
   "metadata": {},
   "outputs": [],
   "source": [
    "xgb = XGBClassifier(random_state = 0)"
   ]
  },
  {
   "cell_type": "code",
   "execution_count": 90,
   "metadata": {},
   "outputs": [],
   "source": [
    "xgb.fit(train_x, train_y)\n",
    "predict_y = xgb.predict(test_x)"
   ]
  },
  {
   "cell_type": "code",
   "execution_count": 91,
   "metadata": {},
   "outputs": [
    {
     "name": "stdout",
     "output_type": "stream",
     "text": [
      "xgb f1-score 0.7441860465116279\n",
      "xgb precision 0.8\n",
      "xgb recall 0.6956521739130435\n",
      "xgb accuracy 0.8166666666666667\n"
     ]
    }
   ],
   "source": [
    "print('xgb f1-score', f1_score(test_y, predict_y))\n",
    "print('xgb precision', precision_score(test_y, predict_y))\n",
    "print('xgb recall', recall_score(test_y, predict_y))\n",
    "print('xgb accuracy', accuracy_score(test_y, predict_y))"
   ]
  },
  {
   "cell_type": "code",
   "execution_count": 92,
   "metadata": {},
   "outputs": [
    {
     "data": {
      "image/png": "[encoded data removed]",
      "text/plain": [
       "<Figure size 1152x648 with 2 Axes>"
      ]
     },
     "metadata": {
      "needs_background": "light"
     },
     "output_type": "display_data"
    }
   ],
   "source": [
    "plot_confusion_matrix(xgb, test_x, test_y)\n",
    "plt.show()"
   ]
  },
  {
   "cell_type": "markdown",
   "metadata": {},
   "source": [
    "### optimization  super-param"
   ]
  },
  {
   "cell_type": "code",
   "execution_count": 95,
   "metadata": {},
   "outputs": [],
   "source": [
    "import optuna\n",
    "from optuna.samplers import TPESampler"
   ]
  },
  {
   "cell_type": "code",
   "execution_count": 96,
   "metadata": {},
   "outputs": [],
   "source": [
    "def create_lgbm_clf(trial):\n",
    "    max_depth = trial.suggest_int('max_depth', 2, 30)\n",
    "    n_estimators = trial.suggest_int('n_stimeators', 1, 500)\n",
    "    learning_rate = trial.suggest_uniform('learning_rate', 0.0000001, 1)\n",
    "    num_leaves = trial.suggest_int('num_leaves', 2, 5000)\n",
    "    min_child_samples = trial.suggest_int('min_child_samples', 3, 200)\n",
    "    lgbm_clf = LGBMClassifier(learning_rate = learning_rate, n_estimators = n_estimators, \n",
    "                              max_depth= max_depth, num_leaves = num_leaves, \n",
    "                              min_child_samples=min_child_samples, random_state=0)\n",
    "    return lgbm_clf\n",
    "    "
   ]
  },
  {
   "cell_type": "code",
   "execution_count": 99,
   "metadata": {},
   "outputs": [],
   "source": [
    "sampler = TPESampler()\n",
    "def objective(trial):\n",
    "    lgbm_clf = create_lgbm_clf(trial)\n",
    "    lgbm_clf.fit(train_x, train_y)\n",
    "    predict_y = lgbm_clf.predict(test_x)\n",
    "    f1score = f1_score(test_y, predict_y)\n",
    "    return f1score\n"
   ]
  },
  {
   "cell_type": "code",
   "execution_count": 100,
   "metadata": {},
   "outputs": [
    {
     "name": "stderr",
     "output_type": "stream",
     "text": [
      "[I 2020-09-09 16:44:34,982] A new study created in memory with name: no-name-64b5b20d-b9e0-4b0d-82bb-eb1595e1ff91\n",
      "[I 2020-09-09 16:44:35,041] Trial 0 finished with value: 0.0 and parameters: {'max_depth': 3, 'n_stimeators': 266, 'learning_rate': 0.7331371864767439, 'num_leaves': 4831, 'min_child_samples': 123}. Best is trial 0 with value: 0.0.\n",
      "[I 2020-09-09 16:44:35,405] Trial 1 finished with value: 0.7999999999999999 and parameters: {'max_depth': 15, 'n_stimeators': 429, 'learning_rate': 0.9959599944179823, 'num_leaves': 4557, 'min_child_samples': 90}. Best is trial 1 with value: 0.7999999999999999.\n",
      "[I 2020-09-09 16:44:35,454] Trial 2 finished with value: 0.0 and parameters: {'max_depth': 27, 'n_stimeators': 214, 'learning_rate': 0.9919296144970743, 'num_leaves': 3584, 'min_child_samples': 191}. Best is trial 1 with value: 0.7999999999999999.\n",
      "[I 2020-09-09 16:44:35,507] Trial 3 finished with value: 0.0 and parameters: {'max_depth': 19, 'n_stimeators': 36, 'learning_rate': 0.7531012052843893, 'num_leaves': 4249, 'min_child_samples': 132}. Best is trial 1 with value: 0.7999999999999999.\n",
      "[I 2020-09-09 16:44:35,611] Trial 4 finished with value: 0.7027027027027025 and parameters: {'max_depth': 5, 'n_stimeators': 225, 'learning_rate': 0.4823327203599514, 'num_leaves': 257, 'min_child_samples': 62}. Best is trial 1 with value: 0.7999999999999999.\n",
      "[I 2020-09-09 16:44:35,665] Trial 5 finished with value: 0.6857142857142856 and parameters: {'max_depth': 10, 'n_stimeators': 30, 'learning_rate': 0.9827123094971338, 'num_leaves': 2735, 'min_child_samples': 69}. Best is trial 1 with value: 0.7999999999999999.\n",
      "[I 2020-09-09 16:44:35,738] Trial 6 finished with value: 0.6363636363636365 and parameters: {'max_depth': 18, 'n_stimeators': 96, 'learning_rate': 0.36644585852581785, 'num_leaves': 1199, 'min_child_samples': 113}. Best is trial 1 with value: 0.7999999999999999.\n",
      "[I 2020-09-09 16:44:35,804] Trial 7 finished with value: 0.5945945945945946 and parameters: {'max_depth': 23, 'n_stimeators': 4, 'learning_rate': 0.9050112308750512, 'num_leaves': 4346, 'min_child_samples': 107}. Best is trial 1 with value: 0.7999999999999999.\n",
      "[I 2020-09-09 16:44:35,921] Trial 8 finished with value: 0.7368421052631579 and parameters: {'max_depth': 24, 'n_stimeators': 103, 'learning_rate': 0.25757717510855466, 'num_leaves': 2681, 'min_child_samples': 67}. Best is trial 1 with value: 0.7999999999999999.\n",
      "[I 2020-09-09 16:44:36,032] Trial 9 finished with value: 0.6511627906976744 and parameters: {'max_depth': 21, 'n_stimeators': 433, 'learning_rate': 0.7170348130213321, 'num_leaves': 114, 'min_child_samples': 113}. Best is trial 1 with value: 0.7999999999999999.\n",
      "[I 2020-09-09 16:44:36,716] Trial 10 finished with value: 0.7999999999999999 and parameters: {'max_depth': 12, 'n_stimeators': 492, 'learning_rate': 0.013188090231255556, 'num_leaves': 1767, 'min_child_samples': 21}. Best is trial 1 with value: 0.7999999999999999.\n",
      "[I 2020-09-09 16:44:37,401] Trial 11 finished with value: 0.8095238095238095 and parameters: {'max_depth': 11, 'n_stimeators': 500, 'learning_rate': 0.08080380701576793, 'num_leaves': 2059, 'min_child_samples': 4}. Best is trial 11 with value: 0.8095238095238095.\n",
      "[I 2020-09-09 16:44:38,058] Trial 12 finished with value: 0.761904761904762 and parameters: {'max_depth': 13, 'n_stimeators': 408, 'learning_rate': 0.06013919364332482, 'num_leaves': 1901, 'min_child_samples': 7}. Best is trial 11 with value: 0.8095238095238095.\n",
      "[I 2020-09-09 16:44:38,127] Trial 13 finished with value: 0.0 and parameters: {'max_depth': 8, 'n_stimeators': 496, 'learning_rate': 0.18467778780391864, 'num_leaves': 3296, 'min_child_samples': 172}. Best is trial 11 with value: 0.8095238095238095.\n",
      "[I 2020-09-09 16:44:38,333] Trial 14 finished with value: 0.75 and parameters: {'max_depth': 15, 'n_stimeators': 354, 'learning_rate': 0.5293436199487408, 'num_leaves': 1115, 'min_child_samples': 35}. Best is trial 11 with value: 0.8095238095238095.\n",
      "[I 2020-09-09 16:44:38,392] Trial 15 finished with value: 0.0 and parameters: {'max_depth': 7, 'n_stimeators': 316, 'learning_rate': 0.5515354663717719, 'num_leaves': 2031, 'min_child_samples': 155}. Best is trial 11 with value: 0.8095238095238095.\n",
      "[I 2020-09-09 16:44:38,774] Trial 16 finished with value: 0.6486486486486486 and parameters: {'max_depth': 16, 'n_stimeators': 460, 'learning_rate': 0.1379893917415487, 'num_leaves': 3269, 'min_child_samples': 47}. Best is trial 11 with value: 0.8095238095238095.\n",
      "[I 2020-09-09 16:44:38,918] Trial 17 finished with value: 0.7692307692307693 and parameters: {'max_depth': 12, 'n_stimeators': 370, 'learning_rate': 0.3703083889119201, 'num_leaves': 914, 'min_child_samples': 84}. Best is trial 11 with value: 0.8095238095238095.\n",
      "[I 2020-09-09 16:44:39,047] Trial 18 finished with value: 0.75 and parameters: {'max_depth': 2, 'n_stimeators': 491, 'learning_rate': 0.8493362974455767, 'num_leaves': 2329, 'min_child_samples': 87}. Best is trial 11 with value: 0.8095238095238095.\n",
      "[I 2020-09-09 16:44:39,500] Trial 19 finished with value: 0.8372093023255814 and parameters: {'max_depth': 15, 'n_stimeators': 407, 'learning_rate': 0.6508288915868504, 'num_leaves': 4938, 'min_child_samples': 3}. Best is trial 19 with value: 0.8372093023255814.\n",
      "[I 2020-09-09 16:44:39,805] Trial 20 finished with value: 0.75 and parameters: {'max_depth': 30, 'n_stimeators': 277, 'learning_rate': 0.6395913365430511, 'num_leaves': 3866, 'min_child_samples': 10}. Best is trial 19 with value: 0.8372093023255814.\n",
      "[I 2020-09-09 16:44:40,153] Trial 21 finished with value: 0.8095238095238095 and parameters: {'max_depth': 11, 'n_stimeators': 491, 'learning_rate': 0.015489483817916502, 'num_leaves': 1596, 'min_child_samples': 27}. Best is trial 19 with value: 0.8372093023255814.\n",
      "[I 2020-09-09 16:44:40,388] Trial 22 finished with value: 0.7317073170731708 and parameters: {'max_depth': 10, 'n_stimeators': 388, 'learning_rate': 0.06092443548272478, 'num_leaves': 1584, 'min_child_samples': 32}. Best is trial 19 with value: 0.8372093023255814.\n",
      "[I 2020-09-09 16:44:40,605] Trial 23 finished with value: 0.8292682926829269 and parameters: {'max_depth': 8, 'n_stimeators': 462, 'learning_rate': 0.26577217092805905, 'num_leaves': 482, 'min_child_samples': 5}. Best is trial 19 with value: 0.8372093023255814.\n",
      "[I 2020-09-09 16:44:40,782] Trial 24 finished with value: 0.8181818181818182 and parameters: {'max_depth': 5, 'n_stimeators': 333, 'learning_rate': 0.30681670593961896, 'num_leaves': 562, 'min_child_samples': 3}. Best is trial 19 with value: 0.8372093023255814.\n",
      "[I 2020-09-09 16:44:40,935] Trial 25 finished with value: 0.7906976744186046 and parameters: {'max_depth': 5, 'n_stimeators': 333, 'learning_rate': 0.4060218555670094, 'num_leaves': 569, 'min_child_samples': 7}. Best is trial 19 with value: 0.8372093023255814.\n",
      "[I 2020-09-09 16:44:41,071] Trial 26 finished with value: 0.6666666666666667 and parameters: {'max_depth': 8, 'n_stimeators': 304, 'learning_rate': 0.29344348031082995, 'num_leaves': 580, 'min_child_samples': 47}. Best is trial 19 with value: 0.8372093023255814.\n",
      "[I 2020-09-09 16:44:41,282] Trial 27 finished with value: 0.761904761904762 and parameters: {'max_depth': 6, 'n_stimeators': 443, 'learning_rate': 0.24870257986208755, 'num_leaves': 708, 'min_child_samples': 23}. Best is trial 19 with value: 0.8372093023255814.\n",
      "[I 2020-09-09 16:44:41,436] Trial 28 finished with value: 0.761904761904762 and parameters: {'max_depth': 4, 'n_stimeators': 388, 'learning_rate': 0.4539172822670944, 'num_leaves': 279, 'min_child_samples': 51}. Best is trial 19 with value: 0.8372093023255814.\n",
      "[I 2020-09-09 16:44:41,558] Trial 29 finished with value: 0.7906976744186046 and parameters: {'max_depth': 2, 'n_stimeators': 270, 'learning_rate': 0.6300941214718556, 'num_leaves': 1352, 'min_child_samples': 9}. Best is trial 19 with value: 0.8372093023255814.\n",
      "[I 2020-09-09 16:44:41,699] Trial 30 finished with value: 0.761904761904762 and parameters: {'max_depth': 9, 'n_stimeators': 198, 'learning_rate': 0.31306853087266145, 'num_leaves': 136, 'min_child_samples': 20}. Best is trial 19 with value: 0.8372093023255814.\n",
      "[I 2020-09-09 16:44:42,033] Trial 31 finished with value: 0.7804878048780488 and parameters: {'max_depth': 14, 'n_stimeators': 467, 'learning_rate': 0.18857520732543503, 'num_leaves': 1463, 'min_child_samples': 32}. Best is trial 19 with value: 0.8372093023255814.\n",
      "[I 2020-09-09 16:44:42,232] Trial 32 finished with value: 0.7906976744186046 and parameters: {'max_depth': 17, 'n_stimeators': 408, 'learning_rate': 0.5559285550389412, 'num_leaves': 963, 'min_child_samples': 18}. Best is trial 19 with value: 0.8372093023255814.\n",
      "[I 2020-09-09 16:44:42,634] Trial 33 finished with value: 0.717948717948718 and parameters: {'max_depth': 14, 'n_stimeators': 346, 'learning_rate': 0.6359926884279119, 'num_leaves': 4958, 'min_child_samples': 37}. Best is trial 19 with value: 0.8372093023255814.\n",
      "[I 2020-09-09 16:44:42,794] Trial 34 finished with value: 0.761904761904762 and parameters: {'max_depth': 7, 'n_stimeators': 462, 'learning_rate': 0.751789564155858, 'num_leaves': 512, 'min_child_samples': 16}. Best is trial 19 with value: 0.8372093023255814.\n",
      "[I 2020-09-09 16:44:43,069] Trial 35 finished with value: 0.7727272727272727 and parameters: {'max_depth': 4, 'n_stimeators': 414, 'learning_rate': 0.12960000563057456, 'num_leaves': 3196, 'min_child_samples': 4}. Best is trial 19 with value: 0.8372093023255814.\n",
      "[I 2020-09-09 16:44:43,157] Trial 36 finished with value: 0.0 and parameters: {'max_depth': 19, 'n_stimeators': 383, 'learning_rate': 0.43211045950842264, 'num_leaves': 2320, 'min_child_samples': 137}. Best is trial 19 with value: 0.8372093023255814.\n",
      "[I 2020-09-09 16:44:43,299] Trial 37 finished with value: 0.6842105263157895 and parameters: {'max_depth': 10, 'n_stimeators': 237, 'learning_rate': 0.351507238901265, 'num_leaves': 812, 'min_child_samples': 54}. Best is trial 19 with value: 0.8372093023255814.\n",
      "[I 2020-09-09 16:44:43,559] Trial 38 finished with value: 0.8095238095238095 and parameters: {'max_depth': 11, 'n_stimeators': 184, 'learning_rate': 0.21946172332243052, 'num_leaves': 360, 'min_child_samples': 3}. Best is trial 19 with value: 0.8372093023255814.\n",
      "[I 2020-09-09 16:44:43,724] Trial 39 finished with value: 0.717948717948718 and parameters: {'max_depth': 6, 'n_stimeators': 297, 'learning_rate': 0.011517465344201467, 'num_leaves': 4709, 'min_child_samples': 76}. Best is trial 19 with value: 0.8372093023255814.\n",
      "[I 2020-09-09 16:44:43,800] Trial 40 finished with value: 0.0 and parameters: {'max_depth': 9, 'n_stimeators': 440, 'learning_rate': 0.6824010841013188, 'num_leaves': 1660, 'min_child_samples': 196}. Best is trial 19 with value: 0.8372093023255814.\n",
      "[I 2020-09-09 16:44:44,062] Trial 41 finished with value: 0.8372093023255814 and parameters: {'max_depth': 12, 'n_stimeators': 184, 'learning_rate': 0.22438506254694696, 'num_leaves': 318, 'min_child_samples': 3}. Best is trial 19 with value: 0.8372093023255814.\n",
      "[I 2020-09-09 16:44:44,305] Trial 42 finished with value: 0.7804878048780488 and parameters: {'max_depth': 13, 'n_stimeators': 168, 'learning_rate': 0.21220340886040723, 'num_leaves': 44, 'min_child_samples': 3}. Best is trial 19 with value: 0.8372093023255814.\n",
      "[I 2020-09-09 16:44:44,458] Trial 43 finished with value: 0.7727272727272727 and parameters: {'max_depth': 16, 'n_stimeators': 150, 'learning_rate': 0.8182427766037766, 'num_leaves': 1186, 'min_child_samples': 25}. Best is trial 19 with value: 0.8372093023255814.\n",
      "[I 2020-09-09 16:44:44,606] Trial 44 finished with value: 0.8181818181818182 and parameters: {'max_depth': 12, 'n_stimeators': 124, 'learning_rate': 0.13068430036912054, 'num_leaves': 415, 'min_child_samples': 14}. Best is trial 19 with value: 0.8372093023255814.\n",
      "[I 2020-09-09 16:44:44,758] Trial 45 finished with value: 0.7906976744186046 and parameters: {'max_depth': 18, 'n_stimeators': 106, 'learning_rate': 0.1385562334120149, 'num_leaves': 443, 'min_child_samples': 15}. Best is trial 19 with value: 0.8372093023255814.\n",
      "[I 2020-09-09 16:44:44,914] Trial 46 finished with value: 0.7999999999999999 and parameters: {'max_depth': 13, 'n_stimeators': 130, 'learning_rate': 0.3103941652609002, 'num_leaves': 32, 'min_child_samples': 3}. Best is trial 19 with value: 0.8372093023255814.\n",
      "[I 2020-09-09 16:44:45,005] Trial 47 finished with value: 0.7317073170731708 and parameters: {'max_depth': 9, 'n_stimeators': 69, 'learning_rate': 0.2669647016786612, 'num_leaves': 275, 'min_child_samples': 37}. Best is trial 19 with value: 0.8372093023255814.\n",
      "[I 2020-09-09 16:44:45,126] Trial 48 finished with value: 0.7906976744186046 and parameters: {'max_depth': 15, 'n_stimeators': 69, 'learning_rate': 0.11644656640689587, 'num_leaves': 733, 'min_child_samples': 14}. Best is trial 19 with value: 0.8372093023255814.\n",
      "[I 2020-09-09 16:44:45,273] Trial 49 finished with value: 0.7027027027027025 and parameters: {'max_depth': 12, 'n_stimeators': 138, 'learning_rate': 0.511691632612548, 'num_leaves': 4094, 'min_child_samples': 97}. Best is trial 19 with value: 0.8372093023255814.\n",
      "[I 2020-09-09 16:44:45,472] Trial 50 finished with value: 0.6842105263157895 and parameters: {'max_depth': 20, 'n_stimeators': 212, 'learning_rate': 0.1886496566252146, 'num_leaves': 2968, 'min_child_samples': 58}. Best is trial 19 with value: 0.8372093023255814.\n",
      "[I 2020-09-09 16:44:45,694] Trial 51 finished with value: 0.7906976744186046 and parameters: {'max_depth': 11, 'n_stimeators': 181, 'learning_rate': 0.21230624837783532, 'num_leaves': 430, 'min_child_samples': 3}. Best is trial 19 with value: 0.8372093023255814.\n",
      "[I 2020-09-09 16:44:45,811] Trial 52 finished with value: 0.75 and parameters: {'max_depth': 14, 'n_stimeators': 175, 'learning_rate': 0.23572143265514958, 'num_leaves': 975, 'min_child_samples': 42}. Best is trial 19 with value: 0.8372093023255814.\n",
      "[I 2020-09-09 16:44:45,971] Trial 53 finished with value: 0.7906976744186046 and parameters: {'max_depth': 12, 'n_stimeators': 234, 'learning_rate': 0.3372679318736771, 'num_leaves': 237, 'min_child_samples': 11}. Best is trial 19 with value: 0.8372093023255814.\n",
      "[I 2020-09-09 16:44:46,130] Trial 54 finished with value: 0.75 and parameters: {'max_depth': 8, 'n_stimeators': 194, 'learning_rate': 0.16115012060892206, 'num_leaves': 375, 'min_child_samples': 27}. Best is trial 19 with value: 0.8372093023255814.\n",
      "[I 2020-09-09 16:44:46,434] Trial 55 finished with value: 0.6666666666666667 and parameters: {'max_depth': 10, 'n_stimeators': 483, 'learning_rate': 0.08543880002794291, 'num_leaves': 1323, 'min_child_samples': 26}. Best is trial 19 with value: 0.8372093023255814.\n",
      "[I 2020-09-09 16:44:47,110] Trial 56 finished with value: 0.7906976744186046 and parameters: {'max_depth': 17, 'n_stimeators': 252, 'learning_rate': 0.09347975407764508, 'num_leaves': 3615, 'min_child_samples': 3}. Best is trial 19 with value: 0.8372093023255814.\n",
      "[I 2020-09-09 16:44:47,249] Trial 57 finished with value: 0.761904761904762 and parameters: {'max_depth': 7, 'n_stimeators': 115, 'learning_rate': 0.2806268369422106, 'num_leaves': 735, 'min_child_samples': 14}. Best is trial 19 with value: 0.8372093023255814.\n",
      "[I 2020-09-09 16:44:47,302] Trial 58 finished with value: 0.0 and parameters: {'max_depth': 11, 'n_stimeators': 76, 'learning_rate': 0.22468800503839126, 'num_leaves': 28, 'min_child_samples': 183}. Best is trial 19 with value: 0.8372093023255814.\n",
      "[I 2020-09-09 16:44:47,359] Trial 59 finished with value: 0.75 and parameters: {'max_depth': 15, 'n_stimeators': 5, 'learning_rate': 0.3788036511431843, 'num_leaves': 1034, 'min_child_samples': 10}. Best is trial 19 with value: 0.8372093023255814.\n",
      "[I 2020-09-09 16:44:47,460] Trial 60 finished with value: 0.7317073170731708 and parameters: {'max_depth': 3, 'n_stimeators': 155, 'learning_rate': 0.5906190475233611, 'num_leaves': 603, 'min_child_samples': 20}. Best is trial 19 with value: 0.8372093023255814.\n",
      "[I 2020-09-09 16:44:47,677] Trial 61 finished with value: 0.7906976744186046 and parameters: {'max_depth': 11, 'n_stimeators': 423, 'learning_rate': 0.037942658774952856, 'num_leaves': 165, 'min_child_samples': 28}. Best is trial 19 with value: 0.8372093023255814.\n",
      "[I 2020-09-09 16:44:48,109] Trial 62 finished with value: 0.8095238095238095 and parameters: {'max_depth': 13, 'n_stimeators': 475, 'learning_rate': 0.16498942917797496, 'num_leaves': 873, 'min_child_samples': 4}. Best is trial 19 with value: 0.8372093023255814.\n",
      "[I 2020-09-09 16:44:48,422] Trial 63 finished with value: 0.7727272727272727 and parameters: {'max_depth': 14, 'n_stimeators': 473, 'learning_rate': 0.1613462801608495, 'num_leaves': 872, 'min_child_samples': 10}. Best is trial 19 with value: 0.8372093023255814.\n",
      "[I 2020-09-09 16:44:48,831] Trial 64 finished with value: 0.7906976744186046 and parameters: {'max_depth': 13, 'n_stimeators': 448, 'learning_rate': 0.04880998073866008, 'num_leaves': 1172, 'min_child_samples': 19}. Best is trial 19 with value: 0.8372093023255814.\n",
      "[I 2020-09-09 16:44:49,025] Trial 65 finished with value: 0.7804878048780488 and parameters: {'max_depth': 6, 'n_stimeators': 499, 'learning_rate': 0.4655669155651437, 'num_leaves': 1821, 'min_child_samples': 34}. Best is trial 19 with value: 0.8372093023255814.\n",
      "[I 2020-09-09 16:44:49,194] Trial 66 finished with value: 0.75 and parameters: {'max_depth': 10, 'n_stimeators': 358, 'learning_rate': 0.40610915650495083, 'num_leaves': 613, 'min_child_samples': 41}. Best is trial 19 with value: 0.8372093023255814.\n",
      "[I 2020-09-09 16:44:49,469] Trial 67 finished with value: 0.7906976744186046 and parameters: {'max_depth': 8, 'n_stimeators': 480, 'learning_rate': 0.16647482770580585, 'num_leaves': 839, 'min_child_samples': 9}. Best is trial 19 with value: 0.8372093023255814.\n",
      "[I 2020-09-09 16:44:49,724] Trial 68 finished with value: 0.7906976744186046 and parameters: {'max_depth': 12, 'n_stimeators': 218, 'learning_rate': 0.25697610053956416, 'num_leaves': 281, 'min_child_samples': 6}. Best is trial 19 with value: 0.8372093023255814.\n",
      "[I 2020-09-09 16:44:49,887] Trial 69 finished with value: 0.7906976744186046 and parameters: {'max_depth': 5, 'n_stimeators': 326, 'learning_rate': 0.3213220806328052, 'num_leaves': 335, 'min_child_samples': 3}. Best is trial 19 with value: 0.8372093023255814.\n",
      "[I 2020-09-09 16:44:50,081] Trial 70 finished with value: 0.7804878048780488 and parameters: {'max_depth': 17, 'n_stimeators': 404, 'learning_rate': 0.29368198023421, 'num_leaves': 490, 'min_child_samples': 21}. Best is trial 19 with value: 0.8372093023255814.\n",
      "[I 2020-09-09 16:44:50,395] Trial 71 finished with value: 0.761904761904762 and parameters: {'max_depth': 9, 'n_stimeators': 450, 'learning_rate': 0.10007988806008457, 'num_leaves': 2046, 'min_child_samples': 15}. Best is trial 19 with value: 0.8372093023255814.\n",
      "[I 2020-09-09 16:44:50,622] Trial 72 finished with value: 0.7317073170731708 and parameters: {'max_depth': 15, 'n_stimeators': 427, 'learning_rate': 0.004500224412790826, 'num_leaves': 645, 'min_child_samples': 30}. Best is trial 19 with value: 0.8372093023255814.\n",
      "[I 2020-09-09 16:44:50,996] Trial 73 finished with value: 0.7906976744186046 and parameters: {'max_depth': 13, 'n_stimeators': 284, 'learning_rate': 0.1965944129117729, 'num_leaves': 1344, 'min_child_samples': 3}. Best is trial 19 with value: 0.8372093023255814.\n",
      "[I 2020-09-09 16:44:51,394] Trial 74 finished with value: 0.7906976744186046 and parameters: {'max_depth': 11, 'n_stimeators': 254, 'learning_rate': 0.024946864845096672, 'num_leaves': 2562, 'min_child_samples': 11}. Best is trial 19 with value: 0.8372093023255814.\n",
      "[I 2020-09-09 16:44:51,590] Trial 75 finished with value: 0.7317073170731708 and parameters: {'max_depth': 12, 'n_stimeators': 457, 'learning_rate': 0.24644671685122946, 'num_leaves': 143, 'min_child_samples': 24}. Best is trial 19 with value: 0.8372093023255814.\n",
      "[I 2020-09-09 16:44:52,129] Trial 76 finished with value: 0.761904761904762 and parameters: {'max_depth': 16, 'n_stimeators': 499, 'learning_rate': 0.085174493332586, 'num_leaves': 2036, 'min_child_samples': 17}. Best is trial 19 with value: 0.8372093023255814.\n",
      "[I 2020-09-09 16:44:52,198] Trial 77 finished with value: 0.0 and parameters: {'max_depth': 9, 'n_stimeators': 488, 'learning_rate': 0.06846939943205756, 'num_leaves': 2363, 'min_child_samples': 144}. Best is trial 19 with value: 0.8372093023255814.\n",
      "[I 2020-09-09 16:44:52,494] Trial 78 finished with value: 0.7999999999999999 and parameters: {'max_depth': 14, 'n_stimeators': 438, 'learning_rate': 0.707778845362868, 'num_leaves': 1561, 'min_child_samples': 3}. Best is trial 19 with value: 0.8372093023255814.\n",
      "[I 2020-09-09 16:44:52,568] Trial 79 finished with value: 0.7692307692307693 and parameters: {'max_depth': 7, 'n_stimeators': 87, 'learning_rate': 0.14407881043255585, 'num_leaves': 1066, 'min_child_samples': 67}. Best is trial 19 with value: 0.8372093023255814.\n",
      "[I 2020-09-09 16:44:52,656] Trial 80 finished with value: 0.6363636363636365 and parameters: {'max_depth': 10, 'n_stimeators': 200, 'learning_rate': 0.12364840954554052, 'num_leaves': 502, 'min_child_samples': 116}. Best is trial 19 with value: 0.8372093023255814.\n",
      "[I 2020-09-09 16:44:53,069] Trial 81 finished with value: 0.7906976744186046 and parameters: {'max_depth': 11, 'n_stimeators': 398, 'learning_rate': 0.18233606372659106, 'num_leaves': 1959, 'min_child_samples': 8}. Best is trial 19 with value: 0.8372093023255814.\n",
      "[I 2020-09-09 16:44:53,214] Trial 82 finished with value: 0.7906976744186046 and parameters: {'max_depth': 13, 'n_stimeators': 50, 'learning_rate': 0.2082457986308634, 'num_leaves': 1767, 'min_child_samples': 13}. Best is trial 19 with value: 0.8372093023255814.\n",
      "[I 2020-09-09 16:44:53,568] Trial 83 finished with value: 0.761904761904762 and parameters: {'max_depth': 12, 'n_stimeators': 470, 'learning_rate': 0.15291076900701253, 'num_leaves': 755, 'min_child_samples': 7}. Best is trial 19 with value: 0.8372093023255814.\n",
      "[I 2020-09-09 16:44:53,788] Trial 84 finished with value: 0.761904761904762 and parameters: {'max_depth': 10, 'n_stimeators': 367, 'learning_rate': 0.22580080856774512, 'num_leaves': 374, 'min_child_samples': 22}. Best is trial 19 with value: 0.8372093023255814.\n",
      "[I 2020-09-09 16:44:54,046] Trial 85 finished with value: 0.7727272727272727 and parameters: {'max_depth': 8, 'n_stimeators': 140, 'learning_rate': 0.10287834033824968, 'num_leaves': 2278, 'min_child_samples': 3}. Best is trial 19 with value: 0.8372093023255814.\n",
      "[I 2020-09-09 16:44:54,270] Trial 86 finished with value: 0.761904761904762 and parameters: {'max_depth': 14, 'n_stimeators': 123, 'learning_rate': 0.06440298237877203, 'num_leaves': 2815, 'min_child_samples': 17}. Best is trial 19 with value: 0.8372093023255814.\n",
      "[I 2020-09-09 16:44:54,435] Trial 87 finished with value: 0.761904761904762 and parameters: {'max_depth': 11, 'n_stimeators': 163, 'learning_rate': 0.9191828394398249, 'num_leaves': 2164, 'min_child_samples': 7}. Best is trial 19 with value: 0.8372093023255814.\n",
      "[I 2020-09-09 16:44:54,652] Trial 88 finished with value: 0.7317073170731708 and parameters: {'max_depth': 4, 'n_stimeators': 458, 'learning_rate': 0.12164714519110918, 'num_leaves': 939, 'min_child_samples': 31}. Best is trial 19 with value: 0.8372093023255814.\n",
      "[I 2020-09-09 16:44:54,906] Trial 89 finished with value: 0.7317073170731708 and parameters: {'max_depth': 13, 'n_stimeators': 498, 'learning_rate': 0.18008588794647945, 'num_leaves': 172, 'min_child_samples': 23}. Best is trial 19 with value: 0.8372093023255814.\n",
      "[I 2020-09-09 16:44:55,134] Trial 90 finished with value: 0.761904761904762 and parameters: {'max_depth': 15, 'n_stimeators': 421, 'learning_rate': 0.8092141102897374, 'num_leaves': 1261, 'min_child_samples': 13}. Best is trial 19 with value: 0.8372093023255814.\n",
      "[I 2020-09-09 16:44:55,422] Trial 91 finished with value: 0.8095238095238095 and parameters: {'max_depth': 14, 'n_stimeators': 480, 'learning_rate': 0.6833576271449026, 'num_leaves': 1410, 'min_child_samples': 3}. Best is trial 19 with value: 0.8372093023255814.\n",
      "[I 2020-09-09 16:44:55,673] Trial 92 finished with value: 0.85 and parameters: {'max_depth': 12, 'n_stimeators': 482, 'learning_rate': 0.7718608822443026, 'num_leaves': 1466, 'min_child_samples': 3}. Best is trial 92 with value: 0.85.\n",
      "[I 2020-09-09 16:44:55,933] Trial 93 finished with value: 0.7727272727272727 and parameters: {'max_depth': 15, 'n_stimeators': 475, 'learning_rate': 0.6794345492473549, 'num_leaves': 1572, 'min_child_samples': 7}. Best is trial 92 with value: 0.85.\n",
      "[I 2020-09-09 16:44:56,120] Trial 94 finished with value: 0.7441860465116279 and parameters: {'max_depth': 12, 'n_stimeators': 313, 'learning_rate': 0.780297068883507, 'num_leaves': 1714, 'min_child_samples': 12}. Best is trial 92 with value: 0.85.\n",
      "[I 2020-09-09 16:44:56,276] Trial 95 finished with value: 0.761904761904762 and parameters: {'max_depth': 13, 'n_stimeators': 484, 'learning_rate': 0.6620459023411881, 'num_leaves': 5, 'min_child_samples': 3}. Best is trial 92 with value: 0.85.\n",
      "[I 2020-09-09 16:44:56,453] Trial 96 finished with value: 0.761904761904762 and parameters: {'max_depth': 27, 'n_stimeators': 189, 'learning_rate': 0.5907023467165212, 'num_leaves': 1427, 'min_child_samples': 17}. Best is trial 92 with value: 0.85.\n",
      "[I 2020-09-09 16:44:56,631] Trial 97 finished with value: 0.7906976744186046 and parameters: {'max_depth': 9, 'n_stimeators': 462, 'learning_rate': 0.8698291858555791, 'num_leaves': 526, 'min_child_samples': 9}. Best is trial 92 with value: 0.85.\n",
      "[I 2020-09-09 16:44:56,736] Trial 98 finished with value: 0.7567567567567568 and parameters: {'max_depth': 10, 'n_stimeators': 208, 'learning_rate': 0.27219101695050557, 'num_leaves': 665, 'min_child_samples': 79}. Best is trial 92 with value: 0.85.\n",
      "[I 2020-09-09 16:44:56,972] Trial 99 finished with value: 0.7727272727272727 and parameters: {'max_depth': 14, 'n_stimeators': 448, 'learning_rate': 0.7386276008887064, 'num_leaves': 1447, 'min_child_samples': 19}. Best is trial 92 with value: 0.85.\n"
     ]
    }
   ],
   "source": [
    "study = optuna.create_study(direction='maximize', sampler=sampler)\n",
    "study.optimize(objective, n_trials = 100)"
   ]
  },
  {
   "cell_type": "code",
   "execution_count": 101,
   "metadata": {},
   "outputs": [
    {
     "data": {
      "text/plain": [
       "{'max_depth': 12,\n",
       " 'n_stimeators': 482,\n",
       " 'learning_rate': 0.7718608822443026,\n",
       " 'num_leaves': 1466,\n",
       " 'min_child_samples': 3}"
      ]
     },
     "execution_count": 101,
     "metadata": {},
     "output_type": "execute_result"
    }
   ],
   "source": [
    "lgbm_best_param = study.best_params\n",
    "lgbm_best_param"
   ]
  },
  {
   "cell_type": "code",
   "execution_count": 104,
   "metadata": {},
   "outputs": [
    {
     "name": "stdout",
     "output_type": "stream",
     "text": [
      "[LightGBM] [Warning] Unknown parameter: n_stimeators\n",
      "optimized_lgbm_clf accuracy:  0.8833333333333333\n",
      "optimized_lgbm_clf f1-score 0.8292682926829269\n",
      "optimized_lgbm_clf precision 0.9444444444444444\n",
      "optimized_lgbm_clf recall 0.7391304347826086\n"
     ]
    }
   ],
   "source": [
    "lgbm_best_param['random_state'] = 0\n",
    "optimized_lgbm_clf = LGBMClassifier(**lgbm_best_param)\n",
    "optimized_lgbm_clf.fit(train_x, train_y)\n",
    "predict_y = optimized_lgbm_clf.predict(test_x)\n",
    "print('optimized_lgbm_clf accuracy: ', accuracy_score(test_y, predict_y))\n",
    "print('optimized_lgbm_clf f1-score', f1_score(test_y, predict_y))\n",
    "print('optimized_lgbm_clf precision', precision_score(test_y, predict_y))\n",
    "print('optimized_lgbm_clf recall', recall_score(test_y, predict_y))"
   ]
  },
  {
   "cell_type": "code",
   "execution_count": 103,
   "metadata": {},
   "outputs": [
    {
     "data": {
      "image/png": "[encoded data removed]",
      "text/plain": [
       "<Figure size 1152x648 with 2 Axes>"
      ]
     },
     "metadata": {
      "needs_background": "light"
     },
     "output_type": "display_data"
    }
   ],
   "source": [
    "plot_confusion_matrix(optimized_lgbm_clf, test_x, test_y)\n",
    "plt.show()"
   ]
  },
  {
   "cell_type": "markdown",
   "metadata": {},
   "source": [
    "### optimization  super-param,  feature-select"
   ]
  },
  {
   "cell_type": "code",
   "execution_count": 105,
   "metadata": {},
   "outputs": [
    {
     "name": "stdout",
     "output_type": "stream",
     "text": [
      "Number of features:  1\n",
      "lgbm_clf f1-score 0.7441860465116279\n",
      "Number of features:  2\n",
      "lgbm_clf f1-score 0.7317073170731708\n",
      "Number of features:  3\n",
      "lgbm_clf f1-score 0.7317073170731708\n",
      "Number of features:  4\n",
      "lgbm_clf f1-score 0.8095238095238095\n",
      "Number of features:  5\n",
      "lgbm_clf f1-score 0.7317073170731708\n",
      "Number of features:  6\n",
      "lgbm_clf f1-score 0.8095238095238095\n",
      "Number of features:  7\n",
      "lgbm_clf f1-score 0.8372093023255814\n",
      "Number of features:  8\n",
      "lgbm_clf f1-score 0.7999999999999999\n",
      "Number of features:  9\n",
      "lgbm_clf f1-score 0.7906976744186046\n",
      "Number of features:  10\n",
      "lgbm_clf f1-score 0.8292682926829269\n",
      "Number of features:  11\n",
      "lgbm_clf f1-score 0.8292682926829269\n",
      "Number of features:  12\n",
      "lgbm_clf f1-score 0.7804878048780488\n"
     ]
    }
   ],
   "source": [
    "for i in range(1, len(train_x.columns) + 1):\n",
    "    rfe = RFE(estimator=DecisionTreeClassifier(random_state =0), n_features_to_select=i)\n",
    "    pipeline = Pipeline(steps=[\n",
    "        ('feature-select', rfe),\n",
    "        ('lgbm_clf', LGBMClassifier(random_state = 0))\n",
    "    ])\n",
    "    pipeline.fit(train_x, train_y)\n",
    "    predict_y = pipeline.predict(test_x)\n",
    "    print('Number of features: ', i)\n",
    "    print('lgbm_clf f1-score', f1_score(test_y, predict_y))"
   ]
  },
  {
   "cell_type": "code",
   "execution_count": 117,
   "metadata": {},
   "outputs": [],
   "source": [
    "\n",
    "def create_lgbm_clf(trial):\n",
    "    rfe =  RFE(estimator=DecisionTreeClassifier(random_state=0), n_features_to_select=7)\n",
    "    max_depth = trial.suggest_int(\"max_depth\", 2, 30)\n",
    "    n_estimators = trial.suggest_int(\"n_estimators\", 1, 500)\n",
    "    learning_rate = trial.suggest_uniform('learning_rate', 0.0000001, 1)\n",
    "    num_leaves = trial.suggest_int(\"num_leaves\", 2, 5000)\n",
    "    min_child_samples = trial.suggest_int('min_child_samples', 3, 200)\n",
    "    lgbm_clf = Pipeline(\n",
    "        steps=[\n",
    "            ('feature-select',rfe), \n",
    "            ('lgbm_clf', LGBMClassifier(learning_rate=learning_rate, n_estimators=n_estimators, \n",
    "                                 max_depth=max_depth, num_leaves=num_leaves, \n",
    "                                 min_child_samples=min_child_samples, random_state=0\n",
    "                                )\n",
    "            )\n",
    "        ])\n",
    "    return lgbm_clf"
   ]
  },
  {
   "cell_type": "code",
   "execution_count": 118,
   "metadata": {},
   "outputs": [],
   "source": [
    "def objective(trial):\n",
    "    lgbm_clf = create_lgbm_clf(trial)\n",
    "    lgbm_clf.fit(train_x, train_y)\n",
    "    predict_y = lgbm_clf.predict(test_x)\n",
    "    score = f1_score(test_y, predict_y)\n",
    "    return score\n"
   ]
  },
  {
   "cell_type": "code",
   "execution_count": 119,
   "metadata": {},
   "outputs": [
    {
     "name": "stderr",
     "output_type": "stream",
     "text": [
      "[I 2020-09-09 17:32:44,372] A new study created in memory with name: no-name-3c15deb8-996d-400e-a056-67dc899a1d64\n",
      "[I 2020-09-09 17:32:44,493] Trial 0 finished with value: 0.6153846153846153 and parameters: {'max_depth': 24, 'n_estimators': 245, 'learning_rate': 0.3473668099334806, 'num_leaves': 1978, 'min_child_samples': 106}. Best is trial 0 with value: 0.6153846153846153.\n",
      "[I 2020-09-09 17:32:44,746] Trial 1 finished with value: 0.6666666666666667 and parameters: {'max_depth': 18, 'n_estimators': 350, 'learning_rate': 0.6617734254818693, 'num_leaves': 4444, 'min_child_samples': 74}. Best is trial 1 with value: 0.6666666666666667.\n",
      "[I 2020-09-09 17:32:44,860] Trial 2 finished with value: 0.761904761904762 and parameters: {'max_depth': 10, 'n_estimators': 102, 'learning_rate': 0.24992370577410933, 'num_leaves': 3106, 'min_child_samples': 21}. Best is trial 2 with value: 0.761904761904762.\n",
      "[I 2020-09-09 17:32:44,924] Trial 3 finished with value: 0.0 and parameters: {'max_depth': 10, 'n_estimators': 224, 'learning_rate': 0.8655755397234188, 'num_leaves': 595, 'min_child_samples': 140}. Best is trial 2 with value: 0.761904761904762.\n",
      "[I 2020-09-09 17:32:44,997] Trial 4 finished with value: 0.0 and parameters: {'max_depth': 17, 'n_estimators': 372, 'learning_rate': 0.3371906717091268, 'num_leaves': 3755, 'min_child_samples': 176}. Best is trial 2 with value: 0.761904761904762.\n",
      "[I 2020-09-09 17:32:45,066] Trial 5 finished with value: 0.0 and parameters: {'max_depth': 24, 'n_estimators': 302, 'learning_rate': 0.2172540388354643, 'num_leaves': 1657, 'min_child_samples': 193}. Best is trial 2 with value: 0.761904761904762.\n",
      "[I 2020-09-09 17:32:45,126] Trial 6 finished with value: 0.7027027027027025 and parameters: {'max_depth': 23, 'n_estimators': 31, 'learning_rate': 0.5350152038681469, 'num_leaves': 1735, 'min_child_samples': 87}. Best is trial 2 with value: 0.761904761904762.\n",
      "[I 2020-09-09 17:32:45,196] Trial 7 finished with value: 0.7692307692307693 and parameters: {'max_depth': 23, 'n_estimators': 37, 'learning_rate': 0.4630130108145534, 'num_leaves': 4329, 'min_child_samples': 75}. Best is trial 7 with value: 0.7692307692307693.\n",
      "[I 2020-09-09 17:32:45,512] Trial 8 finished with value: 0.761904761904762 and parameters: {'max_depth': 18, 'n_estimators': 443, 'learning_rate': 0.07194383557168003, 'num_leaves': 568, 'min_child_samples': 13}. Best is trial 7 with value: 0.7692307692307693.\n",
      "[I 2020-09-09 17:32:45,635] Trial 9 finished with value: 0.75 and parameters: {'max_depth': 12, 'n_estimators': 153, 'learning_rate': 0.6376815627063632, 'num_leaves': 3196, 'min_child_samples': 48}. Best is trial 7 with value: 0.7692307692307693.\n",
      "[I 2020-09-09 17:32:45,715] Trial 10 finished with value: 0.0 and parameters: {'max_depth': 2, 'n_estimators': 28, 'learning_rate': 0.9914063051972455, 'num_leaves': 4920, 'min_child_samples': 129}. Best is trial 7 with value: 0.7692307692307693.\n",
      "[I 2020-09-09 17:32:46,005] Trial 11 finished with value: 0.8 and parameters: {'max_depth': 30, 'n_estimators': 102, 'learning_rate': 0.0770541833514535, 'num_leaves': 3072, 'min_child_samples': 8}. Best is trial 11 with value: 0.8.\n",
      "[I 2020-09-09 17:32:46,155] Trial 12 finished with value: 0.717948717948718 and parameters: {'max_depth': 30, 'n_estimators': 133, 'learning_rate': 0.09429281274594906, 'num_leaves': 4207, 'min_child_samples': 51}. Best is trial 11 with value: 0.8.\n",
      "[I 2020-09-09 17:32:46,260] Trial 13 finished with value: 0.0 and parameters: {'max_depth': 30, 'n_estimators': 14, 'learning_rate': 0.01894144800841069, 'num_leaves': 3252, 'min_child_samples': 3}. Best is trial 11 with value: 0.8.\n",
      "[I 2020-09-09 17:32:46,369] Trial 14 finished with value: 0.7441860465116279 and parameters: {'max_depth': 27, 'n_estimators': 72, 'learning_rate': 0.8339516292485321, 'num_leaves': 2442, 'min_child_samples': 32}. Best is trial 11 with value: 0.8.\n",
      "[I 2020-09-09 17:32:46,565] Trial 15 finished with value: 0.6470588235294118 and parameters: {'max_depth': 27, 'n_estimators': 179, 'learning_rate': 0.4240481954668326, 'num_leaves': 4791, 'min_child_samples': 62}. Best is trial 11 with value: 0.8.\n",
      "[I 2020-09-09 17:32:46,660] Trial 16 finished with value: 0.6315789473684211 and parameters: {'max_depth': 21, 'n_estimators': 78, 'learning_rate': 0.5583140262657948, 'num_leaves': 3902, 'min_child_samples': 110}. Best is trial 11 with value: 0.8.\n",
      "[I 2020-09-09 17:32:46,735] Trial 17 finished with value: 0.0 and parameters: {'max_depth': 28, 'n_estimators': 179, 'learning_rate': 0.15946351955905447, 'num_leaves': 2630, 'min_child_samples': 148}. Best is trial 11 with value: 0.8.\n",
      "[I 2020-09-09 17:32:46,862] Trial 18 finished with value: 0.75 and parameters: {'max_depth': 21, 'n_estimators': 64, 'learning_rate': 0.7656676711755341, 'num_leaves': 3680, 'min_child_samples': 37}. Best is trial 11 with value: 0.8.\n",
      "[I 2020-09-09 17:32:46,931] Trial 19 finished with value: 0.717948717948718 and parameters: {'max_depth': 14, 'n_estimators': 11, 'learning_rate': 0.44895011085146164, 'num_leaves': 4475, 'min_child_samples': 84}. Best is trial 11 with value: 0.8.\n",
      "[I 2020-09-09 17:32:47,018] Trial 20 finished with value: 0.7368421052631579 and parameters: {'max_depth': 5, 'n_estimators': 123, 'learning_rate': 0.33951986432945697, 'num_leaves': 1133, 'min_child_samples': 71}. Best is trial 11 with value: 0.8.\n",
      "[I 2020-09-09 17:32:47,164] Trial 21 finished with value: 0.7727272727272727 and parameters: {'max_depth': 9, 'n_estimators': 100, 'learning_rate': 0.24441620049869592, 'num_leaves': 2841, 'min_child_samples': 12}. Best is trial 11 with value: 0.8.\n",
      "[I 2020-09-09 17:32:47,406] Trial 22 finished with value: 0.0 and parameters: {'max_depth': 6, 'n_estimators': 217, 'learning_rate': 0.001272538720597044, 'num_leaves': 2499, 'min_child_samples': 5}. Best is trial 11 with value: 0.8.\n",
      "[I 2020-09-09 17:32:47,495] Trial 23 finished with value: 0.5161290322580645 and parameters: {'max_depth': 8, 'n_estimators': 2, 'learning_rate': 0.24365400225143638, 'num_leaves': 2886, 'min_child_samples': 23}. Best is trial 11 with value: 0.8.\n",
      "[I 2020-09-09 17:32:47,600] Trial 24 finished with value: 0.8444444444444444 and parameters: {'max_depth': 3, 'n_estimators': 59, 'learning_rate': 0.17064885458443496, 'num_leaves': 3482, 'min_child_samples': 3}. Best is trial 24 with value: 0.8444444444444444.\n",
      "[I 2020-09-09 17:32:47,705] Trial 25 finished with value: 0.8260869565217391 and parameters: {'max_depth': 3, 'n_estimators': 91, 'learning_rate': 0.15822895577208737, 'num_leaves': 2110, 'min_child_samples': 3}. Best is trial 24 with value: 0.8444444444444444.\n",
      "[I 2020-09-09 17:32:47,819] Trial 26 finished with value: 0.8444444444444444 and parameters: {'max_depth': 2, 'n_estimators': 174, 'learning_rate': 0.13996006574298034, 'num_leaves': 3446, 'min_child_samples': 6}. Best is trial 24 with value: 0.8444444444444444.\n",
      "[I 2020-09-09 17:32:47,924] Trial 27 finished with value: 0.717948717948718 and parameters: {'max_depth': 2, 'n_estimators': 184, 'learning_rate': 0.12097489445410532, 'num_leaves': 2070, 'min_child_samples': 42}. Best is trial 24 with value: 0.8444444444444444.\n",
      "[I 2020-09-09 17:32:48,035] Trial 28 finished with value: 0.8 and parameters: {'max_depth': 4, 'n_estimators': 148, 'learning_rate': 0.18260450145066753, 'num_leaves': 3436, 'min_child_samples': 28}. Best is trial 24 with value: 0.8444444444444444.\n",
      "[I 2020-09-09 17:32:48,153] Trial 29 finished with value: 0.8 and parameters: {'max_depth': 2, 'n_estimators': 272, 'learning_rate': 0.3000701412299237, 'num_leaves': 2080, 'min_child_samples': 5}. Best is trial 24 with value: 0.8444444444444444.\n",
      "[I 2020-09-09 17:32:48,270] Trial 30 finished with value: 0.717948717948718 and parameters: {'max_depth': 7, 'n_estimators': 198, 'learning_rate': 0.004906023024017936, 'num_leaves': 1213, 'min_child_samples': 56}. Best is trial 24 with value: 0.8444444444444444.\n",
      "[I 2020-09-09 17:32:48,383] Trial 31 finished with value: 0.782608695652174 and parameters: {'max_depth': 4, 'n_estimators': 142, 'learning_rate': 0.17137734042524397, 'num_leaves': 3487, 'min_child_samples': 27}. Best is trial 24 with value: 0.8444444444444444.\n",
      "[I 2020-09-09 17:32:48,535] Trial 32 finished with value: 0.8181818181818182 and parameters: {'max_depth': 3, 'n_estimators': 272, 'learning_rate': 0.3176966958351717, 'num_leaves': 2221, 'min_child_samples': 3}. Best is trial 24 with value: 0.8444444444444444.\n",
      "[I 2020-09-09 17:32:48,679] Trial 33 finished with value: 0.6976744186046512 and parameters: {'max_depth': 3, 'n_estimators': 263, 'learning_rate': 0.29156012143333204, 'num_leaves': 2191, 'min_child_samples': 19}. Best is trial 24 with value: 0.8444444444444444.\n",
      "[I 2020-09-09 17:32:48,872] Trial 34 finished with value: 0.8 and parameters: {'max_depth': 6, 'n_estimators': 317, 'learning_rate': 0.41702627722074015, 'num_leaves': 1309, 'min_child_samples': 3}. Best is trial 24 with value: 0.8444444444444444.\n",
      "[I 2020-09-09 17:32:49,010] Trial 35 finished with value: 0.7727272727272727 and parameters: {'max_depth': 4, 'n_estimators': 238, 'learning_rate': 0.383630999214922, 'num_leaves': 1684, 'min_child_samples': 18}. Best is trial 24 with value: 0.8444444444444444.\n",
      "[I 2020-09-09 17:32:49,146] Trial 36 finished with value: 0.6666666666666667 and parameters: {'max_depth': 2, 'n_estimators': 351, 'learning_rate': 0.14607970480958402, 'num_leaves': 2340, 'min_child_samples': 39}. Best is trial 24 with value: 0.8444444444444444.\n",
      "[I 2020-09-09 17:32:49,367] Trial 37 finished with value: 0.7441860465116279 and parameters: {'max_depth': 11, 'n_estimators': 285, 'learning_rate': 0.2079878744045089, 'num_leaves': 184, 'min_child_samples': 15}. Best is trial 24 with value: 0.8444444444444444.\n",
      "[I 2020-09-09 17:32:49,523] Trial 38 finished with value: 0.8444444444444444 and parameters: {'max_depth': 7, 'n_estimators': 57, 'learning_rate': 0.3046727472010493, 'num_leaves': 2739, 'min_child_samples': 3}. Best is trial 24 with value: 0.8444444444444444.\n",
      "[I 2020-09-09 17:32:49,607] Trial 39 finished with value: 0.0 and parameters: {'max_depth': 6, 'n_estimators': 59, 'learning_rate': 0.04917769667045219, 'num_leaves': 3963, 'min_child_samples': 162}. Best is trial 24 with value: 0.8444444444444444.\n",
      "[I 2020-09-09 17:32:49,693] Trial 40 finished with value: 0.0 and parameters: {'max_depth': 14, 'n_estimators': 44, 'learning_rate': 0.11622751058420164, 'num_leaves': 2736, 'min_child_samples': 193}. Best is trial 24 with value: 0.8444444444444444.\n",
      "[I 2020-09-09 17:32:49,920] Trial 41 finished with value: 0.761904761904762 and parameters: {'max_depth': 8, 'n_estimators': 404, 'learning_rate': 0.2881818078435763, 'num_leaves': 1897, 'min_child_samples': 5}. Best is trial 24 with value: 0.8444444444444444.\n",
      "[I 2020-09-09 17:32:50,019] Trial 42 finished with value: 0.8444444444444444 and parameters: {'max_depth': 3, 'n_estimators': 102, 'learning_rate': 0.3790714083827085, 'num_leaves': 2989, 'min_child_samples': 3}. Best is trial 24 with value: 0.8444444444444444.\n",
      "[I 2020-09-09 17:32:50,132] Trial 43 finished with value: 0.7906976744186046 and parameters: {'max_depth': 5, 'n_estimators': 98, 'learning_rate': 0.3628920458537128, 'num_leaves': 3054, 'min_child_samples': 23}. Best is trial 24 with value: 0.8444444444444444.\n",
      "[I 2020-09-09 17:32:50,234] Trial 44 finished with value: 0.8181818181818182 and parameters: {'max_depth': 3, 'n_estimators': 116, 'learning_rate': 0.48648290991291204, 'num_leaves': 3482, 'min_child_samples': 13}. Best is trial 24 with value: 0.8444444444444444.\n",
      "[I 2020-09-09 17:32:50,330] Trial 45 finished with value: 0.761904761904762 and parameters: {'max_depth': 7, 'n_estimators': 88, 'learning_rate': 0.21890796907197171, 'num_leaves': 2941, 'min_child_samples': 36}. Best is trial 24 with value: 0.8444444444444444.\n",
      "[I 2020-09-09 17:32:50,399] Trial 46 finished with value: 0.6486486486486486 and parameters: {'max_depth': 2, 'n_estimators': 48, 'learning_rate': 0.2681581592247411, 'num_leaves': 3362, 'min_child_samples': 102}. Best is trial 24 with value: 0.8444444444444444.\n",
      "[I 2020-09-09 17:32:50,502] Trial 47 finished with value: 0.7804878048780488 and parameters: {'max_depth': 5, 'n_estimators': 120, 'learning_rate': 0.38560369913867076, 'num_leaves': 3701, 'min_child_samples': 46}. Best is trial 24 with value: 0.8444444444444444.\n",
      "[I 2020-09-09 17:32:50,666] Trial 48 finished with value: 0.7727272727272727 and parameters: {'max_depth': 10, 'n_estimators': 167, 'learning_rate': 0.5669011335559373, 'num_leaves': 3195, 'min_child_samples': 12}. Best is trial 24 with value: 0.8444444444444444.\n",
      "[I 2020-09-09 17:32:50,741] Trial 49 finished with value: 0.717948717948718 and parameters: {'max_depth': 4, 'n_estimators': 29, 'learning_rate': 0.05347601005653117, 'num_leaves': 2618, 'min_child_samples': 29}. Best is trial 24 with value: 0.8444444444444444.\n",
      "[I 2020-09-09 17:32:50,842] Trial 50 finished with value: 0.8095238095238095 and parameters: {'max_depth': 8, 'n_estimators': 78, 'learning_rate': 0.1967794124794785, 'num_leaves': 3039, 'min_child_samples': 20}. Best is trial 24 with value: 0.8444444444444444.\n",
      "[I 2020-09-09 17:32:50,947] Trial 51 finished with value: 0.8 and parameters: {'max_depth': 3, 'n_estimators': 125, 'learning_rate': 0.5060744042884741, 'num_leaves': 4093, 'min_child_samples': 11}. Best is trial 24 with value: 0.8444444444444444.\n",
      "[I 2020-09-09 17:32:51,048] Trial 52 finished with value: 0.8444444444444444 and parameters: {'max_depth': 3, 'n_estimators': 112, 'learning_rate': 0.63734507672687, 'num_leaves': 3636, 'min_child_samples': 4}. Best is trial 24 with value: 0.8444444444444444.\n",
      "[I 2020-09-09 17:32:51,171] Trial 53 finished with value: 0.8260869565217391 and parameters: {'max_depth': 5, 'n_estimators': 154, 'learning_rate': 0.6757170152260361, 'num_leaves': 3591, 'min_child_samples': 3}. Best is trial 24 with value: 0.8444444444444444.\n",
      "[I 2020-09-09 17:32:51,249] Trial 54 finished with value: 0.6818181818181819 and parameters: {'max_depth': 2, 'n_estimators': 62, 'learning_rate': 0.5785659145240137, 'num_leaves': 3904, 'min_child_samples': 33}. Best is trial 24 with value: 0.8444444444444444.\n",
      "[I 2020-09-09 17:32:51,315] Trial 55 finished with value: 0.0 and parameters: {'max_depth': 5, 'n_estimators': 195, 'learning_rate': 0.7129996950816951, 'num_leaves': 3636, 'min_child_samples': 121}. Best is trial 24 with value: 0.8444444444444444.\n",
      "[I 2020-09-09 17:32:51,454] Trial 56 finished with value: 0.761904761904762 and parameters: {'max_depth': 7, 'n_estimators': 214, 'learning_rate': 0.682835033540657, 'num_leaves': 4345, 'min_child_samples': 3}. Best is trial 24 with value: 0.8444444444444444.\n",
      "[I 2020-09-09 17:32:51,569] Trial 57 finished with value: 0.8 and parameters: {'max_depth': 6, 'n_estimators': 160, 'learning_rate': 0.6300329060456129, 'num_leaves': 3280, 'min_child_samples': 11}. Best is trial 24 with value: 0.8444444444444444.\n",
      "[I 2020-09-09 17:32:51,651] Trial 58 finished with value: 0.7804878048780488 and parameters: {'max_depth': 9, 'n_estimators': 20, 'learning_rate': 0.7270048101496083, 'num_leaves': 3603, 'min_child_samples': 20}. Best is trial 24 with value: 0.8444444444444444.\n",
      "[I 2020-09-09 17:32:51,716] Trial 59 finished with value: 0.0 and parameters: {'max_depth': 3, 'n_estimators': 107, 'learning_rate': 0.12390803020233361, 'num_leaves': 2704, 'min_child_samples': 182}. Best is trial 24 with value: 0.8444444444444444.\n",
      "[I 2020-09-09 17:32:51,809] Trial 60 finished with value: 0.7441860465116279 and parameters: {'max_depth': 4, 'n_estimators': 85, 'learning_rate': 0.23438963026836235, 'num_leaves': 1448, 'min_child_samples': 27}. Best is trial 24 with value: 0.8444444444444444.\n",
      "[I 2020-09-09 17:32:51,916] Trial 61 finished with value: 0.8095238095238095 and parameters: {'max_depth': 5, 'n_estimators': 139, 'learning_rate': 0.8366596073503512, 'num_leaves': 4562, 'min_child_samples': 3}. Best is trial 24 with value: 0.8444444444444444.\n",
      "[I 2020-09-09 17:32:52,009] Trial 62 finished with value: 0.8181818181818182 and parameters: {'max_depth': 2, 'n_estimators': 165, 'learning_rate': 0.9513419114375118, 'num_leaves': 3806, 'min_child_samples': 9}. Best is trial 24 with value: 0.8444444444444444.\n",
      "[I 2020-09-09 17:32:52,105] Trial 63 finished with value: 0.6829268292682927 and parameters: {'max_depth': 4, 'n_estimators': 96, 'learning_rate': 0.773672831607666, 'num_leaves': 4124, 'min_child_samples': 3}. Best is trial 24 with value: 0.8444444444444444.\n",
      "[I 2020-09-09 17:32:52,181] Trial 64 finished with value: 0.7555555555555555 and parameters: {'max_depth': 3, 'n_estimators': 56, 'learning_rate': 0.6241213426316105, 'num_leaves': 3163, 'min_child_samples': 16}. Best is trial 24 with value: 0.8444444444444444.\n",
      "[I 2020-09-09 17:32:52,253] Trial 65 finished with value: 0.717948717948718 and parameters: {'max_depth': 6, 'n_estimators': 2, 'learning_rate': 0.6655384686905045, 'num_leaves': 2844, 'min_child_samples': 24}. Best is trial 24 with value: 0.8444444444444444.\n",
      "[I 2020-09-09 17:32:52,343] Trial 66 finished with value: 0.8181818181818182 and parameters: {'max_depth': 2, 'n_estimators': 72, 'learning_rate': 0.5901961150027251, 'num_leaves': 2480, 'min_child_samples': 9}. Best is trial 24 with value: 0.8444444444444444.\n",
      "[I 2020-09-09 17:32:52,429] Trial 67 finished with value: 0.7692307692307693 and parameters: {'max_depth': 7, 'n_estimators': 135, 'learning_rate': 0.5345264007682348, 'num_leaves': 3504, 'min_child_samples': 88}. Best is trial 24 with value: 0.8444444444444444.\n",
      "[I 2020-09-09 17:32:52,548] Trial 68 finished with value: 0.782608695652174 and parameters: {'max_depth': 4, 'n_estimators': 109, 'learning_rate': 0.08942314401533664, 'num_leaves': 3335, 'min_child_samples': 3}. Best is trial 24 with value: 0.8444444444444444.\n",
      "[I 2020-09-09 17:32:52,638] Trial 69 finished with value: 0.7727272727272727 and parameters: {'max_depth': 5, 'n_estimators': 37, 'learning_rate': 0.4332754409634847, 'num_leaves': 2364, 'min_child_samples': 16}. Best is trial 24 with value: 0.8444444444444444.\n",
      "[I 2020-09-09 17:32:52,802] Trial 70 finished with value: 0.6486486486486486 and parameters: {'max_depth': 3, 'n_estimators': 484, 'learning_rate': 0.33500557293384065, 'num_leaves': 3797, 'min_child_samples': 55}. Best is trial 24 with value: 0.8444444444444444.\n",
      "[I 2020-09-09 17:32:52,901] Trial 71 finished with value: 0.8181818181818182 and parameters: {'max_depth': 2, 'n_estimators': 79, 'learning_rate': 0.583204224527686, 'num_leaves': 1937, 'min_child_samples': 8}. Best is trial 24 with value: 0.8444444444444444.\n",
      "[I 2020-09-09 17:32:53,062] Trial 72 finished with value: 0.8 and parameters: {'max_depth': 3, 'n_estimators': 240, 'learning_rate': 0.26410402464479676, 'num_leaves': 2218, 'min_child_samples': 4}. Best is trial 24 with value: 0.8444444444444444.\n",
      "[I 2020-09-09 17:32:53,223] Trial 73 finished with value: 0.7441860465116279 and parameters: {'max_depth': 5, 'n_estimators': 324, 'learning_rate': 0.31656153042094975, 'num_leaves': 1824, 'min_child_samples': 18}. Best is trial 24 with value: 0.8444444444444444.\n",
      "[I 2020-09-09 17:32:53,336] Trial 74 finished with value: 0.8 and parameters: {'max_depth': 3, 'n_estimators': 151, 'learning_rate': 0.4925310381360394, 'num_leaves': 3536, 'min_child_samples': 14}. Best is trial 24 with value: 0.8444444444444444.\n",
      "[I 2020-09-09 17:32:53,877] Trial 75 finished with value: 0.7906976744186046 and parameters: {'max_depth': 18, 'n_estimators': 297, 'learning_rate': 0.15094950095477802, 'num_leaves': 2585, 'min_child_samples': 3}. Best is trial 24 with value: 0.8444444444444444.\n",
      "[I 2020-09-09 17:32:53,984] Trial 76 finished with value: 0.7142857142857143 and parameters: {'max_depth': 4, 'n_estimators': 120, 'learning_rate': 0.4631842648713372, 'num_leaves': 2980, 'min_child_samples': 32}. Best is trial 24 with value: 0.8444444444444444.\n",
      "[I 2020-09-09 17:32:54,074] Trial 77 finished with value: 0.8181818181818182 and parameters: {'max_depth': 2, 'n_estimators': 86, 'learning_rate': 0.5990000282380394, 'num_leaves': 2010, 'min_child_samples': 8}. Best is trial 24 with value: 0.8444444444444444.\n",
      "[I 2020-09-09 17:32:54,152] Trial 78 finished with value: 0.7727272727272727 and parameters: {'max_depth': 2, 'n_estimators': 67, 'learning_rate': 0.7693128901917553, 'num_leaves': 1461, 'min_child_samples': 23}. Best is trial 24 with value: 0.8444444444444444.\n",
      "[I 2020-09-09 17:32:54,265] Trial 79 finished with value: 0.75 and parameters: {'max_depth': 20, 'n_estimators': 95, 'learning_rate': 0.6095575174201395, 'num_leaves': 2042, 'min_child_samples': 41}. Best is trial 24 with value: 0.8444444444444444.\n",
      "[I 2020-09-09 17:32:54,408] Trial 80 finished with value: 0.7906976744186046 and parameters: {'max_depth': 13, 'n_estimators': 55, 'learning_rate': 0.533963038313414, 'num_leaves': 2752, 'min_child_samples': 8}. Best is trial 24 with value: 0.8444444444444444.\n",
      "[I 2020-09-09 17:32:54,641] Trial 81 finished with value: 0.7906976744186046 and parameters: {'max_depth': 16, 'n_estimators': 164, 'learning_rate': 0.8758174670856431, 'num_leaves': 4018, 'min_child_samples': 9}. Best is trial 24 with value: 0.8444444444444444.\n",
      "[I 2020-09-09 17:32:54,750] Trial 82 finished with value: 0.782608695652174 and parameters: {'max_depth': 2, 'n_estimators': 186, 'learning_rate': 0.9630168905278418, 'num_leaves': 3764, 'min_child_samples': 8}. Best is trial 24 with value: 0.8444444444444444.\n",
      "[I 2020-09-09 17:32:54,857] Trial 83 finished with value: 0.7441860465116279 and parameters: {'max_depth': 4, 'n_estimators': 108, 'learning_rate': 0.6550866834578364, 'num_leaves': 3421, 'min_child_samples': 14}. Best is trial 24 with value: 0.8444444444444444.\n",
      "[I 2020-09-09 17:32:54,971] Trial 84 finished with value: 0.7441860465116279 and parameters: {'max_depth': 6, 'n_estimators': 132, 'learning_rate': 0.17908145807884332, 'num_leaves': 3588, 'min_child_samples': 24}. Best is trial 24 with value: 0.8444444444444444.\n",
      "[I 2020-09-09 17:32:55,105] Trial 85 finished with value: 0.8 and parameters: {'max_depth': 3, 'n_estimators': 174, 'learning_rate': 0.39974520652148804, 'num_leaves': 3848, 'min_child_samples': 13}. Best is trial 24 with value: 0.8444444444444444.\n",
      "[I 2020-09-09 17:32:55,274] Trial 86 finished with value: 0.7727272727272727 and parameters: {'max_depth': 5, 'n_estimators': 225, 'learning_rate': 0.3102034656092473, 'num_leaves': 2193, 'min_child_samples': 18}. Best is trial 24 with value: 0.8444444444444444.\n",
      "[I 2020-09-09 17:32:55,378] Trial 87 finished with value: 0.7142857142857143 and parameters: {'max_depth': 3, 'n_estimators': 123, 'learning_rate': 0.4927829901633272, 'num_leaves': 3108, 'min_child_samples': 29}. Best is trial 24 with value: 0.8444444444444444.\n",
      "[I 2020-09-09 17:32:55,446] Trial 88 finished with value: 0.0 and parameters: {'max_depth': 2, 'n_estimators': 84, 'learning_rate': 0.721711940544188, 'num_leaves': 2540, 'min_child_samples': 200}. Best is trial 24 with value: 0.8444444444444444.\n",
      "[I 2020-09-09 17:32:55,537] Trial 89 finished with value: 0.8 and parameters: {'max_depth': 4, 'n_estimators': 44, 'learning_rate': 0.3540081282546323, 'num_leaves': 2382, 'min_child_samples': 3}. Best is trial 24 with value: 0.8444444444444444.\n",
      "[I 2020-09-09 17:32:55,625] Trial 90 finished with value: 0.6857142857142856 and parameters: {'max_depth': 8, 'n_estimators': 19, 'learning_rate': 0.03631311410575644, 'num_leaves': 1779, 'min_child_samples': 7}. Best is trial 24 with value: 0.8444444444444444.\n",
      "[I 2020-09-09 17:32:55,755] Trial 91 finished with value: 0.7727272727272727 and parameters: {'max_depth': 3, 'n_estimators': 151, 'learning_rate': 0.2728456755595528, 'num_leaves': 3301, 'min_child_samples': 14}. Best is trial 24 with value: 0.8444444444444444.\n",
      "[I 2020-09-09 17:32:55,836] Trial 92 finished with value: 0.7906976744186046 and parameters: {'max_depth': 2, 'n_estimators': 72, 'learning_rate': 0.5941062094920087, 'num_leaves': 1935, 'min_child_samples': 8}. Best is trial 24 with value: 0.8444444444444444.\n",
      "[I 2020-09-09 17:32:55,938] Trial 93 finished with value: 0.8 and parameters: {'max_depth': 6, 'n_estimators': 112, 'learning_rate': 0.9885811322792788, 'num_leaves': 4269, 'min_child_samples': 11}. Best is trial 24 with value: 0.8444444444444444.\n",
      "[I 2020-09-09 17:32:56,040] Trial 94 finished with value: 0.761904761904762 and parameters: {'max_depth': 4, 'n_estimators': 93, 'learning_rate': 0.5496483720067163, 'num_leaves': 3717, 'min_child_samples': 19}. Best is trial 24 with value: 0.8444444444444444.\n",
      "[I 2020-09-09 17:32:56,137] Trial 95 finished with value: 0.8260869565217391 and parameters: {'max_depth': 2, 'n_estimators': 199, 'learning_rate': 0.13013472008480612, 'num_leaves': 1507, 'min_child_samples': 7}. Best is trial 24 with value: 0.8444444444444444.\n",
      "[I 2020-09-09 17:32:56,374] Trial 96 finished with value: 0.8444444444444444 and parameters: {'max_depth': 5, 'n_estimators': 253, 'learning_rate': 0.11055884278366032, 'num_leaves': 1535, 'min_child_samples': 3}. Best is trial 24 with value: 0.8444444444444444.\n",
      "[I 2020-09-09 17:32:56,517] Trial 97 finished with value: 0.7906976744186046 and parameters: {'max_depth': 5, 'n_estimators': 204, 'learning_rate': 0.10862587380474217, 'num_leaves': 896, 'min_child_samples': 22}. Best is trial 24 with value: 0.8444444444444444.\n",
      "[I 2020-09-09 17:32:56,750] Trial 98 finished with value: 0.8095238095238095 and parameters: {'max_depth': 7, 'n_estimators': 257, 'learning_rate': 0.13251965329736298, 'num_leaves': 1568, 'min_child_samples': 5}. Best is trial 24 with value: 0.8444444444444444.\n",
      "[I 2020-09-09 17:32:56,932] Trial 99 finished with value: 0.7727272727272727 and parameters: {'max_depth': 6, 'n_estimators': 281, 'learning_rate': 0.06848314798635338, 'num_leaves': 1038, 'min_child_samples': 27}. Best is trial 24 with value: 0.8444444444444444.\n"
     ]
    }
   ],
   "source": [
    "study = optuna.create_study(direction=\"maximize\", sampler=sampler)\n",
    "study.optimize(objective, n_trials=100)"
   ]
  },
  {
   "cell_type": "code",
   "execution_count": 120,
   "metadata": {},
   "outputs": [
    {
     "data": {
      "text/plain": [
       "{'max_depth': 3,\n",
       " 'n_estimators': 59,\n",
       " 'learning_rate': 0.17064885458443496,\n",
       " 'num_leaves': 3482,\n",
       " 'min_child_samples': 3}"
      ]
     },
     "execution_count": 120,
     "metadata": {},
     "output_type": "execute_result"
    }
   ],
   "source": [
    "best_lgbm_param = study.best_params\n",
    "best_lgbm_param"
   ]
  },
  {
   "cell_type": "code",
   "execution_count": 121,
   "metadata": {},
   "outputs": [
    {
     "name": "stdout",
     "output_type": "stream",
     "text": [
      "[LightGBM] [Warning] Unknown parameter: n_stimeators\n",
      "pipeline accuracy:  0.85\n",
      "pipeline f1-score 0.7906976744186046\n",
      "pipeline precision 0.85\n",
      "opipeline recall 0.7391304347826086\n"
     ]
    }
   ],
   "source": [
    "best_lgbm_param['random_state'] = 0\n",
    "optimized_lgbm_clf = LGBMClassifier(**lgbm_best_param)\n",
    "rfe = RFE(estimator=DecisionTreeClassifier(random_state=0), n_features_to_select=7)\n",
    "pipeline = Pipeline(steps=[\n",
    "    ('feature-select',rfe), \n",
    "    ('lgbm-clf', optimized_lgbm_clf)\n",
    "])\n",
    "pipeline.fit(train_x, train_y)\n",
    "predict_y = pipeline.predict(test_x)\n",
    "print('pipeline accuracy: ', accuracy_score(test_y, predict_y))\n",
    "print('pipeline f1-score', f1_score(test_y, predict_y))\n",
    "print('pipeline precision', precision_score(test_y, predict_y))\n",
    "print('opipeline recall', recall_score(test_y, predict_y))"
   ]
  },
  {
   "cell_type": "code",
   "execution_count": 122,
   "metadata": {},
   "outputs": [
    {
     "data": {
      "image/png": "[encoded data removed]",
      "text/plain": [
       "<Figure size 1152x648 with 2 Axes>"
      ]
     },
     "metadata": {
      "needs_background": "light"
     },
     "output_type": "display_data"
    }
   ],
   "source": [
    "plot_confusion_matrix(pipeline, test_x, test_y)\n",
    "plt.show()"
   ]
  },
  {
   "cell_type": "code",
   "execution_count": null,
   "metadata": {},
   "outputs": [],
   "source": []
  },
  {
   "cell_type": "code",
   "execution_count": null,
   "metadata": {},
   "outputs": [],
   "source": []
  },
  {
   "cell_type": "code",
   "execution_count": null,
   "metadata": {},
   "outputs": [],
   "source": []
  }
 ],
 "metadata": {
  "kernelspec": {
   "display_name": "Python 3",
   "language": "python",
   "name": "python3"
  },
  "language_info": {
   "codemirror_mode": {
    "name": "ipython",
    "version": 3
   },
   "file_extension": ".py",
   "mimetype": "text/x-python",
   "name": "python",
   "nbconvert_exporter": "python",
   "pygments_lexer": "ipython3",
   "version": "3.7.6"
  }
 },
 "nbformat": 4,
 "nbformat_minor": 4
}
