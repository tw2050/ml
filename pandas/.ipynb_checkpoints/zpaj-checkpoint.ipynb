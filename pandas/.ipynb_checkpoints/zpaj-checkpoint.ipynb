{
 "cells": [
  {
   "cell_type": "code",
   "execution_count": 1,
   "metadata": {},
   "outputs": [],
   "source": [
    "import numpy as np\n",
    "import pandas as pd\n",
    "import re"
   ]
  },
  {
   "cell_type": "code",
   "execution_count": 2,
   "metadata": {},
   "outputs": [],
   "source": [
    "data = pd.read_csv('f:\\dxzp.csv', encoding='gbk')"
   ]
  },
  {
   "cell_type": "code",
   "execution_count": null,
   "metadata": {},
   "outputs": [],
   "source": [
    "data.head(10)"
   ]
  },
  {
   "cell_type": "code",
   "execution_count": 4,
   "metadata": {},
   "outputs": [
    {
     "data": {
      "text/plain": [
       "0      （冒充电商物流客服类）2020年10月4日19时30分事主夏子莹（女，21岁，汉族，身高：1...\n",
       "1      (其他类诈骗)报警人宗芷萱（身份证号码360121200809165826，电话号码1397...\n",
       "2      2020年10月14日22:35:33一女子报警称：在南昌县万科城市花园5栋3单元402，网...\n",
       "3      （冒充领导、熟人类）2020年10月17日15时许，我大队接报警人吴桂花（女，南昌人，身份证...\n",
       "4      (冒充淘宝客服退款诈骗)2020年10月2日11时34分，林妃（36232220010103...\n",
       "                             ...                        \n",
       "580    （刷单类电信网络诈骗）2020年10月17日21时许，报警人程钰（3408242001060...\n",
       "581    （刷单类电信网络诈骗）2020年10月19日14月48日接110指挥中心称：在高新区天祥大道...\n",
       "582    （冒充电商物流类电信诈骗）2020年10月20日12时51分接110指挥中心指令称：蔡进语小...\n",
       "583    （刷单返利类电信诈骗）2020-10-20 11:18:30李苗琪报警称：在高新区天祥大道瑶...\n",
       "584    （杀猪盘类：虚假投资理财）报案人袁桂香（女，身份证号360122197408110922，1...\n",
       "Name: 简要案情, Length: 585, dtype: object"
      ]
     },
     "execution_count": 4,
     "metadata": {},
     "output_type": "execute_result"
    }
   ],
   "source": [
    "data['简要案情']"
   ]
  },
  {
   "cell_type": "code",
   "execution_count": 5,
   "metadata": {},
   "outputs": [],
   "source": [
    "#aq_list = np.array(data['简要案情'], dtype = str)"
   ]
  },
  {
   "cell_type": "code",
   "execution_count": 6,
   "metadata": {},
   "outputs": [],
   "source": [
    "#temp = aq_list[0]\n",
    "#temp"
   ]
  },
  {
   "cell_type": "code",
   "execution_count": 7,
   "metadata": {},
   "outputs": [],
   "source": [
    "#date_re = r'\\d{4}[年-]\\d{2}[月-]\\d{2}[日]'\n",
    "\n",
    "#data_regex = re.compile(date_re)\n",
    "#temp_time = data_regex.findall(temp)"
   ]
  },
  {
   "cell_type": "code",
   "execution_count": 8,
   "metadata": {},
   "outputs": [],
   "source": [
    "#temp_time"
   ]
  },
  {
   "cell_type": "code",
   "execution_count": 9,
   "metadata": {},
   "outputs": [],
   "source": [
    "#phone_re = '(?:^|[^\\d])(1\\d{10})(?:$|[^\\d])'\n",
    "#phone_regex = re.compile(phone_re)\n",
    "#temp_phone = phone_regex.findall(temp)\n",
    "#temp_phone"
   ]
  },
  {
   "cell_type": "code",
   "execution_count": 10,
   "metadata": {},
   "outputs": [],
   "source": [
    "#temp_identity1 = '360122009909110021aaaa'\n",
    "#identity_re = '\\d{17}[0-9Xx]'\n",
    "#identity_re = '(([0-9]{3}[1-9]|[0-9]{2}[1-9][0-9]{1}|[0-9]{1}[1-9][0-9]{2}|[1-9][0-9]{3})(((0[13578]|1[02])(0[1-9]|[12][0-9]|3[01]))|((0[469]|11)(0[1-9]|[12][0-9]|30))|(02(0[1-9]|[1][0-9]|2[0-8]))))|((([0-9]{2})(0[48]|[2468][048]|[13579][26])|((0[48]|[2468][048]|[3579][26])00))0229)'\n",
    "#identity_regex = re.compile(identity_re)\n",
    "#temp_identity = identity_regex.findall(temp)\n",
    "#temp_identity"
   ]
  },
  {
   "cell_type": "code",
   "execution_count": 11,
   "metadata": {},
   "outputs": [],
   "source": [
    "#name_re1 = '事主(.*?)\\（女'\n",
    "#name_regex1 = re.compile(name_re1)\n",
    "#temp_name= name_regex1.findall(temp)\n",
    "#temp_name"
   ]
  },
  {
   "cell_type": "code",
   "execution_count": null,
   "metadata": {},
   "outputs": [],
   "source": []
  },
  {
   "cell_type": "code",
   "execution_count": 12,
   "metadata": {},
   "outputs": [],
   "source": [
    "def get_phone(data):\n",
    "    phone_re = '(?:^|[^\\d])(1\\d{10})(?:$|[^\\d])'\n",
    "    phone_regex = re.compile(phone_re)\n",
    "    phone = phone_regex.findall(data)\n",
    "    if len(phone) > 0:\n",
    "        return phone[0]\n",
    "    else:\n",
    "        return \"\""
   ]
  },
  {
   "cell_type": "code",
   "execution_count": 13,
   "metadata": {},
   "outputs": [],
   "source": [
    "#data['电话号码'] = data.apply(lambda x: get_phone(data['简要案情']), axis = 1)\n",
    "phone_list = []\n",
    "for jyaq in data['简要案情']:\n",
    "    phone = get_phone(jyaq)\n",
    "    phone_list.append(phone)\n",
    "    \n",
    "tab_2 = pd.DataFrame(phone_list, index=data.index, columns = ['phone'])\n",
    "new_data = data.join(tab_2)\n"
   ]
  },
  {
   "cell_type": "code",
   "execution_count": 17,
   "metadata": {},
   "outputs": [],
   "source": [
    "def check_date(str_date):\n",
    "    try:\n",
    "        ret = pd.to_datetime(str_date)\n",
    "        return ret\n",
    "    except:\n",
    "        return ''\n",
    "\n",
    "def get_identity(data):\n",
    "    identity_re = '\\d{17}[0-9Xx]'\n",
    "    identity_regex = re.compile(identity_re)\n",
    "    identity = identity_regex.findall(str(data))\n",
    "    if len(identity) > 0:\n",
    "        for temp in identity:\n",
    "            str_date = temp[6:14]\n",
    "            ret = check_date(str_date)\n",
    "            if ret != '':\n",
    "                return temp\n",
    "    return ''"
   ]
  },
  {
   "cell_type": "code",
   "execution_count": 18,
   "metadata": {},
   "outputs": [],
   "source": [
    "identity_list = []\n",
    "for jyaq in data['简要案情']:\n",
    "    idenity = get_identity(jyaq)\n",
    "    identity_list.append(idenity)\n",
    "    \n",
    "tab_2 = pd.DataFrame(identity_list, index=data.index, columns = ['identity_code'])\n",
    "new_data = new_data.join(tab_2)\n"
   ]
  },
  {
   "cell_type": "code",
   "execution_count": 19,
   "metadata": {},
   "outputs": [],
   "source": [
    "def get_name(data):\n",
    "    name_res = ['(.*)(?=被诈骗)', '(.*)(?=被骗)', '(.*)(?=被电信诈骗)', '(.*)(?=电信被诈骗)', '(.*)(?=网络被骗案)', '(.*)(?=诈骗)']\n",
    "    \n",
    "    for name_re in name_res:\n",
    "        name_regex =  re.compile(name_re)\n",
    "        name = name_regex.findall(str(data))\n",
    "        \n",
    "        if (len(name) > 0):\n",
    "            return name[0]\n",
    "        \n",
    "    return \"\""
   ]
  },
  {
   "cell_type": "code",
   "execution_count": 21,
   "metadata": {},
   "outputs": [],
   "source": [
    "name_list = []\n",
    "for ajmc in data['案件名称']:\n",
    "    name = get_name(ajmc)\n",
    "    name_list.append(name)\n",
    "    \n",
    "tab_2 = pd.DataFrame(name_list, index=data.index, columns = ['name'])\n",
    "new_data = new_data.join(tab_2)"
   ]
  },
  {
   "cell_type": "code",
   "execution_count": null,
   "metadata": {},
   "outputs": [],
   "source": [
    "col_list = ['name', 'identity_code', 'phone']\n",
    "temp_data = new_data[col_list]\n",
    "temp_data"
   ]
  },
  {
   "cell_type": "code",
   "execution_count": null,
   "metadata": {
    "scrolled": true
   },
   "outputs": [],
   "source": [
    "new_data.head()"
   ]
  },
  {
   "cell_type": "code",
   "execution_count": 30,
   "metadata": {},
   "outputs": [],
   "source": [
    "new_data.to_excel('f:/new_dxzp.xlsx')"
   ]
  },
  {
   "cell_type": "code",
   "execution_count": null,
   "metadata": {},
   "outputs": [],
   "source": []
  },
  {
   "cell_type": "code",
   "execution_count": 56,
   "metadata": {},
   "outputs": [
    {
     "data": {
      "text/plain": [
       "'62170029201522222'"
      ]
     },
     "execution_count": 56,
     "metadata": {},
     "output_type": "execute_result"
    }
   ],
   "source": [
    "def get_card_no(data):\n",
    "    card_res = ['62\\d{17}','62\\d{16}', '62\\d{15}', '62\\d{14}', '62\\d{13}', '62\\d{12}', '62\\d{11}']\n",
    "    for card_re in card_res:\n",
    "        card_regex =  re.compile(card_re)\n",
    "        card_no = card_regex.findall(str(data))\n",
    "\n",
    "        if (len(card_no) > 0):\n",
    "            return card_no[0]\n",
    "    \n",
    "    return ''\n",
    "\n",
    "card_no_str = 'aaaa62170029201522222bbbb'\n",
    "\n",
    "get_card_no(card_no_str)"
   ]
  },
  {
   "cell_type": "code",
   "execution_count": null,
   "metadata": {},
   "outputs": [],
   "source": []
  },
  {
   "cell_type": "code",
   "execution_count": null,
   "metadata": {},
   "outputs": [],
   "source": []
  },
  {
   "cell_type": "code",
   "execution_count": null,
   "metadata": {},
   "outputs": [],
   "source": []
  }
 ],
 "metadata": {
  "kernelspec": {
   "display_name": "Python 3",
   "language": "python",
   "name": "python3"
  },
  "language_info": {
   "codemirror_mode": {
    "name": "ipython",
    "version": 3
   },
   "file_extension": ".py",
   "mimetype": "text/x-python",
   "name": "python",
   "nbconvert_exporter": "python",
   "pygments_lexer": "ipython3",
   "version": "3.7.6"
  }
 },
 "nbformat": 4,
 "nbformat_minor": 4
}
