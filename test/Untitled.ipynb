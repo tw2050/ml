{
 "cells": [
  {
   "cell_type": "code",
   "execution_count": 1,
   "metadata": {},
   "outputs": [],
   "source": [
    "import jieba.posseg as pseg"
   ]
  },
  {
   "cell_type": "code",
   "execution_count": 3,
   "metadata": {},
   "outputs": [
    {
     "name": "stderr",
     "output_type": "stream",
     "text": [
      "Building prefix dict from the default dictionary ...\n",
      "Dumping model to file cache C:\\Users\\admin\\AppData\\Local\\Temp\\jieba.cache\n",
      "Loading model cost 1.160 seconds.\n",
      "Prefix dict has been built successfully.\n"
     ]
    },
    {
     "name": "stdout",
     "output_type": "stream",
     "text": [
      "对 p\n",
      "这 r\n",
      "句 q\n",
      "话 n\n",
      "进行 v\n",
      "分词 n\n"
     ]
    }
   ],
   "source": [
    "words = pseg.cut('对这句话进行分词')\n",
    "for key in words:\n",
    "    print(key.word, key.flag)"
   ]
  },
  {
   "cell_type": "code",
   "execution_count": 4,
   "metadata": {},
   "outputs": [],
   "source": [
    "corpus=[\"我 来到 北京 清华大学\",#第一类文本切词后的结果，词之间以空格隔开\n",
    "        \"他 来到 了 网易 杭研 大厦\",#第二类文本的切词结果\n",
    "        \"小明 硕士 毕业 与 中国 科学院\",#第三类文本的切词结果\n",
    "        \"我 爱 北京 天安门\"]#第四类文本的切词结果"
   ]
  },
  {
   "cell_type": "code",
   "execution_count": 7,
   "metadata": {},
   "outputs": [],
   "source": [
    "from sklearn.feature_extraction.text import TfidfTransformer\n",
    "from sklearn.feature_extraction.text import CountVectorizer"
   ]
  },
  {
   "cell_type": "code",
   "execution_count": 8,
   "metadata": {},
   "outputs": [],
   "source": [
    "vectorizer = CountVectorizer()"
   ]
  },
  {
   "cell_type": "code",
   "execution_count": 9,
   "metadata": {},
   "outputs": [],
   "source": [
    "tranfromer = TfidfTransformer()"
   ]
  },
  {
   "cell_type": "code",
   "execution_count": 10,
   "metadata": {},
   "outputs": [],
   "source": [
    "tfidf = tranfromer.fit_transform(vectorizer.fit_transform(corpus))"
   ]
  },
  {
   "cell_type": "code",
   "execution_count": 32,
   "metadata": {},
   "outputs": [],
   "source": [
    "words = vectorizer.get_feature_names()"
   ]
  },
  {
   "cell_type": "code",
   "execution_count": 21,
   "metadata": {},
   "outputs": [],
   "source": [
    "weight = tfidf.toarray() #将tf-idf矩阵抽取出来，元素a[i][j]表示j词在i类文本中的tf-idf权重"
   ]
  },
  {
   "cell_type": "code",
   "execution_count": 29,
   "metadata": {},
   "outputs": [],
   "source": [
    "import os"
   ]
  },
  {
   "cell_type": "code",
   "execution_count": 34,
   "metadata": {},
   "outputs": [
    {
     "name": "stdout",
     "output_type": "stream",
     "text": [
      "-------这里输出第 0 类文本的词语tf-idf权重------\n",
      "中国 0.0\n",
      "北京 0.5264054336099155\n",
      "大厦 0.0\n",
      "天安门 0.0\n",
      "小明 0.0\n",
      "来到 0.5264054336099155\n",
      "杭研 0.0\n",
      "毕业 0.0\n",
      "清华大学 0.6676785446095399\n",
      "硕士 0.0\n",
      "科学院 0.0\n",
      "网易 0.0\n",
      "-------这里输出第 1 类文本的词语tf-idf权重------\n",
      "中国 0.0\n",
      "北京 0.0\n",
      "大厦 0.5254727492640658\n",
      "天安门 0.0\n",
      "小明 0.0\n",
      "来到 0.41428875116588965\n",
      "杭研 0.5254727492640658\n",
      "毕业 0.0\n",
      "清华大学 0.0\n",
      "硕士 0.0\n",
      "科学院 0.0\n",
      "网易 0.5254727492640658\n",
      "-------这里输出第 2 类文本的词语tf-idf权重------\n",
      "中国 0.4472135954999579\n",
      "北京 0.0\n",
      "大厦 0.0\n",
      "天安门 0.0\n",
      "小明 0.4472135954999579\n",
      "来到 0.0\n",
      "杭研 0.0\n",
      "毕业 0.4472135954999579\n",
      "清华大学 0.0\n",
      "硕士 0.4472135954999579\n",
      "科学院 0.4472135954999579\n",
      "网易 0.0\n",
      "-------这里输出第 3 类文本的词语tf-idf权重------\n",
      "中国 0.0\n",
      "北京 0.6191302964899972\n",
      "大厦 0.0\n",
      "天安门 0.7852882757103967\n",
      "小明 0.0\n",
      "来到 0.0\n",
      "杭研 0.0\n",
      "毕业 0.0\n",
      "清华大学 0.0\n",
      "硕士 0.0\n",
      "科学院 0.0\n",
      "网易 0.0\n"
     ]
    }
   ],
   "source": [
    "for i in range(len(weight)):\n",
    "    print(u\"-------这里输出第\",i,u\"类文本的词语tf-idf权重------\")\n",
    "    for j in range(len(words)):\n",
    "         print(words[j],weight[i][j])\n"
   ]
  },
  {
   "cell_type": "markdown",
   "metadata": {},
   "source": [
    "## sklearn 中的tf-idf"
   ]
  },
  {
   "cell_type": "code",
   "execution_count": 35,
   "metadata": {},
   "outputs": [],
   "source": [
    "transformer = TfidfTransformer(smooth_idf=False)"
   ]
  },
  {
   "cell_type": "code",
   "execution_count": 36,
   "metadata": {},
   "outputs": [],
   "source": [
    "counts=[[3, 0, 1],\n",
    "        [2, 0, 0],\n",
    "        [3, 0, 0],\n",
    "        [4, 0, 0],\n",
    "        [3, 2, 0],\n",
    "        [3, 0, 2]\n",
    "]"
   ]
  },
  {
   "cell_type": "code",
   "execution_count": 37,
   "metadata": {},
   "outputs": [],
   "source": [
    "tfidf = transformer.fit_transform(counts)"
   ]
  },
  {
   "cell_type": "code",
   "execution_count": 39,
   "metadata": {},
   "outputs": [
    {
     "data": {
      "text/plain": [
       "array([[0.81940995, 0.        , 0.57320793],\n",
       "       [1.        , 0.        , 0.        ],\n",
       "       [1.        , 0.        , 0.        ],\n",
       "       [1.        , 0.        , 0.        ],\n",
       "       [0.47330339, 0.88089948, 0.        ],\n",
       "       [0.58149261, 0.        , 0.81355169]])"
      ]
     },
     "execution_count": 39,
     "metadata": {},
     "output_type": "execute_result"
    }
   ],
   "source": [
    "tfidf.toarray()"
   ]
  },
  {
   "cell_type": "code",
   "execution_count": 40,
   "metadata": {},
   "outputs": [],
   "source": [
    "transformer1 = TfidfTransformer(smooth_idf=True)"
   ]
  },
  {
   "cell_type": "code",
   "execution_count": 43,
   "metadata": {},
   "outputs": [],
   "source": [
    "tfidf1 = transformer1.fit_transform(counts)"
   ]
  },
  {
   "cell_type": "code",
   "execution_count": 44,
   "metadata": {},
   "outputs": [
    {
     "data": {
      "text/plain": [
       "array([[0.85151335, 0.        , 0.52433293],\n",
       "       [1.        , 0.        , 0.        ],\n",
       "       [1.        , 0.        , 0.        ],\n",
       "       [1.        , 0.        , 0.        ],\n",
       "       [0.55422893, 0.83236428, 0.        ],\n",
       "       [0.63035731, 0.        , 0.77630514]])"
      ]
     },
     "execution_count": 44,
     "metadata": {},
     "output_type": "execute_result"
    }
   ],
   "source": [
    "tfidf1.toarray()"
   ]
  },
  {
   "cell_type": "markdown",
   "metadata": {},
   "source": [
    "$$x>y$$"
   ]
  },
  {
   "cell_type": "markdown",
   "metadata": {},
   "source": [
    "## 推导式(Comprehensions)"
   ]
  },
  {
   "cell_type": "code",
   "execution_count": 2,
   "metadata": {},
   "outputs": [
    {
     "data": {
      "text/plain": [
       "[1, 16, 100, 4, 9]"
      ]
     },
     "execution_count": 2,
     "metadata": {},
     "output_type": "execute_result"
    }
   ],
   "source": [
    "num = [1, 4, -5, 10, -7, 2, 3, -1]\n",
    "filterd_and_squard = []\n",
    "for i in  num:\n",
    "    if i > 0:\n",
    "        filterd_and_squard.append(i**2)\n",
    "filterd_and_squard"
   ]
  },
  {
   "cell_type": "code",
   "execution_count": 6,
   "metadata": {},
   "outputs": [
    {
     "data": {
      "text/plain": [
       "<map at 0x275e0dc5648>"
      ]
     },
     "execution_count": 6,
     "metadata": {},
     "output_type": "execute_result"
    }
   ],
   "source": [
    "num = [1, 4, -5, 10, -7, 2, 3, -1]\n",
    "filterd_and_squard = map(lambda x: x**2, filter(lambda x: x>0, num))\n",
    "filterd_and_squard."
   ]
  },
  {
   "cell_type": "code",
   "execution_count": 8,
   "metadata": {},
   "outputs": [
    {
     "data": {
      "text/plain": [
       "[1, 16, 100, 4, 9]"
      ]
     },
     "execution_count": 8,
     "metadata": {},
     "output_type": "execute_result"
    }
   ],
   "source": [
    "num = [1, 4, -5, 10, -7, 2, 3, -1]\n",
    "\n",
    "filterd_and_squard = [i **2 for i in num if i > 0]\n",
    "filterd_and_squard"
   ]
  },
  {
   "cell_type": "code",
   "execution_count": 9,
   "metadata": {},
   "outputs": [
    {
     "name": "stdout",
     "output_type": "stream",
     "text": [
      "a1 1\n",
      "a2 2\n",
      "a3 3\n"
     ]
    }
   ],
   "source": [
    "list1 = ['a1', 'a2', 'a3']\n",
    "list2 = ['1',  '2',  '3']\n",
    "for a, b in zip(list1, list2):\n",
    "    print(a, b)"
   ]
  },
  {
   "cell_type": "code",
   "execution_count": 10,
   "metadata": {},
   "outputs": [],
   "source": [
    "import os"
   ]
  },
  {
   "cell_type": "code",
   "execution_count": 14,
   "metadata": {},
   "outputs": [
    {
     "name": "stdout",
     "output_type": "stream",
     "text": [
      "C:/Users/admin/Downloads\\1-1P104215355.zip\n",
      "C:/Users/admin/Downloads\\1-1Q01Z92939.zip\n",
      "C:/Users/admin/Downloads\\1-1ZZ11FS4.zip\n",
      "C:/Users/admin/Downloads\\2-191009161F0.rar\n",
      "C:/Users/admin/Downloads\\2015—2019年师生获奖情况统计表(1).xls\n",
      "C:/Users/admin/Downloads\\2018小学一年级开学安排.docx\n",
      "C:/Users/admin/Downloads\\2019员工预计年假统计表.xlsx\n",
      "C:/Users/admin/Downloads\\44a92a16-c961-3512-81d9-e728b1a025d5.rar\n",
      "C:/Users/admin/Downloads\\4b432fd8-a573-3860-b496-6ccc6d554cda.jar\n",
      "C:/Users/admin/Downloads\\53db1d86-6029-3b82-a3f0-cf2f9729dc26.jar\n",
      "C:/Users/admin/Downloads\\5dce7083-364e-347b-b1e0-2560db7a2287.jar\n",
      "C:/Users/admin/Downloads\\6.7.1.9.exe\n",
      "C:/Users/admin/Downloads\\88d4a927-1b57-30d7-95de-32ce747a000c.rar\n",
      "C:/Users/admin/Downloads\\8d17f5be-aed7-3c62-9dc7-99f21f15e1ea.jar\n",
      "C:/Users/admin/Downloads\\Anaconda3-2019.10-Windows-x86_64.exe\n",
      "C:/Users/admin/Downloads\\Anaconda3-2020.02-Windows-x86_64.exe\n",
      "C:/Users/admin/Downloads\\ansj_seg-master.zip\n",
      "C:/Users/admin/Downloads\\ant-contrib-1.0b3-bin.zip\n",
      "C:/Users/admin/Downloads\\apache-cxf-3.2.1.zip\n",
      "C:/Users/admin/Downloads\\apache-flume-1.7.0-bin.tar.gz\n",
      "C:/Users/admin/Downloads\\apache-hive-2.2.0-bin.tar.gz\n",
      "C:/Users/admin/Downloads\\apache-hive-2.3.6-src.tar.gz\n",
      "C:/Users/admin/Downloads\\apache-phoenix-4.13.1-HBase-0.98-bin.tar.gz\n",
      "C:/Users/admin/Downloads\\apache-phoenix-4.13.1-HBase-1.1-bin.tar.gz\n",
      "C:/Users/admin/Downloads\\apache-phoenix-4.8.0-HBase-1.0-bin.tar.gz\n",
      "C:/Users/admin/Downloads\\apache-storm-1.0.1.zip\n",
      "C:/Users/admin/Downloads\\apache-storm-1.0.2 (1).tar.gz\n",
      "C:/Users/admin/Downloads\\apache-storm-1.0.2-src.zip\n",
      "C:/Users/admin/Downloads\\BaiduWubi_1.2.0.66_Setup.1447990267.exe\n",
      "C:/Users/admin/Downloads\\Baidu_FoxitReader_CHS_7.3.8.425.exe\n",
      "C:/Users/admin/Downloads\\CatalogView_src.zip\n",
      "C:/Users/admin/Downloads\\CDH-5.10.2-1.cdh5.10.2.p0.5-el6.parcel\n",
      "C:/Users/admin/Downloads\\CDH-5.10.2-1.cdh5.10.2.p0.5-el6.parcel.sha1\n",
      "C:/Users/admin/Downloads\\chineseStopWords.txt\n",
      "C:/Users/admin/Downloads\\chrome插件-postman离线安装.zip\n",
      "C:/Users/admin/Downloads\\CkoocNLP-master.zip\n",
      "C:/Users/admin/Downloads\\cloudera-manager-el6-cm5.10.2_x86_64.tar.gz\n",
      "C:/Users/admin/Downloads\\coding-271-master.zip\n",
      "C:/Users/admin/Downloads\\Cold_Turkey.zip\n",
      "C:/Users/admin/Downloads\\commons-collections-3.2.1.jar\n",
      "C:/Users/admin/Downloads\\czrk结构.xls\n",
      "C:/Users/admin/Downloads\\desktop.ini\n",
      "C:/Users/admin/Downloads\\DiskGeniussjhfrj4.8.0.1461058830.zip\n",
      "C:/Users/admin/Downloads\\doxia-site-renderer-1.0-sources.jar\n",
      "C:/Users/admin/Downloads\\dream-webservice-master.zip\n",
      "C:/Users/admin/Downloads\\eclipse-inst-win64.exe\n",
      "C:/Users/admin/Downloads\\EditPlus.zip\n",
      "C:/Users/admin/Downloads\\elasticsearch-5.0.0.zip\n",
      "C:/Users/admin/Downloads\\elasticsearch-5.3.0.zip\n",
      "C:/Users/admin/Downloads\\elasticsearch-analysis-ik-5.2.2.zip\n",
      "C:/Users/admin/Downloads\\elasticsearch-analysis-ik-master.zip\n",
      "C:/Users/admin/Downloads\\elasticsearch-analysis-pinyin-5.2.2.zip\n",
      "C:/Users/admin/Downloads\\elasticsearch-analysis-pinyin-master.zip\n",
      "C:/Users/admin/Downloads\\elasticsearch-head-master.zip\n",
      "C:/Users/admin/Downloads\\elasticsearch-servicewrapper-master.zip.crdownload\n",
      "C:/Users/admin/Downloads\\expect-5.43.0.tar_tcl8.4.11-src.tar.zip\n",
      "C:/Users/admin/Downloads\\f (1).txt\n",
      "C:/Users/admin/Downloads\\f.txt\n",
      "C:/Users/admin/Downloads\\fb4b6b0b-6ae8-35b4-bc23-69bbc07c6bc3.jar\n",
      "C:/Users/admin/Downloads\\Firefox_51.0.0.6227_setup.exe\n",
      "C:/Users/admin/Downloads\\FJXT00034139_PDF密码解除.pdf\n",
      "C:/Users/admin/Downloads\\flashplayer_install_cn.exe\n",
      "C:/Users/admin/Downloads\\FusionInsight HD V100R002C02SPC500 应用开发指南 01(pdf).zip\n",
      "C:/Users/admin/Downloads\\FusionInsight HD V100R002C02SPC500 应用开发指南 01.pdf\n",
      "C:/Users/admin/Downloads\\FusionInsight HD V100R002C80SPC200 产品描述 02.zip\n",
      "C:/Users/admin/Downloads\\FusionInsight LibrA V100R002C80SPC300 产品文档 03(chm) (1).zip\n",
      "C:/Users/admin/Downloads\\FusionInsight LibrA V100R002C80SPC300 产品文档 03(chm).zip\n",
      "C:/Users/admin/Downloads\\glibc-2.14.tar.gz\n",
      "C:/Users/admin/Downloads\\glibc-2.4.tar.bz2\n",
      "C:/Users/admin/Downloads\\GPDB_43120_README.pdf\n",
      "C:/Users/admin/Downloads\\gsjdbc4-1.0.jar\n",
      "C:/Users/admin/Downloads\\hadoop-2.7.1.tar.gz\n",
      "C:/Users/admin/Downloads\\hadoop-2.7.5.tar.gz\n",
      "C:/Users/admin/Downloads\\hadoop-cmf-hdfs-NAMENODE-namenode.log (1).out.gz\n",
      "C:/Users/admin/Downloads\\hadoop-cmf-hdfs-SECONDARYNAMENODE-datanode1.log.out.gz\n",
      "C:/Users/admin/Downloads\\hadoop-common-2.2.0-bin-master.zip\n",
      "C:/Users/admin/Downloads\\hadooponwindows-master.zip\n",
      "C:/Users/admin/Downloads\\hbase-1.2.6-bin.tar.gz\n",
      "C:/Users/admin/Downloads\\hbase-client-0.98.6-hadoop2.jar\n",
      "C:/Users/admin/Downloads\\hbase.id\n",
      "C:/Users/admin/Downloads\\hive影评案例.zip\n",
      "C:/Users/admin/Downloads\\HJDSetup.exe\n",
      "C:/Users/admin/Downloads\\ideaIU-2019.2.3.win.zip\n",
      "C:/Users/admin/Downloads\\IKAnalyzer2012FF_u2.rar\n",
      "C:/Users/admin/Downloads\\IKAnalyzer2012_u6.zip\n",
      "C:/Users/admin/Downloads\\Intel_VGA_Win7-81-10_V2120164528.zip\n",
      "C:/Users/admin/Downloads\\IoCContainerWithExample.zip\n",
      "C:/Users/admin/Downloads\\jdk-7u79-windows-x64.exe\n",
      "C:/Users/admin/Downloads\\jdk-8u101-linux-x64.rpm\n",
      "C:/Users/admin/Downloads\\jdk_8u91_windows_x64_8.0.910.15.exe\n",
      "C:/Users/admin/Downloads\\JetbrainsCrack-release-enc.jar\n",
      "C:/Users/admin/Downloads\\JX_IPADDESS.7z\n",
      "C:/Users/admin/Downloads\\kinst_166_f13_k0036.exe\n",
      "C:/Users/admin/Downloads\\lottery-master.zip\n",
      "C:/Users/admin/Downloads\\lukeall-0.9.9.jar\n",
      "C:/Users/admin/Downloads\\maven-profile-2.0.5.jar.crdownload\n",
      "C:/Users/admin/Downloads\\maven-profile-2.0.5.pom\n",
      "C:/Users/admin/Downloads\\metrics-core-2.2.0.jar\n",
      "C:/Users/admin/Downloads\\mysql-5.7.19-winx64.zip\n",
      "C:/Users/admin/Downloads\\mysql-5.7.22-1.el6.x86_64.rpm-bundle.tar\n",
      "C:/Users/admin/Downloads\\mysql-5.7.29-linux-glibc2.12-x86_64.tar.gz.crdownload\n",
      "C:/Users/admin/Downloads\\mysql-connector-java-5.1.46.tar.gz\n",
      "C:/Users/admin/Downloads\\mysql-connector-java-5.1.48.tar.gz\n",
      "C:/Users/admin/Downloads\\net.sf.fjep.fatjar_0.0.31.zip\n",
      "C:/Users/admin/Downloads\\netty-3.0.2.GA.jar\n",
      "C:/Users/admin/Downloads\\netty-4.1.9.Final.tar.bz2\n",
      "C:/Users/admin/Downloads\\nginx-1.1.0.tar.gz\n",
      "C:/Users/admin/Downloads\\odps-studio-intellij-3.0.1_20181024145437.zip\n",
      "C:/Users/admin/Downloads\\odps-studio-intellij-3.0.3_20181214192400.zip\n",
      "C:/Users/admin/Downloads\\odps-studio-intellij-3.1.3_20190424194513.zip\n",
      "C:/Users/admin/Downloads\\Partner_Register_Guide.pdf\n",
      "C:/Users/admin/Downloads\\pcre-8.39.tar.gz\n",
      "C:/Users/admin/Downloads\\pcre-8.43.tar.gz\n",
      "C:/Users/admin/Downloads\\pdi-ce-6.1.0.1-196.zip\n",
      "C:/Users/admin/Downloads\\pycharm-community-2020.1.exe\n",
      "C:/Users/admin/Downloads\\QQ8.4.exe\n",
      "C:/Users/admin/Downloads\\QQMailScreenCapturePlugin_1_0_0_0 (1).exe\n",
      "C:/Users/admin/Downloads\\QQMailScreenCapturePlugin_1_0_0_0 (2).exe\n",
      "C:/Users/admin/Downloads\\QQMailScreenCapturePlugin_1_0_0_0.exe\n",
      "C:/Users/admin/Downloads\\QQ空间JS登录加密.rar\n",
      "C:/Users/admin/Downloads\\RDPWrap-v1.6.zip\n",
      "C:/Users/admin/Downloads\\reshack_setup_V3.6.0.92.1503392658.exe\n",
      "C:/Users/admin/Downloads\\scala-2.11.8.zip\n",
      "C:/Users/admin/Downloads\\scala-intellij-bin-2018.1.4.zip\n",
      "C:/Users/admin/Downloads\\scala-intellij-bin-2019.3.17.zip\n",
      "C:/Users/admin/Downloads\\scala-library-2.11.11.jar\n",
      "C:/Users/admin/Downloads\\SkinCtrltest_exe.zip\n",
      "C:/Users/admin/Downloads\\snappy-1.1.1.tar.gz\n",
      "C:/Users/admin/Downloads\\sougou-train.tar.gz\n",
      "C:/Users/admin/Downloads\\spark-2.3.4-bin-hadoop2.7.tgz\n",
      "C:/Users/admin/Downloads\\spark-2.4.4-bin-hadoop2.7.tgz\n",
      "C:/Users/admin/Downloads\\squirrel-sql-3.8.1-standard.jar\n",
      "C:/Users/admin/Downloads\\ssm-master.zip\n",
      "C:/Users/admin/Downloads\\start-mac-test-2-1482762671%2F6703%2Fevents.log\n",
      "C:/Users/admin/Downloads\\stormkafkamon-master.zip\n",
      "C:/Users/admin/Downloads\\Storm实战构建大数据实时计算_PDF电子书下载 带书签目录 高清完整版.pdf\n",
      "C:/Users/admin/Downloads\\storm项目-流数据监控系列3《实例运行》b429f3d66fc14a9c5f26299bb2113aaa.pdf\n",
      "C:/Users/admin/Downloads\\t10k-images-idx3-ubyte.gz\n",
      "C:/Users/admin/Downloads\\t10k-labels-idx1-ubyte.gz\n",
      "C:/Users/admin/Downloads\\tcl8420-src.zip.crdownload\n",
      "C:/Users/admin/Downloads\\Thunder_9.1.28.676.exe\n",
      "C:/Users/admin/Downloads\\Thunder_dl_7.9.43.5054.1456898740.exe\n",
      "C:/Users/admin/Downloads\\train-images-idx3-ubyte.gz\n",
      "C:/Users/admin/Downloads\\train-labels-idx1-ubyte.gz\n",
      "C:/Users/admin/Downloads\\vehicle1-20150710000000-20150711000000.zip\n",
      "C:/Users/admin/Downloads\\velocity-1.7.jar\n",
      "C:/Users/admin/Downloads\\VGA_RS3_4849_20171221 (1).zip\n",
      "C:/Users/admin/Downloads\\VGA_RS3_4849_20171221.zip\n",
      "C:/Users/admin/Downloads\\vsftpd-2.2.2-24.el6.x86_64.rpm\n",
      "C:/Users/admin/Downloads\\W.P.S.7720.12012.2019.exe\n",
      "C:/Users/admin/Downloads\\watermarkremover-installer-bd.exe\n",
      "C:/Users/admin/Downloads\\web.zip\n",
      "C:/Users/admin/Downloads\\webmvcframework.zip\n",
      "C:/Users/admin/Downloads\\wechat_devtools_1.01.171019_x64.exe\n",
      "C:/Users/admin/Downloads\\WinSCP_5.9.0.6786_Setup.exe\n",
      "C:/Users/admin/Downloads\\xpath-helper.crx\n",
      "C:/Users/admin/Downloads\\XT800Setup_p.exe\n",
      "C:/Users/admin/Downloads\\YZD1215G-FusionInsight 产品文档-(V100R002C30SPC100_01).zip\n",
      "C:/Users/admin/Downloads\\zkclient-0.10.jar\n",
      "C:/Users/admin/Downloads\\ZYLBDM.rar\n",
      "C:/Users/admin/Downloads\\_【赣州】onlinehistory性能测试_gp.docx\n",
      "C:/Users/admin/Downloads\\~$总线操作文档 (1).docx\n",
      "C:/Users/admin/Downloads\\~$文档+-+副本.docx\n",
      "C:/Users/admin/Downloads\\~$购房意向的通知.docx\n",
      "C:/Users/admin/Downloads\\一周一练四.docx\n",
      "C:/Users/admin/Downloads\\下载\n",
      "C:/Users/admin/Downloads\\全息画像（删减稿）-20190331.zip\n",
      "C:/Users/admin/Downloads\\公共安全行业解决方案伙伴发展规划V1.0 (1).pdf\n",
      "C:/Users/admin/Downloads\\公共安全行业解决方案伙伴发展规划V1.0.pdf\n",
      "C:/Users/admin/Downloads\\关于购房意向的通知.docx\n",
      "C:/Users/admin/Downloads\\华为19.5.5+(002).xlsx\n",
      "C:/Users/admin/Downloads\\华为云及大数据服务规划与介绍 20170928.pptx\n",
      "C:/Users/admin/Downloads\\印度对华战争.rar\n",
      "C:/Users/admin/Downloads\\小学部学生入学须知.docx\n",
      "C:/Users/admin/Downloads\\常住人口3字段需新字典.zip\n",
      "C:/Users/admin/Downloads\\接口文档+-+副本 (1).docx\n",
      "C:/Users/admin/Downloads\\接口文档+-+副本.docx\n",
      "C:/Users/admin/Downloads\\接口文档.docx\n",
      "C:/Users/admin/Downloads\\数据标准-20190329.zip\n",
      "C:/Users/admin/Downloads\\服务总线操作文档 (1).docx\n",
      "C:/Users/admin/Downloads\\服务总线操作文档.docx\n",
      "C:/Users/admin/Downloads\\未确认 842339.crdownload\n",
      "C:/Users/admin/Downloads\\机器学习_周志华_超清完整版PDF(附书签).zip\n",
      "C:/Users/admin/Downloads\\江西创达对接.zip\n",
      "C:/Users/admin/Downloads\\江西省驾驶人计时培训监管系统方案-V1.0.2(3) (1).docx\n",
      "C:/Users/admin/Downloads\\江西省驾驶人计时培训监管系统方案-V1.0.2(3).docx\n",
      "C:/Users/admin/Downloads\\现代商务Word简历模板(财务类).doc\n",
      "C:/Users/admin/Downloads\\看图写话练习2.docx\n",
      "C:/Users/admin/Downloads\\第1单元测试卷.doc\n",
      "C:/Users/admin/Downloads\\第六单元测试卷.docx\n",
      "C:/Users/admin/Downloads\\简历.doc\n",
      "C:/Users/admin/Downloads\\结构.7z\n",
      "C:/Users/admin/Downloads\\网址.txt\n",
      "C:/Users/admin/Downloads\\解决方案伙伴业务IT系统操作指导.pdf\n",
      "C:/Users/admin/Downloads\\计时终端APP计划书+-斑驴互联2019(4)(1).docx\n",
      "C:/Users/admin/Downloads\\问题汇总_20190520.docx\n",
      "C:/Users/admin/Downloads\\附件1：解决方案伙伴业务IT系统操作指导V2.1 - For Partner-0909.pdf\n",
      "C:/Users/admin/Downloads\\apache-phoenix-4.13.1-HBase-0.98-bin\\LICENSE\n",
      "C:/Users/admin/Downloads\\apache-phoenix-4.13.1-HBase-0.98-bin\\NOTICE\n",
      "C:/Users/admin/Downloads\\apache-phoenix-4.13.1-HBase-0.98-bin\\phoenix-4.13.1-HBase-0.98-client.jar\n",
      "C:/Users/admin/Downloads\\apache-phoenix-4.13.1-HBase-0.98-bin\\phoenix-4.13.1-HBase-0.98-hive.jar\n",
      "C:/Users/admin/Downloads\\apache-phoenix-4.13.1-HBase-0.98-bin\\phoenix-4.13.1-HBase-0.98-pig.jar\n",
      "C:/Users/admin/Downloads\\apache-phoenix-4.13.1-HBase-0.98-bin\\phoenix-4.13.1-HBase-0.98-queryserver.jar\n",
      "C:/Users/admin/Downloads\\apache-phoenix-4.13.1-HBase-0.98-bin\\phoenix-4.13.1-HBase-0.98-server.jar\n",
      "C:/Users/admin/Downloads\\apache-phoenix-4.13.1-HBase-0.98-bin\\phoenix-4.13.1-HBase-0.98-thin-client.jar\n",
      "C:/Users/admin/Downloads\\apache-phoenix-4.13.1-HBase-0.98-bin\\phoenix-core-4.13.1-HBase-0.98-sources.jar\n",
      "C:/Users/admin/Downloads\\apache-phoenix-4.13.1-HBase-0.98-bin\\phoenix-core-4.13.1-HBase-0.98-tests.jar\n",
      "C:/Users/admin/Downloads\\apache-phoenix-4.13.1-HBase-0.98-bin\\phoenix-core-4.13.1-HBase-0.98.jar\n",
      "C:/Users/admin/Downloads\\apache-phoenix-4.13.1-HBase-0.98-bin\\phoenix-flume-4.13.1-HBase-0.98-sources.jar\n",
      "C:/Users/admin/Downloads\\apache-phoenix-4.13.1-HBase-0.98-bin\\phoenix-flume-4.13.1-HBase-0.98-tests.jar\n",
      "C:/Users/admin/Downloads\\apache-phoenix-4.13.1-HBase-0.98-bin\\phoenix-flume-4.13.1-HBase-0.98.jar\n",
      "C:/Users/admin/Downloads\\apache-phoenix-4.13.1-HBase-0.98-bin\\phoenix-hive-4.13.1-HBase-0.98-sources.jar\n",
      "C:/Users/admin/Downloads\\apache-phoenix-4.13.1-HBase-0.98-bin\\phoenix-hive-4.13.1-HBase-0.98-tests.jar\n",
      "C:/Users/admin/Downloads\\apache-phoenix-4.13.1-HBase-0.98-bin\\phoenix-hive-4.13.1-HBase-0.98.jar\n",
      "C:/Users/admin/Downloads\\apache-phoenix-4.13.1-HBase-0.98-bin\\phoenix-kafka-4.13.1-HBase-0.98-minimal.jar\n",
      "C:/Users/admin/Downloads\\apache-phoenix-4.13.1-HBase-0.98-bin\\phoenix-kafka-4.13.1-HBase-0.98-sources.jar\n",
      "C:/Users/admin/Downloads\\apache-phoenix-4.13.1-HBase-0.98-bin\\phoenix-kafka-4.13.1-HBase-0.98-tests.jar\n",
      "C:/Users/admin/Downloads\\apache-phoenix-4.13.1-HBase-0.98-bin\\phoenix-kafka-4.13.1-HBase-0.98.jar\n",
      "C:/Users/admin/Downloads\\apache-phoenix-4.13.1-HBase-0.98-bin\\phoenix-load-balancer-4.13.1-HBase-0.98-tests.jar\n",
      "C:/Users/admin/Downloads\\apache-phoenix-4.13.1-HBase-0.98-bin\\phoenix-load-balancer-4.13.1-HBase-0.98.jar\n",
      "C:/Users/admin/Downloads\\apache-phoenix-4.13.1-HBase-0.98-bin\\phoenix-pherf-4.13.1-HBase-0.98-minimal.jar\n",
      "C:/Users/admin/Downloads\\apache-phoenix-4.13.1-HBase-0.98-bin\\phoenix-pherf-4.13.1-HBase-0.98-sources.jar\n",
      "C:/Users/admin/Downloads\\apache-phoenix-4.13.1-HBase-0.98-bin\\phoenix-pherf-4.13.1-HBase-0.98-tests.jar\n",
      "C:/Users/admin/Downloads\\apache-phoenix-4.13.1-HBase-0.98-bin\\phoenix-pherf-4.13.1-HBase-0.98.jar\n",
      "C:/Users/admin/Downloads\\apache-phoenix-4.13.1-HBase-0.98-bin\\phoenix-pig-4.13.1-HBase-0.98-sources.jar\n",
      "C:/Users/admin/Downloads\\apache-phoenix-4.13.1-HBase-0.98-bin\\phoenix-pig-4.13.1-HBase-0.98-tests.jar\n",
      "C:/Users/admin/Downloads\\apache-phoenix-4.13.1-HBase-0.98-bin\\phoenix-pig-4.13.1-HBase-0.98.jar\n",
      "C:/Users/admin/Downloads\\apache-phoenix-4.13.1-HBase-0.98-bin\\phoenix-queryserver-4.13.1-HBase-0.98-sources.jar\n",
      "C:/Users/admin/Downloads\\apache-phoenix-4.13.1-HBase-0.98-bin\\phoenix-queryserver-4.13.1-HBase-0.98-tests.jar\n",
      "C:/Users/admin/Downloads\\apache-phoenix-4.13.1-HBase-0.98-bin\\phoenix-queryserver-4.13.1-HBase-0.98.jar\n",
      "C:/Users/admin/Downloads\\apache-phoenix-4.13.1-HBase-0.98-bin\\phoenix-queryserver-client-4.13.1-HBase-0.98-sources.jar\n",
      "C:/Users/admin/Downloads\\apache-phoenix-4.13.1-HBase-0.98-bin\\phoenix-queryserver-client-4.13.1-HBase-0.98-tests.jar\n",
      "C:/Users/admin/Downloads\\apache-phoenix-4.13.1-HBase-0.98-bin\\phoenix-queryserver-client-4.13.1-HBase-0.98.jar\n",
      "C:/Users/admin/Downloads\\apache-phoenix-4.13.1-HBase-0.98-bin\\phoenix-spark-4.13.1-HBase-0.98-javadoc.jar\n",
      "C:/Users/admin/Downloads\\apache-phoenix-4.13.1-HBase-0.98-bin\\phoenix-spark-4.13.1-HBase-0.98-sources.jar\n",
      "C:/Users/admin/Downloads\\apache-phoenix-4.13.1-HBase-0.98-bin\\phoenix-spark-4.13.1-HBase-0.98-tests.jar\n",
      "C:/Users/admin/Downloads\\apache-phoenix-4.13.1-HBase-0.98-bin\\phoenix-spark-4.13.1-HBase-0.98.jar\n",
      "C:/Users/admin/Downloads\\apache-phoenix-4.13.1-HBase-0.98-bin\\phoenix-tracing-webapp-4.13.1-HBase-0.98-runnable.jar\n",
      "C:/Users/admin/Downloads\\apache-phoenix-4.13.1-HBase-0.98-bin\\phoenix-tracing-webapp-4.13.1-HBase-0.98-sources.jar\n",
      "C:/Users/admin/Downloads\\apache-phoenix-4.13.1-HBase-0.98-bin\\phoenix-tracing-webapp-4.13.1-HBase-0.98-tests.jar\n",
      "C:/Users/admin/Downloads\\apache-phoenix-4.13.1-HBase-0.98-bin\\phoenix-tracing-webapp-4.13.1-HBase-0.98.jar\n",
      "C:/Users/admin/Downloads\\apache-phoenix-4.13.1-HBase-0.98-bin\\README\n",
      "C:/Users/admin/Downloads\\apache-phoenix-4.13.1-HBase-0.98-bin\\README.md\n",
      "C:/Users/admin/Downloads\\apache-phoenix-4.13.1-HBase-0.98-bin\\bin\\daemon.py\n",
      "C:/Users/admin/Downloads\\apache-phoenix-4.13.1-HBase-0.98-bin\\bin\\end2endTest.py\n",
      "C:/Users/admin/Downloads\\apache-phoenix-4.13.1-HBase-0.98-bin\\bin\\hadoop-metrics2-hbase.properties\n",
      "C:/Users/admin/Downloads\\apache-phoenix-4.13.1-HBase-0.98-bin\\bin\\hadoop-metrics2-phoenix.properties\n",
      "C:/Users/admin/Downloads\\apache-phoenix-4.13.1-HBase-0.98-bin\\bin\\hbase-site.xml\n",
      "C:/Users/admin/Downloads\\apache-phoenix-4.13.1-HBase-0.98-bin\\bin\\log4j.properties\n",
      "C:/Users/admin/Downloads\\apache-phoenix-4.13.1-HBase-0.98-bin\\bin\\performance.py\n",
      "C:/Users/admin/Downloads\\apache-phoenix-4.13.1-HBase-0.98-bin\\bin\\pherf-cluster.py\n",
      "C:/Users/admin/Downloads\\apache-phoenix-4.13.1-HBase-0.98-bin\\bin\\pherf-standalone.py\n",
      "C:/Users/admin/Downloads\\apache-phoenix-4.13.1-HBase-0.98-bin\\bin\\phoenix_sandbox.py\n",
      "C:/Users/admin/Downloads\\apache-phoenix-4.13.1-HBase-0.98-bin\\bin\\phoenix_utils.py\n",
      "C:/Users/admin/Downloads\\apache-phoenix-4.13.1-HBase-0.98-bin\\bin\\psql.py\n",
      "C:/Users/admin/Downloads\\apache-phoenix-4.13.1-HBase-0.98-bin\\bin\\queryserver.py\n",
      "C:/Users/admin/Downloads\\apache-phoenix-4.13.1-HBase-0.98-bin\\bin\\readme.txt\n",
      "C:/Users/admin/Downloads\\apache-phoenix-4.13.1-HBase-0.98-bin\\bin\\sandbox-log4j.properties\n",
      "C:/Users/admin/Downloads\\apache-phoenix-4.13.1-HBase-0.98-bin\\bin\\sqlline-thin.py\n",
      "C:/Users/admin/Downloads\\apache-phoenix-4.13.1-HBase-0.98-bin\\bin\\sqlline.py\n",
      "C:/Users/admin/Downloads\\apache-phoenix-4.13.1-HBase-0.98-bin\\bin\\tephra\n",
      "C:/Users/admin/Downloads\\apache-phoenix-4.13.1-HBase-0.98-bin\\bin\\tephra-env.sh\n",
      "C:/Users/admin/Downloads\\apache-phoenix-4.13.1-HBase-0.98-bin\\bin\\traceserver.py\n",
      "C:/Users/admin/Downloads\\apache-phoenix-4.13.1-HBase-0.98-bin\\bin\\config\\env.sh\n",
      "C:/Users/admin/Downloads\\apache-phoenix-4.13.1-HBase-0.98-bin\\bin\\config\\log4j.properties\n",
      "C:/Users/admin/Downloads\\apache-phoenix-4.13.1-HBase-0.98-bin\\bin\\config\\pherf.properties\n",
      "C:/Users/admin/Downloads\\apache-phoenix-4.13.1-HBase-0.98-bin\\bin\\config\\datamodel\\user_defined_schema.sql\n",
      "C:/Users/admin/Downloads\\apache-phoenix-4.13.1-HBase-0.98-bin\\bin\\config\\scenario\\user_defined_scenario.xml\n",
      "C:/Users/admin/Downloads\\apache-phoenix-4.13.1-HBase-0.98-bin\\examples\\STOCK_SYMBOL.csv\n",
      "C:/Users/admin/Downloads\\apache-phoenix-4.13.1-HBase-0.98-bin\\examples\\STOCK_SYMBOL.sql\n",
      "C:/Users/admin/Downloads\\apache-phoenix-4.13.1-HBase-0.98-bin\\examples\\WEB_STAT.csv\n",
      "C:/Users/admin/Downloads\\apache-phoenix-4.13.1-HBase-0.98-bin\\examples\\WEB_STAT.sql\n",
      "C:/Users/admin/Downloads\\apache-phoenix-4.13.1-HBase-0.98-bin\\examples\\WEB_STAT_QUERIES.sql\n",
      "C:/Users/admin/Downloads\\apache-phoenix-4.13.1-HBase-0.98-bin\\examples\\pig\\test.pig\n",
      "C:/Users/admin/Downloads\\apache-phoenix-4.13.1-HBase-0.98-bin\\examples\\pig\\testdata\n",
      "C:/Users/admin/Downloads\\apache-phoenix-4.13.1-HBase-1.1-bin\\LICENSE\n",
      "C:/Users/admin/Downloads\\apache-phoenix-4.13.1-HBase-1.1-bin\\NOTICE\n",
      "C:/Users/admin/Downloads\\apache-phoenix-4.13.1-HBase-1.1-bin\\phoenix-4.13.1-HBase-1.1-client.jar\n",
      "C:/Users/admin/Downloads\\apache-phoenix-4.13.1-HBase-1.1-bin\\phoenix-4.13.1-HBase-1.1-hive.jar\n",
      "C:/Users/admin/Downloads\\apache-phoenix-4.13.1-HBase-1.1-bin\\phoenix-4.13.1-HBase-1.1-pig.jar\n",
      "C:/Users/admin/Downloads\\apache-phoenix-4.13.1-HBase-1.1-bin\\phoenix-4.13.1-HBase-1.1-queryserver.jar\n",
      "C:/Users/admin/Downloads\\apache-phoenix-4.13.1-HBase-1.1-bin\\phoenix-4.13.1-HBase-1.1-server.jar\n",
      "C:/Users/admin/Downloads\\apache-phoenix-4.13.1-HBase-1.1-bin\\phoenix-4.13.1-HBase-1.1-thin-client.jar\n",
      "C:/Users/admin/Downloads\\apache-phoenix-4.13.1-HBase-1.1-bin\\phoenix-core-4.13.1-HBase-1.1-sources.jar\n",
      "C:/Users/admin/Downloads\\apache-phoenix-4.13.1-HBase-1.1-bin\\phoenix-core-4.13.1-HBase-1.1-tests.jar\n",
      "C:/Users/admin/Downloads\\apache-phoenix-4.13.1-HBase-1.1-bin\\phoenix-core-4.13.1-HBase-1.1.jar\n",
      "C:/Users/admin/Downloads\\apache-phoenix-4.13.1-HBase-1.1-bin\\phoenix-flume-4.13.1-HBase-1.1-sources.jar\n",
      "C:/Users/admin/Downloads\\apache-phoenix-4.13.1-HBase-1.1-bin\\phoenix-flume-4.13.1-HBase-1.1-tests.jar\n",
      "C:/Users/admin/Downloads\\apache-phoenix-4.13.1-HBase-1.1-bin\\phoenix-flume-4.13.1-HBase-1.1.jar\n",
      "C:/Users/admin/Downloads\\apache-phoenix-4.13.1-HBase-1.1-bin\\phoenix-hive-4.13.1-HBase-1.1-sources.jar\n",
      "C:/Users/admin/Downloads\\apache-phoenix-4.13.1-HBase-1.1-bin\\phoenix-hive-4.13.1-HBase-1.1-tests.jar\n",
      "C:/Users/admin/Downloads\\apache-phoenix-4.13.1-HBase-1.1-bin\\phoenix-hive-4.13.1-HBase-1.1.jar\n",
      "C:/Users/admin/Downloads\\apache-phoenix-4.13.1-HBase-1.1-bin\\phoenix-kafka-4.13.1-HBase-1.1-minimal.jar\n",
      "C:/Users/admin/Downloads\\apache-phoenix-4.13.1-HBase-1.1-bin\\phoenix-kafka-4.13.1-HBase-1.1-sources.jar\n",
      "C:/Users/admin/Downloads\\apache-phoenix-4.13.1-HBase-1.1-bin\\phoenix-kafka-4.13.1-HBase-1.1-tests.jar\n",
      "C:/Users/admin/Downloads\\apache-phoenix-4.13.1-HBase-1.1-bin\\phoenix-kafka-4.13.1-HBase-1.1.jar\n",
      "C:/Users/admin/Downloads\\apache-phoenix-4.13.1-HBase-1.1-bin\\phoenix-load-balancer-4.13.1-HBase-1.1-tests.jar\n",
      "C:/Users/admin/Downloads\\apache-phoenix-4.13.1-HBase-1.1-bin\\phoenix-load-balancer-4.13.1-HBase-1.1.jar\n",
      "C:/Users/admin/Downloads\\apache-phoenix-4.13.1-HBase-1.1-bin\\phoenix-pherf-4.13.1-HBase-1.1-minimal.jar\n",
      "C:/Users/admin/Downloads\\apache-phoenix-4.13.1-HBase-1.1-bin\\phoenix-pherf-4.13.1-HBase-1.1-sources.jar\n",
      "C:/Users/admin/Downloads\\apache-phoenix-4.13.1-HBase-1.1-bin\\phoenix-pherf-4.13.1-HBase-1.1-tests.jar\n",
      "C:/Users/admin/Downloads\\apache-phoenix-4.13.1-HBase-1.1-bin\\phoenix-pherf-4.13.1-HBase-1.1.jar\n",
      "C:/Users/admin/Downloads\\apache-phoenix-4.13.1-HBase-1.1-bin\\phoenix-pig-4.13.1-HBase-1.1-sources.jar\n",
      "C:/Users/admin/Downloads\\apache-phoenix-4.13.1-HBase-1.1-bin\\phoenix-pig-4.13.1-HBase-1.1-tests.jar\n",
      "C:/Users/admin/Downloads\\apache-phoenix-4.13.1-HBase-1.1-bin\\phoenix-pig-4.13.1-HBase-1.1.jar\n",
      "C:/Users/admin/Downloads\\apache-phoenix-4.13.1-HBase-1.1-bin\\phoenix-queryserver-4.13.1-HBase-1.1-sources.jar\n",
      "C:/Users/admin/Downloads\\apache-phoenix-4.13.1-HBase-1.1-bin\\phoenix-queryserver-4.13.1-HBase-1.1-tests.jar\n",
      "C:/Users/admin/Downloads\\apache-phoenix-4.13.1-HBase-1.1-bin\\phoenix-queryserver-4.13.1-HBase-1.1.jar\n",
      "C:/Users/admin/Downloads\\apache-phoenix-4.13.1-HBase-1.1-bin\\phoenix-queryserver-client-4.13.1-HBase-1.1-sources.jar\n",
      "C:/Users/admin/Downloads\\apache-phoenix-4.13.1-HBase-1.1-bin\\phoenix-queryserver-client-4.13.1-HBase-1.1-tests.jar\n",
      "C:/Users/admin/Downloads\\apache-phoenix-4.13.1-HBase-1.1-bin\\phoenix-queryserver-client-4.13.1-HBase-1.1.jar\n",
      "C:/Users/admin/Downloads\\apache-phoenix-4.13.1-HBase-1.1-bin\\phoenix-spark-4.13.1-HBase-1.1-javadoc.jar\n",
      "C:/Users/admin/Downloads\\apache-phoenix-4.13.1-HBase-1.1-bin\\phoenix-spark-4.13.1-HBase-1.1-sources.jar\n",
      "C:/Users/admin/Downloads\\apache-phoenix-4.13.1-HBase-1.1-bin\\phoenix-spark-4.13.1-HBase-1.1-tests.jar\n",
      "C:/Users/admin/Downloads\\apache-phoenix-4.13.1-HBase-1.1-bin\\phoenix-spark-4.13.1-HBase-1.1.jar\n",
      "C:/Users/admin/Downloads\\apache-phoenix-4.13.1-HBase-1.1-bin\\phoenix-tracing-webapp-4.13.1-HBase-1.1-runnable.jar\n",
      "C:/Users/admin/Downloads\\apache-phoenix-4.13.1-HBase-1.1-bin\\phoenix-tracing-webapp-4.13.1-HBase-1.1-sources.jar\n",
      "C:/Users/admin/Downloads\\apache-phoenix-4.13.1-HBase-1.1-bin\\phoenix-tracing-webapp-4.13.1-HBase-1.1-tests.jar\n",
      "C:/Users/admin/Downloads\\apache-phoenix-4.13.1-HBase-1.1-bin\\phoenix-tracing-webapp-4.13.1-HBase-1.1.jar\n",
      "C:/Users/admin/Downloads\\apache-phoenix-4.13.1-HBase-1.1-bin\\README.md\n",
      "C:/Users/admin/Downloads\\apache-phoenix-4.13.1-HBase-1.1-bin\\bin\\daemon.py\n",
      "C:/Users/admin/Downloads\\apache-phoenix-4.13.1-HBase-1.1-bin\\bin\\end2endTest.py\n",
      "C:/Users/admin/Downloads\\apache-phoenix-4.13.1-HBase-1.1-bin\\bin\\hadoop-metrics2-hbase.properties\n",
      "C:/Users/admin/Downloads\\apache-phoenix-4.13.1-HBase-1.1-bin\\bin\\hadoop-metrics2-phoenix.properties\n",
      "C:/Users/admin/Downloads\\apache-phoenix-4.13.1-HBase-1.1-bin\\bin\\hbase-site.xml\n",
      "C:/Users/admin/Downloads\\apache-phoenix-4.13.1-HBase-1.1-bin\\bin\\log4j.properties\n",
      "C:/Users/admin/Downloads\\apache-phoenix-4.13.1-HBase-1.1-bin\\bin\\performance.py\n",
      "C:/Users/admin/Downloads\\apache-phoenix-4.13.1-HBase-1.1-bin\\bin\\pherf-cluster.py\n",
      "C:/Users/admin/Downloads\\apache-phoenix-4.13.1-HBase-1.1-bin\\bin\\pherf-standalone.py\n",
      "C:/Users/admin/Downloads\\apache-phoenix-4.13.1-HBase-1.1-bin\\bin\\phoenix_sandbox.py\n",
      "C:/Users/admin/Downloads\\apache-phoenix-4.13.1-HBase-1.1-bin\\bin\\phoenix_utils.py\n",
      "C:/Users/admin/Downloads\\apache-phoenix-4.13.1-HBase-1.1-bin\\bin\\psql.py\n",
      "C:/Users/admin/Downloads\\apache-phoenix-4.13.1-HBase-1.1-bin\\bin\\queryserver.py\n",
      "C:/Users/admin/Downloads\\apache-phoenix-4.13.1-HBase-1.1-bin\\bin\\readme.txt\n",
      "C:/Users/admin/Downloads\\apache-phoenix-4.13.1-HBase-1.1-bin\\bin\\sandbox-log4j.properties\n",
      "C:/Users/admin/Downloads\\apache-phoenix-4.13.1-HBase-1.1-bin\\bin\\sqlline-thin.py\n",
      "C:/Users/admin/Downloads\\apache-phoenix-4.13.1-HBase-1.1-bin\\bin\\sqlline.py\n",
      "C:/Users/admin/Downloads\\apache-phoenix-4.13.1-HBase-1.1-bin\\bin\\tephra\n",
      "C:/Users/admin/Downloads\\apache-phoenix-4.13.1-HBase-1.1-bin\\bin\\tephra-env.sh\n",
      "C:/Users/admin/Downloads\\apache-phoenix-4.13.1-HBase-1.1-bin\\bin\\traceserver.py\n",
      "C:/Users/admin/Downloads\\apache-phoenix-4.13.1-HBase-1.1-bin\\bin\\config\\env.sh\n",
      "C:/Users/admin/Downloads\\apache-phoenix-4.13.1-HBase-1.1-bin\\bin\\config\\log4j.properties\n",
      "C:/Users/admin/Downloads\\apache-phoenix-4.13.1-HBase-1.1-bin\\bin\\config\\pherf.properties\n",
      "C:/Users/admin/Downloads\\apache-phoenix-4.13.1-HBase-1.1-bin\\bin\\config\\datamodel\\user_defined_schema.sql\n",
      "C:/Users/admin/Downloads\\apache-phoenix-4.13.1-HBase-1.1-bin\\bin\\config\\scenario\\user_defined_scenario.xml\n",
      "C:/Users/admin/Downloads\\apache-phoenix-4.13.1-HBase-1.1-bin\\examples\\STOCK_SYMBOL.csv\n",
      "C:/Users/admin/Downloads\\apache-phoenix-4.13.1-HBase-1.1-bin\\examples\\STOCK_SYMBOL.sql\n",
      "C:/Users/admin/Downloads\\apache-phoenix-4.13.1-HBase-1.1-bin\\examples\\WEB_STAT.csv\n",
      "C:/Users/admin/Downloads\\apache-phoenix-4.13.1-HBase-1.1-bin\\examples\\WEB_STAT.sql\n",
      "C:/Users/admin/Downloads\\apache-phoenix-4.13.1-HBase-1.1-bin\\examples\\WEB_STAT_QUERIES.sql\n",
      "C:/Users/admin/Downloads\\apache-phoenix-4.13.1-HBase-1.1-bin\\examples\\pig\\test.pig\n",
      "C:/Users/admin/Downloads\\apache-phoenix-4.13.1-HBase-1.1-bin\\examples\\pig\\testdata\n",
      "C:/Users/admin/Downloads\\Cold_Turkey\\Cold Turkey_kengen.exe\n",
      "C:/Users/admin/Downloads\\Cold_Turkey\\Cold_Turkey_Installer.exe\n",
      "C:/Users/admin/Downloads\\Cold_Turkey\\readme.txt\n",
      "C:/Users/admin/Downloads\\DiskGenius\\DiskGenius\\avcodec-54.dll\n",
      "C:/Users/admin/Downloads\\DiskGenius\\DiskGenius\\avformat-54.dll\n",
      "C:/Users/admin/Downloads\\DiskGenius\\DiskGenius\\avutil-52.dll\n",
      "C:/Users/admin/Downloads\\DiskGenius\\DiskGenius\\Barray.dll\n",
      "C:/Users/admin/Downloads\\DiskGenius\\DiskGenius\\Charset.dll\n",
      "C:/Users/admin/Downloads\\DiskGenius\\DiskGenius\\DGBCDX64.exe\n",
      "C:/Users/admin/Downloads\\DiskGenius\\DiskGenius\\DiskGenius.exe\n",
      "C:/Users/admin/Downloads\\DiskGenius\\DiskGenius\\dsoframer.ocx\n",
      "C:/Users/admin/Downloads\\DiskGenius\\DiskGenius\\FileType.dll\n",
      "C:/Users/admin/Downloads\\DiskGenius\\DiskGenius\\HdrwLDM.dll\n",
      "C:/Users/admin/Downloads\\DiskGenius\\DiskGenius\\HdrwRD.dll\n",
      "C:/Users/admin/Downloads\\DiskGenius\\DiskGenius\\HdrwVdi.dll\n",
      "C:/Users/admin/Downloads\\DiskGenius\\DiskGenius\\HdrwVhd.dll\n",
      "C:/Users/admin/Downloads\\DiskGenius\\DiskGenius\\HdrwVhdx.dll\n",
      "C:/Users/admin/Downloads\\DiskGenius\\DiskGenius\\Hdrwvm.dll\n",
      "C:/Users/admin/Downloads\\DiskGenius\\DiskGenius\\LangCRes.dll\n",
      "C:/Users/admin/Downloads\\DiskGenius\\DiskGenius\\Letarm.dll\n",
      "C:/Users/admin/Downloads\\DiskGenius\\DiskGenius\\OfflineReg.exe\n",
      "C:/Users/admin/Downloads\\DiskGenius\\DiskGenius\\Options.ini\n",
      "C:/Users/admin/Downloads\\DiskGenius\\DiskGenius\\releasenote.txt\n",
      "C:/Users/admin/Downloads\\DiskGenius\\DiskGenius\\SDL.dll\n",
      "C:/Users/admin/Downloads\\DiskGenius\\DiskGenius\\swresample-0.dll\n",
      "C:/Users/admin/Downloads\\DiskGenius\\DiskGenius\\swscale-2.dll\n",
      "C:/Users/admin/Downloads\\DiskGenius\\DiskGenius\\VPreview.dll\n",
      "C:/Users/admin/Downloads\\DiskGenius\\DiskGenius\\ad\\PhoneRecovery.jpg\n",
      "C:/Users/admin/Downloads\\DiskGenius\\DiskGenius\\ad\\PhotoRecovery.jpg\n",
      "C:/Users/admin/Downloads\\DiskGenius\\DiskGenius\\dos\\command.com\n",
      "C:/Users/admin/Downloads\\DiskGenius\\DiskGenius\\dos\\CTMOUSE.EXE\n",
      "C:/Users/admin/Downloads\\DiskGenius\\DiskGenius\\dos\\diskgen.exe\n",
      "C:/Users/admin/Downloads\\DiskGenius\\DiskGenius\\dos\\fdapm.com\n",
      "C:/Users/admin/Downloads\\DiskGenius\\DiskGenius\\dos\\fdauto.bat\n",
      "C:/Users/admin/Downloads\\DiskGenius\\DiskGenius\\dos\\fdconfig.sys\n",
      "C:/Users/admin/Downloads\\DiskGenius\\DiskGenius\\dos\\himem.exe\n",
      "C:/Users/admin/Downloads\\DiskGenius\\DiskGenius\\dos\\kernel.sys\n",
      "C:/Users/admin/Downloads\\DiskGenius\\DiskGenius\\dos\\license.txt\n",
      "C:/Users/admin/Downloads\\DiskGenius\\DiskGenius\\dos\\shsucdx.com\n",
      "C:/Users/admin/Downloads\\DiskGenius\\DiskGenius\\dos\\xcdrom.sys\n",
      "C:/Users/admin/Downloads\\DiskGenius\\在PE下运行可能需要的winscard.dll文件\\winscard.dll\n",
      "C:/Users/admin/Downloads\\hadoop\\krb5-1.9.5-signed.tar\n",
      "C:/Users/admin/Downloads\\JI584815115R90500000000.files\\JI584815115R9050000000091.png\n",
      "C:/Users/admin/Downloads\\YZD1215G-FusionInsight 产品文档-(V100R002C30SPC100_01)\\下载 - 快捷方式.lnk\n",
      "C:/Users/admin/Downloads\\YZD1215G-FusionInsight 产品文档-(V100R002C30SPC100_01)\\Chinese\\libraries\\FusionInsight_V100R002C30SPC100_01_zh_YZD1215G.hdx\n",
      "C:/Users/admin/Downloads\\江西创达对接\\FusionInsight HD V100R002C80SPC200 产品文档.chm\n",
      "C:/Users/admin/Downloads\\江西创达对接\\FusionInsight LibrA V100R002C80SPC300 产品文档.chm\n",
      "C:/Users/admin/Downloads\\江西创达对接\\组件版本号.xls\n",
      "C:/Users/admin/Downloads\\简历.files\\简历222.png\n"
     ]
    }
   ],
   "source": [
    "def tree(top_path):\n",
    "    for path, names, fnames  in os.walk(top_path):\n",
    "        for fname in fnames:\n",
    "            yield os.path.join(path, fname)\n",
    "            \n",
    "for name in tree(\"C:/Users/admin/Downloads\"):\n",
    "    print(name)"
   ]
  },
  {
   "cell_type": "markdown",
   "metadata": {},
   "source": [
    "## 装饰器"
   ]
  },
  {
   "cell_type": "code",
   "execution_count": 15,
   "metadata": {},
   "outputs": [],
   "source": [
    "import time\n",
    "from functools import wraps"
   ]
  },
  {
   "cell_type": "code",
   "execution_count": 17,
   "metadata": {},
   "outputs": [],
   "source": [
    "# 记录某函数执行时间\n",
    "def time_fun(func):\n",
    "    @wraps(func)\n",
    "    def wrapper(*args, **kwargs):\n",
    "        start = time.time()\n",
    "        result = func(*args, **kwargs)\n",
    "        end = time.time()\n",
    "        print(func.__name__,end-start)\n",
    "        return result\n",
    "    return wrapper"
   ]
  },
  {
   "cell_type": "code",
   "execution_count": 18,
   "metadata": {},
   "outputs": [],
   "source": [
    "@time_fun\n",
    "def countdown(n):\n",
    "    while n >0:\n",
    "        n -= 1"
   ]
  },
  {
   "cell_type": "code",
   "execution_count": 19,
   "metadata": {},
   "outputs": [
    {
     "name": "stdout",
     "output_type": "stream",
     "text": [
      "countdown 0.020943164825439453\n"
     ]
    }
   ],
   "source": [
    "countdown(100000)"
   ]
  },
  {
   "cell_type": "code",
   "execution_count": 21,
   "metadata": {},
   "outputs": [],
   "source": [
    "class decorator(object):\n",
    "    def __init__(self, f):\n",
    "        print(\"inside decorator.__init__()\")\n",
    "        f()\n",
    "    \n",
    "    def __call__(self):\n",
    "        print(\"inside decorator.__call__()\")"
   ]
  },
  {
   "cell_type": "code",
   "execution_count": 22,
   "metadata": {},
   "outputs": [
    {
     "name": "stdout",
     "output_type": "stream",
     "text": [
      "inside decorator.__init__()\n",
      "inside function\n",
      "Finished decorating function()\n",
      "inside decorator.__call__()\n"
     ]
    }
   ],
   "source": [
    "@decorator\n",
    "def func():\n",
    "    print(\"inside function\")\n",
    "\n",
    "\n",
    "print(\"Finished decorating function()\")\n",
    "func()"
   ]
  },
  {
   "cell_type": "code",
   "execution_count": null,
   "metadata": {},
   "outputs": [],
   "source": []
  },
  {
   "cell_type": "code",
   "execution_count": null,
   "metadata": {},
   "outputs": [],
   "source": []
  },
  {
   "cell_type": "code",
   "execution_count": null,
   "metadata": {},
   "outputs": [],
   "source": []
  }
 ],
 "metadata": {
  "kernelspec": {
   "display_name": "Python 3",
   "language": "python",
   "name": "python3"
  },
  "language_info": {
   "codemirror_mode": {
    "name": "ipython",
    "version": 3
   },
   "file_extension": ".py",
   "mimetype": "text/x-python",
   "name": "python",
   "nbconvert_exporter": "python",
   "pygments_lexer": "ipython3",
   "version": "3.7.6"
  }
 },
 "nbformat": 4,
 "nbformat_minor": 4
}
