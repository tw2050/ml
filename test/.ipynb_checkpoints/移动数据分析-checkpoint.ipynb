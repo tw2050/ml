{
 "cells": [
  {
   "cell_type": "code",
   "execution_count": 1,
   "metadata": {},
   "outputs": [],
   "source": [
    "import numpy as np\n",
    "import pandas as pd\n",
    "import matplotlib.pyplot as plt\n"
   ]
  },
  {
   "cell_type": "code",
   "execution_count": 2,
   "metadata": {},
   "outputs": [],
   "source": [
    "data = pd.read_csv('F:/ml-data/yidong/1.csv')"
   ]
  },
  {
   "cell_type": "markdown",
   "metadata": {},
   "source": [
    "### 数据描述"
   ]
  },
  {
   "cell_type": "code",
   "execution_count": 3,
   "metadata": {
    "collapsed": false,
    "jupyter": {
     "outputs_hidden": false
    }
   },
   "outputs": [
    {
     "data": {
      "text/html": [
       "<div>\n",
       "<style scoped>\n",
       "    .dataframe tbody tr th:only-of-type {\n",
       "        vertical-align: middle;\n",
       "    }\n",
       "\n",
       "    .dataframe tbody tr th {\n",
       "        vertical-align: top;\n",
       "    }\n",
       "\n",
       "    .dataframe thead th {\n",
       "        text-align: right;\n",
       "    }\n",
       "</style>\n",
       "<table border=\"1\" class=\"dataframe\">\n",
       "  <thead>\n",
       "    <tr style=\"text-align: right;\">\n",
       "      <th></th>\n",
       "      <th>data_mon</th>\n",
       "      <th>row_id</th>\n",
       "      <th>reg_gender</th>\n",
       "      <th>reg_age</th>\n",
       "      <th>day_county_name</th>\n",
       "      <th>night_county_name</th>\n",
       "      <th>arpu</th>\n",
       "      <th>tmnl_model</th>\n",
       "      <th>tmn_dur</th>\n",
       "      <th>user_online</th>\n",
       "      <th>user_class</th>\n",
       "      <th>dou</th>\n",
       "      <th>app_top1</th>\n",
       "      <th>app_top2</th>\n",
       "      <th>app_top3</th>\n",
       "    </tr>\n",
       "  </thead>\n",
       "  <tbody>\n",
       "    <tr>\n",
       "      <th>0</th>\n",
       "      <td>1</td>\n",
       "      <td>2387162</td>\n",
       "      <td>0</td>\n",
       "      <td>7.0</td>\n",
       "      <td>石城县</td>\n",
       "      <td>石城县</td>\n",
       "      <td>0</td>\n",
       "      <td>NaN</td>\n",
       "      <td>2.0</td>\n",
       "      <td>5</td>\n",
       "      <td>2.0</td>\n",
       "      <td>0</td>\n",
       "      <td>NaN</td>\n",
       "      <td>NaN</td>\n",
       "      <td>NaN</td>\n",
       "    </tr>\n",
       "    <tr>\n",
       "      <th>1</th>\n",
       "      <td>1</td>\n",
       "      <td>2387163</td>\n",
       "      <td>0</td>\n",
       "      <td>6.0</td>\n",
       "      <td>昌东区</td>\n",
       "      <td>昌东区</td>\n",
       "      <td>2</td>\n",
       "      <td>A83</td>\n",
       "      <td>3.0</td>\n",
       "      <td>5</td>\n",
       "      <td>2.0</td>\n",
       "      <td>1</td>\n",
       "      <td>xiaoniangao</td>\n",
       "      <td>腾讯视频</td>\n",
       "      <td>腾讯网</td>\n",
       "    </tr>\n",
       "    <tr>\n",
       "      <th>2</th>\n",
       "      <td>1</td>\n",
       "      <td>2387164</td>\n",
       "      <td>1</td>\n",
       "      <td>6.0</td>\n",
       "      <td>信丰县</td>\n",
       "      <td>信丰县</td>\n",
       "      <td>0</td>\n",
       "      <td>NaN</td>\n",
       "      <td>0.0</td>\n",
       "      <td>5</td>\n",
       "      <td>2.0</td>\n",
       "      <td>0</td>\n",
       "      <td>NaN</td>\n",
       "      <td>NaN</td>\n",
       "      <td>NaN</td>\n",
       "    </tr>\n",
       "    <tr>\n",
       "      <th>3</th>\n",
       "      <td>1</td>\n",
       "      <td>2387165</td>\n",
       "      <td>0</td>\n",
       "      <td>7.0</td>\n",
       "      <td>上犹县</td>\n",
       "      <td>上犹县</td>\n",
       "      <td>1</td>\n",
       "      <td>E988</td>\n",
       "      <td>0.0</td>\n",
       "      <td>5</td>\n",
       "      <td>3.0</td>\n",
       "      <td>0</td>\n",
       "      <td>NaN</td>\n",
       "      <td>NaN</td>\n",
       "      <td>NaN</td>\n",
       "    </tr>\n",
       "    <tr>\n",
       "      <th>4</th>\n",
       "      <td>1</td>\n",
       "      <td>2387166</td>\n",
       "      <td>0</td>\n",
       "      <td>6.0</td>\n",
       "      <td>青云谱区</td>\n",
       "      <td>青云谱区</td>\n",
       "      <td>2</td>\n",
       "      <td>V1813BA</td>\n",
       "      <td>0.0</td>\n",
       "      <td>5</td>\n",
       "      <td>3.0</td>\n",
       "      <td>2</td>\n",
       "      <td>快手</td>\n",
       "      <td>微信</td>\n",
       "      <td>一点资讯OPPO版</td>\n",
       "    </tr>\n",
       "  </tbody>\n",
       "</table>\n",
       "</div>"
      ],
      "text/plain": [
       "   data_mon   row_id  reg_gender  reg_age day_county_name night_county_name  \\\n",
       "0         1  2387162           0      7.0             石城县               石城县   \n",
       "1         1  2387163           0      6.0             昌东区               昌东区   \n",
       "2         1  2387164           1      6.0             信丰县               信丰县   \n",
       "3         1  2387165           0      7.0             上犹县               上犹县   \n",
       "4         1  2387166           0      6.0            青云谱区              青云谱区   \n",
       "\n",
       "   arpu tmnl_model  tmn_dur  user_online  user_class  dou     app_top1  \\\n",
       "0     0        NaN      2.0            5         2.0    0          NaN   \n",
       "1     2        A83      3.0            5         2.0    1  xiaoniangao   \n",
       "2     0        NaN      0.0            5         2.0    0          NaN   \n",
       "3     1       E988      0.0            5         3.0    0          NaN   \n",
       "4     2    V1813BA      0.0            5         3.0    2           快手   \n",
       "\n",
       "  app_top2   app_top3  \n",
       "0      NaN        NaN  \n",
       "1     腾讯视频        腾讯网  \n",
       "2      NaN        NaN  \n",
       "3      NaN        NaN  \n",
       "4       微信  一点资讯OPPO版  "
      ]
     },
     "execution_count": 3,
     "metadata": {},
     "output_type": "execute_result"
    }
   ],
   "source": [
    "data.head()"
   ]
  },
  {
   "cell_type": "code",
   "execution_count": 4,
   "metadata": {
    "collapsed": false,
    "jupyter": {
     "outputs_hidden": false
    }
   },
   "outputs": [
    {
     "data": {
      "text/html": [
       "<div>\n",
       "<style scoped>\n",
       "    .dataframe tbody tr th:only-of-type {\n",
       "        vertical-align: middle;\n",
       "    }\n",
       "\n",
       "    .dataframe tbody tr th {\n",
       "        vertical-align: top;\n",
       "    }\n",
       "\n",
       "    .dataframe thead th {\n",
       "        text-align: right;\n",
       "    }\n",
       "</style>\n",
       "<table border=\"1\" class=\"dataframe\">\n",
       "  <thead>\n",
       "    <tr style=\"text-align: right;\">\n",
       "      <th></th>\n",
       "      <th>data_mon</th>\n",
       "      <th>row_id</th>\n",
       "      <th>reg_gender</th>\n",
       "      <th>reg_age</th>\n",
       "      <th>arpu</th>\n",
       "      <th>tmn_dur</th>\n",
       "      <th>user_online</th>\n",
       "      <th>user_class</th>\n",
       "      <th>dou</th>\n",
       "    </tr>\n",
       "  </thead>\n",
       "  <tbody>\n",
       "    <tr>\n",
       "      <th>count</th>\n",
       "      <td>8407817.0</td>\n",
       "      <td>8.407817e+06</td>\n",
       "      <td>8.407817e+06</td>\n",
       "      <td>8.396264e+06</td>\n",
       "      <td>8.407817e+06</td>\n",
       "      <td>8.365661e+06</td>\n",
       "      <td>8.407817e+06</td>\n",
       "      <td>7.789079e+06</td>\n",
       "      <td>8.407817e+06</td>\n",
       "    </tr>\n",
       "    <tr>\n",
       "      <th>mean</th>\n",
       "      <td>1.0</td>\n",
       "      <td>4.203909e+06</td>\n",
       "      <td>4.364988e-01</td>\n",
       "      <td>5.673827e+00</td>\n",
       "      <td>9.680745e-01</td>\n",
       "      <td>1.770104e+00</td>\n",
       "      <td>3.447451e+00</td>\n",
       "      <td>1.777096e+00</td>\n",
       "      <td>1.807259e+00</td>\n",
       "    </tr>\n",
       "    <tr>\n",
       "      <th>std</th>\n",
       "      <td>0.0</td>\n",
       "      <td>2.427128e+06</td>\n",
       "      <td>4.961514e-01</td>\n",
       "      <td>8.854150e-01</td>\n",
       "      <td>1.091556e+00</td>\n",
       "      <td>1.468861e+00</td>\n",
       "      <td>1.539644e+00</td>\n",
       "      <td>1.507083e+00</td>\n",
       "      <td>1.789335e+00</td>\n",
       "    </tr>\n",
       "    <tr>\n",
       "      <th>min</th>\n",
       "      <td>1.0</td>\n",
       "      <td>1.000000e+00</td>\n",
       "      <td>0.000000e+00</td>\n",
       "      <td>1.000000e+00</td>\n",
       "      <td>0.000000e+00</td>\n",
       "      <td>0.000000e+00</td>\n",
       "      <td>0.000000e+00</td>\n",
       "      <td>0.000000e+00</td>\n",
       "      <td>0.000000e+00</td>\n",
       "    </tr>\n",
       "    <tr>\n",
       "      <th>25%</th>\n",
       "      <td>1.0</td>\n",
       "      <td>2.101955e+06</td>\n",
       "      <td>0.000000e+00</td>\n",
       "      <td>5.000000e+00</td>\n",
       "      <td>0.000000e+00</td>\n",
       "      <td>0.000000e+00</td>\n",
       "      <td>3.000000e+00</td>\n",
       "      <td>0.000000e+00</td>\n",
       "      <td>0.000000e+00</td>\n",
       "    </tr>\n",
       "    <tr>\n",
       "      <th>50%</th>\n",
       "      <td>1.0</td>\n",
       "      <td>4.203909e+06</td>\n",
       "      <td>0.000000e+00</td>\n",
       "      <td>6.000000e+00</td>\n",
       "      <td>1.000000e+00</td>\n",
       "      <td>2.000000e+00</td>\n",
       "      <td>4.000000e+00</td>\n",
       "      <td>2.000000e+00</td>\n",
       "      <td>1.000000e+00</td>\n",
       "    </tr>\n",
       "    <tr>\n",
       "      <th>75%</th>\n",
       "      <td>1.0</td>\n",
       "      <td>6.305863e+06</td>\n",
       "      <td>1.000000e+00</td>\n",
       "      <td>6.000000e+00</td>\n",
       "      <td>1.000000e+00</td>\n",
       "      <td>3.000000e+00</td>\n",
       "      <td>5.000000e+00</td>\n",
       "      <td>3.000000e+00</td>\n",
       "      <td>3.000000e+00</td>\n",
       "    </tr>\n",
       "    <tr>\n",
       "      <th>max</th>\n",
       "      <td>1.0</td>\n",
       "      <td>8.407817e+06</td>\n",
       "      <td>2.000000e+00</td>\n",
       "      <td>7.000000e+00</td>\n",
       "      <td>5.000000e+00</td>\n",
       "      <td>5.000000e+00</td>\n",
       "      <td>5.000000e+00</td>\n",
       "      <td>5.000000e+00</td>\n",
       "      <td>5.000000e+00</td>\n",
       "    </tr>\n",
       "  </tbody>\n",
       "</table>\n",
       "</div>"
      ],
      "text/plain": [
       "        data_mon        row_id    reg_gender       reg_age          arpu  \\\n",
       "count  8407817.0  8.407817e+06  8.407817e+06  8.396264e+06  8.407817e+06   \n",
       "mean         1.0  4.203909e+06  4.364988e-01  5.673827e+00  9.680745e-01   \n",
       "std          0.0  2.427128e+06  4.961514e-01  8.854150e-01  1.091556e+00   \n",
       "min          1.0  1.000000e+00  0.000000e+00  1.000000e+00  0.000000e+00   \n",
       "25%          1.0  2.101955e+06  0.000000e+00  5.000000e+00  0.000000e+00   \n",
       "50%          1.0  4.203909e+06  0.000000e+00  6.000000e+00  1.000000e+00   \n",
       "75%          1.0  6.305863e+06  1.000000e+00  6.000000e+00  1.000000e+00   \n",
       "max          1.0  8.407817e+06  2.000000e+00  7.000000e+00  5.000000e+00   \n",
       "\n",
       "            tmn_dur   user_online    user_class           dou  \n",
       "count  8.365661e+06  8.407817e+06  7.789079e+06  8.407817e+06  \n",
       "mean   1.770104e+00  3.447451e+00  1.777096e+00  1.807259e+00  \n",
       "std    1.468861e+00  1.539644e+00  1.507083e+00  1.789335e+00  \n",
       "min    0.000000e+00  0.000000e+00  0.000000e+00  0.000000e+00  \n",
       "25%    0.000000e+00  3.000000e+00  0.000000e+00  0.000000e+00  \n",
       "50%    2.000000e+00  4.000000e+00  2.000000e+00  1.000000e+00  \n",
       "75%    3.000000e+00  5.000000e+00  3.000000e+00  3.000000e+00  \n",
       "max    5.000000e+00  5.000000e+00  5.000000e+00  5.000000e+00  "
      ]
     },
     "execution_count": 4,
     "metadata": {},
     "output_type": "execute_result"
    }
   ],
   "source": [
    "data.describe()"
   ]
  },
  {
   "cell_type": "code",
   "execution_count": 5,
   "metadata": {
    "collapsed": false,
    "jupyter": {
     "outputs_hidden": false
    }
   },
   "outputs": [
    {
     "name": "stdout",
     "output_type": "stream",
     "text": [
      "<class 'pandas.core.frame.DataFrame'>\n",
      "RangeIndex: 8407817 entries, 0 to 8407816\n",
      "Data columns (total 15 columns):\n",
      " #   Column             Dtype  \n",
      "---  ------             -----  \n",
      " 0   data_mon           int64  \n",
      " 1   row_id             int64  \n",
      " 2   reg_gender         int64  \n",
      " 3   reg_age            float64\n",
      " 4   day_county_name    object \n",
      " 5   night_county_name  object \n",
      " 6   arpu               int64  \n",
      " 7   tmnl_model         object \n",
      " 8   tmn_dur            float64\n",
      " 9   user_online        int64  \n",
      " 10  user_class         float64\n",
      " 11  dou                int64  \n",
      " 12  app_top1           object \n",
      " 13  app_top2           object \n",
      " 14  app_top3           object \n",
      "dtypes: float64(3), int64(6), object(6)\n",
      "memory usage: 962.2+ MB\n"
     ]
    }
   ],
   "source": [
    "data.info()"
   ]
  },
  {
   "cell_type": "markdown",
   "metadata": {},
   "source": [
    "### 数据预处理"
   ]
  },
  {
   "cell_type": "code",
   "execution_count": 6,
   "metadata": {},
   "outputs": [],
   "source": [
    "new_data = data.dropna()"
   ]
  },
  {
   "cell_type": "code",
   "execution_count": 7,
   "metadata": {
    "collapsed": false,
    "jupyter": {
     "outputs_hidden": false
    }
   },
   "outputs": [
    {
     "data": {
      "text/html": [
       "<div>\n",
       "<style scoped>\n",
       "    .dataframe tbody tr th:only-of-type {\n",
       "        vertical-align: middle;\n",
       "    }\n",
       "\n",
       "    .dataframe tbody tr th {\n",
       "        vertical-align: top;\n",
       "    }\n",
       "\n",
       "    .dataframe thead th {\n",
       "        text-align: right;\n",
       "    }\n",
       "</style>\n",
       "<table border=\"1\" class=\"dataframe\">\n",
       "  <thead>\n",
       "    <tr style=\"text-align: right;\">\n",
       "      <th></th>\n",
       "      <th>data_mon</th>\n",
       "      <th>row_id</th>\n",
       "      <th>reg_gender</th>\n",
       "      <th>reg_age</th>\n",
       "      <th>arpu</th>\n",
       "      <th>tmn_dur</th>\n",
       "      <th>user_online</th>\n",
       "      <th>user_class</th>\n",
       "      <th>dou</th>\n",
       "    </tr>\n",
       "  </thead>\n",
       "  <tbody>\n",
       "    <tr>\n",
       "      <th>count</th>\n",
       "      <td>5373018.0</td>\n",
       "      <td>5.373018e+06</td>\n",
       "      <td>5.373018e+06</td>\n",
       "      <td>5.373018e+06</td>\n",
       "      <td>5.373018e+06</td>\n",
       "      <td>5.373018e+06</td>\n",
       "      <td>5.373018e+06</td>\n",
       "      <td>5.373018e+06</td>\n",
       "      <td>5.373018e+06</td>\n",
       "    </tr>\n",
       "    <tr>\n",
       "      <th>mean</th>\n",
       "      <td>1.0</td>\n",
       "      <td>3.771728e+06</td>\n",
       "      <td>4.349864e-01</td>\n",
       "      <td>5.594746e+00</td>\n",
       "      <td>1.285437e+00</td>\n",
       "      <td>1.879754e+00</td>\n",
       "      <td>3.665314e+00</td>\n",
       "      <td>2.075717e+00</td>\n",
       "      <td>2.531061e+00</td>\n",
       "    </tr>\n",
       "    <tr>\n",
       "      <th>std</th>\n",
       "      <td>0.0</td>\n",
       "      <td>2.431316e+06</td>\n",
       "      <td>4.958394e-01</td>\n",
       "      <td>8.327205e-01</td>\n",
       "      <td>1.121987e+00</td>\n",
       "      <td>1.432911e+00</td>\n",
       "      <td>1.515490e+00</td>\n",
       "      <td>1.514091e+00</td>\n",
       "      <td>1.624225e+00</td>\n",
       "    </tr>\n",
       "    <tr>\n",
       "      <th>min</th>\n",
       "      <td>1.0</td>\n",
       "      <td>1.000000e+00</td>\n",
       "      <td>0.000000e+00</td>\n",
       "      <td>1.000000e+00</td>\n",
       "      <td>0.000000e+00</td>\n",
       "      <td>0.000000e+00</td>\n",
       "      <td>0.000000e+00</td>\n",
       "      <td>0.000000e+00</td>\n",
       "      <td>0.000000e+00</td>\n",
       "    </tr>\n",
       "    <tr>\n",
       "      <th>25%</th>\n",
       "      <td>1.0</td>\n",
       "      <td>1.657819e+06</td>\n",
       "      <td>0.000000e+00</td>\n",
       "      <td>5.000000e+00</td>\n",
       "      <td>1.000000e+00</td>\n",
       "      <td>0.000000e+00</td>\n",
       "      <td>3.000000e+00</td>\n",
       "      <td>1.000000e+00</td>\n",
       "      <td>1.000000e+00</td>\n",
       "    </tr>\n",
       "    <tr>\n",
       "      <th>50%</th>\n",
       "      <td>1.0</td>\n",
       "      <td>3.565222e+06</td>\n",
       "      <td>0.000000e+00</td>\n",
       "      <td>6.000000e+00</td>\n",
       "      <td>1.000000e+00</td>\n",
       "      <td>2.000000e+00</td>\n",
       "      <td>4.000000e+00</td>\n",
       "      <td>2.000000e+00</td>\n",
       "      <td>2.000000e+00</td>\n",
       "    </tr>\n",
       "    <tr>\n",
       "      <th>75%</th>\n",
       "      <td>1.0</td>\n",
       "      <td>5.431898e+06</td>\n",
       "      <td>1.000000e+00</td>\n",
       "      <td>6.000000e+00</td>\n",
       "      <td>2.000000e+00</td>\n",
       "      <td>3.000000e+00</td>\n",
       "      <td>5.000000e+00</td>\n",
       "      <td>3.000000e+00</td>\n",
       "      <td>4.000000e+00</td>\n",
       "    </tr>\n",
       "    <tr>\n",
       "      <th>max</th>\n",
       "      <td>1.0</td>\n",
       "      <td>8.407780e+06</td>\n",
       "      <td>2.000000e+00</td>\n",
       "      <td>7.000000e+00</td>\n",
       "      <td>5.000000e+00</td>\n",
       "      <td>5.000000e+00</td>\n",
       "      <td>5.000000e+00</td>\n",
       "      <td>5.000000e+00</td>\n",
       "      <td>5.000000e+00</td>\n",
       "    </tr>\n",
       "  </tbody>\n",
       "</table>\n",
       "</div>"
      ],
      "text/plain": [
       "        data_mon        row_id    reg_gender       reg_age          arpu  \\\n",
       "count  5373018.0  5.373018e+06  5.373018e+06  5.373018e+06  5.373018e+06   \n",
       "mean         1.0  3.771728e+06  4.349864e-01  5.594746e+00  1.285437e+00   \n",
       "std          0.0  2.431316e+06  4.958394e-01  8.327205e-01  1.121987e+00   \n",
       "min          1.0  1.000000e+00  0.000000e+00  1.000000e+00  0.000000e+00   \n",
       "25%          1.0  1.657819e+06  0.000000e+00  5.000000e+00  1.000000e+00   \n",
       "50%          1.0  3.565222e+06  0.000000e+00  6.000000e+00  1.000000e+00   \n",
       "75%          1.0  5.431898e+06  1.000000e+00  6.000000e+00  2.000000e+00   \n",
       "max          1.0  8.407780e+06  2.000000e+00  7.000000e+00  5.000000e+00   \n",
       "\n",
       "            tmn_dur   user_online    user_class           dou  \n",
       "count  5.373018e+06  5.373018e+06  5.373018e+06  5.373018e+06  \n",
       "mean   1.879754e+00  3.665314e+00  2.075717e+00  2.531061e+00  \n",
       "std    1.432911e+00  1.515490e+00  1.514091e+00  1.624225e+00  \n",
       "min    0.000000e+00  0.000000e+00  0.000000e+00  0.000000e+00  \n",
       "25%    0.000000e+00  3.000000e+00  1.000000e+00  1.000000e+00  \n",
       "50%    2.000000e+00  4.000000e+00  2.000000e+00  2.000000e+00  \n",
       "75%    3.000000e+00  5.000000e+00  3.000000e+00  4.000000e+00  \n",
       "max    5.000000e+00  5.000000e+00  5.000000e+00  5.000000e+00  "
      ]
     },
     "execution_count": 7,
     "metadata": {},
     "output_type": "execute_result"
    }
   ],
   "source": [
    "new_data.describe()"
   ]
  },
  {
   "cell_type": "code",
   "execution_count": 8,
   "metadata": {},
   "outputs": [],
   "source": [
    "def get_label(data, column_name):\n",
    "    new_data = data.groupby(column_name, sort = True, as_index = False).count()\n",
    "    label_idx = new_data.index\n",
    "    label_list = new_data[column_name].tolist()\n",
    "    \n",
    "    return label_list"
   ]
  },
  {
   "cell_type": "code",
   "execution_count": 9,
   "metadata": {
    "collapsed": false,
    "jupyter": {
     "outputs_hidden": false
    }
   },
   "outputs": [],
   "source": [
    "area_list = get_label(new_data, 'night_county_name')\n"
   ]
  },
  {
   "cell_type": "code",
   "execution_count": 10,
   "metadata": {},
   "outputs": [],
   "source": [
    "def get_app_label(data):\n",
    "    new_data = data.groupby('app_top1', sort = True, as_index = False).count()\n",
    "    app_list1 = new_data['app_top1'].tolist()\n",
    "    \n",
    "    new_data = data.groupby('app_top2', sort = True, as_index = False).count()\n",
    "    app_list2 = new_data['app_top2'].tolist()\n",
    "    \n",
    "    new_data = data.groupby('app_top3', sort = True, as_index = False).count()\n",
    "    app_list3 = new_data['app_top3'].tolist()\n",
    "    all_list = list(set(app_list1).union(app_list2, app_list3))\n",
    "    \n",
    "    return all_list"
   ]
  },
  {
   "cell_type": "code",
   "execution_count": 11,
   "metadata": {
    "collapsed": false,
    "jupyter": {
     "outputs_hidden": false
    }
   },
   "outputs": [
    {
     "data": {
      "text/plain": [
       "2640"
      ]
     },
     "execution_count": 11,
     "metadata": {},
     "output_type": "execute_result"
    }
   ],
   "source": [
    "app_list = get_app_label(new_data)\n",
    "len(app_list)"
   ]
  },
  {
   "cell_type": "code",
   "execution_count": 12,
   "metadata": {
    "collapsed": false,
    "jupyter": {
     "outputs_hidden": false
    }
   },
   "outputs": [
    {
     "data": {
      "text/html": [
       "<div>\n",
       "<style scoped>\n",
       "    .dataframe tbody tr th:only-of-type {\n",
       "        vertical-align: middle;\n",
       "    }\n",
       "\n",
       "    .dataframe tbody tr th {\n",
       "        vertical-align: top;\n",
       "    }\n",
       "\n",
       "    .dataframe thead th {\n",
       "        text-align: right;\n",
       "    }\n",
       "</style>\n",
       "<table border=\"1\" class=\"dataframe\">\n",
       "  <thead>\n",
       "    <tr style=\"text-align: right;\">\n",
       "      <th></th>\n",
       "      <th>data_mon</th>\n",
       "      <th>row_id</th>\n",
       "      <th>reg_gender</th>\n",
       "      <th>reg_age</th>\n",
       "      <th>day_county_name</th>\n",
       "      <th>night_county_name</th>\n",
       "      <th>arpu</th>\n",
       "      <th>tmnl_model</th>\n",
       "      <th>tmn_dur</th>\n",
       "      <th>user_online</th>\n",
       "      <th>user_class</th>\n",
       "      <th>dou</th>\n",
       "      <th>app_top1</th>\n",
       "      <th>app_top2</th>\n",
       "      <th>app_top3</th>\n",
       "    </tr>\n",
       "  </thead>\n",
       "  <tbody>\n",
       "    <tr>\n",
       "      <th>1</th>\n",
       "      <td>1</td>\n",
       "      <td>2387163</td>\n",
       "      <td>0</td>\n",
       "      <td>6.0</td>\n",
       "      <td>昌东区</td>\n",
       "      <td>昌东区</td>\n",
       "      <td>2</td>\n",
       "      <td>A83</td>\n",
       "      <td>3.0</td>\n",
       "      <td>5</td>\n",
       "      <td>2.0</td>\n",
       "      <td>1</td>\n",
       "      <td>xiaoniangao</td>\n",
       "      <td>腾讯视频</td>\n",
       "      <td>腾讯网</td>\n",
       "    </tr>\n",
       "    <tr>\n",
       "      <th>4</th>\n",
       "      <td>1</td>\n",
       "      <td>2387166</td>\n",
       "      <td>0</td>\n",
       "      <td>6.0</td>\n",
       "      <td>青云谱区</td>\n",
       "      <td>青云谱区</td>\n",
       "      <td>2</td>\n",
       "      <td>V1813BA</td>\n",
       "      <td>0.0</td>\n",
       "      <td>5</td>\n",
       "      <td>3.0</td>\n",
       "      <td>2</td>\n",
       "      <td>快手</td>\n",
       "      <td>微信</td>\n",
       "      <td>一点资讯OPPO版</td>\n",
       "    </tr>\n",
       "    <tr>\n",
       "      <th>8</th>\n",
       "      <td>1</td>\n",
       "      <td>2387170</td>\n",
       "      <td>0</td>\n",
       "      <td>5.0</td>\n",
       "      <td>南康县</td>\n",
       "      <td>南康县</td>\n",
       "      <td>3</td>\n",
       "      <td>POT-AL00A</td>\n",
       "      <td>1.0</td>\n",
       "      <td>5</td>\n",
       "      <td>3.0</td>\n",
       "      <td>4</td>\n",
       "      <td>抖音短视频</td>\n",
       "      <td>腾讯网</td>\n",
       "      <td>腾讯体育</td>\n",
       "    </tr>\n",
       "    <tr>\n",
       "      <th>9</th>\n",
       "      <td>1</td>\n",
       "      <td>2387171</td>\n",
       "      <td>0</td>\n",
       "      <td>7.0</td>\n",
       "      <td>修水县</td>\n",
       "      <td>修水县</td>\n",
       "      <td>1</td>\n",
       "      <td>M654</td>\n",
       "      <td>3.0</td>\n",
       "      <td>5</td>\n",
       "      <td>3.0</td>\n",
       "      <td>0</td>\n",
       "      <td>BitTorrent</td>\n",
       "      <td>视频文件识别</td>\n",
       "      <td>微信</td>\n",
       "    </tr>\n",
       "    <tr>\n",
       "      <th>11</th>\n",
       "      <td>1</td>\n",
       "      <td>2387173</td>\n",
       "      <td>0</td>\n",
       "      <td>7.0</td>\n",
       "      <td>东湖区</td>\n",
       "      <td>东湖区</td>\n",
       "      <td>2</td>\n",
       "      <td>RIO-UL00</td>\n",
       "      <td>0.0</td>\n",
       "      <td>5</td>\n",
       "      <td>3.0</td>\n",
       "      <td>1</td>\n",
       "      <td>微信</td>\n",
       "      <td>腾讯视频</td>\n",
       "      <td>腾讯网</td>\n",
       "    </tr>\n",
       "  </tbody>\n",
       "</table>\n",
       "</div>"
      ],
      "text/plain": [
       "    data_mon   row_id  reg_gender  reg_age day_county_name night_county_name  \\\n",
       "1          1  2387163           0      6.0             昌东区               昌东区   \n",
       "4          1  2387166           0      6.0            青云谱区              青云谱区   \n",
       "8          1  2387170           0      5.0             南康县               南康县   \n",
       "9          1  2387171           0      7.0             修水县               修水县   \n",
       "11         1  2387173           0      7.0             东湖区               东湖区   \n",
       "\n",
       "    arpu tmnl_model  tmn_dur  user_online  user_class  dou     app_top1  \\\n",
       "1      2        A83      3.0            5         2.0    1  xiaoniangao   \n",
       "4      2    V1813BA      0.0            5         3.0    2           快手   \n",
       "8      3  POT-AL00A      1.0            5         3.0    4        抖音短视频   \n",
       "9      1       M654      3.0            5         3.0    0   BitTorrent   \n",
       "11     2   RIO-UL00      0.0            5         3.0    1           微信   \n",
       "\n",
       "   app_top2   app_top3  \n",
       "1      腾讯视频        腾讯网  \n",
       "4        微信  一点资讯OPPO版  \n",
       "8       腾讯网       腾讯体育  \n",
       "9    视频文件识别         微信  \n",
       "11     腾讯视频        腾讯网  "
      ]
     },
     "execution_count": 12,
     "metadata": {},
     "output_type": "execute_result"
    }
   ],
   "source": [
    "temp = new_data.copy()\n",
    "temp.head()"
   ]
  },
  {
   "cell_type": "code",
   "execution_count": 13,
   "metadata": {
    "collapsed": false,
    "jupyter": {
     "outputs_hidden": false
    }
   },
   "outputs": [
    {
     "data": {
      "text/html": [
       "<div>\n",
       "<style scoped>\n",
       "    .dataframe tbody tr th:only-of-type {\n",
       "        vertical-align: middle;\n",
       "    }\n",
       "\n",
       "    .dataframe tbody tr th {\n",
       "        vertical-align: top;\n",
       "    }\n",
       "\n",
       "    .dataframe thead th {\n",
       "        text-align: right;\n",
       "    }\n",
       "</style>\n",
       "<table border=\"1\" class=\"dataframe\">\n",
       "  <thead>\n",
       "    <tr style=\"text-align: right;\">\n",
       "      <th></th>\n",
       "      <th>index</th>\n",
       "      <th>data_mon</th>\n",
       "      <th>row_id</th>\n",
       "      <th>reg_gender</th>\n",
       "      <th>reg_age</th>\n",
       "      <th>day_county_name</th>\n",
       "      <th>night_county_name</th>\n",
       "      <th>arpu</th>\n",
       "      <th>tmnl_model</th>\n",
       "      <th>tmn_dur</th>\n",
       "      <th>user_online</th>\n",
       "      <th>user_class</th>\n",
       "      <th>dou</th>\n",
       "      <th>app_top1</th>\n",
       "      <th>app_top2</th>\n",
       "      <th>app_top3</th>\n",
       "    </tr>\n",
       "  </thead>\n",
       "  <tbody>\n",
       "    <tr>\n",
       "      <th>0</th>\n",
       "      <td>1</td>\n",
       "      <td>1</td>\n",
       "      <td>2387163</td>\n",
       "      <td>0</td>\n",
       "      <td>6.0</td>\n",
       "      <td>昌东区</td>\n",
       "      <td>昌东区</td>\n",
       "      <td>2</td>\n",
       "      <td>A83</td>\n",
       "      <td>3.0</td>\n",
       "      <td>5</td>\n",
       "      <td>2.0</td>\n",
       "      <td>1</td>\n",
       "      <td>xiaoniangao</td>\n",
       "      <td>腾讯视频</td>\n",
       "      <td>腾讯网</td>\n",
       "    </tr>\n",
       "    <tr>\n",
       "      <th>1</th>\n",
       "      <td>4</td>\n",
       "      <td>1</td>\n",
       "      <td>2387166</td>\n",
       "      <td>0</td>\n",
       "      <td>6.0</td>\n",
       "      <td>青云谱区</td>\n",
       "      <td>青云谱区</td>\n",
       "      <td>2</td>\n",
       "      <td>V1813BA</td>\n",
       "      <td>0.0</td>\n",
       "      <td>5</td>\n",
       "      <td>3.0</td>\n",
       "      <td>2</td>\n",
       "      <td>快手</td>\n",
       "      <td>微信</td>\n",
       "      <td>一点资讯OPPO版</td>\n",
       "    </tr>\n",
       "    <tr>\n",
       "      <th>2</th>\n",
       "      <td>8</td>\n",
       "      <td>1</td>\n",
       "      <td>2387170</td>\n",
       "      <td>0</td>\n",
       "      <td>5.0</td>\n",
       "      <td>南康县</td>\n",
       "      <td>南康县</td>\n",
       "      <td>3</td>\n",
       "      <td>POT-AL00A</td>\n",
       "      <td>1.0</td>\n",
       "      <td>5</td>\n",
       "      <td>3.0</td>\n",
       "      <td>4</td>\n",
       "      <td>抖音短视频</td>\n",
       "      <td>腾讯网</td>\n",
       "      <td>腾讯体育</td>\n",
       "    </tr>\n",
       "    <tr>\n",
       "      <th>3</th>\n",
       "      <td>9</td>\n",
       "      <td>1</td>\n",
       "      <td>2387171</td>\n",
       "      <td>0</td>\n",
       "      <td>7.0</td>\n",
       "      <td>修水县</td>\n",
       "      <td>修水县</td>\n",
       "      <td>1</td>\n",
       "      <td>M654</td>\n",
       "      <td>3.0</td>\n",
       "      <td>5</td>\n",
       "      <td>3.0</td>\n",
       "      <td>0</td>\n",
       "      <td>BitTorrent</td>\n",
       "      <td>视频文件识别</td>\n",
       "      <td>微信</td>\n",
       "    </tr>\n",
       "    <tr>\n",
       "      <th>4</th>\n",
       "      <td>11</td>\n",
       "      <td>1</td>\n",
       "      <td>2387173</td>\n",
       "      <td>0</td>\n",
       "      <td>7.0</td>\n",
       "      <td>东湖区</td>\n",
       "      <td>东湖区</td>\n",
       "      <td>2</td>\n",
       "      <td>RIO-UL00</td>\n",
       "      <td>0.0</td>\n",
       "      <td>5</td>\n",
       "      <td>3.0</td>\n",
       "      <td>1</td>\n",
       "      <td>微信</td>\n",
       "      <td>腾讯视频</td>\n",
       "      <td>腾讯网</td>\n",
       "    </tr>\n",
       "  </tbody>\n",
       "</table>\n",
       "</div>"
      ],
      "text/plain": [
       "   index  data_mon   row_id  reg_gender  reg_age day_county_name  \\\n",
       "0      1         1  2387163           0      6.0             昌东区   \n",
       "1      4         1  2387166           0      6.0            青云谱区   \n",
       "2      8         1  2387170           0      5.0             南康县   \n",
       "3      9         1  2387171           0      7.0             修水县   \n",
       "4     11         1  2387173           0      7.0             东湖区   \n",
       "\n",
       "  night_county_name  arpu tmnl_model  tmn_dur  user_online  user_class  dou  \\\n",
       "0               昌东区     2        A83      3.0            5         2.0    1   \n",
       "1              青云谱区     2    V1813BA      0.0            5         3.0    2   \n",
       "2               南康县     3  POT-AL00A      1.0            5         3.0    4   \n",
       "3               修水县     1       M654      3.0            5         3.0    0   \n",
       "4               东湖区     2   RIO-UL00      0.0            5         3.0    1   \n",
       "\n",
       "      app_top1 app_top2   app_top3  \n",
       "0  xiaoniangao     腾讯视频        腾讯网  \n",
       "1           快手       微信  一点资讯OPPO版  \n",
       "2        抖音短视频      腾讯网       腾讯体育  \n",
       "3   BitTorrent   视频文件识别         微信  \n",
       "4           微信     腾讯视频        腾讯网  "
      ]
     },
     "execution_count": 13,
     "metadata": {},
     "output_type": "execute_result"
    }
   ],
   "source": [
    "new_data = new_data.reset_index()\n",
    "#new_data.drop([], axis = 1)\n",
    "new_data.head()"
   ]
  },
  {
   "cell_type": "code",
   "execution_count": 14,
   "metadata": {
    "collapsed": false,
    "jupyter": {
     "outputs_hidden": false
    }
   },
   "outputs": [
    {
     "name": "stdout",
     "output_type": "stream",
     "text": [
      "area len: 5373018   app1 len: 5373018  app2 len: 5373018 app3 len: 5373018\n"
     ]
    },
    {
     "data": {
      "text/html": [
       "<div>\n",
       "<style scoped>\n",
       "    .dataframe tbody tr th:only-of-type {\n",
       "        vertical-align: middle;\n",
       "    }\n",
       "\n",
       "    .dataframe tbody tr th {\n",
       "        vertical-align: top;\n",
       "    }\n",
       "\n",
       "    .dataframe thead th {\n",
       "        text-align: right;\n",
       "    }\n",
       "</style>\n",
       "<table border=\"1\" class=\"dataframe\">\n",
       "  <thead>\n",
       "    <tr style=\"text-align: right;\">\n",
       "      <th></th>\n",
       "      <th>index</th>\n",
       "      <th>data_mon</th>\n",
       "      <th>row_id</th>\n",
       "      <th>reg_gender</th>\n",
       "      <th>reg_age</th>\n",
       "      <th>day_county_name</th>\n",
       "      <th>night_county_name</th>\n",
       "      <th>arpu</th>\n",
       "      <th>tmnl_model</th>\n",
       "      <th>tmn_dur</th>\n",
       "      <th>user_online</th>\n",
       "      <th>user_class</th>\n",
       "      <th>dou</th>\n",
       "      <th>app_top1</th>\n",
       "      <th>app_top2</th>\n",
       "      <th>app_top3</th>\n",
       "      <th>day_county_code</th>\n",
       "      <th>app_top1_code</th>\n",
       "      <th>app_top2_code</th>\n",
       "      <th>app_top3_code</th>\n",
       "    </tr>\n",
       "  </thead>\n",
       "  <tbody>\n",
       "    <tr>\n",
       "      <th>0</th>\n",
       "      <td>1</td>\n",
       "      <td>1</td>\n",
       "      <td>2387163</td>\n",
       "      <td>0</td>\n",
       "      <td>6.0</td>\n",
       "      <td>昌东区</td>\n",
       "      <td>昌东区</td>\n",
       "      <td>2</td>\n",
       "      <td>A83</td>\n",
       "      <td>3.0</td>\n",
       "      <td>5</td>\n",
       "      <td>2.0</td>\n",
       "      <td>1</td>\n",
       "      <td>xiaoniangao</td>\n",
       "      <td>腾讯视频</td>\n",
       "      <td>腾讯网</td>\n",
       "      <td>59</td>\n",
       "      <td>877</td>\n",
       "      <td>1130</td>\n",
       "      <td>2068</td>\n",
       "    </tr>\n",
       "    <tr>\n",
       "      <th>1</th>\n",
       "      <td>4</td>\n",
       "      <td>1</td>\n",
       "      <td>2387166</td>\n",
       "      <td>0</td>\n",
       "      <td>6.0</td>\n",
       "      <td>青云谱区</td>\n",
       "      <td>青云谱区</td>\n",
       "      <td>2</td>\n",
       "      <td>V1813BA</td>\n",
       "      <td>0.0</td>\n",
       "      <td>5</td>\n",
       "      <td>3.0</td>\n",
       "      <td>2</td>\n",
       "      <td>快手</td>\n",
       "      <td>微信</td>\n",
       "      <td>一点资讯OPPO版</td>\n",
       "      <td>98</td>\n",
       "      <td>109</td>\n",
       "      <td>1022</td>\n",
       "      <td>1998</td>\n",
       "    </tr>\n",
       "    <tr>\n",
       "      <th>2</th>\n",
       "      <td>8</td>\n",
       "      <td>1</td>\n",
       "      <td>2387170</td>\n",
       "      <td>0</td>\n",
       "      <td>5.0</td>\n",
       "      <td>南康县</td>\n",
       "      <td>南康县</td>\n",
       "      <td>3</td>\n",
       "      <td>POT-AL00A</td>\n",
       "      <td>1.0</td>\n",
       "      <td>5</td>\n",
       "      <td>3.0</td>\n",
       "      <td>4</td>\n",
       "      <td>抖音短视频</td>\n",
       "      <td>腾讯网</td>\n",
       "      <td>腾讯体育</td>\n",
       "      <td>29</td>\n",
       "      <td>2202</td>\n",
       "      <td>2068</td>\n",
       "      <td>774</td>\n",
       "    </tr>\n",
       "    <tr>\n",
       "      <th>3</th>\n",
       "      <td>9</td>\n",
       "      <td>1</td>\n",
       "      <td>2387171</td>\n",
       "      <td>0</td>\n",
       "      <td>7.0</td>\n",
       "      <td>修水县</td>\n",
       "      <td>修水县</td>\n",
       "      <td>1</td>\n",
       "      <td>M654</td>\n",
       "      <td>3.0</td>\n",
       "      <td>5</td>\n",
       "      <td>3.0</td>\n",
       "      <td>0</td>\n",
       "      <td>BitTorrent</td>\n",
       "      <td>视频文件识别</td>\n",
       "      <td>微信</td>\n",
       "      <td>21</td>\n",
       "      <td>883</td>\n",
       "      <td>985</td>\n",
       "      <td>1022</td>\n",
       "    </tr>\n",
       "    <tr>\n",
       "      <th>4</th>\n",
       "      <td>11</td>\n",
       "      <td>1</td>\n",
       "      <td>2387173</td>\n",
       "      <td>0</td>\n",
       "      <td>7.0</td>\n",
       "      <td>东湖区</td>\n",
       "      <td>东湖区</td>\n",
       "      <td>2</td>\n",
       "      <td>RIO-UL00</td>\n",
       "      <td>0.0</td>\n",
       "      <td>5</td>\n",
       "      <td>3.0</td>\n",
       "      <td>1</td>\n",
       "      <td>微信</td>\n",
       "      <td>腾讯视频</td>\n",
       "      <td>腾讯网</td>\n",
       "      <td>8</td>\n",
       "      <td>1022</td>\n",
       "      <td>1130</td>\n",
       "      <td>2068</td>\n",
       "    </tr>\n",
       "  </tbody>\n",
       "</table>\n",
       "</div>"
      ],
      "text/plain": [
       "   index  data_mon   row_id  reg_gender  reg_age day_county_name  \\\n",
       "0      1         1  2387163           0      6.0             昌东区   \n",
       "1      4         1  2387166           0      6.0            青云谱区   \n",
       "2      8         1  2387170           0      5.0             南康县   \n",
       "3      9         1  2387171           0      7.0             修水县   \n",
       "4     11         1  2387173           0      7.0             东湖区   \n",
       "\n",
       "  night_county_name  arpu tmnl_model  tmn_dur  user_online  user_class  dou  \\\n",
       "0               昌东区     2        A83      3.0            5         2.0    1   \n",
       "1              青云谱区     2    V1813BA      0.0            5         3.0    2   \n",
       "2               南康县     3  POT-AL00A      1.0            5         3.0    4   \n",
       "3               修水县     1       M654      3.0            5         3.0    0   \n",
       "4               东湖区     2   RIO-UL00      0.0            5         3.0    1   \n",
       "\n",
       "      app_top1 app_top2   app_top3  day_county_code  app_top1_code  \\\n",
       "0  xiaoniangao     腾讯视频        腾讯网               59            877   \n",
       "1           快手       微信  一点资讯OPPO版               98            109   \n",
       "2        抖音短视频      腾讯网       腾讯体育               29           2202   \n",
       "3   BitTorrent   视频文件识别         微信               21            883   \n",
       "4           微信     腾讯视频        腾讯网                8           1022   \n",
       "\n",
       "   app_top2_code  app_top3_code  \n",
       "0           1130           2068  \n",
       "1           1022           1998  \n",
       "2           2068            774  \n",
       "3            985           1022  \n",
       "4           1130           2068  "
      ]
     },
     "execution_count": 14,
     "metadata": {},
     "output_type": "execute_result"
    }
   ],
   "source": [
    "\n",
    "\n",
    "area_list = get_label(new_data, 'day_county_name')\n",
    "app_list = get_app_label(new_data)\n",
    "\n",
    "day_area = []\n",
    "new_app1 = []\n",
    "new_app2 = []\n",
    "new_app3 = []\n",
    "\n",
    "\n",
    "i = 0;\n",
    "for idx, area, app1, app2, app3 in zip(new_data.index, new_data['day_county_name'], new_data['app_top1'], new_data['app_top2'], new_data['app_top3']):\n",
    "    day_area.append(area_list.index(area))\n",
    "    new_app1.append(app_list.index(app1))\n",
    "    new_app2.append(app_list.index(app2))\n",
    "    new_app3.append(app_list.index(app3))\n",
    "    \n",
    "    \n",
    "print('area len: %d   app1 len: %d  app2 len: %d app3 len: %d' %(len(day_area), len(new_app1), len(new_app2), len(new_app3)))\n",
    "    \n",
    "temp_dict = {'day_county_code': day_area, 'app_top1_code':new_app1, 'app_top2_code': new_app2, 'app_top3_code': new_app3}\n",
    "\n",
    "pd_temp = pd.DataFrame(temp_dict)\n",
    "#pd_temp.head()\n",
    "temp = pd.concat([new_data, pd.DataFrame(temp_dict)], axis = 1, join = 'inner')\n",
    "temp.head()"
   ]
  },
  {
   "cell_type": "code",
   "execution_count": 15,
   "metadata": {},
   "outputs": [],
   "source": [
    "new_data = temp.drop(['index', 'data_mon','row_id', 'day_county_name', \n",
    "                          'night_county_name', 'tmnl_model', 'app_top1', 'app_top2', 'app_top3'], axis = 1)"
   ]
  },
  {
   "cell_type": "code",
   "execution_count": 16,
   "metadata": {
    "collapsed": false,
    "jupyter": {
     "outputs_hidden": false
    }
   },
   "outputs": [
    {
     "data": {
      "text/html": [
       "<div>\n",
       "<style scoped>\n",
       "    .dataframe tbody tr th:only-of-type {\n",
       "        vertical-align: middle;\n",
       "    }\n",
       "\n",
       "    .dataframe tbody tr th {\n",
       "        vertical-align: top;\n",
       "    }\n",
       "\n",
       "    .dataframe thead th {\n",
       "        text-align: right;\n",
       "    }\n",
       "</style>\n",
       "<table border=\"1\" class=\"dataframe\">\n",
       "  <thead>\n",
       "    <tr style=\"text-align: right;\">\n",
       "      <th></th>\n",
       "      <th>reg_gender</th>\n",
       "      <th>reg_age</th>\n",
       "      <th>arpu</th>\n",
       "      <th>tmn_dur</th>\n",
       "      <th>user_online</th>\n",
       "      <th>user_class</th>\n",
       "      <th>dou</th>\n",
       "      <th>day_county_code</th>\n",
       "      <th>app_top1_code</th>\n",
       "      <th>app_top2_code</th>\n",
       "      <th>app_top3_code</th>\n",
       "    </tr>\n",
       "  </thead>\n",
       "  <tbody>\n",
       "    <tr>\n",
       "      <th>0</th>\n",
       "      <td>0</td>\n",
       "      <td>6.0</td>\n",
       "      <td>2</td>\n",
       "      <td>3.0</td>\n",
       "      <td>5</td>\n",
       "      <td>2.0</td>\n",
       "      <td>1</td>\n",
       "      <td>59</td>\n",
       "      <td>877</td>\n",
       "      <td>1130</td>\n",
       "      <td>2068</td>\n",
       "    </tr>\n",
       "    <tr>\n",
       "      <th>1</th>\n",
       "      <td>0</td>\n",
       "      <td>6.0</td>\n",
       "      <td>2</td>\n",
       "      <td>0.0</td>\n",
       "      <td>5</td>\n",
       "      <td>3.0</td>\n",
       "      <td>2</td>\n",
       "      <td>98</td>\n",
       "      <td>109</td>\n",
       "      <td>1022</td>\n",
       "      <td>1998</td>\n",
       "    </tr>\n",
       "    <tr>\n",
       "      <th>2</th>\n",
       "      <td>0</td>\n",
       "      <td>5.0</td>\n",
       "      <td>3</td>\n",
       "      <td>1.0</td>\n",
       "      <td>5</td>\n",
       "      <td>3.0</td>\n",
       "      <td>4</td>\n",
       "      <td>29</td>\n",
       "      <td>2202</td>\n",
       "      <td>2068</td>\n",
       "      <td>774</td>\n",
       "    </tr>\n",
       "    <tr>\n",
       "      <th>3</th>\n",
       "      <td>0</td>\n",
       "      <td>7.0</td>\n",
       "      <td>1</td>\n",
       "      <td>3.0</td>\n",
       "      <td>5</td>\n",
       "      <td>3.0</td>\n",
       "      <td>0</td>\n",
       "      <td>21</td>\n",
       "      <td>883</td>\n",
       "      <td>985</td>\n",
       "      <td>1022</td>\n",
       "    </tr>\n",
       "    <tr>\n",
       "      <th>4</th>\n",
       "      <td>0</td>\n",
       "      <td>7.0</td>\n",
       "      <td>2</td>\n",
       "      <td>0.0</td>\n",
       "      <td>5</td>\n",
       "      <td>3.0</td>\n",
       "      <td>1</td>\n",
       "      <td>8</td>\n",
       "      <td>1022</td>\n",
       "      <td>1130</td>\n",
       "      <td>2068</td>\n",
       "    </tr>\n",
       "    <tr>\n",
       "      <th>5</th>\n",
       "      <td>0</td>\n",
       "      <td>6.0</td>\n",
       "      <td>2</td>\n",
       "      <td>0.0</td>\n",
       "      <td>5</td>\n",
       "      <td>2.0</td>\n",
       "      <td>4</td>\n",
       "      <td>79</td>\n",
       "      <td>2285</td>\n",
       "      <td>1457</td>\n",
       "      <td>2448</td>\n",
       "    </tr>\n",
       "    <tr>\n",
       "      <th>6</th>\n",
       "      <td>1</td>\n",
       "      <td>5.0</td>\n",
       "      <td>1</td>\n",
       "      <td>4.0</td>\n",
       "      <td>5</td>\n",
       "      <td>3.0</td>\n",
       "      <td>2</td>\n",
       "      <td>39</td>\n",
       "      <td>1022</td>\n",
       "      <td>1898</td>\n",
       "      <td>2068</td>\n",
       "    </tr>\n",
       "    <tr>\n",
       "      <th>7</th>\n",
       "      <td>0</td>\n",
       "      <td>5.0</td>\n",
       "      <td>1</td>\n",
       "      <td>0.0</td>\n",
       "      <td>5</td>\n",
       "      <td>3.0</td>\n",
       "      <td>0</td>\n",
       "      <td>42</td>\n",
       "      <td>1022</td>\n",
       "      <td>2068</td>\n",
       "      <td>930</td>\n",
       "    </tr>\n",
       "    <tr>\n",
       "      <th>8</th>\n",
       "      <td>0</td>\n",
       "      <td>5.0</td>\n",
       "      <td>1</td>\n",
       "      <td>2.0</td>\n",
       "      <td>5</td>\n",
       "      <td>3.0</td>\n",
       "      <td>4</td>\n",
       "      <td>42</td>\n",
       "      <td>2537</td>\n",
       "      <td>862</td>\n",
       "      <td>1534</td>\n",
       "    </tr>\n",
       "    <tr>\n",
       "      <th>9</th>\n",
       "      <td>1</td>\n",
       "      <td>5.0</td>\n",
       "      <td>2</td>\n",
       "      <td>4.0</td>\n",
       "      <td>5</td>\n",
       "      <td>4.0</td>\n",
       "      <td>5</td>\n",
       "      <td>100</td>\n",
       "      <td>2202</td>\n",
       "      <td>1518</td>\n",
       "      <td>93</td>\n",
       "    </tr>\n",
       "    <tr>\n",
       "      <th>10</th>\n",
       "      <td>0</td>\n",
       "      <td>7.0</td>\n",
       "      <td>1</td>\n",
       "      <td>1.0</td>\n",
       "      <td>5</td>\n",
       "      <td>3.0</td>\n",
       "      <td>2</td>\n",
       "      <td>51</td>\n",
       "      <td>1022</td>\n",
       "      <td>1130</td>\n",
       "      <td>1912</td>\n",
       "    </tr>\n",
       "    <tr>\n",
       "      <th>11</th>\n",
       "      <td>1</td>\n",
       "      <td>6.0</td>\n",
       "      <td>2</td>\n",
       "      <td>2.0</td>\n",
       "      <td>5</td>\n",
       "      <td>5.0</td>\n",
       "      <td>2</td>\n",
       "      <td>87</td>\n",
       "      <td>2202</td>\n",
       "      <td>422</td>\n",
       "      <td>408</td>\n",
       "    </tr>\n",
       "    <tr>\n",
       "      <th>12</th>\n",
       "      <td>0</td>\n",
       "      <td>7.0</td>\n",
       "      <td>1</td>\n",
       "      <td>0.0</td>\n",
       "      <td>5</td>\n",
       "      <td>3.0</td>\n",
       "      <td>0</td>\n",
       "      <td>81</td>\n",
       "      <td>982</td>\n",
       "      <td>2154</td>\n",
       "      <td>1536</td>\n",
       "    </tr>\n",
       "    <tr>\n",
       "      <th>13</th>\n",
       "      <td>0</td>\n",
       "      <td>6.0</td>\n",
       "      <td>2</td>\n",
       "      <td>0.0</td>\n",
       "      <td>5</td>\n",
       "      <td>3.0</td>\n",
       "      <td>2</td>\n",
       "      <td>24</td>\n",
       "      <td>2202</td>\n",
       "      <td>2537</td>\n",
       "      <td>275</td>\n",
       "    </tr>\n",
       "    <tr>\n",
       "      <th>14</th>\n",
       "      <td>1</td>\n",
       "      <td>5.0</td>\n",
       "      <td>1</td>\n",
       "      <td>3.0</td>\n",
       "      <td>5</td>\n",
       "      <td>3.0</td>\n",
       "      <td>2</td>\n",
       "      <td>86</td>\n",
       "      <td>2202</td>\n",
       "      <td>1534</td>\n",
       "      <td>2537</td>\n",
       "    </tr>\n",
       "    <tr>\n",
       "      <th>15</th>\n",
       "      <td>0</td>\n",
       "      <td>7.0</td>\n",
       "      <td>1</td>\n",
       "      <td>5.0</td>\n",
       "      <td>5</td>\n",
       "      <td>3.0</td>\n",
       "      <td>0</td>\n",
       "      <td>4</td>\n",
       "      <td>2370</td>\n",
       "      <td>985</td>\n",
       "      <td>408</td>\n",
       "    </tr>\n",
       "    <tr>\n",
       "      <th>16</th>\n",
       "      <td>1</td>\n",
       "      <td>6.0</td>\n",
       "      <td>1</td>\n",
       "      <td>3.0</td>\n",
       "      <td>5</td>\n",
       "      <td>2.0</td>\n",
       "      <td>2</td>\n",
       "      <td>65</td>\n",
       "      <td>1821</td>\n",
       "      <td>408</td>\n",
       "      <td>1022</td>\n",
       "    </tr>\n",
       "    <tr>\n",
       "      <th>17</th>\n",
       "      <td>1</td>\n",
       "      <td>6.0</td>\n",
       "      <td>0</td>\n",
       "      <td>0.0</td>\n",
       "      <td>5</td>\n",
       "      <td>2.0</td>\n",
       "      <td>2</td>\n",
       "      <td>29</td>\n",
       "      <td>764</td>\n",
       "      <td>1022</td>\n",
       "      <td>2194</td>\n",
       "    </tr>\n",
       "    <tr>\n",
       "      <th>18</th>\n",
       "      <td>0</td>\n",
       "      <td>7.0</td>\n",
       "      <td>1</td>\n",
       "      <td>2.0</td>\n",
       "      <td>5</td>\n",
       "      <td>3.0</td>\n",
       "      <td>2</td>\n",
       "      <td>29</td>\n",
       "      <td>1130</td>\n",
       "      <td>2537</td>\n",
       "      <td>2068</td>\n",
       "    </tr>\n",
       "    <tr>\n",
       "      <th>19</th>\n",
       "      <td>0</td>\n",
       "      <td>6.0</td>\n",
       "      <td>1</td>\n",
       "      <td>4.0</td>\n",
       "      <td>5</td>\n",
       "      <td>2.0</td>\n",
       "      <td>0</td>\n",
       "      <td>30</td>\n",
       "      <td>930</td>\n",
       "      <td>2370</td>\n",
       "      <td>95</td>\n",
       "    </tr>\n",
       "    <tr>\n",
       "      <th>20</th>\n",
       "      <td>0</td>\n",
       "      <td>5.0</td>\n",
       "      <td>1</td>\n",
       "      <td>2.0</td>\n",
       "      <td>5</td>\n",
       "      <td>3.0</td>\n",
       "      <td>2</td>\n",
       "      <td>16</td>\n",
       "      <td>2202</td>\n",
       "      <td>1534</td>\n",
       "      <td>985</td>\n",
       "    </tr>\n",
       "    <tr>\n",
       "      <th>21</th>\n",
       "      <td>1</td>\n",
       "      <td>6.0</td>\n",
       "      <td>1</td>\n",
       "      <td>2.0</td>\n",
       "      <td>5</td>\n",
       "      <td>3.0</td>\n",
       "      <td>0</td>\n",
       "      <td>42</td>\n",
       "      <td>976</td>\n",
       "      <td>985</td>\n",
       "      <td>730</td>\n",
       "    </tr>\n",
       "    <tr>\n",
       "      <th>22</th>\n",
       "      <td>0</td>\n",
       "      <td>7.0</td>\n",
       "      <td>0</td>\n",
       "      <td>3.0</td>\n",
       "      <td>5</td>\n",
       "      <td>2.0</td>\n",
       "      <td>0</td>\n",
       "      <td>4</td>\n",
       "      <td>1328</td>\n",
       "      <td>1436</td>\n",
       "      <td>930</td>\n",
       "    </tr>\n",
       "    <tr>\n",
       "      <th>23</th>\n",
       "      <td>0</td>\n",
       "      <td>5.0</td>\n",
       "      <td>2</td>\n",
       "      <td>1.0</td>\n",
       "      <td>5</td>\n",
       "      <td>3.0</td>\n",
       "      <td>5</td>\n",
       "      <td>90</td>\n",
       "      <td>2202</td>\n",
       "      <td>1534</td>\n",
       "      <td>1022</td>\n",
       "    </tr>\n",
       "    <tr>\n",
       "      <th>24</th>\n",
       "      <td>0</td>\n",
       "      <td>6.0</td>\n",
       "      <td>0</td>\n",
       "      <td>2.0</td>\n",
       "      <td>5</td>\n",
       "      <td>2.0</td>\n",
       "      <td>0</td>\n",
       "      <td>68</td>\n",
       "      <td>1022</td>\n",
       "      <td>2365</td>\n",
       "      <td>408</td>\n",
       "    </tr>\n",
       "    <tr>\n",
       "      <th>25</th>\n",
       "      <td>0</td>\n",
       "      <td>5.0</td>\n",
       "      <td>1</td>\n",
       "      <td>1.0</td>\n",
       "      <td>5</td>\n",
       "      <td>3.0</td>\n",
       "      <td>5</td>\n",
       "      <td>2</td>\n",
       "      <td>422</td>\n",
       "      <td>1022</td>\n",
       "      <td>2194</td>\n",
       "    </tr>\n",
       "    <tr>\n",
       "      <th>26</th>\n",
       "      <td>1</td>\n",
       "      <td>7.0</td>\n",
       "      <td>1</td>\n",
       "      <td>1.0</td>\n",
       "      <td>5</td>\n",
       "      <td>1.0</td>\n",
       "      <td>0</td>\n",
       "      <td>36</td>\n",
       "      <td>2370</td>\n",
       "      <td>2160</td>\n",
       "      <td>985</td>\n",
       "    </tr>\n",
       "    <tr>\n",
       "      <th>27</th>\n",
       "      <td>1</td>\n",
       "      <td>6.0</td>\n",
       "      <td>1</td>\n",
       "      <td>2.0</td>\n",
       "      <td>5</td>\n",
       "      <td>2.0</td>\n",
       "      <td>2</td>\n",
       "      <td>22</td>\n",
       "      <td>1022</td>\n",
       "      <td>2301</td>\n",
       "      <td>2068</td>\n",
       "    </tr>\n",
       "    <tr>\n",
       "      <th>28</th>\n",
       "      <td>1</td>\n",
       "      <td>6.0</td>\n",
       "      <td>1</td>\n",
       "      <td>3.0</td>\n",
       "      <td>5</td>\n",
       "      <td>1.0</td>\n",
       "      <td>1</td>\n",
       "      <td>42</td>\n",
       "      <td>1022</td>\n",
       "      <td>326</td>\n",
       "      <td>2068</td>\n",
       "    </tr>\n",
       "    <tr>\n",
       "      <th>29</th>\n",
       "      <td>0</td>\n",
       "      <td>5.0</td>\n",
       "      <td>3</td>\n",
       "      <td>5.0</td>\n",
       "      <td>5</td>\n",
       "      <td>3.0</td>\n",
       "      <td>4</td>\n",
       "      <td>104</td>\n",
       "      <td>408</td>\n",
       "      <td>109</td>\n",
       "      <td>2068</td>\n",
       "    </tr>\n",
       "  </tbody>\n",
       "</table>\n",
       "</div>"
      ],
      "text/plain": [
       "    reg_gender  reg_age  arpu  tmn_dur  user_online  user_class  dou  \\\n",
       "0            0      6.0     2      3.0            5         2.0    1   \n",
       "1            0      6.0     2      0.0            5         3.0    2   \n",
       "2            0      5.0     3      1.0            5         3.0    4   \n",
       "3            0      7.0     1      3.0            5         3.0    0   \n",
       "4            0      7.0     2      0.0            5         3.0    1   \n",
       "5            0      6.0     2      0.0            5         2.0    4   \n",
       "6            1      5.0     1      4.0            5         3.0    2   \n",
       "7            0      5.0     1      0.0            5         3.0    0   \n",
       "8            0      5.0     1      2.0            5         3.0    4   \n",
       "9            1      5.0     2      4.0            5         4.0    5   \n",
       "10           0      7.0     1      1.0            5         3.0    2   \n",
       "11           1      6.0     2      2.0            5         5.0    2   \n",
       "12           0      7.0     1      0.0            5         3.0    0   \n",
       "13           0      6.0     2      0.0            5         3.0    2   \n",
       "14           1      5.0     1      3.0            5         3.0    2   \n",
       "15           0      7.0     1      5.0            5         3.0    0   \n",
       "16           1      6.0     1      3.0            5         2.0    2   \n",
       "17           1      6.0     0      0.0            5         2.0    2   \n",
       "18           0      7.0     1      2.0            5         3.0    2   \n",
       "19           0      6.0     1      4.0            5         2.0    0   \n",
       "20           0      5.0     1      2.0            5         3.0    2   \n",
       "21           1      6.0     1      2.0            5         3.0    0   \n",
       "22           0      7.0     0      3.0            5         2.0    0   \n",
       "23           0      5.0     2      1.0            5         3.0    5   \n",
       "24           0      6.0     0      2.0            5         2.0    0   \n",
       "25           0      5.0     1      1.0            5         3.0    5   \n",
       "26           1      7.0     1      1.0            5         1.0    0   \n",
       "27           1      6.0     1      2.0            5         2.0    2   \n",
       "28           1      6.0     1      3.0            5         1.0    1   \n",
       "29           0      5.0     3      5.0            5         3.0    4   \n",
       "\n",
       "    day_county_code  app_top1_code  app_top2_code  app_top3_code  \n",
       "0                59            877           1130           2068  \n",
       "1                98            109           1022           1998  \n",
       "2                29           2202           2068            774  \n",
       "3                21            883            985           1022  \n",
       "4                 8           1022           1130           2068  \n",
       "5                79           2285           1457           2448  \n",
       "6                39           1022           1898           2068  \n",
       "7                42           1022           2068            930  \n",
       "8                42           2537            862           1534  \n",
       "9               100           2202           1518             93  \n",
       "10               51           1022           1130           1912  \n",
       "11               87           2202            422            408  \n",
       "12               81            982           2154           1536  \n",
       "13               24           2202           2537            275  \n",
       "14               86           2202           1534           2537  \n",
       "15                4           2370            985            408  \n",
       "16               65           1821            408           1022  \n",
       "17               29            764           1022           2194  \n",
       "18               29           1130           2537           2068  \n",
       "19               30            930           2370             95  \n",
       "20               16           2202           1534            985  \n",
       "21               42            976            985            730  \n",
       "22                4           1328           1436            930  \n",
       "23               90           2202           1534           1022  \n",
       "24               68           1022           2365            408  \n",
       "25                2            422           1022           2194  \n",
       "26               36           2370           2160            985  \n",
       "27               22           1022           2301           2068  \n",
       "28               42           1022            326           2068  \n",
       "29              104            408            109           2068  "
      ]
     },
     "execution_count": 16,
     "metadata": {},
     "output_type": "execute_result"
    }
   ],
   "source": [
    "new_data.head(30)"
   ]
  },
  {
   "cell_type": "markdown",
   "metadata": {},
   "source": [
    "### 数据分析"
   ]
  },
  {
   "cell_type": "code",
   "execution_count": 17,
   "metadata": {
    "collapsed": false,
    "jupyter": {
     "outputs_hidden": false
    }
   },
   "outputs": [],
   "source": [
    "import seaborn as sns\n",
    "import plotly.express as px"
   ]
  },
  {
   "cell_type": "code",
   "execution_count": 18,
   "metadata": {
    "collapsed": false,
    "jupyter": {
     "outputs_hidden": false
    }
   },
   "outputs": [
    {
     "data": {
      "image/png": "[encoded data removed]",
      "text/plain": [
       "<Figure size 1152x648 with 1 Axes>"
      ]
     },
     "metadata": {
      "needs_background": "light"
     },
     "output_type": "display_data"
    }
   ],
   "source": [
    "plt.figure(figsize=(16, 9))\n",
    "sns.countplot(new_data['user_class'])\n",
    "plt.title('count of user_class')\n",
    "plt.show()"
   ]
  },
  {
   "cell_type": "code",
   "execution_count": 19,
   "metadata": {
    "collapsed": false,
    "jupyter": {
     "outputs_hidden": false
    }
   },
   "outputs": [
    {
     "data": {
      "image/png": "[encoded data removed]",
      "text/plain": [
       "<Figure size 1152x648 with 1 Axes>"
      ]
     },
     "metadata": {
      "needs_background": "light"
     },
     "output_type": "display_data"
    }
   ],
   "source": [
    "plt.rcParams['figure.figsize'] = (16, 9)\n",
    "x = pd.crosstab(new_data['user_class'], new_data['reg_gender'])\n",
    "x.plot(kind = 'bar', stacked = False)\n",
    "plt.title('user_class vs reg_gender', fontweight = 30, fontsize = 20)\n",
    "plt.show()"
   ]
  },
  {
   "cell_type": "code",
   "execution_count": 20,
   "metadata": {
    "collapsed": false,
    "jupyter": {
     "outputs_hidden": false
    }
   },
   "outputs": [
    {
     "data": {
      "image/png": "[encoded data removed]",
      "text/plain": [
       "<Figure size 1152x648 with 1 Axes>"
      ]
     },
     "metadata": {
      "needs_background": "light"
     },
     "output_type": "display_data"
    }
   ],
   "source": [
    "plt.rcParams['figure.figsize'] = (16, 9)\n",
    "x = pd.crosstab(new_data['user_class'], new_data['reg_age'])\n",
    "x.plot(kind = 'bar', stacked = False)\n",
    "plt.title('user_class vs reg_age', fontweight = 30, fontsize = 20)\n",
    "plt.show()"
   ]
  },
  {
   "cell_type": "code",
   "execution_count": 21,
   "metadata": {
    "collapsed": false,
    "jupyter": {
     "outputs_hidden": false
    }
   },
   "outputs": [
    {
     "data": {
      "image/png": "[encoded data removed]",
      "text/plain": [
       "<Figure size 1152x648 with 1 Axes>"
      ]
     },
     "metadata": {
      "needs_background": "light"
     },
     "output_type": "display_data"
    }
   ],
   "source": [
    "plt.rcParams['figure.figsize'] = (16, 9)\n",
    "x = pd.crosstab(new_data['user_class'], new_data['arpu'])\n",
    "x.plot(kind = 'bar', stacked = False)\n",
    "plt.title('user_class vs arpu', fontweight = 30, fontsize = 20)\n",
    "plt.show()"
   ]
  },
  {
   "cell_type": "code",
   "execution_count": 22,
   "metadata": {
    "collapsed": false,
    "jupyter": {
     "outputs_hidden": false
    }
   },
   "outputs": [
    {
     "data": {
      "image/png": "[encoded data removed]",
      "text/plain": [
       "<Figure size 1152x648 with 1 Axes>"
      ]
     },
     "metadata": {
      "needs_background": "light"
     },
     "output_type": "display_data"
    }
   ],
   "source": [
    "plt.rcParams['figure.figsize'] = (16, 9)\n",
    "x = pd.crosstab(new_data['user_class'], new_data['tmn_dur'])\n",
    "x.plot(kind = 'bar', stacked = False)\n",
    "plt.title('user_class vs tmn_dur', fontweight = 30, fontsize = 20)\n",
    "plt.show()"
   ]
  },
  {
   "cell_type": "code",
   "execution_count": 23,
   "metadata": {
    "collapsed": false,
    "jupyter": {
     "outputs_hidden": false
    }
   },
   "outputs": [
    {
     "data": {
      "image/png": "[encoded data removed]",
      "text/plain": [
       "<Figure size 1152x648 with 1 Axes>"
      ]
     },
     "metadata": {
      "needs_background": "light"
     },
     "output_type": "display_data"
    }
   ],
   "source": [
    "plt.rcParams['figure.figsize'] = (16, 9)\n",
    "x = pd.crosstab(new_data['user_class'], new_data['user_online'])\n",
    "x.plot(kind = 'bar', stacked = False)\n",
    "plt.title('user_class vs user_online', fontweight = 30, fontsize = 20)\n",
    "plt.show()"
   ]
  },
  {
   "cell_type": "code",
   "execution_count": 24,
   "metadata": {
    "collapsed": false,
    "jupyter": {
     "outputs_hidden": false
    }
   },
   "outputs": [
    {
     "data": {
      "image/png": "[encoded data removed]",
      "text/plain": [
       "<Figure size 1152x648 with 1 Axes>"
      ]
     },
     "metadata": {
      "needs_background": "light"
     },
     "output_type": "display_data"
    }
   ],
   "source": [
    "plt.rcParams['figure.figsize'] = (16, 9)\n",
    "x = pd.crosstab(new_data['user_class'], new_data['dou'])\n",
    "x.plot(kind = 'bar', stacked = False)\n",
    "plt.title('user_class vs dou', fontweight = 30, fontsize = 20)\n",
    "plt.show()"
   ]
  },
  {
   "cell_type": "code",
   "execution_count": 25,
   "metadata": {},
   "outputs": [],
   "source": [
    "temp_df = new_data.groupby(['app_top1_code'], as_index = False)['reg_gender'].count()\n",
    "temp_df = temp_df.sort_values(by = 'reg_gender', ascending = False)\n",
    "temp_df.head(10)\n",
    "temp_df = temp_df[:10]\n"
   ]
  },
  {
   "cell_type": "code",
   "execution_count": 26,
   "metadata": {},
   "outputs": [],
   "source": [
    "temp_app_code = temp_df['app_top1_code']\n",
    "temp_app = temp_app_code.apply(lambda x: app_list[x])"
   ]
  },
  {
   "cell_type": "code",
   "execution_count": 27,
   "metadata": {
    "collapsed": false,
    "jupyter": {
     "outputs_hidden": false
    }
   },
   "outputs": [
    {
     "data": {
      "image/png": "[encoded data removed]",
      "text/plain": [
       "<Figure size 1080x576 with 1 Axes>"
      ]
     },
     "metadata": {
      "needs_background": "light"
     },
     "output_type": "display_data"
    }
   ],
   "source": [
    "plt.rcParams['font.sans-serif']=['SimHei']\n",
    "plt.rcParams['axes.unicode_minus'] = False\n",
    "fig = plt.figure(figsize=(15, 8))\n",
    "x = temp_app.tolist()\n",
    "y = temp_df['reg_gender'].tolist()\n",
    "plt.bar(x, y, align=\"center\",label=\"top1_app\",alpha=0.5)\n",
    "plt.title('top 10 of top_app1')\n",
    "plt.xlabel(\"app名称\")\n",
    "plt.ylabel(\"使用人量\")\n",
    "plt.show()"
   ]
  },
  {
   "cell_type": "code",
   "execution_count": null,
   "metadata": {
    "collapsed": true,
    "jupyter": {
     "outputs_hidden": true
    }
   },
   "outputs": [],
   "source": []
  },
  {
   "cell_type": "code",
   "execution_count": 28,
   "metadata": {},
   "outputs": [],
   "source": [
    "temp_df = new_data.groupby(['app_top2_code'], as_index = False)['reg_gender'].count()\n",
    "temp_df = temp_df.sort_values(by = 'reg_gender', ascending = False)\n",
    "temp_df.head(10)\n",
    "temp_df = temp_df[:10]\n",
    "\n",
    "temp_app_code2 = temp_df['app_top2_code']\n",
    "temp_app2 = temp_app_code2.apply(lambda x: app_list[x])"
   ]
  },
  {
   "cell_type": "code",
   "execution_count": 29,
   "metadata": {
    "collapsed": false,
    "jupyter": {
     "outputs_hidden": false
    }
   },
   "outputs": [
    {
     "data": {
      "image/png": "[encoded data removed]",
      "text/plain": [
       "<Figure size 1080x576 with 1 Axes>"
      ]
     },
     "metadata": {
      "needs_background": "light"
     },
     "output_type": "display_data"
    }
   ],
   "source": [
    "fig = plt.figure(figsize=(15, 8))\n",
    "x = temp_app2.to_list()\n",
    "y = temp_df['reg_gender'].to_list()\n",
    "plt.bar(x, y, align=\"center\",label=\"top1_app\",alpha=0.5)\n",
    "plt.title('top 10 of top_app2')\n",
    "plt.xlabel(\"app名称\")\n",
    "plt.ylabel(\"使用人量\")\n",
    "plt.show()"
   ]
  },
  {
   "cell_type": "code",
   "execution_count": 30,
   "metadata": {
    "collapsed": false,
    "jupyter": {
     "outputs_hidden": false
    }
   },
   "outputs": [
    {
     "data": {
      "image/png": "[encoded data removed]",
      "text/plain": [
       "<Figure size 1080x576 with 1 Axes>"
      ]
     },
     "metadata": {
      "needs_background": "light"
     },
     "output_type": "display_data"
    }
   ],
   "source": [
    "temp_df = new_data.groupby(['app_top3_code'], as_index = False)['reg_gender'].count()\n",
    "temp_df = temp_df.sort_values(by = 'reg_gender', ascending = False)\n",
    "temp_df.head(10)\n",
    "temp_df = temp_df[:10]\n",
    "\n",
    "temp_app_code3 = temp_df['app_top3_code']\n",
    "temp_app3 = temp_app_code3.apply(lambda x: app_list[x])\n",
    "fig = plt.figure(figsize=(15, 8))\n",
    "\n",
    "x = temp_app3.to_list()\n",
    "y = temp_df['reg_gender'].to_list()\n",
    "plt.bar(x, y, align=\"center\",label=\"top1_app\",alpha=0.5)\n",
    "plt.title('top 10 of top_app3')\n",
    "plt.xlabel(\"app名称\")\n",
    "plt.ylabel(\"使用人量\")\n",
    "plt.show()"
   ]
  },
  {
   "cell_type": "markdown",
   "metadata": {},
   "source": [
    "### 预测模型"
   ]
  },
  {
   "cell_type": "code",
   "execution_count": 31,
   "metadata": {
    "collapsed": false,
    "jupyter": {
     "outputs_hidden": false
    }
   },
   "outputs": [
    {
     "data": {
      "text/plain": [
       "(5373018, 10)"
      ]
     },
     "execution_count": 31,
     "metadata": {},
     "output_type": "execute_result"
    }
   ],
   "source": [
    "y = new_data['user_class'].values\n",
    "x = new_data.drop(['user_class'], axis = 1).values\n",
    "x.shape"
   ]
  },
  {
   "cell_type": "code",
   "execution_count": 32,
   "metadata": {
    "collapsed": false,
    "jupyter": {
     "outputs_hidden": false
    }
   },
   "outputs": [
    {
     "data": {
      "text/plain": [
       "(5373018,)"
      ]
     },
     "execution_count": 32,
     "metadata": {},
     "output_type": "execute_result"
    }
   ],
   "source": [
    "y.shape"
   ]
  },
  {
   "cell_type": "code",
   "execution_count": 33,
   "metadata": {},
   "outputs": [],
   "source": [
    "from sklearn.preprocessing import MinMaxScaler\n",
    "from sklearn.model_selection import train_test_split"
   ]
  },
  {
   "cell_type": "code",
   "execution_count": 34,
   "metadata": {},
   "outputs": [],
   "source": [
    "train_x, test_x, train_y, test_y = train_test_split(x, y, test_size = 0.2, random_state = 666)"
   ]
  },
  {
   "cell_type": "code",
   "execution_count": 35,
   "metadata": {
    "collapsed": false,
    "jupyter": {
     "outputs_hidden": false
    }
   },
   "outputs": [
    {
     "data": {
      "text/plain": [
       "(4298414, 10)"
      ]
     },
     "execution_count": 35,
     "metadata": {},
     "output_type": "execute_result"
    }
   ],
   "source": [
    "train_x.shape"
   ]
  },
  {
   "cell_type": "code",
   "execution_count": 36,
   "metadata": {
    "collapsed": false,
    "jupyter": {
     "outputs_hidden": false
    }
   },
   "outputs": [
    {
     "data": {
      "text/plain": [
       "(1074604, 10)"
      ]
     },
     "execution_count": 36,
     "metadata": {},
     "output_type": "execute_result"
    }
   ],
   "source": [
    "test_x.shape"
   ]
  },
  {
   "cell_type": "code",
   "execution_count": 37,
   "metadata": {
    "collapsed": false,
    "jupyter": {
     "outputs_hidden": false
    }
   },
   "outputs": [
    {
     "data": {
      "text/plain": [
       "(4298414,)"
      ]
     },
     "execution_count": 37,
     "metadata": {},
     "output_type": "execute_result"
    }
   ],
   "source": [
    "train_y.shape"
   ]
  },
  {
   "cell_type": "code",
   "execution_count": 38,
   "metadata": {},
   "outputs": [],
   "source": [
    "scaler = MinMaxScaler()"
   ]
  },
  {
   "cell_type": "code",
   "execution_count": 39,
   "metadata": {},
   "outputs": [],
   "source": [
    "scaler_train_x = scaler.fit_transform(train_x)\n",
    "scaler_test_x = scaler.fit(test_x)"
   ]
  },
  {
   "cell_type": "code",
   "execution_count": 40,
   "metadata": {},
   "outputs": [],
   "source": [
    "from sklearn.linear_model import LogisticRegression\n",
    "from sklearn.neighbors import KNeighborsClassifier\n",
    "from sklearn.naive_bayes import GaussianNB\n",
    "from sklearn.tree import DecisionTreeClassifier\n",
    "from sklearn.ensemble import RandomForestClassifier\n",
    "from xgboost import XGBClassifier\n",
    "from sklearn.model_selection import cross_val_score"
   ]
  },
  {
   "cell_type": "code",
   "execution_count": 41,
   "metadata": {
    "collapsed": false,
    "jupyter": {
     "outputs_hidden": false
    }
   },
   "outputs": [
    {
     "name": "stdout",
     "output_type": "stream",
     "text": [
      "\n",
      "\n",
      "LogisticRegression(C=1.0, class_weight=None, dual=False, fit_intercept=True,\n",
      "                   intercept_scaling=1, l1_ratio=None, max_iter=3000,\n",
      "                   multi_class='auto', n_jobs=None, penalty='l2',\n",
      "                   random_state=None, solver='lbfgs', tol=0.0001, verbose=0,\n",
      "                   warm_start=False)\n",
      "[0.64326153 0.64261361 0.64308588 0.64375241 0.64261204]\n",
      "0.6430650932057598\n",
      "\n",
      "\n",
      "DecisionTreeClassifier(ccp_alpha=0.0, class_weight=None, criterion='gini',\n",
      "                       max_depth=None, max_features=None, max_leaf_nodes=None,\n",
      "                       min_impurity_decrease=0.0, min_impurity_split=None,\n",
      "                       min_samples_leaf=1, min_samples_split=2,\n",
      "                       min_weight_fraction_leaf=0.0, presort='deprecated',\n",
      "                       random_state=None, splitter='best')\n",
      "[0.55143931 0.55129507 0.55114269 0.55109616 0.55088393]\n",
      "0.5511714320008495\n",
      "\n",
      "\n",
      "RandomForestClassifier(bootstrap=True, ccp_alpha=0.0, class_weight=None,\n",
      "                       criterion='gini', max_depth=None, max_features='auto',\n",
      "                       max_leaf_nodes=None, max_samples=None,\n",
      "                       min_impurity_decrease=0.0, min_impurity_split=None,\n",
      "                       min_samples_leaf=1, min_samples_split=2,\n",
      "                       min_weight_fraction_leaf=0.0, n_estimators=100,\n",
      "                       n_jobs=None, oob_score=False, random_state=666,\n",
      "                       verbose=0, warm_start=False)\n",
      "[0.61634928 0.61655982 0.61749389 0.61785216 0.61637792]\n",
      "0.6169266151309067\n",
      "\n",
      "\n",
      "XGBClassifier(base_score=None, booster=None, colsample_bylevel=None,\n",
      "              colsample_bynode=None, colsample_bytree=None, gamma=None,\n",
      "              gpu_id=None, importance_type='gain', interaction_constraints=None,\n",
      "              learning_rate=None, max_delta_step=None, max_depth=None,\n",
      "              min_child_weight=None, missing=nan, monotone_constraints=None,\n",
      "              n_estimators=100, n_jobs=None, num_parallel_tree=None,\n",
      "              objective='binary:logistic', random_state=666, reg_alpha=None,\n",
      "              reg_lambda=None, scale_pos_weight=None, subsample=None,\n",
      "              tree_method=None, validate_parameters=None, verbosity=None)\n",
      "[0.65455057 0.65430513 0.65442262 0.65525432 0.65365798]\n",
      "0.6544381251363539\n"
     ]
    }
   ],
   "source": [
    "### 逻辑回归\n",
    "logic = LogisticRegression(max_iter= 3000)\n",
    "### KNN\n",
    "# knn = KNeighborsClassifier()\n",
    "### 决策树\n",
    "dt = DecisionTreeClassifier()\n",
    "### 随机森林\n",
    "rf = RandomForestClassifier(random_state=666)\n",
    "### xgb\n",
    "xgb = XGBClassifier(random_state = 666)\n",
    "\n",
    "model_list = [logic, dt, rf, xgb]\n",
    "for model in model_list:\n",
    "    print('\\n')\n",
    "    print(model)\n",
    "    cv = cross_val_score(model, scaler_train_x, train_y, cv = 5)  ## 交差验证 分成5分\n",
    "    print(cv)\n",
    "    print(cv.mean())\n"
   ]
  },
  {
   "cell_type": "code",
   "execution_count": null,
   "metadata": {
    "collapsed": true,
    "jupyter": {
     "outputs_hidden": true
    }
   },
   "outputs": [],
   "source": []
  },
  {
   "cell_type": "code",
   "execution_count": 42,
   "metadata": {},
   "outputs": [
    {
     "name": "stderr",
     "output_type": "stream",
     "text": [
      "Using TensorFlow backend.\n",
      "d:\\anaconda3\\lib\\site-packages\\tensorflow\\python\\framework\\dtypes.py:516: FutureWarning: Passing (type, 1) or '1type' as a synonym of type is deprecated; in a future version of numpy, it will be understood as (type, (1,)) / '(1,)type'.\n",
      "  _np_qint8 = np.dtype([(\"qint8\", np.int8, 1)])\n",
      "d:\\anaconda3\\lib\\site-packages\\tensorflow\\python\\framework\\dtypes.py:517: FutureWarning: Passing (type, 1) or '1type' as a synonym of type is deprecated; in a future version of numpy, it will be understood as (type, (1,)) / '(1,)type'.\n",
      "  _np_quint8 = np.dtype([(\"quint8\", np.uint8, 1)])\n",
      "d:\\anaconda3\\lib\\site-packages\\tensorflow\\python\\framework\\dtypes.py:518: FutureWarning: Passing (type, 1) or '1type' as a synonym of type is deprecated; in a future version of numpy, it will be understood as (type, (1,)) / '(1,)type'.\n",
      "  _np_qint16 = np.dtype([(\"qint16\", np.int16, 1)])\n",
      "d:\\anaconda3\\lib\\site-packages\\tensorflow\\python\\framework\\dtypes.py:519: FutureWarning: Passing (type, 1) or '1type' as a synonym of type is deprecated; in a future version of numpy, it will be understood as (type, (1,)) / '(1,)type'.\n",
      "  _np_quint16 = np.dtype([(\"quint16\", np.uint16, 1)])\n",
      "d:\\anaconda3\\lib\\site-packages\\tensorflow\\python\\framework\\dtypes.py:520: FutureWarning: Passing (type, 1) or '1type' as a synonym of type is deprecated; in a future version of numpy, it will be understood as (type, (1,)) / '(1,)type'.\n",
      "  _np_qint32 = np.dtype([(\"qint32\", np.int32, 1)])\n",
      "d:\\anaconda3\\lib\\site-packages\\tensorflow\\python\\framework\\dtypes.py:525: FutureWarning: Passing (type, 1) or '1type' as a synonym of type is deprecated; in a future version of numpy, it will be understood as (type, (1,)) / '(1,)type'.\n",
      "  np_resource = np.dtype([(\"resource\", np.ubyte, 1)])\n",
      "d:\\anaconda3\\lib\\site-packages\\tensorboard\\compat\\tensorflow_stub\\dtypes.py:541: FutureWarning: Passing (type, 1) or '1type' as a synonym of type is deprecated; in a future version of numpy, it will be understood as (type, (1,)) / '(1,)type'.\n",
      "  _np_qint8 = np.dtype([(\"qint8\", np.int8, 1)])\n",
      "d:\\anaconda3\\lib\\site-packages\\tensorboard\\compat\\tensorflow_stub\\dtypes.py:542: FutureWarning: Passing (type, 1) or '1type' as a synonym of type is deprecated; in a future version of numpy, it will be understood as (type, (1,)) / '(1,)type'.\n",
      "  _np_quint8 = np.dtype([(\"quint8\", np.uint8, 1)])\n",
      "d:\\anaconda3\\lib\\site-packages\\tensorboard\\compat\\tensorflow_stub\\dtypes.py:543: FutureWarning: Passing (type, 1) or '1type' as a synonym of type is deprecated; in a future version of numpy, it will be understood as (type, (1,)) / '(1,)type'.\n",
      "  _np_qint16 = np.dtype([(\"qint16\", np.int16, 1)])\n",
      "d:\\anaconda3\\lib\\site-packages\\tensorboard\\compat\\tensorflow_stub\\dtypes.py:544: FutureWarning: Passing (type, 1) or '1type' as a synonym of type is deprecated; in a future version of numpy, it will be understood as (type, (1,)) / '(1,)type'.\n",
      "  _np_quint16 = np.dtype([(\"quint16\", np.uint16, 1)])\n",
      "d:\\anaconda3\\lib\\site-packages\\tensorboard\\compat\\tensorflow_stub\\dtypes.py:545: FutureWarning: Passing (type, 1) or '1type' as a synonym of type is deprecated; in a future version of numpy, it will be understood as (type, (1,)) / '(1,)type'.\n",
      "  _np_qint32 = np.dtype([(\"qint32\", np.int32, 1)])\n",
      "d:\\anaconda3\\lib\\site-packages\\tensorboard\\compat\\tensorflow_stub\\dtypes.py:550: FutureWarning: Passing (type, 1) or '1type' as a synonym of type is deprecated; in a future version of numpy, it will be understood as (type, (1,)) / '(1,)type'.\n",
      "  np_resource = np.dtype([(\"resource\", np.ubyte, 1)])\n"
     ]
    }
   ],
   "source": [
    "import keras\n",
    "from keras.models import Sequential\n",
    "from keras.layers import Dense,Activation"
   ]
  },
  {
   "cell_type": "code",
   "execution_count": 58,
   "metadata": {},
   "outputs": [],
   "source": [
    "onehot_train_y = keras.utils.to_categorical(train_y, num_classes=6)\n",
    "onehot_test_y = keras.utils.to_categorical(test_y, num_classes=6)"
   ]
  },
  {
   "cell_type": "code",
   "execution_count": 59,
   "metadata": {},
   "outputs": [],
   "source": [
    "train_x = np.reshape(train_x, (train_x.shape[0], train_x.shape[1]))\n",
    "test_x = np.reshape(test_x, (test_x.shape[0], test_x.shape[1]))"
   ]
  },
  {
   "cell_type": "code",
   "execution_count": 66,
   "metadata": {},
   "outputs": [
    {
     "name": "stdout",
     "output_type": "stream",
     "text": [
      "Model: \"sequential_6\"\n",
      "_________________________________________________________________\n",
      "Layer (type)                 Output Shape              Param #   \n",
      "=================================================================\n",
      "dense_22 (Dense)             (None, 12)                132       \n",
      "_________________________________________________________________\n",
      "dense_23 (Dense)             (None, 8)                 104       \n",
      "_________________________________________________________________\n",
      "dense_24 (Dense)             (None, 6)                 54        \n",
      "_________________________________________________________________\n",
      "activation_5 (Activation)    (None, 6)                 0         \n",
      "=================================================================\n",
      "Total params: 290\n",
      "Trainable params: 290\n",
      "Non-trainable params: 0\n",
      "_________________________________________________________________\n"
     ]
    }
   ],
   "source": [
    "model  = Sequential()\n",
    "model.add(Dense(12, input_dim = 10, activation = 'relu')) \n",
    "model.add(Dense(8, activation = 'relu')) \n",
    "model.add(Dense(6)) \n",
    "model.add(Activation('softmax'))\n",
    "model.summary()\n"
   ]
  },
  {
   "cell_type": "code",
   "execution_count": 67,
   "metadata": {},
   "outputs": [
    {
     "name": "stdout",
     "output_type": "stream",
     "text": [
      "Train on 4298414 samples, validate on 1074604 samples\n",
      "Epoch 1/25\n",
      "4298414/4298414 [==============================] - 29s 7us/step - loss: 2.0095 - accuracy: 0.4925 - val_loss: 1.0796 - val_accuracy: 0.5820\n",
      "Epoch 2/25\n",
      "4298414/4298414 [==============================] - 29s 7us/step - loss: 0.9848 - accuracy: 0.5948 - val_loss: 1.2439 - val_accuracy: 0.4732\n",
      "Epoch 3/25\n",
      "4298414/4298414 [==============================] - 29s 7us/step - loss: 0.9356 - accuracy: 0.6086 - val_loss: 1.0378 - val_accuracy: 0.5919\n",
      "Epoch 4/25\n",
      "4298414/4298414 [==============================] - 29s 7us/step - loss: 0.9046 - accuracy: 0.6194 - val_loss: 1.0636 - val_accuracy: 0.5687\n",
      "Epoch 5/25\n",
      "4298414/4298414 [==============================] - 29s 7us/step - loss: 0.8865 - accuracy: 0.6264 - val_loss: 0.9731 - val_accuracy: 0.6016\n",
      "Epoch 6/25\n",
      "4298414/4298414 [==============================] - 29s 7us/step - loss: 0.8813 - accuracy: 0.6302 - val_loss: 0.8679 - val_accuracy: 0.6372\n",
      "Epoch 7/25\n",
      "4298414/4298414 [==============================] - 30s 7us/step - loss: 0.8756 - accuracy: 0.6327 - val_loss: 0.8647 - val_accuracy: 0.6312\n",
      "Epoch 8/25\n",
      "4298414/4298414 [==============================] - 30s 7us/step - loss: 0.8734 - accuracy: 0.6334 - val_loss: 0.8624 - val_accuracy: 0.6364\n",
      "Epoch 9/25\n",
      "4298414/4298414 [==============================] - 30s 7us/step - loss: 0.8721 - accuracy: 0.6342 - val_loss: 0.8670 - val_accuracy: 0.6327\n",
      "Epoch 10/25\n",
      "4298414/4298414 [==============================] - 30s 7us/step - loss: 0.8695 - accuracy: 0.6354 - val_loss: 0.8654 - val_accuracy: 0.6387\n",
      "Epoch 11/25\n",
      "4298414/4298414 [==============================] - 30s 7us/step - loss: 0.8680 - accuracy: 0.6361 - val_loss: 0.8805 - val_accuracy: 0.6353\n",
      "Epoch 12/25\n",
      "4298414/4298414 [==============================] - 30s 7us/step - loss: 0.8674 - accuracy: 0.6363 - val_loss: 0.8598 - val_accuracy: 0.6420\n",
      "Epoch 13/25\n",
      "4298414/4298414 [==============================] - 30s 7us/step - loss: 0.8654 - accuracy: 0.6373 - val_loss: 0.8547 - val_accuracy: 0.6415\n",
      "Epoch 14/25\n",
      "4298414/4298414 [==============================] - 30s 7us/step - loss: 0.8647 - accuracy: 0.6376 - val_loss: 0.8582 - val_accuracy: 0.6420\n",
      "Epoch 15/25\n",
      "4298414/4298414 [==============================] - 31s 7us/step - loss: 0.8640 - accuracy: 0.6377 - val_loss: 0.8662 - val_accuracy: 0.6359\n",
      "Epoch 16/25\n",
      "4298414/4298414 [==============================] - 31s 7us/step - loss: 0.8638 - accuracy: 0.6380 - val_loss: 0.8731 - val_accuracy: 0.6355\n",
      "Epoch 17/25\n",
      "4298414/4298414 [==============================] - 31s 7us/step - loss: 0.8628 - accuracy: 0.6384 - val_loss: 0.8652 - val_accuracy: 0.6355\n",
      "Epoch 18/25\n",
      "4298414/4298414 [==============================] - 31s 7us/step - loss: 0.8631 - accuracy: 0.6387 - val_loss: 0.8606 - val_accuracy: 0.6408\n",
      "Epoch 19/25\n",
      "4298414/4298414 [==============================] - 31s 7us/step - loss: 0.8628 - accuracy: 0.6391 - val_loss: 0.8605 - val_accuracy: 0.6421\n",
      "Epoch 20/25\n",
      "4298414/4298414 [==============================] - 31s 7us/step - loss: 0.8624 - accuracy: 0.6392 - val_loss: 0.8569 - val_accuracy: 0.6441\n",
      "Epoch 21/25\n",
      "4298414/4298414 [==============================] - 31s 7us/step - loss: 0.8623 - accuracy: 0.6393 - val_loss: 0.8715 - val_accuracy: 0.6337\n",
      "Epoch 22/25\n",
      "4298414/4298414 [==============================] - 31s 7us/step - loss: 0.8587 - accuracy: 0.6410 - val_loss: 0.8525 - val_accuracy: 0.6436\n",
      "Epoch 23/25\n",
      "4298414/4298414 [==============================] - 32s 7us/step - loss: 0.8568 - accuracy: 0.6412 - val_loss: 0.8500 - val_accuracy: 0.6434\n",
      "Epoch 24/25\n",
      "4298414/4298414 [==============================] - 31s 7us/step - loss: 0.8557 - accuracy: 0.6416 - val_loss: 0.8772 - val_accuracy: 0.6286\n",
      "Epoch 25/25\n",
      "4298414/4298414 [==============================] - 31s 7us/step - loss: 0.8542 - accuracy: 0.6423 - val_loss: 0.8503 - val_accuracy: 0.6435\n"
     ]
    }
   ],
   "source": [
    "model.compile(loss = 'categorical_crossentropy', optimizer = 'adam', metrics = ['accuracy'])  # 编译模型， \n",
    "history = model.fit(train_x, onehot_train_y, epochs = 25, batch_size=200, verbose=1, validation_data=(test_x, onehot_test_y), workers=-1)"
   ]
  },
  {
   "cell_type": "code",
   "execution_count": 70,
   "metadata": {},
   "outputs": [
    {
     "data": {
      "image/png": "[encoded data removed]",
      "text/plain": [
       "<Figure size 1440x720 with 2 Axes>"
      ]
     },
     "metadata": {
      "needs_background": "light"
     },
     "output_type": "display_data"
    }
   ],
   "source": [
    "epochs = [i for i in range(25)]\n",
    "fig , ax = plt.subplots(1,2)\n",
    "train_acc = history.history['accuracy']\n",
    "train_loss = history.history['loss']\n",
    "val_acc = history.history['val_accuracy']\n",
    "val_loss = history.history['val_loss']\n",
    "fig.set_size_inches(20,10)\n",
    "\n",
    "ax[0].plot(epochs , train_acc , 'go-' , label = 'Training Accuracy')\n",
    "ax[0].plot(epochs , val_acc , 'ro-' , label = 'Validation Accuracy')\n",
    "ax[0].set_title('Training & Validation Accuracy')\n",
    "ax[0].legend()\n",
    "ax[0].set_xlabel(\"Epochs\")\n",
    "ax[0].set_ylabel(\"Accuracy\")\n",
    "\n",
    "ax[1].plot(epochs , train_loss , 'g-o' , label = 'Training Loss')\n",
    "ax[1].plot(epochs , val_loss , 'r-o' , label = 'Validation Loss')\n",
    "ax[1].set_title('Testing Accuracy & Loss')\n",
    "ax[1].legend()\n",
    "ax[1].set_xlabel(\"Epochs\")\n",
    "ax[1].set_ylabel(\"Training & Validation Loss\")\n",
    "plt.show()"
   ]
  },
  {
   "cell_type": "code",
   "execution_count": null,
   "metadata": {},
   "outputs": [],
   "source": []
  },
  {
   "cell_type": "code",
   "execution_count": 47,
   "metadata": {},
   "outputs": [],
   "source": [
    "train_x = np.reshape(train_x, (train_x.shape[0], train_x.shape[1], 1))\n",
    "test_x = np.reshape(test_x, (test_x.shape[0], test_x.shape[1], 1))"
   ]
  },
  {
   "cell_type": "code",
   "execution_count": 48,
   "metadata": {},
   "outputs": [
    {
     "data": {
      "text/plain": [
       "(4298414, 10, 1)"
      ]
     },
     "execution_count": 48,
     "metadata": {},
     "output_type": "execute_result"
    }
   ],
   "source": [
    "train_x.shape"
   ]
  },
  {
   "cell_type": "code",
   "execution_count": 49,
   "metadata": {},
   "outputs": [
    {
     "data": {
      "text/plain": [
       "(1074604, 10, 1)"
      ]
     },
     "execution_count": 49,
     "metadata": {},
     "output_type": "execute_result"
    }
   ],
   "source": [
    "test_x.shape"
   ]
  },
  {
   "cell_type": "code",
   "execution_count": 50,
   "metadata": {},
   "outputs": [],
   "source": [
    "from keras.layers import Dense, SimpleRNN, Dropout"
   ]
  },
  {
   "cell_type": "code",
   "execution_count": 51,
   "metadata": {},
   "outputs": [
    {
     "name": "stdout",
     "output_type": "stream",
     "text": [
      "Model: \"sequential_2\"\n",
      "_________________________________________________________________\n",
      "Layer (type)                 Output Shape              Param #   \n",
      "=================================================================\n",
      "simple_rnn_1 (SimpleRNN)     (None, 10, 100)           10200     \n",
      "_________________________________________________________________\n",
      "dropout_1 (Dropout)          (None, 10, 100)           0         \n",
      "_________________________________________________________________\n",
      "simple_rnn_2 (SimpleRNN)     (None, 10, 100)           20100     \n",
      "_________________________________________________________________\n",
      "dropout_2 (Dropout)          (None, 10, 100)           0         \n",
      "_________________________________________________________________\n",
      "simple_rnn_3 (SimpleRNN)     (None, 10, 70)            11970     \n",
      "_________________________________________________________________\n",
      "dropout_3 (Dropout)          (None, 10, 70)            0         \n",
      "_________________________________________________________________\n",
      "simple_rnn_4 (SimpleRNN)     (None, 50)                6050      \n",
      "_________________________________________________________________\n",
      "dropout_4 (Dropout)          (None, 50)                0         \n",
      "_________________________________________________________________\n",
      "dense_5 (Dense)              (None, 6)                 306       \n",
      "=================================================================\n",
      "Total params: 48,626\n",
      "Trainable params: 48,626\n",
      "Non-trainable params: 0\n",
      "_________________________________________________________________\n"
     ]
    }
   ],
   "source": [
    "model = Sequential()\n",
    "model.add(SimpleRNN(units = 100, activation = 'tanh', return_sequences = True, input_shape = (train_x.shape[1], 1)))\n",
    "model.add(Dropout(0.20))\n",
    "model.add(SimpleRNN(units = 100, activation='tanh',return_sequences=True))\n",
    "model.add(Dropout(0.20))\n",
    "model.add(SimpleRNN(units = 70, activation='tanh', return_sequences= True))\n",
    "model.add(Dropout(0.20))\n",
    "model.add(SimpleRNN(units = 50))\n",
    "model.add(Dropout(0.20))\n",
    "# Add final or output layer\n",
    "model.add(Dense(units=6))\n",
    "model.summary()\n",
    "\n"
   ]
  },
  {
   "cell_type": "code",
   "execution_count": 54,
   "metadata": {},
   "outputs": [
    {
     "name": "stdout",
     "output_type": "stream",
     "text": [
      "Train on 4298414 samples, validate on 1074604 samples\n",
      "Epoch 1/25\n",
      "4298414/4298414 [==============================] - 564s 131us/step - loss: 0.9487 - accuracy: 0.2386 - val_loss: 0.1302 - val_accuracy: 0.3286\n",
      "Epoch 2/25\n",
      "4298414/4298414 [==============================] - 561s 131us/step - loss: 0.2064 - accuracy: 0.2816 - val_loss: 0.0956 - val_accuracy: 0.5544\n",
      "Epoch 3/25\n",
      "4298414/4298414 [==============================] - 561s 131us/step - loss: 0.1127 - accuracy: 0.5415 - val_loss: 0.0839 - val_accuracy: 0.6136\n",
      "Epoch 4/25\n",
      "4298414/4298414 [==============================] - 561s 130us/step - loss: 0.0926 - accuracy: 0.5980 - val_loss: 0.0778 - val_accuracy: 0.6269\n",
      "Epoch 5/25\n",
      "4298414/4298414 [==============================] - 563s 131us/step - loss: 0.0844 - accuracy: 0.6262 - val_loss: 0.0766 - val_accuracy: 0.6436\n",
      "Epoch 6/25\n",
      "4298414/4298414 [==============================] - 563s 131us/step - loss: 0.0816 - accuracy: 0.6372 - val_loss: 0.0766 - val_accuracy: 0.6415\n",
      "Epoch 7/25\n",
      "4298414/4298414 [==============================] - 561s 131us/step - loss: 0.0800 - accuracy: 0.6404 - val_loss: 0.0755 - val_accuracy: 0.6473\n",
      "Epoch 8/25\n",
      "4298414/4298414 [==============================] - 561s 131us/step - loss: 0.0791 - accuracy: 0.6420 - val_loss: 0.0756 - val_accuracy: 0.6475\n",
      "Epoch 9/25\n",
      "4298414/4298414 [==============================] - 563s 131us/step - loss: 0.0784 - accuracy: 0.6433 - val_loss: 0.0752 - val_accuracy: 0.6478\n",
      "Epoch 10/25\n",
      "4298414/4298414 [==============================] - 563s 131us/step - loss: 0.0779 - accuracy: 0.6440 - val_loss: 0.0753 - val_accuracy: 0.6487\n",
      "Epoch 11/25\n",
      "4298414/4298414 [==============================] - 562s 131us/step - loss: 0.0775 - accuracy: 0.6444 - val_loss: 0.0751 - val_accuracy: 0.6491\n",
      "Epoch 12/25\n",
      "4298414/4298414 [==============================] - 559s 130us/step - loss: 0.0772 - accuracy: 0.6449 - val_loss: 0.0751 - val_accuracy: 0.6494\n",
      "Epoch 13/25\n",
      "4298414/4298414 [==============================] - 559s 130us/step - loss: 0.0770 - accuracy: 0.6453 - val_loss: 0.0749 - val_accuracy: 0.6494\n",
      "Epoch 14/25\n",
      "4298414/4298414 [==============================] - 559s 130us/step - loss: 0.0768 - accuracy: 0.6457 - val_loss: 0.0752 - val_accuracy: 0.6487\n",
      "Epoch 15/25\n",
      "4298414/4298414 [==============================] - 560s 130us/step - loss: 0.0766 - accuracy: 0.6459 - val_loss: 0.0749 - val_accuracy: 0.6495\n",
      "Epoch 16/25\n",
      "4298414/4298414 [==============================] - 559s 130us/step - loss: 0.0765 - accuracy: 0.6462 - val_loss: 0.0749 - val_accuracy: 0.6489\n",
      "Epoch 17/25\n",
      "4298414/4298414 [==============================] - 560s 130us/step - loss: 0.0764 - accuracy: 0.6465 - val_loss: 0.0748 - val_accuracy: 0.6494\n",
      "Epoch 18/25\n",
      "4298414/4298414 [==============================] - 558s 130us/step - loss: 0.0763 - accuracy: 0.6466 - val_loss: 0.0749 - val_accuracy: 0.6491\n",
      "Epoch 19/25\n",
      "4298414/4298414 [==============================] - 564s 131us/step - loss: 0.0762 - accuracy: 0.6469 - val_loss: 0.0750 - val_accuracy: 0.6483\n",
      "Epoch 20/25\n",
      "4298414/4298414 [==============================] - 558s 130us/step - loss: 0.0761 - accuracy: 0.6469 - val_loss: 0.0748 - val_accuracy: 0.6492\n",
      "Epoch 21/25\n",
      "4298414/4298414 [==============================] - 562s 131us/step - loss: 0.0761 - accuracy: 0.6471 - val_loss: 0.0748 - val_accuracy: 0.6493\n",
      "Epoch 22/25\n",
      "4298414/4298414 [==============================] - 564s 131us/step - loss: 0.0761 - accuracy: 0.6473 - val_loss: 0.0748 - val_accuracy: 0.6487\n",
      "Epoch 23/25\n",
      "4298414/4298414 [==============================] - 559s 130us/step - loss: 0.0760 - accuracy: 0.6473 - val_loss: 0.0748 - val_accuracy: 0.6493\n",
      "Epoch 24/25\n",
      "4298414/4298414 [==============================] - 566s 132us/step - loss: 0.0760 - accuracy: 0.6474 - val_loss: 0.0748 - val_accuracy: 0.6495\n",
      "Epoch 25/25\n",
      "4298414/4298414 [==============================] - 564s 131us/step - loss: 0.0760 - accuracy: 0.6476 - val_loss: 0.0748 - val_accuracy: 0.6496\n"
     ]
    },
    {
     "data": {
      "text/plain": [
       "<keras.callbacks.callbacks.History at 0x13f6fae08>"
      ]
     },
     "execution_count": 54,
     "metadata": {},
     "output_type": "execute_result"
    }
   ],
   "source": [
    "model.compile(optimizer = 'adam', loss = 'mean_squared_error',metrics = ['accuracy'])\n",
    "model.fit(train_x, onehot_train_y, epochs = 25, batch_size=5000, verbose=1, validation_data=(test_x, onehot_test_y), workers=-1)"
   ]
  },
  {
   "cell_type": "code",
   "execution_count": 71,
   "metadata": {},
   "outputs": [
    {
     "data": {
      "image/png": "[encoded data removed]",
      "text/plain": [
       "<Figure size 1440x720 with 2 Axes>"
      ]
     },
     "metadata": {
      "needs_background": "light"
     },
     "output_type": "display_data"
    }
   ],
   "source": [
    "epochs = [i for i in range(25)]\n",
    "fig , ax = plt.subplots(1,2)\n",
    "train_acc = history.history['accuracy']\n",
    "train_loss = history.history['loss']\n",
    "val_acc = history.history['val_accuracy']\n",
    "val_loss = history.history['val_loss']\n",
    "fig.set_size_inches(20,10)\n",
    "\n",
    "ax[0].plot(epochs , train_acc , 'go-' , label = 'Training Accuracy')\n",
    "ax[0].plot(epochs , val_acc , 'ro-' , label = 'Validation Accuracy')\n",
    "ax[0].set_title('Training & Validation Accuracy')\n",
    "ax[0].legend()\n",
    "ax[0].set_xlabel(\"Epochs\")\n",
    "ax[0].set_ylabel(\"Accuracy\")\n",
    "\n",
    "ax[1].plot(epochs , train_loss , 'g-o' , label = 'Training Loss')\n",
    "ax[1].plot(epochs , val_loss , 'r-o' , label = 'Validation Loss')\n",
    "ax[1].set_title('Testing Accuracy & Loss')\n",
    "ax[1].legend()\n",
    "ax[1].set_xlabel(\"Epochs\")\n",
    "ax[1].set_ylabel(\"Training & Validation Loss\")\n",
    "plt.show()"
   ]
  },
  {
   "cell_type": "code",
   "execution_count": null,
   "metadata": {
    "collapsed": true,
    "jupyter": {
     "outputs_hidden": true
    }
   },
   "outputs": [],
   "source": []
  },
  {
   "cell_type": "code",
   "execution_count": null,
   "metadata": {
    "collapsed": true,
    "jupyter": {
     "outputs_hidden": true
    }
   },
   "outputs": [],
   "source": []
  }
 ],
 "metadata": {
  "anaconda-cloud": {},
  "kernelspec": {
   "display_name": "Python 3",
   "language": "python",
   "name": "python3"
  },
  "language_info": {
   "codemirror_mode": {
    "name": "ipython",
    "version": 3
   },
   "file_extension": ".py",
   "mimetype": "text/x-python",
   "name": "python",
   "nbconvert_exporter": "python",
   "pygments_lexer": "ipython3",
   "version": "3.7.6"
  }
 },
 "nbformat": 4,
 "nbformat_minor": 4
}
